{
 "cells": [
  {
   "cell_type": "markdown",
   "metadata": {},
   "source": [
    "# Hausaufgaben Einstieg in Python - Lektion 2"
   ]
  },
  {
   "cell_type": "markdown",
   "metadata": {},
   "source": [
    "1.Kreiere eine Liste aus Zahlen, die aus 10 Elementen besteht, und ordne sie der Variabel a zu."
   ]
  },
  {
   "cell_type": "code",
   "execution_count": 1,
   "metadata": {},
   "outputs": [
    {
     "name": "stdout",
     "output_type": "stream",
     "text": [
      "['A', 'B', 'G', 'F', 'H', 'J', 'K', 'M', 'Z', 'Y']\n"
     ]
    }
   ],
   "source": [
    "a = [\"A\",\"B\",\"G\",\"F\",\"H\",\"J\",\"K\",\"M\",\"Z\",\"Y\"]\n",
    "print(a)"
   ]
  },
  {
   "cell_type": "markdown",
   "metadata": {},
   "source": [
    "2.Mache dasselbe mit einer Liste aus 100 Elementen und ordne sie der Variabel b zu."
   ]
  },
  {
   "cell_type": "code",
   "execution_count": 2,
   "metadata": {},
   "outputs": [
    {
     "data": {
      "text/plain": [
       "100"
      ]
     },
     "execution_count": 2,
     "metadata": {},
     "output_type": "execute_result"
    }
   ],
   "source": [
    "b = list(range(0,100)) #geht auch mit range(100), fängt dann immer bei 0 an\n",
    "len(b)"
   ]
  },
  {
   "cell_type": "markdown",
   "metadata": {},
   "source": [
    "3.Füge beiden Listen folgenden String an: 'ich bin keine Zahl'"
   ]
  },
  {
   "cell_type": "code",
   "execution_count": 3,
   "metadata": {},
   "outputs": [
    {
     "name": "stdout",
     "output_type": "stream",
     "text": [
      "['A', 'B', 'G', 'F', 'H', 'J', 'K', 'M', 'Z', 'Y', 'ich bin keine Zahl']\n"
     ]
    }
   ],
   "source": [
    "a.append(\"ich bin keine Zahl\")\n",
    "b.append(\"ich bin keine Zahl\")\n",
    "print(a)"
   ]
  },
  {
   "cell_type": "markdown",
   "metadata": {},
   "source": [
    "4.Lösche diesen letzten Eintrag in der Liste wieder"
   ]
  },
  {
   "cell_type": "code",
   "execution_count": 4,
   "metadata": {},
   "outputs": [],
   "source": [
    "a.remove(\"ich bin keine Zahl\")\n",
    "b.remove(\"ich bin keine Zahl\")"
   ]
  },
  {
   "cell_type": "markdown",
   "metadata": {},
   "source": [
    "5.Verwandle jede Zahl in den Listen a und b von int in str?"
   ]
  },
  {
   "cell_type": "code",
   "execution_count": 10,
   "metadata": {},
   "outputs": [
    {
     "data": {
      "text/plain": [
       "'[0, 1, 2, 3, 4, 5, 6, 7, 8, 9, 10, 11, 12, 13, 14, 15, 16, 17, 18, 19, 20, 21, 22, 23, 24, 25, 26, 27, 28, 29, 30, 31, 32, 33, 34, 35, 36, 37, 38, 39, 40, 41, 42, 43, 44, 45, 46, 47, 48, 49, 50, 51, 52, 53, 54, 55, 56, 57, 58, 59, 60, 61, 62, 63, 64, 65, 66, 67, 68, 69, 70, 71, 72, 73, 74, 75, 76, 77, 78, 79, 80, 81, 82, 83, 84, 85, 86, 87, 88, 89, 90, 91, 92, 93, 94, 95, 96, 97, 98, 99]'"
      ]
     },
     "execution_count": 10,
     "metadata": {},
     "output_type": "execute_result"
    }
   ],
   "source": [
    "#str(b) #falsch, das macht aus der ganzen Liste einen String, man muss einen Loop bauen.\n",
    "str(a[0])"
   ]
  },
  {
   "cell_type": "markdown",
   "metadata": {},
   "source": [
    "6.Von der list b, zeige nur die letzten zehn Nummern an"
   ]
  },
  {
   "cell_type": "code",
   "execution_count": 13,
   "metadata": {},
   "outputs": [
    {
     "data": {
      "text/plain": [
       "[90, 91, 92, 93, 94, 95, 96, 97, 98, 99]"
      ]
     },
     "execution_count": 13,
     "metadata": {},
     "output_type": "execute_result"
    }
   ],
   "source": [
    "#print(b[90:100]) oder noch einfacher:\n",
    "b[90:] #Ende offenlassen, weil die Liste nur bis 99 geht"
   ]
  },
  {
   "cell_type": "markdown",
   "metadata": {},
   "source": [
    "7.Von der folgenden Liste, zeige den zweit grössten Wert an"
   ]
  },
  {
   "cell_type": "code",
   "execution_count": 14,
   "metadata": {},
   "outputs": [
    {
     "data": {
      "text/plain": [
       "98"
      ]
     },
     "execution_count": 14,
     "metadata": {},
     "output_type": "execute_result"
    }
   ],
   "source": [
    "sorted(b)[-2] #nimmt von der sortierten Liste die zweitletzte Zahl oder den zweithöchsten Wert"
   ]
  },
  {
   "cell_type": "markdown",
   "metadata": {},
   "source": [
    "[ ] sind immer eine Liste. \n",
    "Befehl max würde den höchsten Wert ausgeben. Also:"
   ]
  },
  {
   "cell_type": "code",
   "execution_count": 15,
   "metadata": {},
   "outputs": [
    {
     "data": {
      "text/plain": [
       "99"
      ]
     },
     "execution_count": 15,
     "metadata": {},
     "output_type": "execute_result"
    }
   ],
   "source": [
    "max(b) #entspricht eigentlich sorted(b)[-1]"
   ]
  },
  {
   "cell_type": "markdown",
   "metadata": {},
   "source": [
    "8.Multipliziere jede Nummer in dieser Liste, die kleiner ist als 100, mit 100; wenn die Nummern zwischen 100 und 1000 verwandle sie in eine String, und wenn sie grösser oder gleich 1000 ist, lösche sie."
   ]
  },
  {
   "cell_type": "code",
   "execution_count": null,
   "metadata": {},
   "outputs": [],
   "source": []
  },
  {
   "cell_type": "markdown",
   "metadata": {},
   "source": [
    "9.Schreibe eine Dictionary-Liste der fünf grössten Schweizer Städte, ihrer Bevölkerung und dem jeweiligen Kanton.\n",
    "\n",
    "Dictionaries sind immer so aufgebaut:\n",
    "{\"Key\":Value, \"Key\":Value, \"Key\": Value, usw}\n",
    "Der Name ist egal, es muss nicht dic_lst heissen."
   ]
  },
  {
   "cell_type": "code",
   "execution_count": 2,
   "metadata": {},
   "outputs": [],
   "source": [
    "dic_lst = [{\"Stadt\":\"Zürich\",\"Einwohner\": 415000, \"Kanton\": \"ZH\"},\n",
    "           {\"Stadt\":\"Genf\",\"Einwohner\": 260000, \"Kanton\": \"GE\"},\n",
    "           {\"Stadt\":\"Basel\",\"Einwohner\": 250000, \"Kanton\": \"BS\"},\n",
    "           {\"Stadt\":\"Bern\",\"Einwohner\": 120000, \"Kanton\": \"BE\"},\n",
    "           {\"Stadt\":\"Lausanne\",\"Einwohner\": 115000, \"Kanton\": \"VD\"}]"
   ]
  },
  {
   "cell_type": "markdown",
   "metadata": {},
   "source": [
    "10.Zeige nur die Bevölkerung der Stadt Genf an"
   ]
  },
  {
   "cell_type": "code",
   "execution_count": 20,
   "metadata": {},
   "outputs": [
    {
     "data": {
      "text/plain": [
       "260000"
      ]
     },
     "execution_count": 20,
     "metadata": {},
     "output_type": "execute_result"
    }
   ],
   "source": [
    "dic_lst[1][\"Einwohner\"]"
   ]
  },
  {
   "cell_type": "code",
   "execution_count": 34,
   "metadata": {},
   "outputs": [
    {
     "data": {
      "text/plain": [
       "list"
      ]
     },
     "execution_count": 34,
     "metadata": {},
     "output_type": "execute_result"
    }
   ],
   "source": [
    "type(dic_lst) #Check um die Art des Codes anzuzeigen."
   ]
  },
  {
   "cell_type": "markdown",
   "metadata": {},
   "source": [
    "11a.Drucke (print) die Bevölkerung jeder Stadt aus"
   ]
  },
  {
   "cell_type": "code",
   "execution_count": 37,
   "metadata": {
    "scrolled": true
   },
   "outputs": [
    {
     "name": "stdout",
     "output_type": "stream",
     "text": [
      "415000\n",
      "260000\n",
      "250000\n",
      "120000\n",
      "115000\n"
     ]
    }
   ],
   "source": [
    "for Einwohnerzahl in dic_lst:\n",
    "    print(Einwohnerzahl[\"Einwohner\"])"
   ]
  },
  {
   "cell_type": "markdown",
   "metadata": {},
   "source": [
    "11b.Drucke das Total aller fünf Städte aus"
   ]
  },
  {
   "cell_type": "code",
   "execution_count": 40,
   "metadata": {},
   "outputs": [
    {
     "name": "stdout",
     "output_type": "stream",
     "text": [
      "1160000\n"
     ]
    }
   ],
   "source": [
    "Total = 0 #definiert das Total, vor dem Rechenloop\n",
    "for Stadt in dic_lst:\n",
    "    Total += Stadt[\"Einwohner\"]\n",
    "print(Total)"
   ]
  },
  {
   "cell_type": "markdown",
   "metadata": {},
   "source": [
    "Das wäre die Methode ohne +=, dabei werden alle Schritte ausgegeben:"
   ]
  },
  {
   "cell_type": "code",
   "execution_count": 29,
   "metadata": {
    "scrolled": true
   },
   "outputs": [
    {
     "name": "stdout",
     "output_type": "stream",
     "text": [
      "415000\n",
      "675000\n",
      "925000\n",
      "1045000\n",
      "1160000\n"
     ]
    }
   ],
   "source": [
    "Total = 0 #definiert das Total, vor dem Rechenloop\n",
    "for einwohnerzahl in dic_lst:\n",
    "    Total = Total + einwohnerzahl[\"Einwohner\"]\n",
    "    print(Total)"
   ]
  },
  {
   "cell_type": "markdown",
   "metadata": {},
   "source": [
    "12.Rechne den Anteil der Bevölkerung der jeweiligen Städte an der Gesamtbevölkerung der Schweiz aus und \"print\" die Ergebnisse neben dem Städtenamen"
   ]
  },
  {
   "cell_type": "code",
   "execution_count": 55,
   "metadata": {},
   "outputs": [
    {
     "name": "stdout",
     "output_type": "stream",
     "text": [
      "4.88235294117647\n",
      "3.058823529411765\n",
      "2.941176470588235\n",
      "1.411764705882353\n",
      "1.352941176470588\n"
     ]
    }
   ],
   "source": [
    "stadtliste = [{\"Stadt\":\"Zürich\",\"Einwohner\": 415000, \"Kanton\": \"ZH\"},\n",
    "           {\"Stadt\":\"Genf\",\"Einwohner\": 260000, \"Kanton\": \"GE\"},\n",
    "           {\"Stadt\":\"Basel\",\"Einwohner\": 250000, \"Kanton\": \"BS\"},\n",
    "           {\"Stadt\":\"Bern\",\"Einwohner\": 120000, \"Kanton\": \"BE\"},\n",
    "           {\"Stadt\":\"Lausanne\",\"Einwohner\": 115000, \"Kanton\": \"VD\"}]\n",
    "\n",
    "CH = 8500000\n",
    "anteil = 0\n",
    "for anteil in stadtliste:\n",
    "    anteil = anteil [\"Einwohner\"] / CH * 100\n",
    "    print(anteil)"
   ]
  },
  {
   "cell_type": "markdown",
   "metadata": {},
   "source": [
    "13.Füge noch die Städte Winterthur und Luzern hinzu"
   ]
  },
  {
   "cell_type": "code",
   "execution_count": 50,
   "metadata": {},
   "outputs": [
    {
     "name": "stdout",
     "output_type": "stream",
     "text": [
      "[{'Stadt': 'Zürich', 'Einwohner': 415000, 'Kanton': 'ZH'}, {'Stadt': 'Genf', 'Einwohner': 260000, 'Kanton': 'GE'}, {'Stadt': 'Basel', 'Einwohner': 250000, 'Kanton': 'BS'}, {'Stadt': 'Bern', 'Einwohner': 120000, 'Kanton': 'BE'}, {'Stadt': 'Lausanne', 'Einwohner': 115000, 'Kanton': 'VD'}, {'Stadt': 'Winterthur', 'Einwohner': 110000, 'Kanton': 'ZH'}, {'Stadt': 'Luzern', 'Einwohner': 80000, 'Kanton': 'LU'}]\n"
     ]
    }
   ],
   "source": [
    "list = stadtliste\n",
    "list.append({\"Stadt\":\"Winterthur\",\"Einwohner\": 110000, \"Kanton\": \"ZH\"})\n",
    "list.append({\"Stadt\":\"Luzern\",\"Einwohner\": 80000, \"Kanton\": \"LU\"})\n",
    "print(list)\n"
   ]
  },
  {
   "cell_type": "markdown",
   "metadata": {},
   "source": [
    "14.Ergänze die Städte-Dictionary-Liste mit Winterthur und Luzern"
   ]
  },
  {
   "cell_type": "code",
   "execution_count": null,
   "metadata": {},
   "outputs": [],
   "source": []
  },
  {
   "cell_type": "markdown",
   "metadata": {},
   "source": [
    "15.Wiederhole den loop von oben, um den Anteil der Bevölkerung an der Gesamtbevölkerung auszurechnen, dieses Mal mit Winterthur und Luzern"
   ]
  },
  {
   "cell_type": "code",
   "execution_count": null,
   "metadata": {},
   "outputs": [],
   "source": []
  },
  {
   "cell_type": "markdown",
   "metadata": {},
   "source": [
    "Zusatzübung: in einer Liste alle Werte in Strings (Text) umwandeln."
   ]
  },
  {
   "cell_type": "code",
   "execution_count": 23,
   "metadata": {},
   "outputs": [],
   "source": [
    "liste = list(range(100))"
   ]
  },
  {
   "cell_type": "code",
   "execution_count": 24,
   "metadata": {},
   "outputs": [],
   "source": [
    "neueliste = [] #neue Liste erstellen und dann:\n",
    "#wir gehen durch die alte Liste und erstellen nacheinander die Strings und fügen sie der neuen Liste zu\n",
    "for zahl in liste: #for in ist eine Funktion, die der Reihe nach durch die Liste geht: ein Loop.\n",
    "    neueliste.append(str(zahl)) #zahl ist eine Variable, das könnte auch sonst irgendwie heissen."
   ]
  },
  {
   "cell_type": "code",
   "execution_count": 25,
   "metadata": {},
   "outputs": [
    {
     "data": {
      "text/plain": [
       "['0',\n",
       " '1',\n",
       " '2',\n",
       " '3',\n",
       " '4',\n",
       " '5',\n",
       " '6',\n",
       " '7',\n",
       " '8',\n",
       " '9',\n",
       " '10',\n",
       " '11',\n",
       " '12',\n",
       " '13',\n",
       " '14',\n",
       " '15',\n",
       " '16',\n",
       " '17',\n",
       " '18',\n",
       " '19',\n",
       " '20',\n",
       " '21',\n",
       " '22',\n",
       " '23',\n",
       " '24',\n",
       " '25',\n",
       " '26',\n",
       " '27',\n",
       " '28',\n",
       " '29',\n",
       " '30',\n",
       " '31',\n",
       " '32',\n",
       " '33',\n",
       " '34',\n",
       " '35',\n",
       " '36',\n",
       " '37',\n",
       " '38',\n",
       " '39',\n",
       " '40',\n",
       " '41',\n",
       " '42',\n",
       " '43',\n",
       " '44',\n",
       " '45',\n",
       " '46',\n",
       " '47',\n",
       " '48',\n",
       " '49',\n",
       " '50',\n",
       " '51',\n",
       " '52',\n",
       " '53',\n",
       " '54',\n",
       " '55',\n",
       " '56',\n",
       " '57',\n",
       " '58',\n",
       " '59',\n",
       " '60',\n",
       " '61',\n",
       " '62',\n",
       " '63',\n",
       " '64',\n",
       " '65',\n",
       " '66',\n",
       " '67',\n",
       " '68',\n",
       " '69',\n",
       " '70',\n",
       " '71',\n",
       " '72',\n",
       " '73',\n",
       " '74',\n",
       " '75',\n",
       " '76',\n",
       " '77',\n",
       " '78',\n",
       " '79',\n",
       " '80',\n",
       " '81',\n",
       " '82',\n",
       " '83',\n",
       " '84',\n",
       " '85',\n",
       " '86',\n",
       " '87',\n",
       " '88',\n",
       " '89',\n",
       " '90',\n",
       " '91',\n",
       " '92',\n",
       " '93',\n",
       " '94',\n",
       " '95',\n",
       " '96',\n",
       " '97',\n",
       " '98',\n",
       " '99']"
      ]
     },
     "execution_count": 25,
     "metadata": {},
     "output_type": "execute_result"
    }
   ],
   "source": [
    "neueliste"
   ]
  },
  {
   "cell_type": "code",
   "execution_count": null,
   "metadata": {},
   "outputs": [],
   "source": []
  }
 ],
 "metadata": {
  "kernelspec": {
   "display_name": "Python 3",
   "language": "python",
   "name": "python3"
  },
  "language_info": {
   "codemirror_mode": {
    "name": "ipython",
    "version": 3
   },
   "file_extension": ".py",
   "mimetype": "text/x-python",
   "name": "python",
   "nbconvert_exporter": "python",
   "pygments_lexer": "ipython3",
   "version": "3.7.3"
  }
 },
 "nbformat": 4,
 "nbformat_minor": 2
}
