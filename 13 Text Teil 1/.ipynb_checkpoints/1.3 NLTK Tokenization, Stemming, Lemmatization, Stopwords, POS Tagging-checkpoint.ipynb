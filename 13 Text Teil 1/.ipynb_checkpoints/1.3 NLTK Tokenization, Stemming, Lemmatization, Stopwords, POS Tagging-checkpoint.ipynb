{
 "cells": [
  {
   "cell_type": "markdown",
   "metadata": {},
   "source": [
    "## Agenda"
   ]
  },
  {
   "cell_type": "markdown",
   "metadata": {},
   "source": [
    "- Tokenization\n",
    "- Stemming\n",
    "- Lemmatization\n",
    "    - Pattern\n",
    "    - TextBlob\n",
    "- POS Tagging\n",
    "    - Pattern\n",
    "    - TextBlob\n",
    "- Stop Word removal"
   ]
  },
  {
   "cell_type": "markdown",
   "metadata": {},
   "source": [
    "## Tokenizer\n",
    "- Wie splittet man einfach einen Satz in Wörter auf?\n",
    "- https://www.admin.ch/opc/de/classified-compilation/19995395/index.html#a8"
   ]
  },
  {
   "cell_type": "code",
   "execution_count": 1,
   "metadata": {},
   "outputs": [],
   "source": [
    "import nltk\n",
    "from nltk.tokenize import word_tokenize"
   ]
  },
  {
   "cell_type": "code",
   "execution_count": 2,
   "metadata": {},
   "outputs": [],
   "source": [
    "verfassung = '''\n",
    "Im Namen Gottes des Allmächtigen!\n",
    "\n",
    "Das Schweizervolk und die Kantone,\n",
    "\n",
    "in der Verantwortung gegenüber der Schöpfung,\n",
    "\n",
    "im Bestreben, den Bund zu erneuern, um Freiheit und Demokratie, Unabhängigkeit und Frieden in Solidarität und Offenheit gegenüber der Welt zu stärken,\n",
    "\n",
    "im Willen, in gegenseitiger Rücksichtnahme und Achtung ihre Vielfalt in der Einheit zu leben,\n",
    "\n",
    "im Bewusstsein der gemeinsamen Errungenschaften und der Verantwortung gegenüber den künftigen Generationen,\n",
    "\n",
    "gewiss, dass frei nur ist, wer seine Freiheit gebraucht, und dass die Stärke des Volkes sich misst am Wohl der Schwachen,\n",
    "\n",
    "geben sich folgende Verfassung:\n",
    "'''"
   ]
  },
  {
   "cell_type": "code",
   "execution_count": 4,
   "metadata": {},
   "outputs": [
    {
     "ename": "AttributeError",
     "evalue": "'str' object has no attribute 'decode'",
     "output_type": "error",
     "traceback": [
      "\u001b[0;31m---------------------------------------------------------------------------\u001b[0m",
      "\u001b[0;31mAttributeError\u001b[0m                            Traceback (most recent call last)",
      "\u001b[0;32m<ipython-input-4-5d43482f0b34>\u001b[0m in \u001b[0;36m<module>\u001b[0;34m\u001b[0m\n\u001b[0;32m----> 1\u001b[0;31m \u001b[0mverfassung\u001b[0m \u001b[0;34m=\u001b[0m \u001b[0mverfassung\u001b[0m\u001b[0;34m.\u001b[0m\u001b[0mdecode\u001b[0m\u001b[0;34m(\u001b[0m\u001b[0;34m'utf-8'\u001b[0m\u001b[0;34m)\u001b[0m\u001b[0;34m\u001b[0m\u001b[0;34m\u001b[0m\u001b[0m\n\u001b[0m\u001b[1;32m      2\u001b[0m \u001b[0mverfassung\u001b[0m\u001b[0;34m\u001b[0m\u001b[0;34m\u001b[0m\u001b[0m\n",
      "\u001b[0;31mAttributeError\u001b[0m: 'str' object has no attribute 'decode'"
     ]
    }
   ],
   "source": [
    "#verfassung = verfassung.decode('utf-8')\n",
    "verfassung"
   ]
  },
  {
   "cell_type": "markdown",
   "metadata": {},
   "source": [
    "### In einzelne Wörter + Zeichen"
   ]
  },
  {
   "cell_type": "code",
   "execution_count": 5,
   "metadata": {},
   "outputs": [
    {
     "data": {
      "text/plain": [
       "['Im',\n",
       " 'Namen',\n",
       " 'Gottes',\n",
       " 'des',\n",
       " 'Allmächtigen',\n",
       " '!',\n",
       " 'Das',\n",
       " 'Schweizervolk',\n",
       " 'und',\n",
       " 'die']"
      ]
     },
     "execution_count": 5,
     "metadata": {},
     "output_type": "execute_result"
    }
   ],
   "source": [
    "tokens = nltk.word_tokenize(verfassung)\n",
    "tokens[0:10]"
   ]
  },
  {
   "cell_type": "markdown",
   "metadata": {},
   "source": [
    "### In Wörter"
   ]
  },
  {
   "cell_type": "code",
   "execution_count": 7,
   "metadata": {
    "scrolled": true
   },
   "outputs": [
    {
     "data": {
      "text/plain": [
       "'wurst'"
      ]
     },
     "execution_count": 7,
     "metadata": {},
     "output_type": "execute_result"
    }
   ],
   "source": [
    "\"Wurst\".lower()"
   ]
  },
  {
   "cell_type": "code",
   "execution_count": 8,
   "metadata": {
    "scrolled": true
   },
   "outputs": [
    {
     "data": {
      "text/plain": [
       "False"
      ]
     },
     "execution_count": 8,
     "metadata": {},
     "output_type": "execute_result"
    }
   ],
   "source": [
    "\"2fach\".isalpha()"
   ]
  },
  {
   "cell_type": "code",
   "execution_count": 9,
   "metadata": {},
   "outputs": [
    {
     "data": {
      "text/plain": [
       "True"
      ]
     },
     "execution_count": 9,
     "metadata": {},
     "output_type": "execute_result"
    }
   ],
   "source": [
    "\"Wurst\".isalpha()"
   ]
  },
  {
   "cell_type": "code",
   "execution_count": 26,
   "metadata": {},
   "outputs": [
    {
     "data": {
      "text/plain": [
       "FreqDist({'der': 2, 'mann': 2, 'zum': 2, 'bäcker': 2, 'ging': 1, 'und': 1, 'nicht': 1})"
      ]
     },
     "execution_count": 26,
     "metadata": {},
     "output_type": "execute_result"
    }
   ],
   "source": [
    "from nltk import * #importiert alle Bibliotheken\n",
    "\n",
    "sample = \"Der Mann ging zum Bäcker und nicht der mann zum bäcker.\"\n",
    "tokens = nltk.word_tokenize(sample)\n",
    "words = [word.lower() for word in tokens if word.isalpha()]\n",
    "FreqDist(words)"
   ]
  },
  {
   "cell_type": "code",
   "execution_count": 50,
   "metadata": {},
   "outputs": [
    {
     "data": {
      "text/plain": [
       "['im',\n",
       " 'namen',\n",
       " 'gottes',\n",
       " 'des',\n",
       " 'allmächtigen',\n",
       " 'das',\n",
       " 'schweizervolk',\n",
       " 'und',\n",
       " 'die',\n",
       " 'kantone',\n",
       " 'in',\n",
       " 'der',\n",
       " 'verantwortung',\n",
       " 'gegenüber',\n",
       " 'der',\n",
       " 'schöpfung',\n",
       " 'im',\n",
       " 'bestreben',\n",
       " 'den',\n",
       " 'bund']"
      ]
     },
     "execution_count": 50,
     "metadata": {},
     "output_type": "execute_result"
    }
   ],
   "source": [
    "from nltk.tokenize import word_tokenize\n",
    "words = word_tokenize(verfassung)\n",
    "words=[word.lower() for word in words if word.isalpha()]\n",
    "# alles klein, und nur Wörter - mit alphabetischen Buchstaben\n",
    "words[0:20]"
   ]
  },
  {
   "cell_type": "markdown",
   "metadata": {},
   "source": [
    "### Hier noch ein paar praktische Python funktionen wie isalpha\n",
    "\n",
    "|  s.startswith(t) | test if s starts with t |\n",
    "|  ------ | ------ |\n",
    "|  s.endswith(t) | test if s ends with t |\n",
    "|  t in s | test if t is a substring of s |\n",
    "|  s.islower() | test if s contains cased characters and all are lowercase |\n",
    "|  s.isupper() | test if s contains cased characters and all are uppercase |\n",
    "|  s.isalpha() | test if s is non-empty and all characters in s are alphabetic |\n",
    "|  s.isalnum() | test if s is non-empty and all characters in s are alphanumeric |\n",
    "|  s.isdigit() | test if s is non-empty and all characters in s are digits |\n",
    "|  s.istitle() | test if s contains cased characters and is titlecased (i.e. all words in s have initial capitals) |"
   ]
  },
  {
   "cell_type": "code",
   "execution_count": 49,
   "metadata": {},
   "outputs": [
    {
     "data": {
      "text/plain": [
       "['allmächtigen', 'künftigen']"
      ]
     },
     "execution_count": 49,
     "metadata": {},
     "output_type": "execute_result"
    }
   ],
   "source": [
    "from nltk.tokenize import word_tokenize\n",
    "words = word_tokenize(verfassung)\n",
    "words_gen =[word.lower() for word in words if word.endswith('gen')]\n",
    "words_gen"
   ]
  },
  {
   "cell_type": "markdown",
   "metadata": {},
   "source": [
    "### In Sätze"
   ]
  },
  {
   "cell_type": "code",
   "execution_count": 35,
   "metadata": {
    "scrolled": true
   },
   "outputs": [
    {
     "data": {
      "text/plain": [
       "['\\nIm Namen Gottes des Allmächtigen!',\n",
       " 'Das Schweizervolk und die Kantone,\\n\\nin der Verantwortung gegenüber der Schöpfung,\\n\\nim Bestreben, den Bund zu erneuern, um Freiheit und Demokratie, Unabhängigkeit und Frieden in Solidarität und Offenheit gegenüber der Welt zu stärken,\\n\\nim Willen, in gegenseitiger Rücksichtnahme und Achtung ihre Vielfalt in der Einheit zu leben,\\n\\nim Bewusstsein der gemeinsamen Errungenschaften und der Verantwortung gegenüber den künftigen Generationen,\\n\\ngewiss, dass frei nur ist, wer seine Freiheit gebraucht, und dass die Stärke des Volkes sich misst am Wohl der Schwachen,\\n\\ngeben sich folgende Verfassung:']"
      ]
     },
     "execution_count": 35,
     "metadata": {},
     "output_type": "execute_result"
    }
   ],
   "source": [
    "from nltk.tokenize import sent_tokenize\n",
    "sentences = sent_tokenize(verfassung)\n",
    "sentences"
   ]
  },
  {
   "cell_type": "markdown",
   "metadata": {},
   "source": [
    "## Stemming\n",
    "- d.h. das überführen von Wörtern in den gleichen Stamm. \n",
    "- Übliche Probleme die Sprache so mit sich bringt:\n",
    "    - Deklination: gehe, gehst, gehen, geht, ... es handelt sich um das gleiche Wort. \n",
    "    - Plural, Groß/Kleinschreibung: katze, katzen, Katze ... es handelt sich auch um das gleiche Wort. \n",
    "    - ..."
   ]
  },
  {
   "cell_type": "code",
   "execution_count": 36,
   "metadata": {},
   "outputs": [],
   "source": [
    "porter = nltk.PorterStemmer()\n",
    "lancaster = nltk.LancasterStemmer()"
   ]
  },
  {
   "cell_type": "markdown",
   "metadata": {},
   "source": [
    "### Porter stemmer\n",
    "- geht ganz ok für Englisch\n",
    "- https://de.wikipedia.org/wiki/Porter-Stemmer-Algorithmus"
   ]
  },
  {
   "cell_type": "code",
   "execution_count": 37,
   "metadata": {},
   "outputs": [
    {
     "data": {
      "text/plain": [
       "['Universal',\n",
       " 'Declaration',\n",
       " 'of',\n",
       " 'Human',\n",
       " 'Rights',\n",
       " 'Preamble',\n",
       " 'Whereas',\n",
       " 'recognition',\n",
       " 'of',\n",
       " 'the',\n",
       " 'inherent',\n",
       " 'dignity',\n",
       " 'and',\n",
       " 'of',\n",
       " 'the',\n",
       " 'equal',\n",
       " 'and',\n",
       " 'inalienable',\n",
       " 'rights',\n",
       " 'of']"
      ]
     },
     "execution_count": 37,
     "metadata": {},
     "output_type": "execute_result"
    }
   ],
   "source": [
    "from nltk.corpus import udhr\n",
    "engl_words = udhr.words(\"English-Latin1\")\n",
    "engl_words[0:20]"
   ]
  },
  {
   "cell_type": "code",
   "execution_count": 39,
   "metadata": {
    "scrolled": true
   },
   "outputs": [
    {
     "data": {
      "text/plain": [
       "'univers'"
      ]
     },
     "execution_count": 39,
     "metadata": {},
     "output_type": "execute_result"
    }
   ],
   "source": [
    "porter.stem('University')"
   ]
  },
  {
   "cell_type": "code",
   "execution_count": 40,
   "metadata": {},
   "outputs": [
    {
     "data": {
      "text/plain": [
       "'univers'"
      ]
     },
     "execution_count": 40,
     "metadata": {},
     "output_type": "execute_result"
    }
   ],
   "source": [
    "porter.stem('universal')"
   ]
  },
  {
   "cell_type": "code",
   "execution_count": 38,
   "metadata": {
    "scrolled": true
   },
   "outputs": [
    {
     "data": {
      "text/plain": [
       "['univers',\n",
       " 'declar',\n",
       " 'of',\n",
       " 'human',\n",
       " 'right',\n",
       " 'preambl',\n",
       " 'wherea',\n",
       " 'recognit',\n",
       " 'of',\n",
       " 'the',\n",
       " 'inher',\n",
       " 'digniti',\n",
       " 'and',\n",
       " 'of',\n",
       " 'the',\n",
       " 'equal',\n",
       " 'and',\n",
       " 'inalien',\n",
       " 'right',\n",
       " 'of']"
      ]
     },
     "execution_count": 38,
     "metadata": {},
     "output_type": "execute_result"
    }
   ],
   "source": [
    "[porter.stem(w) for w in engl_words][0:20]"
   ]
  },
  {
   "cell_type": "markdown",
   "metadata": {},
   "source": [
    "### Lancaster Stemmer\n",
    "- kommt zu leicht anderen \"stämmen\"\n",
    "- funktioniert nicht so gut für deutsch"
   ]
  },
  {
   "cell_type": "code",
   "execution_count": 41,
   "metadata": {},
   "outputs": [
    {
     "data": {
      "text/plain": [
       "['univers',\n",
       " 'decl',\n",
       " 'of',\n",
       " 'hum',\n",
       " 'right',\n",
       " 'preambl',\n",
       " 'wherea',\n",
       " 'recognit',\n",
       " 'of',\n",
       " 'the',\n",
       " 'inh',\n",
       " 'dign',\n",
       " 'and',\n",
       " 'of',\n",
       " 'the',\n",
       " 'eq',\n",
       " 'and',\n",
       " 'ina',\n",
       " 'right',\n",
       " 'of']"
      ]
     },
     "execution_count": 41,
     "metadata": {},
     "output_type": "execute_result"
    }
   ],
   "source": [
    "[lancaster.stem(w) for w in engl_words][0:20]"
   ]
  },
  {
   "cell_type": "markdown",
   "metadata": {},
   "source": [
    "Für deutsch sind diese Stemmer nicht so gut geeignet. "
   ]
  },
  {
   "cell_type": "code",
   "execution_count": 42,
   "metadata": {},
   "outputs": [
    {
     "data": {
      "text/plain": [
       "'gehen'"
      ]
     },
     "execution_count": 42,
     "metadata": {},
     "output_type": "execute_result"
    }
   ],
   "source": [
    "porter.stem('gehen')"
   ]
  },
  {
   "cell_type": "code",
   "execution_count": 43,
   "metadata": {},
   "outputs": [
    {
     "data": {
      "text/plain": [
       "'gehst'"
      ]
     },
     "execution_count": 43,
     "metadata": {},
     "output_type": "execute_result"
    }
   ],
   "source": [
    "porter.stem('gehst')"
   ]
  },
  {
   "cell_type": "markdown",
   "metadata": {},
   "source": [
    "### Snowball stemmer\n",
    "- Geht gut für deusch\n",
    "- http://snowball.tartarus.org/algorithms/german/stemmer.html"
   ]
  },
  {
   "cell_type": "code",
   "execution_count": 45,
   "metadata": {},
   "outputs": [],
   "source": [
    "snowball = nltk.stem.snowball.GermanStemmer()"
   ]
  },
  {
   "cell_type": "code",
   "execution_count": 46,
   "metadata": {},
   "outputs": [
    {
     "data": {
      "text/plain": [
       "'geh'"
      ]
     },
     "execution_count": 46,
     "metadata": {},
     "output_type": "execute_result"
    }
   ],
   "source": [
    "snowball.stem('gehen')"
   ]
  },
  {
   "cell_type": "code",
   "execution_count": 47,
   "metadata": {},
   "outputs": [
    {
     "data": {
      "text/plain": [
       "'gehst'"
      ]
     },
     "execution_count": 47,
     "metadata": {},
     "output_type": "execute_result"
    }
   ],
   "source": [
    "snowball.stem('gehst')"
   ]
  },
  {
   "cell_type": "code",
   "execution_count": 51,
   "metadata": {},
   "outputs": [
    {
     "data": {
      "text/plain": [
       "['im',\n",
       " 'nam',\n",
       " 'gott',\n",
       " 'des',\n",
       " 'allmacht',\n",
       " 'das',\n",
       " 'schweizervolk',\n",
       " 'und',\n",
       " 'die',\n",
       " 'kanton',\n",
       " 'in',\n",
       " 'der',\n",
       " 'verantwort',\n",
       " 'gegenub',\n",
       " 'der',\n",
       " 'schopfung',\n",
       " 'im',\n",
       " 'bestreb',\n",
       " 'den',\n",
       " 'bund']"
      ]
     },
     "execution_count": 51,
     "metadata": {},
     "output_type": "execute_result"
    }
   ],
   "source": [
    "[snowball.stem(w) for w in words][0:20]"
   ]
  },
  {
   "cell_type": "markdown",
   "metadata": {},
   "source": [
    "## Lemmatizer\n",
    "- Zurückführen des Textes zu \"Wörterbuchdefinitionen\""
   ]
  },
  {
   "cell_type": "code",
   "execution_count": 52,
   "metadata": {},
   "outputs": [],
   "source": [
    "text_4 = \"Women in technologies areas are amazing at coding. Especially one woman is great, her name is Ursula Burns.\"\n",
    "words = word_tokenize(text_4)\n",
    "words_engl =[word.lower() for word in words if word.isalpha()]"
   ]
  },
  {
   "cell_type": "code",
   "execution_count": 53,
   "metadata": {},
   "outputs": [
    {
     "name": "stderr",
     "output_type": "stream",
     "text": [
      "[nltk_data] Downloading package wordnet to /Users/master/nltk_data...\n",
      "[nltk_data]   Unzipping corpora/wordnet.zip.\n"
     ]
    },
    {
     "data": {
      "text/plain": [
       "['woman',\n",
       " 'in',\n",
       " 'technology',\n",
       " 'area',\n",
       " 'are',\n",
       " 'amazing',\n",
       " 'at',\n",
       " 'coding',\n",
       " 'especially',\n",
       " 'one',\n",
       " 'woman',\n",
       " 'is',\n",
       " 'great',\n",
       " 'her',\n",
       " 'name',\n",
       " 'is',\n",
       " 'ursula',\n",
       " 'burn']"
      ]
     },
     "execution_count": 53,
     "metadata": {},
     "output_type": "execute_result"
    }
   ],
   "source": [
    "nltk.download('wordnet')\n",
    "from nltk import WordNetLemmatizer\n",
    "\n",
    "lemma = nltk.WordNetLemmatizer() \n",
    "lemmas = [lemma.lemmatize(i) for i in words_engl]\n",
    "lemmas[0:20]"
   ]
  },
  {
   "cell_type": "markdown",
   "metadata": {},
   "source": [
    "### Lematizer Deutsch NLTK\n",
    "- Geht leider nicht für deusch :( in nltk"
   ]
  },
  {
   "cell_type": "code",
   "execution_count": 55,
   "metadata": {},
   "outputs": [],
   "source": [
    "party_text = '''\n",
    "Kurz vor 22.00 Uhr sind Polizisten der Stadtpolizei in alle Richtungen aber vor allem in Richtung Kreis 9 ausgerückt. Grund war eine Meldung zu einer privaten Party an der Aargauerstrasse, die angeblich ausser Kontrolle geraten sei. \n",
    "'''\n",
    "#party_text = party_text.decode(\"UTF-8\")\n",
    "words = word_tokenize(party_text)\n",
    "words_german =[word.lower() for word in words if word.isalpha()]"
   ]
  },
  {
   "cell_type": "code",
   "execution_count": 56,
   "metadata": {},
   "outputs": [
    {
     "data": {
      "text/plain": [
       "['kurz',\n",
       " 'vor',\n",
       " 'uhr',\n",
       " 'sind',\n",
       " 'polizisten',\n",
       " 'der',\n",
       " 'stadtpolizei',\n",
       " 'in',\n",
       " 'alle',\n",
       " 'richtungen',\n",
       " 'aber',\n",
       " 'vor',\n",
       " 'allem',\n",
       " 'in',\n",
       " 'richtung',\n",
       " 'kreis',\n",
       " 'ausgerückt',\n",
       " 'grund',\n",
       " 'war',\n",
       " 'eine']"
      ]
     },
     "execution_count": 56,
     "metadata": {},
     "output_type": "execute_result"
    }
   ],
   "source": [
    "lemma = nltk.WordNetLemmatizer() \n",
    "lemmas = [lemma.lemmatize(i) for i in words_german]\n",
    "lemmas[0:20]"
   ]
  },
  {
   "cell_type": "markdown",
   "metadata": {},
   "source": [
    "Es gibt leider zu viele Fehler. Richtungen nicht auf Richtung, Polizisten nicht auf Polizist zurügeführt. "
   ]
  },
  {
   "cell_type": "markdown",
   "metadata": {},
   "source": [
    "## Lemmatizer in Pattern\n",
    "- Ähnlich wie NLTK funktioniert aber auch für deutsch\n",
    "- https://www.clips.uantwerpen.be/pattern\n",
    "- ```pip install pattern```\n",
    "- Deutsche modelle kommen übrigens von der Uni Zürich https://www.zora.uzh.ch/id/eprint/28579/\n",
    "\n",
    "# Läuft nur unter Python 2!\n"
   ]
  },
  {
   "cell_type": "code",
   "execution_count": 58,
   "metadata": {},
   "outputs": [
    {
     "ename": "ModuleNotFoundError",
     "evalue": "No module named 'pattern'",
     "output_type": "error",
     "traceback": [
      "\u001b[0;31m---------------------------------------------------------------------------\u001b[0m",
      "\u001b[0;31mModuleNotFoundError\u001b[0m                       Traceback (most recent call last)",
      "\u001b[0;32m<ipython-input-58-9a15f838248a>\u001b[0m in \u001b[0;36m<module>\u001b[0;34m\u001b[0m\n\u001b[0;32m----> 1\u001b[0;31m \u001b[0;32mfrom\u001b[0m \u001b[0mpattern\u001b[0m\u001b[0;34m.\u001b[0m\u001b[0mde\u001b[0m \u001b[0;32mimport\u001b[0m \u001b[0mparse\u001b[0m\u001b[0;34m\u001b[0m\u001b[0;34m\u001b[0m\u001b[0m\n\u001b[0m",
      "\u001b[0;31mModuleNotFoundError\u001b[0m: No module named 'pattern'"
     ]
    }
   ],
   "source": [
    "from pattern.de import parse"
   ]
  },
  {
   "cell_type": "code",
   "execution_count": 52,
   "metadata": {},
   "outputs": [
    {
     "data": {
      "text/plain": [
       "'Richtungen/JJ/B-NP/O/O/richtung Richtung/NN/I-NP/O/O/richtung ././O/O/O/.'"
      ]
     },
     "execution_count": 52,
     "metadata": {},
     "output_type": "execute_result"
    }
   ],
   "source": [
    "text = \"Richtungen Richtung.\"\n",
    "s = parse(text, relations=True, lemmata=True)\n",
    "s"
   ]
  },
  {
   "cell_type": "code",
   "execution_count": 53,
   "metadata": {},
   "outputs": [
    {
     "data": {
      "text/plain": [
       "['kurz',\n",
       " 'vor',\n",
       " '22.00',\n",
       " 'uhr',\n",
       " 'sein',\n",
       " 'polizist',\n",
       " 'der',\n",
       " 'stadtpolizei',\n",
       " 'in',\n",
       " 'all',\n",
       " 'richtungen',\n",
       " 'aber',\n",
       " 'vor',\n",
       " 'in',\n",
       " 'richtung',\n",
       " 'kreis',\n",
       " '9',\n",
       " 'ausger\\xfcckt',\n",
       " 'grund',\n",
       " 'sein']"
      ]
     },
     "execution_count": 53,
     "metadata": {},
     "output_type": "execute_result"
    }
   ],
   "source": [
    "lemmata = []\n",
    "from pattern.de import parsetree\n",
    "s = parsetree(party_text,relations=True, lemmata=True) \n",
    "for sentence in s: \n",
    "    for chunk in sentence.chunks:\n",
    "        for word in chunk.words:\n",
    "            #print(\"%s (%s)\" %(word,word.lemma))\n",
    "            lemmata.append(word.lemma)\n",
    "lemmata[0:20]"
   ]
  },
  {
   "cell_type": "markdown",
   "metadata": {},
   "source": [
    "## Lemmatizer in Textblob\n",
    " - https://textblob.readthedocs.io/en/dev/quickstart.html\n",
    " - ```pip install -U textblob```\n",
    " - ```pip install -U textblob-de```\n",
    " - https://github.com/markuskiller/textblob-de"
   ]
  },
  {
   "cell_type": "code",
   "execution_count": 59,
   "metadata": {
    "scrolled": true
   },
   "outputs": [
    {
     "data": {
      "text/plain": [
       "['kurz',\n",
       " 'vor',\n",
       " '22.00',\n",
       " 'Uhr',\n",
       " 'sein',\n",
       " 'Polizist',\n",
       " 'der',\n",
       " 'Stadtpolizei',\n",
       " 'in',\n",
       " 'all',\n",
       " 'Richtungen',\n",
       " 'aber',\n",
       " 'vor',\n",
       " 'all',\n",
       " 'in',\n",
       " 'Richtung',\n",
       " 'Kreis',\n",
       " '9',\n",
       " 'ausgerückt',\n",
       " 'Grund']"
      ]
     },
     "execution_count": 59,
     "metadata": {},
     "output_type": "execute_result"
    }
   ],
   "source": [
    "party_text = '''\n",
    "Kurz vor 22.00 Uhr sind Polizisten der Stadtpolizei in alle Richtungen aber vor allem in Richtung Kreis 9 ausgerückt. Grund war eine Meldung zu einer privaten Party an der Aargauerstrasse, die angeblich ausser Kontrolle geraten sei. \n",
    "'''\n",
    "#party_text = party_text.decode(\"UTF-8\") #nur nötig wenn Problem mit Codierung der Buchstaben.\n",
    "\n",
    "from textblob_de import TextBlobDE\n",
    "from textblob_de import PatternParser\n",
    "blob = TextBlobDE(party_text, parser=PatternParser(pprint=False, lemmata=True))\n",
    "blob.parse()\n",
    "list(blob.words.lemmatize())[0:20]"
   ]
  },
  {
   "cell_type": "markdown",
   "metadata": {},
   "source": [
    "Polizist funktioniert. Richtungen und Richtung leider nicht. Auch ausgerückt wird nicht zu ausrücken."
   ]
  },
  {
   "cell_type": "code",
   "execution_count": 61,
   "metadata": {},
   "outputs": [
    {
     "data": {
      "text/plain": [
       "[('das', 'DT'),\n",
       " ('sein', 'VB'),\n",
       " ('ein', 'DT'),\n",
       " ('hässlich', 'JJ'),\n",
       " ('Auto', 'NN')]"
      ]
     },
     "execution_count": 61,
     "metadata": {},
     "output_type": "execute_result"
    }
   ],
   "source": [
    "from textblob_de.lemmatizers import PatternParserLemmatizer\n",
    "lemmatizer = PatternParserLemmatizer()\n",
    "lemmatizer.lemmatize(\"Das ist ein hässliches Auto.\")"
   ]
  },
  {
   "cell_type": "markdown",
   "metadata": {},
   "source": [
    "## POS Tagging (Part of Speech Tagging)\n",
    "- Ich bin nur interessiert an Substantiven oder Adjektiven oder Verben. \n",
    "- Wie kann ich nur diese filtern? \n",
    "- Funktioniert für Deutsch nicht auf Anhieb in NLTK :(\n",
    "- aber gut in pattern und textblob"
   ]
  },
  {
   "cell_type": "markdown",
   "metadata": {},
   "source": [
    "## Übersicht\n",
    "https://www.clips.uantwerpen.be/pages/mbsp-tags\n",
    "\n",
    "|  Tag | Description | Example |\n",
    "|  ------ | ------ | ------ |\n",
    "|  **CC** | conjunction, coordinating | and, or, but |\n",
    "|  **CD** | cardinal number | five, three, 13% |\n",
    "|  **DT** | determiner | the, a, these |\n",
    "|  **EX** | existential there | there were six boys |\n",
    "|  **FW** | foreign word | mais |\n",
    "|  **IN** | conjunction, subordinating or preposition | of, on, before, unless |\n",
    "|  **JJ** | adjective | nice, easy |\n",
    "|  **JJR** | adjective, comparative | nicer, easier |\n",
    "|  **JJS** | adjective, superlative | nicest, easiest |\n",
    "|  **LS** | list item marker |  |\n",
    "|  **MD** | verb, modal auxillary | may, should |\n",
    "|  **NN** | noun, singular or mass | tiger, chair, laughter |\n",
    "|  **NNS** | noun, plural | tigers, chairs, insects |\n",
    "|  **NNP** | noun, proper singular | Germany, God, Alice |\n",
    "|  **NNPS** | noun, proper plural | we met two Christmases ago |\n",
    "|  **PDT** | predeterminer | both his children |\n",
    "|  **POS** | possessive ending | s |\n",
    "|  **PRP** | pronoun, personal | me, you, it |\n",
    "|  **PRP** | pronoun, possessive | my, your, our |\n",
    "|  **RB** | adverb | extremely, loudly, hard |\n",
    "|  **RBR** | adverb, comparative | better |\n",
    "|  **RBS** | adverb, superlative | best |\n",
    "|  **RP** | adverb, particle | about, off, up |\n",
    "|  **SYM** | symbol | % |\n",
    "|  **TO** | infinitival to | what to do? |\n",
    "|  **UH** | interjection | oh, oops, gosh |\n",
    "|  **VB** | verb, base form | think |\n",
    "|  **VBZ** | verb, 3rd person singular present | she thinks |\n",
    "|  **VBP** | verb, non-3rd person singular present | I think |\n",
    "|  **VBD** | verb, past tense | they thought |\n",
    "|  **VBN** | verb, past participle | a sunken ship |\n",
    "|  **VBG** | verb, gerund or present participle | thinking is fun |\n",
    "|  **WDT** | wh-determiner | which, whatever, whichever |\n",
    "|  **WP** | wh-pronoun, personal | what, who, whom |\n",
    "|  **WP** | wh-pronoun, possessive | whose, whosever |\n",
    "|  **WRB** | wh-adverb | where, when |\n",
    "|  **.** | punctuation mark, sentence closer | .;?* |\n",
    "|  **,** | punctuation mark, comma | , |\n",
    "|  **:** | punctuation mark, colon | : |\n",
    "|  **(** | contextual separator, left paren | ( |\n",
    "|  **)** | contextual separator, right paren | ) |"
   ]
  },
  {
   "cell_type": "markdown",
   "metadata": {},
   "source": [
    "### POS Tags in pattern"
   ]
  },
  {
   "cell_type": "code",
   "execution_count": 62,
   "metadata": {},
   "outputs": [
    {
     "ename": "ModuleNotFoundError",
     "evalue": "No module named 'pattern'",
     "output_type": "error",
     "traceback": [
      "\u001b[0;31m---------------------------------------------------------------------------\u001b[0m",
      "\u001b[0;31mModuleNotFoundError\u001b[0m                       Traceback (most recent call last)",
      "\u001b[0;32m<ipython-input-62-10c8fca0dc5f>\u001b[0m in \u001b[0;36m<module>\u001b[0;34m\u001b[0m\n\u001b[1;32m      2\u001b[0m \u001b[0msubstantive\u001b[0m \u001b[0;34m=\u001b[0m \u001b[0;34m[\u001b[0m\u001b[0;34m]\u001b[0m\u001b[0;34m\u001b[0m\u001b[0;34m\u001b[0m\u001b[0m\n\u001b[1;32m      3\u001b[0m \u001b[0madjektive\u001b[0m \u001b[0;34m=\u001b[0m \u001b[0;34m[\u001b[0m\u001b[0;34m]\u001b[0m\u001b[0;34m\u001b[0m\u001b[0;34m\u001b[0m\u001b[0m\n\u001b[0;32m----> 4\u001b[0;31m \u001b[0;32mfrom\u001b[0m \u001b[0mpattern\u001b[0m\u001b[0;34m.\u001b[0m\u001b[0mde\u001b[0m \u001b[0;32mimport\u001b[0m \u001b[0mparsetree\u001b[0m\u001b[0;34m\u001b[0m\u001b[0;34m\u001b[0m\u001b[0m\n\u001b[0m\u001b[1;32m      5\u001b[0m \u001b[0ms\u001b[0m \u001b[0;34m=\u001b[0m \u001b[0mparsetree\u001b[0m\u001b[0;34m(\u001b[0m\u001b[0mparty_text\u001b[0m\u001b[0;34m,\u001b[0m\u001b[0mrelations\u001b[0m\u001b[0;34m=\u001b[0m\u001b[0;32mTrue\u001b[0m\u001b[0;34m,\u001b[0m \u001b[0mlemmata\u001b[0m\u001b[0;34m=\u001b[0m\u001b[0;32mTrue\u001b[0m\u001b[0;34m)\u001b[0m\u001b[0;34m\u001b[0m\u001b[0;34m\u001b[0m\u001b[0m\n\u001b[1;32m      6\u001b[0m \u001b[0;32mfor\u001b[0m \u001b[0msentence\u001b[0m \u001b[0;32min\u001b[0m \u001b[0ms\u001b[0m\u001b[0;34m:\u001b[0m\u001b[0;34m\u001b[0m\u001b[0;34m\u001b[0m\u001b[0m\n",
      "\u001b[0;31mModuleNotFoundError\u001b[0m: No module named 'pattern'"
     ]
    }
   ],
   "source": [
    "verben = []\n",
    "substantive = []\n",
    "adjektive = []\n",
    "from pattern.de import parsetree\n",
    "s = parsetree(party_text,relations=True, lemmata=True) \n",
    "for sentence in s: \n",
    "    for chunk in sentence.chunks:\n",
    "        for word in chunk.words:\n",
    "            if \"V\" in word.type:\n",
    "                verben.append(word)\n",
    "            if \"NN\" in word.type:\n",
    "                substantive.append(word)\n",
    "            if \"J\" in word.type:\n",
    "                adjektive.append(word)"
   ]
  },
  {
   "cell_type": "markdown",
   "metadata": {},
   "source": [
    "Eben: leider nur in Python 2!"
   ]
  },
  {
   "cell_type": "code",
   "execution_count": 59,
   "metadata": {},
   "outputs": [
    {
     "data": {
      "text/plain": [
       "[Word(u'sind/VB'), Word(u'war/VB'), Word(u'geraten/VBN'), Word(u'sei/VB')]"
      ]
     },
     "execution_count": 59,
     "metadata": {},
     "output_type": "execute_result"
    }
   ],
   "source": [
    "verben"
   ]
  },
  {
   "cell_type": "code",
   "execution_count": 60,
   "metadata": {},
   "outputs": [
    {
     "data": {
      "text/plain": [
       "[Word(u'Uhr/NN'),\n",
       " Word(u'Polizisten/NNS'),\n",
       " Word(u'Stadtpolizei/NN'),\n",
       " Word(u'Richtungen/NN'),\n",
       " Word(u'Richtung/NN'),\n",
       " Word(u'Kreis/NN'),\n",
       " Word(u'ausger\\xfcckt/NN'),\n",
       " Word(u'Meldung/NN'),\n",
       " Word(u'Party/NN'),\n",
       " Word(u'Aargauerstrasse/NNP'),\n",
       " Word(u'Kontrolle/NN')]"
      ]
     },
     "execution_count": 60,
     "metadata": {},
     "output_type": "execute_result"
    }
   ],
   "source": [
    "substantive"
   ]
  },
  {
   "cell_type": "code",
   "execution_count": 146,
   "metadata": {},
   "outputs": [
    {
     "data": {
      "text/plain": [
       "[Word(u'Kurz/JJ'),\n",
       " Word(u'alle/JJ'),\n",
       " Word(u'privaten/JJ'),\n",
       " Word(u'angeblich/JJ')]"
      ]
     },
     "execution_count": 146,
     "metadata": {},
     "output_type": "execute_result"
    }
   ],
   "source": [
    "adjektive"
   ]
  },
  {
   "cell_type": "markdown",
   "metadata": {},
   "source": [
    "### POS tags in textblob"
   ]
  },
  {
   "cell_type": "code",
   "execution_count": 63,
   "metadata": {},
   "outputs": [],
   "source": [
    "substantive = []\n",
    "adjektive = []\n",
    "verben = []\n",
    "blob = TextBlobDE(party_text, parser=PatternParser(pprint=False, lemmata=True))\n",
    "for word in blob.tags:\n",
    "    if \"NN\" in word[1]:\n",
    "        substantive.append(word[0])\n",
    "    if \"V\" in word[1]:\n",
    "        verben.append(word[0])\n",
    "    if \"JJ\" in word[1]:\n",
    "        adjektive.append(word[0])"
   ]
  },
  {
   "cell_type": "markdown",
   "metadata": {},
   "source": [
    "Drei Listen erstellt und teilen die Wörter nach Wortarten. Und nutzt dabei die Tuples, die der lemmmatizer erstellt. "
   ]
  },
  {
   "cell_type": "code",
   "execution_count": 65,
   "metadata": {},
   "outputs": [
    {
     "data": {
      "text/plain": [
       "[('Kurz', 'JJ'),\n",
       " ('vor', 'IN'),\n",
       " ('22.00', 'CD'),\n",
       " ('Uhr', 'NN'),\n",
       " ('sind', 'VB'),\n",
       " ('Polizisten', 'NNS'),\n",
       " ('der', 'DT'),\n",
       " ('Stadtpolizei', 'NN'),\n",
       " ('in', 'IN'),\n",
       " ('alle', 'JJ'),\n",
       " ('Richtungen', 'NN'),\n",
       " ('aber', 'RB'),\n",
       " ('vor', 'IN'),\n",
       " ('allem', 'DT'),\n",
       " ('in', 'IN'),\n",
       " ('Richtung', 'NN'),\n",
       " ('Kreis', 'NN'),\n",
       " ('9', 'CD'),\n",
       " ('ausgerückt', 'NN'),\n",
       " ('Grund', 'NN'),\n",
       " ('war', 'VB'),\n",
       " ('eine', 'DT'),\n",
       " ('Meldung', 'NN'),\n",
       " ('zu', 'IN'),\n",
       " ('einer', 'DT'),\n",
       " ('privaten', 'JJ'),\n",
       " ('Party', 'NN'),\n",
       " ('an', 'IN'),\n",
       " ('der', 'DT'),\n",
       " ('Aargauerstrasse', 'NNP'),\n",
       " ('die', 'WDT'),\n",
       " ('angeblich', 'JJ'),\n",
       " ('ausser', 'IN'),\n",
       " ('Kontrolle', 'NN'),\n",
       " ('geraten', 'VBN'),\n",
       " ('sei', 'VB')]"
      ]
     },
     "execution_count": 65,
     "metadata": {},
     "output_type": "execute_result"
    }
   ],
   "source": [
    "blob = TextBlobDE(party_text, parser=PatternParser(pprint=False, lemmata=True))\n",
    "blob.tags"
   ]
  },
  {
   "cell_type": "markdown",
   "metadata": {},
   "source": [
    "Nicht perfekt (Bsp. \"ausgerückt\" als Nomen), aber meistens richtig."
   ]
  },
  {
   "cell_type": "code",
   "execution_count": 66,
   "metadata": {},
   "outputs": [
    {
     "data": {
      "text/plain": [
       "['Uhr',\n",
       " 'Polizisten',\n",
       " 'Stadtpolizei',\n",
       " 'Richtungen',\n",
       " 'Richtung',\n",
       " 'Kreis',\n",
       " 'ausgerückt',\n",
       " 'Grund',\n",
       " 'Meldung',\n",
       " 'Party',\n",
       " 'Aargauerstrasse',\n",
       " 'Kontrolle']"
      ]
     },
     "execution_count": 66,
     "metadata": {},
     "output_type": "execute_result"
    }
   ],
   "source": [
    "substantive"
   ]
  },
  {
   "cell_type": "markdown",
   "metadata": {},
   "source": [
    "\"Aargauerstrasse\" ist ein Eigenwort (ein NER). Aber wurde richtig als NNP erkannt, aber wir haben nach NN gesucht. "
   ]
  },
  {
   "cell_type": "code",
   "execution_count": 67,
   "metadata": {},
   "outputs": [
    {
     "data": {
      "text/plain": [
       "['Kurz', 'alle', 'privaten', 'angeblich']"
      ]
     },
     "execution_count": 67,
     "metadata": {},
     "output_type": "execute_result"
    }
   ],
   "source": [
    "adjektive"
   ]
  },
  {
   "cell_type": "code",
   "execution_count": 68,
   "metadata": {},
   "outputs": [
    {
     "data": {
      "text/plain": [
       "['sind', 'war', 'geraten', 'sei']"
      ]
     },
     "execution_count": 68,
     "metadata": {},
     "output_type": "execute_result"
    }
   ],
   "source": [
    "verben"
   ]
  },
  {
   "cell_type": "markdown",
   "metadata": {},
   "source": [
    "Mit eigenem Text versuchen."
   ]
  },
  {
   "cell_type": "code",
   "execution_count": 69,
   "metadata": {},
   "outputs": [],
   "source": [
    "text9 = '''Die Hälfte der Ausgesteuerten ist nach einem Jahr erwerbstätig | NZZ\n",
    "Etwas mehr als die Hälfte der von der Arbeitslosenversicherung ausgesteuerten Menschen ist nach einem Jahr wieder erwerbstätig. Gemäss Bundesamt für Statistik verdienen sie aber weniger.\n",
    "\n",
    "(sda)\n",
    "\n",
    "Das Bundesamt für Statistik (BFS) hat in einer am Montag veröffentlichten Untersuchung die Situation der ausgesteuerten Menschen in der Fünfjahresperiode von 2014 bis 2018 analysiert. Jährlich wurden im Durchschnitt 37'700 Menschen von der Arbeitslosenversicherung ausgesteuert.\n",
    "\n",
    "55 Prozent von ihnen seien im ersten Jahr nach der Aussteuerung wieder erwerbstätig gewesen. Nach fünf Jahren habe sich dieser Anteil auf 63 Prozent erhöht. 15 Prozent hätten eine Stelle gesucht und 22 Prozent der Ausgesteuerten hätten sich aus dem Arbeitsmarkt zurückgezogen.\n",
    "\n",
    "Überrepräsentiert waren laut BFS bei den Ausgesteuerten die Menschen im Alter zwischen 45 und 64 Jahren. Ihr Anteil an den Ausgesteuerten betrug 48 Prozent, während sie 41 Prozent der Arbeitslosen und 42 Prozent der Erwerbsbevölkerung ausmachten. Auch Menschen ohne Berufsausbildung und ausländischer Herkunft seien wesentlich stärker von einer Aussteuerung betroffen gewesen als der Durchschnitt.\n",
    "\n",
    "Ausgesteuerte Menschen, die im Arbeitsmarkt wieder Tritt gefasst haben, sind laut BFS öfter als die übrigen Arbeitnehmenden in atypischen Arbeitsverhältnissen tätig. Neun Prozent der Ausgesteuerten würden Arbeit auf Abruf verrichten, vier Prozent von einem Stellenvermittlungsbüro vermittelt und bezahlt. Bei den Arbeitnehmenden betrugen diese Anteile fünf beziehungsweise ein Prozent.\n",
    "Mehr Teilzeitstellen für Ausgesteuerte\n",
    "\n",
    "Während von den Arbeitnehmenden insgesamt 91 Prozent einen unbefristeten Arbeitsvertrag gehabt hätten, seien es bei den zuvor Ausgesteuerten nur 86 Prozent gewesen. 27 Prozent der ausgesteuerten Männer hätten Teilzeit gearbeitet, während dieser Anteil bei den männlichen Erwerbstätigen insgesamt lediglich 15 Prozent ausmachte. Auch bei den Frauen zeigte sich laut BFS dieser Unterschied deutlich.\n",
    "\n",
    "Gut die Hälfte der Erwerbstätigen, die nach einer Aussteuerung Teilzeit arbeiteten, gelten gemäss BFS als Unterbeschäftigte: Sie möchten ein höheres Arbeitspensum und seien innerhalb von drei Monaten dafür verfügbar. Bei den Teilzeiterwerbstätigen ohne Aussteuerung liege dieser Anteil lediglich bei einem Fünftel.\n",
    "\n",
    "Schliesslich erhalten Menschen, die ausgesteuert waren, auch niedrigere Löhne, wie aus der BFS-Untersuchung weiter hervorgeht. Während der Medianstundenlohn brutto für Arbeitnehmende 36,10 Franken betragen habe, liege er bei den Ausgesteuerten, die wieder erwerbstätig seien, bei 28 Franken.\n",
    "\n",
    "Bei Führungskräften sei das Lohngefälle zwischen den Arbeitnehmenden insgesamt mit 54.90 Franken gegenüber 41.20 Franken bei Arbeitnehmenden nach einer Aussteuerung besonders stark ausgeprägt. Geringer seien demgegenüber die Lohnunterschiede bei Hilfsarbeitskräften.\n",
    "\n",
    "Die ausgesteuerten Menschen wiesen gemäss BFS unabhängig vom Alter auch einen schlechteren Gesundheitszustand auf als die Erwerbsbevölkerung. Rund einer von zehn ausgesteuerten Menschen zwischen 45 und 64 Jahren stufe die eigene Gesundheit als schlecht bis sehr schlecht ein, vergleichen mit zwei Prozent der Erwerbsbevölkerung.\n",
    "'''"
   ]
  },
  {
   "cell_type": "code",
   "execution_count": 70,
   "metadata": {},
   "outputs": [
    {
     "data": {
      "text/plain": [
       "[('Die', 'DT'),\n",
       " ('Hälfte', 'NN'),\n",
       " ('der', 'DT'),\n",
       " ('Ausgesteuerten', 'NN'),\n",
       " ('ist', 'VB'),\n",
       " ('nach', 'IN'),\n",
       " ('einem', 'DT'),\n",
       " ('Jahr', 'NN'),\n",
       " ('erwerbstätig', 'JJ'),\n",
       " ('|', 'NN'),\n",
       " ('NZZ', 'NN'),\n",
       " ('Etwas', 'NN'),\n",
       " ('mehr', 'VB'),\n",
       " ('als', 'IN'),\n",
       " ('die', 'DT'),\n",
       " ('Hälfte', 'NN'),\n",
       " ('der', 'DT'),\n",
       " ('von', 'IN'),\n",
       " ('der', 'DT'),\n",
       " ('Arbeitslosenversicherung', 'NN'),\n",
       " ('ausgesteuerten', 'NN'),\n",
       " ('Menschen', 'NN'),\n",
       " ('ist', 'VB'),\n",
       " ('nach', 'IN'),\n",
       " ('einem', 'DT'),\n",
       " ('Jahr', 'NN'),\n",
       " ('wieder', 'RB'),\n",
       " ('erwerbstätig', 'JJ'),\n",
       " ('Gemäss', 'IN'),\n",
       " ('Bundesamt', 'NN'),\n",
       " ('für', 'IN'),\n",
       " ('Statistik', 'NN'),\n",
       " ('verdienen', 'VB'),\n",
       " ('sie', 'PRP'),\n",
       " ('aber', 'RB'),\n",
       " ('weniger', 'RP'),\n",
       " ('sda', 'PRP$'),\n",
       " ('Das', 'DT'),\n",
       " ('Bundesamt', 'NN'),\n",
       " ('für', 'IN'),\n",
       " ('Statistik', 'NN'),\n",
       " ('BFS', 'NNP'),\n",
       " ('hat', 'VB'),\n",
       " ('in', 'IN'),\n",
       " ('einer', 'DT'),\n",
       " ('am', 'IN'),\n",
       " ('Montag', 'NN'),\n",
       " ('veröffentlichten', 'VB'),\n",
       " ('Untersuchung', 'NN'),\n",
       " ('die', 'DT'),\n",
       " ('Situation', 'NN'),\n",
       " ('der', 'DT'),\n",
       " ('ausgesteuerten', 'JJ'),\n",
       " ('Menschen', 'NN'),\n",
       " ('in', 'IN'),\n",
       " ('der', 'DT'),\n",
       " ('Fünfjahresperiode', 'NN'),\n",
       " ('von', 'IN'),\n",
       " ('2014', 'CD'),\n",
       " ('bis', 'IN'),\n",
       " ('2018', 'CD'),\n",
       " ('analysiert', 'VB'),\n",
       " ('Jährlich', 'VBN'),\n",
       " ('wurden', 'VB'),\n",
       " ('im', 'IN'),\n",
       " ('Durchschnitt', 'NN'),\n",
       " (\"37'700\", 'JJ'),\n",
       " ('Menschen', 'NN'),\n",
       " ('von', 'IN'),\n",
       " ('der', 'DT'),\n",
       " ('Arbeitslosenversicherung', 'JJ'),\n",
       " ('ausgesteuert', 'NN'),\n",
       " ('55', 'CD'),\n",
       " ('Prozent', 'NN'),\n",
       " ('von', 'IN'),\n",
       " ('ihnen', 'PRP'),\n",
       " ('seien', 'VB'),\n",
       " ('im', 'IN'),\n",
       " ('ersten', 'JJ'),\n",
       " ('Jahr', 'NN'),\n",
       " ('nach', 'IN'),\n",
       " ('der', 'DT'),\n",
       " ('Aussteuerung', 'NN'),\n",
       " ('wieder', 'RB'),\n",
       " ('erwerbstätig', 'JJ'),\n",
       " ('gewesen', 'VBN'),\n",
       " ('Nach', 'IN'),\n",
       " ('fünf', 'CD'),\n",
       " ('Jahren', 'NN'),\n",
       " ('habe', 'VB'),\n",
       " ('sich', 'PRP'),\n",
       " ('dieser', 'DT'),\n",
       " ('Anteil', 'NN'),\n",
       " ('auf', 'IN'),\n",
       " ('63', 'CD'),\n",
       " ('Prozent', 'NN'),\n",
       " ('erhöht', 'RP'),\n",
       " ('15', 'CD'),\n",
       " ('Prozent', 'NN'),\n",
       " ('hätten', 'RB'),\n",
       " ('eine', 'DT'),\n",
       " ('Stelle', 'NN'),\n",
       " ('gesucht', 'VBN'),\n",
       " ('und', 'CC'),\n",
       " ('22', 'CD'),\n",
       " ('Prozent', 'NN'),\n",
       " ('der', 'DT'),\n",
       " ('Ausgesteuerten', 'NN'),\n",
       " ('hätten', 'VB'),\n",
       " ('sich', 'PRP'),\n",
       " ('aus', 'IN'),\n",
       " ('dem', 'DT'),\n",
       " ('Arbeitsmarkt', 'NN'),\n",
       " ('zurückgezogen', 'JJ'),\n",
       " ('Überrepräsentiert', 'NN'),\n",
       " ('waren', 'VB'),\n",
       " ('laut', 'JJ'),\n",
       " ('BFS', 'NNP'),\n",
       " ('bei', 'IN'),\n",
       " ('den', 'DT'),\n",
       " ('Ausgesteuerten', 'NN'),\n",
       " ('die', 'DT'),\n",
       " ('Menschen', 'NN'),\n",
       " ('im', 'IN'),\n",
       " ('Alter', 'NN'),\n",
       " ('zwischen', 'IN'),\n",
       " ('45', 'CD'),\n",
       " ('und', 'CC'),\n",
       " ('64', 'CD'),\n",
       " ('Jahren', 'NN'),\n",
       " ('Ihr', 'PRP$'),\n",
       " ('Anteil', 'NN'),\n",
       " ('an', 'IN'),\n",
       " ('den', 'DT'),\n",
       " ('Ausgesteuerten', 'NN'),\n",
       " ('betrug', 'VB'),\n",
       " ('48', 'CD'),\n",
       " ('Prozent', 'NN'),\n",
       " ('während', 'IN'),\n",
       " ('sie', 'JJ'),\n",
       " ('41', 'CD'),\n",
       " ('Prozent', 'NN'),\n",
       " ('der', 'DT'),\n",
       " ('Arbeitslosen', 'NN'),\n",
       " ('und', 'CC'),\n",
       " ('42', 'CD'),\n",
       " ('Prozent', 'NN'),\n",
       " ('der', 'DT'),\n",
       " ('Erwerbsbevölkerung', 'JJ'),\n",
       " ('ausmachten', 'NN'),\n",
       " ('Auch', 'IN'),\n",
       " ('Menschen', 'NN'),\n",
       " ('ohne', 'IN'),\n",
       " ('Berufsausbildung', 'NN'),\n",
       " ('und', 'CC'),\n",
       " ('ausländischer', 'JJ'),\n",
       " ('Herkunft', 'NN'),\n",
       " ('seien', 'VB'),\n",
       " ('wesentlich', 'RB'),\n",
       " ('stärker', 'JJ'),\n",
       " ('von', 'IN'),\n",
       " ('einer', 'DT'),\n",
       " ('Aussteuerung', 'NN'),\n",
       " ('betroffen', 'VB'),\n",
       " ('gewesen', 'VBN'),\n",
       " ('als', 'IN'),\n",
       " ('der', 'DT'),\n",
       " ('Durchschnitt', 'NN'),\n",
       " ('Ausgesteuerte', 'NN'),\n",
       " ('Menschen', 'NN'),\n",
       " ('die', 'WDT'),\n",
       " ('im', 'IN'),\n",
       " ('Arbeitsmarkt', 'NN'),\n",
       " ('wieder', 'IN'),\n",
       " ('Tritt', 'NN'),\n",
       " ('gefasst', 'VBN'),\n",
       " ('haben', 'VB'),\n",
       " ('sind', 'VBN'),\n",
       " ('laut', 'JJ'),\n",
       " ('BFS', 'NNP'),\n",
       " ('öfter', 'NNP'),\n",
       " ('als', 'IN'),\n",
       " ('die', 'DT'),\n",
       " ('übrigen', 'JJ'),\n",
       " ('Arbeitnehmenden', 'NN'),\n",
       " ('in', 'IN'),\n",
       " ('atypischen', 'JJ'),\n",
       " ('Arbeitsverhältnissen', 'NN'),\n",
       " ('tätig', 'RB'),\n",
       " ('Neun', 'CD'),\n",
       " ('Prozent', 'NN'),\n",
       " ('der', 'DT'),\n",
       " ('Ausgesteuerten', 'NN'),\n",
       " ('würden', 'VB'),\n",
       " ('Arbeit', 'NN'),\n",
       " ('auf', 'IN'),\n",
       " ('Abruf', 'NN'),\n",
       " ('verrichten', 'VB'),\n",
       " ('vier', 'CD'),\n",
       " ('Prozent', 'NN'),\n",
       " ('von', 'IN'),\n",
       " ('einem', 'DT'),\n",
       " ('Stellenvermittlungsbüro', 'NN'),\n",
       " ('vermittelt', 'VB'),\n",
       " ('und', 'CC'),\n",
       " ('bezahlt', 'RP'),\n",
       " ('Bei', 'IN'),\n",
       " ('den', 'DT'),\n",
       " ('Arbeitnehmenden', 'NN'),\n",
       " ('betrugen', 'VB'),\n",
       " ('diese', 'DT'),\n",
       " ('Anteile', 'NN'),\n",
       " ('fünf', 'CD'),\n",
       " ('beziehungsweise', 'RB'),\n",
       " ('ein', 'DT'),\n",
       " ('Prozent', 'NN'),\n",
       " ('Mehr', 'JJ'),\n",
       " ('Teilzeitstellen', 'NN'),\n",
       " ('für', 'IN'),\n",
       " ('Ausgesteuerte', 'NN'),\n",
       " ('Während', 'IN'),\n",
       " ('von', 'IN'),\n",
       " ('den', 'DT'),\n",
       " ('Arbeitnehmenden', 'NN'),\n",
       " ('insgesamt', 'RB'),\n",
       " ('91', 'CD'),\n",
       " ('Prozent', 'NN'),\n",
       " ('einen', 'DT'),\n",
       " ('unbefristeten', 'NN'),\n",
       " ('Arbeitsvertrag', 'NN'),\n",
       " ('gehabt', 'NN'),\n",
       " ('hätten', 'VB'),\n",
       " ('seien', 'VB'),\n",
       " ('es', 'PRP'),\n",
       " ('bei', 'IN'),\n",
       " ('den', 'DT'),\n",
       " ('zuvor', 'IN'),\n",
       " ('Ausgesteuerten', 'NN'),\n",
       " ('nur', 'RB'),\n",
       " ('86', 'CD'),\n",
       " ('Prozent', 'NN'),\n",
       " ('gewesen', 'VBN'),\n",
       " ('27', 'CD'),\n",
       " ('Prozent', 'NN'),\n",
       " ('der', 'DT'),\n",
       " ('ausgesteuerten', 'NN'),\n",
       " ('Männer', 'NN'),\n",
       " ('hätten', 'RB'),\n",
       " ('Teilzeit', 'NN'),\n",
       " ('gearbeitet', 'VBN'),\n",
       " ('während', 'IN'),\n",
       " ('dieser', 'WDT'),\n",
       " ('Anteil', 'NN'),\n",
       " ('bei', 'IN'),\n",
       " ('den', 'DT'),\n",
       " ('männlichen', 'JJ'),\n",
       " ('Erwerbstätigen', 'NN'),\n",
       " ('insgesamt', 'RB'),\n",
       " ('lediglich', 'RB'),\n",
       " ('15', 'CD'),\n",
       " ('Prozent', 'JJ'),\n",
       " ('ausmachte', 'NN'),\n",
       " ('Auch', 'RB'),\n",
       " ('bei', 'IN'),\n",
       " ('den', 'DT'),\n",
       " ('Frauen', 'NN'),\n",
       " ('zeigte', 'VB'),\n",
       " ('sich', 'PRP'),\n",
       " ('laut', 'JJ'),\n",
       " ('BFS', 'NNP'),\n",
       " ('dieser', 'DT'),\n",
       " ('Unterschied', 'NN'),\n",
       " ('deutlich', 'JJ'),\n",
       " ('Gut', 'NN'),\n",
       " ('die', 'DT'),\n",
       " ('Hälfte', 'NN'),\n",
       " ('der', 'DT'),\n",
       " ('Erwerbstätigen', 'NN'),\n",
       " ('die', 'WDT'),\n",
       " ('nach', 'IN'),\n",
       " ('einer', 'DT'),\n",
       " ('Aussteuerung', 'NN'),\n",
       " ('Teilzeit', 'NN'),\n",
       " ('arbeiteten', 'VB'),\n",
       " ('gelten', 'VB'),\n",
       " ('gemäss', 'IN'),\n",
       " ('BFS', 'NNP'),\n",
       " ('als', 'IN'),\n",
       " ('Unterbeschäftigte', 'NN'),\n",
       " ('Sie', 'PRP'),\n",
       " ('möchten', 'VB'),\n",
       " ('ein', 'DT'),\n",
       " ('höheres', 'JJ'),\n",
       " ('Arbeitspensum', 'NN'),\n",
       " ('und', 'CC'),\n",
       " ('seien', 'VB'),\n",
       " ('innerhalb', 'IN'),\n",
       " ('von', 'IN'),\n",
       " ('drei', 'CD'),\n",
       " ('Monaten', 'NN'),\n",
       " ('dafür', 'VB'),\n",
       " ('verfügbar', 'JJ'),\n",
       " ('Bei', 'IN'),\n",
       " ('den', 'DT'),\n",
       " ('Teilzeiterwerbstätigen', 'NN'),\n",
       " ('ohne', 'IN'),\n",
       " ('Aussteuerung', 'NN'),\n",
       " ('liege', 'NN'),\n",
       " ('dieser', 'DT'),\n",
       " ('Anteil', 'NN'),\n",
       " ('lediglich', 'RB'),\n",
       " ('bei', 'IN'),\n",
       " ('einem', 'DT'),\n",
       " ('Fünftel', 'NN'),\n",
       " ('Schliesslich', 'RB'),\n",
       " ('erhalten', 'VB'),\n",
       " ('Menschen', 'NN'),\n",
       " ('die', 'DT'),\n",
       " ('ausgesteuert', 'NN'),\n",
       " ('waren', 'VB'),\n",
       " ('auch', 'IN'),\n",
       " ('niedrigere', 'NN'),\n",
       " ('Löhne', 'NN'),\n",
       " ('wie', 'IN'),\n",
       " ('aus', 'IN'),\n",
       " ('der', 'DT'),\n",
       " ('BFS-Untersuchung', 'NN'),\n",
       " ('weiter', 'JJ'),\n",
       " ('hervorgeht', 'VB'),\n",
       " ('Während', 'IN'),\n",
       " ('der', 'DT'),\n",
       " ('Medianstundenlohn', 'NN'),\n",
       " ('brutto', 'RB'),\n",
       " ('für', 'IN'),\n",
       " ('Arbeitnehmende', 'NN'),\n",
       " ('36,10', 'CD'),\n",
       " ('Franken', 'NN'),\n",
       " ('betragen', 'VBN'),\n",
       " ('habe', 'VB'),\n",
       " ('liege', 'NN'),\n",
       " ('er', 'PRP'),\n",
       " ('bei', 'IN'),\n",
       " ('den', 'DT'),\n",
       " ('Ausgesteuerten', 'NN'),\n",
       " ('die', 'WDT'),\n",
       " ('wieder', 'RB'),\n",
       " ('erwerbstätig', 'VBN'),\n",
       " ('seien', 'VB'),\n",
       " ('bei', 'IN'),\n",
       " ('28', 'CD'),\n",
       " ('Franken', 'NN'),\n",
       " ('Bei', 'IN'),\n",
       " ('Führungskräften', 'NN'),\n",
       " ('sei', 'VB'),\n",
       " ('das', 'DT'),\n",
       " ('Lohngefälle', 'NN'),\n",
       " ('zwischen', 'IN'),\n",
       " ('den', 'DT'),\n",
       " ('Arbeitnehmenden', 'NN'),\n",
       " ('insgesamt', 'RB'),\n",
       " ('mit', 'IN'),\n",
       " ('54.90', 'CD'),\n",
       " ('Franken', 'NN'),\n",
       " ('gegenüber', 'IN'),\n",
       " ('41.20', 'CD'),\n",
       " ('Franken', 'NN'),\n",
       " ('bei', 'IN'),\n",
       " ('Arbeitnehmenden', 'NN'),\n",
       " ('nach', 'IN'),\n",
       " ('einer', 'DT'),\n",
       " ('Aussteuerung', 'NN'),\n",
       " ('besonders', 'RB'),\n",
       " ('stark', 'JJ'),\n",
       " ('ausgeprägt', 'RP'),\n",
       " ('Geringer', 'NN'),\n",
       " ('seien', 'VB'),\n",
       " ('demgegenüber', 'NN'),\n",
       " ('die', 'DT'),\n",
       " ('Lohnunterschiede', 'NN'),\n",
       " ('bei', 'IN'),\n",
       " ('Hilfsarbeitskräften', 'NN'),\n",
       " ('Die', 'DT'),\n",
       " ('ausgesteuerten', 'NN'),\n",
       " ('Menschen', 'NN'),\n",
       " ('wiesen', 'VB'),\n",
       " ('gemäss', 'IN'),\n",
       " ('BFS', 'NNP'),\n",
       " ('unabhängig', 'JJ'),\n",
       " ('vom', 'IN'),\n",
       " ('Alter', 'NN'),\n",
       " ('auch', 'RB'),\n",
       " ('einen', 'DT'),\n",
       " ('schlechteren', 'JJ'),\n",
       " ('Gesundheitszustand', 'NN'),\n",
       " ('auf', 'RB'),\n",
       " ('als', 'IN'),\n",
       " ('die', 'DT'),\n",
       " ('Erwerbsbevölkerung', 'NN'),\n",
       " ('Rund', 'RB'),\n",
       " ('einer', 'DT'),\n",
       " ('von', 'IN'),\n",
       " ('zehn', 'CD'),\n",
       " ('ausgesteuerten', 'JJ'),\n",
       " ('Menschen', 'NN'),\n",
       " ('zwischen', 'IN'),\n",
       " ('45', 'CD'),\n",
       " ('und', 'CC'),\n",
       " ('64', 'CD'),\n",
       " ('Jahren', 'NN'),\n",
       " ('stufe', 'NN'),\n",
       " ('die', 'DT'),\n",
       " ('eigene', 'JJ'),\n",
       " ('Gesundheit', 'NN'),\n",
       " ('als', 'IN'),\n",
       " ('schlecht', 'JJ'),\n",
       " ('bis', 'IN'),\n",
       " ('sehr', 'RB'),\n",
       " ('schlecht', 'JJ'),\n",
       " ('ein', 'RP'),\n",
       " ('vergleichen', 'VB'),\n",
       " ('mit', 'IN'),\n",
       " ('zwei', 'CD'),\n",
       " ('Prozent', 'NN'),\n",
       " ('der', 'DT'),\n",
       " ('Erwerbsbevölkerung', 'NN')]"
      ]
     },
     "execution_count": 70,
     "metadata": {},
     "output_type": "execute_result"
    }
   ],
   "source": [
    "blob = TextBlobDE(text9, parser=PatternParser(pprint=False, lemmata=True))\n",
    "blob.tags"
   ]
  },
  {
   "cell_type": "code",
   "execution_count": 71,
   "metadata": {},
   "outputs": [],
   "source": [
    "substantive = []\n",
    "adjektive = []\n",
    "verben = []\n",
    "blob = TextBlobDE(text9, parser=PatternParser(pprint=False, lemmata=True))\n",
    "for word in blob.tags:\n",
    "    if \"NN\" in word[1]:\n",
    "        substantive.append(word[0])\n",
    "    if \"V\" in word[1]:\n",
    "        verben.append(word[0])\n",
    "    if \"JJ\" in word[1]:\n",
    "        adjektive.append(word[0])"
   ]
  },
  {
   "cell_type": "code",
   "execution_count": 72,
   "metadata": {},
   "outputs": [
    {
     "data": {
      "text/plain": [
       "['Hälfte',\n",
       " 'Ausgesteuerten',\n",
       " 'Jahr',\n",
       " '|',\n",
       " 'NZZ',\n",
       " 'Etwas',\n",
       " 'Hälfte',\n",
       " 'Arbeitslosenversicherung',\n",
       " 'ausgesteuerten',\n",
       " 'Menschen',\n",
       " 'Jahr',\n",
       " 'Bundesamt',\n",
       " 'Statistik',\n",
       " 'Bundesamt',\n",
       " 'Statistik',\n",
       " 'BFS',\n",
       " 'Montag',\n",
       " 'Untersuchung',\n",
       " 'Situation',\n",
       " 'Menschen',\n",
       " 'Fünfjahresperiode',\n",
       " 'Durchschnitt',\n",
       " 'Menschen',\n",
       " 'ausgesteuert',\n",
       " 'Prozent',\n",
       " 'Jahr',\n",
       " 'Aussteuerung',\n",
       " 'Jahren',\n",
       " 'Anteil',\n",
       " 'Prozent',\n",
       " 'Prozent',\n",
       " 'Stelle',\n",
       " 'Prozent',\n",
       " 'Ausgesteuerten',\n",
       " 'Arbeitsmarkt',\n",
       " 'Überrepräsentiert',\n",
       " 'BFS',\n",
       " 'Ausgesteuerten',\n",
       " 'Menschen',\n",
       " 'Alter',\n",
       " 'Jahren',\n",
       " 'Anteil',\n",
       " 'Ausgesteuerten',\n",
       " 'Prozent',\n",
       " 'Prozent',\n",
       " 'Arbeitslosen',\n",
       " 'Prozent',\n",
       " 'ausmachten',\n",
       " 'Menschen',\n",
       " 'Berufsausbildung',\n",
       " 'Herkunft',\n",
       " 'Aussteuerung',\n",
       " 'Durchschnitt',\n",
       " 'Ausgesteuerte',\n",
       " 'Menschen',\n",
       " 'Arbeitsmarkt',\n",
       " 'Tritt',\n",
       " 'BFS',\n",
       " 'öfter',\n",
       " 'Arbeitnehmenden',\n",
       " 'Arbeitsverhältnissen',\n",
       " 'Prozent',\n",
       " 'Ausgesteuerten',\n",
       " 'Arbeit',\n",
       " 'Abruf',\n",
       " 'Prozent',\n",
       " 'Stellenvermittlungsbüro',\n",
       " 'Arbeitnehmenden',\n",
       " 'Anteile',\n",
       " 'Prozent',\n",
       " 'Teilzeitstellen',\n",
       " 'Ausgesteuerte',\n",
       " 'Arbeitnehmenden',\n",
       " 'Prozent',\n",
       " 'unbefristeten',\n",
       " 'Arbeitsvertrag',\n",
       " 'gehabt',\n",
       " 'Ausgesteuerten',\n",
       " 'Prozent',\n",
       " 'Prozent',\n",
       " 'ausgesteuerten',\n",
       " 'Männer',\n",
       " 'Teilzeit',\n",
       " 'Anteil',\n",
       " 'Erwerbstätigen',\n",
       " 'ausmachte',\n",
       " 'Frauen',\n",
       " 'BFS',\n",
       " 'Unterschied',\n",
       " 'Gut',\n",
       " 'Hälfte',\n",
       " 'Erwerbstätigen',\n",
       " 'Aussteuerung',\n",
       " 'Teilzeit',\n",
       " 'BFS',\n",
       " 'Unterbeschäftigte',\n",
       " 'Arbeitspensum',\n",
       " 'Monaten',\n",
       " 'Teilzeiterwerbstätigen',\n",
       " 'Aussteuerung',\n",
       " 'liege',\n",
       " 'Anteil',\n",
       " 'Fünftel',\n",
       " 'Menschen',\n",
       " 'ausgesteuert',\n",
       " 'niedrigere',\n",
       " 'Löhne',\n",
       " 'BFS-Untersuchung',\n",
       " 'Medianstundenlohn',\n",
       " 'Arbeitnehmende',\n",
       " 'Franken',\n",
       " 'liege',\n",
       " 'Ausgesteuerten',\n",
       " 'Franken',\n",
       " 'Führungskräften',\n",
       " 'Lohngefälle',\n",
       " 'Arbeitnehmenden',\n",
       " 'Franken',\n",
       " 'Franken',\n",
       " 'Arbeitnehmenden',\n",
       " 'Aussteuerung',\n",
       " 'Geringer',\n",
       " 'demgegenüber',\n",
       " 'Lohnunterschiede',\n",
       " 'Hilfsarbeitskräften',\n",
       " 'ausgesteuerten',\n",
       " 'Menschen',\n",
       " 'BFS',\n",
       " 'Alter',\n",
       " 'Gesundheitszustand',\n",
       " 'Erwerbsbevölkerung',\n",
       " 'Menschen',\n",
       " 'Jahren',\n",
       " 'stufe',\n",
       " 'Gesundheit',\n",
       " 'Prozent',\n",
       " 'Erwerbsbevölkerung']"
      ]
     },
     "execution_count": 72,
     "metadata": {},
     "output_type": "execute_result"
    }
   ],
   "source": [
    "substantive"
   ]
  },
  {
   "cell_type": "code",
   "execution_count": 75,
   "metadata": {},
   "outputs": [
    {
     "data": {
      "text/plain": [
       "FreqDist({'Prozent': 14, 'Menschen': 9, 'Ausgesteuerten': 7, 'BFS': 6, 'Aussteuerung': 5, 'Arbeitnehmenden': 5, 'Anteil': 4, 'Franken': 4, 'Hälfte': 3, 'Jahr': 3, ...})"
      ]
     },
     "execution_count": 75,
     "metadata": {},
     "output_type": "execute_result"
    }
   ],
   "source": [
    "FreqDist(substantive)"
   ]
  },
  {
   "cell_type": "markdown",
   "metadata": {},
   "source": [
    "Zeigt gleich an, welches Substantiv wie oft vorkommt. "
   ]
  },
  {
   "cell_type": "code",
   "execution_count": 74,
   "metadata": {},
   "outputs": [
    {
     "data": {
      "text/plain": [
       "['ist',\n",
       " 'mehr',\n",
       " 'ist',\n",
       " 'verdienen',\n",
       " 'hat',\n",
       " 'veröffentlichten',\n",
       " 'analysiert',\n",
       " 'Jährlich',\n",
       " 'wurden',\n",
       " 'seien',\n",
       " 'gewesen',\n",
       " 'habe',\n",
       " 'gesucht',\n",
       " 'hätten',\n",
       " 'waren',\n",
       " 'betrug',\n",
       " 'seien',\n",
       " 'betroffen',\n",
       " 'gewesen',\n",
       " 'gefasst',\n",
       " 'haben',\n",
       " 'sind',\n",
       " 'würden',\n",
       " 'verrichten',\n",
       " 'vermittelt',\n",
       " 'betrugen',\n",
       " 'hätten',\n",
       " 'seien',\n",
       " 'gewesen',\n",
       " 'gearbeitet',\n",
       " 'zeigte',\n",
       " 'arbeiteten',\n",
       " 'gelten',\n",
       " 'möchten',\n",
       " 'seien',\n",
       " 'dafür',\n",
       " 'erhalten',\n",
       " 'waren',\n",
       " 'hervorgeht',\n",
       " 'betragen',\n",
       " 'habe',\n",
       " 'erwerbstätig',\n",
       " 'seien',\n",
       " 'sei',\n",
       " 'seien',\n",
       " 'wiesen',\n",
       " 'vergleichen']"
      ]
     },
     "execution_count": 74,
     "metadata": {},
     "output_type": "execute_result"
    }
   ],
   "source": [
    "verben"
   ]
  },
  {
   "cell_type": "code",
   "execution_count": 76,
   "metadata": {},
   "outputs": [
    {
     "data": {
      "text/plain": [
       "FreqDist({'seien': 6, 'gewesen': 3, 'ist': 2, 'habe': 2, 'hätten': 2, 'waren': 2, 'mehr': 1, 'verdienen': 1, 'hat': 1, 'veröffentlichten': 1, ...})"
      ]
     },
     "execution_count": 76,
     "metadata": {},
     "output_type": "execute_result"
    }
   ],
   "source": [
    "FreqDist(verben)"
   ]
  },
  {
   "cell_type": "markdown",
   "metadata": {},
   "source": [
    "## Stop word removal\n"
   ]
  },
  {
   "cell_type": "code",
   "execution_count": 78,
   "metadata": {
    "scrolled": true
   },
   "outputs": [
    {
     "name": "stderr",
     "output_type": "stream",
     "text": [
      "[nltk_data] Downloading package stopwords to\n",
      "[nltk_data]     /Users/master/nltk_data...\n",
      "[nltk_data]   Unzipping corpora/stopwords.zip.\n"
     ]
    }
   ],
   "source": [
    "nltk.download('stopwords')\n",
    "from nltk.corpus import stopwords"
   ]
  },
  {
   "cell_type": "markdown",
   "metadata": {},
   "source": [
    "### Englisch"
   ]
  },
  {
   "cell_type": "code",
   "execution_count": 79,
   "metadata": {},
   "outputs": [
    {
     "data": {
      "text/plain": [
       "['i',\n",
       " 'me',\n",
       " 'my',\n",
       " 'myself',\n",
       " 'we',\n",
       " 'our',\n",
       " 'ours',\n",
       " 'ourselves',\n",
       " 'you',\n",
       " \"you're\",\n",
       " \"you've\",\n",
       " \"you'll\",\n",
       " \"you'd\",\n",
       " 'your',\n",
       " 'yours',\n",
       " 'yourself',\n",
       " 'yourselves',\n",
       " 'he',\n",
       " 'him',\n",
       " 'his',\n",
       " 'himself',\n",
       " 'she',\n",
       " \"she's\",\n",
       " 'her',\n",
       " 'hers',\n",
       " 'herself',\n",
       " 'it',\n",
       " \"it's\",\n",
       " 'its',\n",
       " 'itself',\n",
       " 'they',\n",
       " 'them',\n",
       " 'their',\n",
       " 'theirs',\n",
       " 'themselves',\n",
       " 'what',\n",
       " 'which',\n",
       " 'who',\n",
       " 'whom',\n",
       " 'this',\n",
       " 'that',\n",
       " \"that'll\",\n",
       " 'these',\n",
       " 'those',\n",
       " 'am',\n",
       " 'is',\n",
       " 'are',\n",
       " 'was',\n",
       " 'were',\n",
       " 'be',\n",
       " 'been',\n",
       " 'being',\n",
       " 'have',\n",
       " 'has',\n",
       " 'had',\n",
       " 'having',\n",
       " 'do',\n",
       " 'does',\n",
       " 'did',\n",
       " 'doing',\n",
       " 'a',\n",
       " 'an',\n",
       " 'the',\n",
       " 'and',\n",
       " 'but',\n",
       " 'if',\n",
       " 'or',\n",
       " 'because',\n",
       " 'as',\n",
       " 'until',\n",
       " 'while',\n",
       " 'of',\n",
       " 'at',\n",
       " 'by',\n",
       " 'for',\n",
       " 'with',\n",
       " 'about',\n",
       " 'against',\n",
       " 'between',\n",
       " 'into',\n",
       " 'through',\n",
       " 'during',\n",
       " 'before',\n",
       " 'after',\n",
       " 'above',\n",
       " 'below',\n",
       " 'to',\n",
       " 'from',\n",
       " 'up',\n",
       " 'down',\n",
       " 'in',\n",
       " 'out',\n",
       " 'on',\n",
       " 'off',\n",
       " 'over',\n",
       " 'under',\n",
       " 'again',\n",
       " 'further',\n",
       " 'then',\n",
       " 'once']"
      ]
     },
     "execution_count": 79,
     "metadata": {},
     "output_type": "execute_result"
    }
   ],
   "source": [
    "stopwords.words('english')[0:100]"
   ]
  },
  {
   "cell_type": "code",
   "execution_count": 80,
   "metadata": {},
   "outputs": [
    {
     "data": {
      "text/plain": [
       "['big', 'tree', 'duck']"
      ]
     },
     "execution_count": 80,
     "metadata": {},
     "output_type": "execute_result"
    }
   ],
   "source": [
    "words_engl = [\"the\", \"big\", \"tree\", \"and\", \"the\", \"duck\"]\n",
    "filtered_words = [word for word in words_engl if word not in stopwords.words('english')]\n",
    "filtered_words"
   ]
  },
  {
   "cell_type": "markdown",
   "metadata": {},
   "source": [
    "### Deutsch"
   ]
  },
  {
   "cell_type": "code",
   "execution_count": 83,
   "metadata": {},
   "outputs": [
    {
     "data": {
      "text/plain": [
       "['aber',\n",
       " 'alle',\n",
       " 'allem',\n",
       " 'allen',\n",
       " 'aller',\n",
       " 'alles',\n",
       " 'als',\n",
       " 'also',\n",
       " 'am',\n",
       " 'an',\n",
       " 'ander',\n",
       " 'andere',\n",
       " 'anderem',\n",
       " 'anderen',\n",
       " 'anderer',\n",
       " 'anderes',\n",
       " 'anderm',\n",
       " 'andern',\n",
       " 'anderr',\n",
       " 'anders',\n",
       " 'auch',\n",
       " 'auf',\n",
       " 'aus',\n",
       " 'bei',\n",
       " 'bin',\n",
       " 'bis',\n",
       " 'bist',\n",
       " 'da',\n",
       " 'damit',\n",
       " 'dann',\n",
       " 'der',\n",
       " 'den',\n",
       " 'des',\n",
       " 'dem',\n",
       " 'die',\n",
       " 'das',\n",
       " 'dass',\n",
       " 'daß',\n",
       " 'derselbe',\n",
       " 'derselben',\n",
       " 'denselben',\n",
       " 'desselben',\n",
       " 'demselben',\n",
       " 'dieselbe',\n",
       " 'dieselben',\n",
       " 'dasselbe',\n",
       " 'dazu',\n",
       " 'dein',\n",
       " 'deine',\n",
       " 'deinem',\n",
       " 'deinen',\n",
       " 'deiner',\n",
       " 'deines',\n",
       " 'denn',\n",
       " 'derer',\n",
       " 'dessen',\n",
       " 'dich',\n",
       " 'dir',\n",
       " 'du',\n",
       " 'dies',\n",
       " 'diese',\n",
       " 'diesem',\n",
       " 'diesen',\n",
       " 'dieser',\n",
       " 'dieses',\n",
       " 'doch',\n",
       " 'dort',\n",
       " 'durch',\n",
       " 'ein',\n",
       " 'eine',\n",
       " 'einem',\n",
       " 'einen',\n",
       " 'einer',\n",
       " 'eines',\n",
       " 'einig',\n",
       " 'einige',\n",
       " 'einigem',\n",
       " 'einigen',\n",
       " 'einiger',\n",
       " 'einiges',\n",
       " 'einmal',\n",
       " 'er',\n",
       " 'ihn',\n",
       " 'ihm',\n",
       " 'es',\n",
       " 'etwas',\n",
       " 'euer',\n",
       " 'eure',\n",
       " 'eurem',\n",
       " 'euren',\n",
       " 'eurer',\n",
       " 'eures',\n",
       " 'für',\n",
       " 'gegen',\n",
       " 'gewesen',\n",
       " 'hab',\n",
       " 'habe',\n",
       " 'haben',\n",
       " 'hat',\n",
       " 'hatte',\n",
       " 'hatten',\n",
       " 'hier',\n",
       " 'hin',\n",
       " 'hinter',\n",
       " 'ich',\n",
       " 'mich',\n",
       " 'mir',\n",
       " 'ihr',\n",
       " 'ihre',\n",
       " 'ihrem',\n",
       " 'ihren',\n",
       " 'ihrer',\n",
       " 'ihres',\n",
       " 'euch',\n",
       " 'im',\n",
       " 'in',\n",
       " 'indem',\n",
       " 'ins',\n",
       " 'ist',\n",
       " 'jede',\n",
       " 'jedem',\n",
       " 'jeden',\n",
       " 'jeder',\n",
       " 'jedes',\n",
       " 'jene',\n",
       " 'jenem',\n",
       " 'jenen',\n",
       " 'jener',\n",
       " 'jenes',\n",
       " 'jetzt',\n",
       " 'kann',\n",
       " 'kein',\n",
       " 'keine',\n",
       " 'keinem',\n",
       " 'keinen',\n",
       " 'keiner',\n",
       " 'keines',\n",
       " 'können',\n",
       " 'könnte',\n",
       " 'machen',\n",
       " 'man',\n",
       " 'manche',\n",
       " 'manchem',\n",
       " 'manchen',\n",
       " 'mancher',\n",
       " 'manches',\n",
       " 'mein',\n",
       " 'meine',\n",
       " 'meinem',\n",
       " 'meinen',\n",
       " 'meiner',\n",
       " 'meines',\n",
       " 'mit',\n",
       " 'muss',\n",
       " 'musste',\n",
       " 'nach',\n",
       " 'nicht',\n",
       " 'nichts',\n",
       " 'noch',\n",
       " 'nun',\n",
       " 'nur',\n",
       " 'ob',\n",
       " 'oder',\n",
       " 'ohne',\n",
       " 'sehr',\n",
       " 'sein',\n",
       " 'seine',\n",
       " 'seinem',\n",
       " 'seinen',\n",
       " 'seiner',\n",
       " 'seines',\n",
       " 'selbst',\n",
       " 'sich',\n",
       " 'sie',\n",
       " 'ihnen',\n",
       " 'sind',\n",
       " 'so',\n",
       " 'solche',\n",
       " 'solchem',\n",
       " 'solchen',\n",
       " 'solcher',\n",
       " 'solches',\n",
       " 'soll',\n",
       " 'sollte',\n",
       " 'sondern',\n",
       " 'sonst',\n",
       " 'über',\n",
       " 'um',\n",
       " 'und',\n",
       " 'uns',\n",
       " 'unsere',\n",
       " 'unserem',\n",
       " 'unseren',\n",
       " 'unser',\n",
       " 'unseres',\n",
       " 'unter',\n",
       " 'viel',\n",
       " 'vom',\n",
       " 'von',\n",
       " 'vor',\n",
       " 'während',\n",
       " 'war',\n",
       " 'waren',\n",
       " 'warst',\n",
       " 'was',\n",
       " 'weg',\n",
       " 'weil',\n",
       " 'weiter',\n",
       " 'welche',\n",
       " 'welchem',\n",
       " 'welchen',\n",
       " 'welcher',\n",
       " 'welches',\n",
       " 'wenn',\n",
       " 'werde',\n",
       " 'werden',\n",
       " 'wie',\n",
       " 'wieder',\n",
       " 'will',\n",
       " 'wir',\n",
       " 'wird',\n",
       " 'wirst',\n",
       " 'wo',\n",
       " 'wollen',\n",
       " 'wollte',\n",
       " 'würde',\n",
       " 'würden',\n",
       " 'zu',\n",
       " 'zum',\n",
       " 'zur',\n",
       " 'zwar',\n",
       " 'zwischen']"
      ]
     },
     "execution_count": 83,
     "metadata": {},
     "output_type": "execute_result"
    }
   ],
   "source": [
    "stoplist = stopwords.words('german')\n",
    "stoplist"
   ]
  },
  {
   "cell_type": "code",
   "execution_count": 90,
   "metadata": {},
   "outputs": [
    {
     "data": {
      "text/plain": [
       "['von',\n",
       " 'ihrer',\n",
       " 'nach',\n",
       " 'will',\n",
       " 'vom',\n",
       " 'manche',\n",
       " 'diesen',\n",
       " 'die',\n",
       " 'manchem',\n",
       " 'aus',\n",
       " 'dies',\n",
       " 'hatte',\n",
       " 'am',\n",
       " 'ihren',\n",
       " 'jede',\n",
       " 'muss',\n",
       " 'unserem',\n",
       " 'unter',\n",
       " 'wir',\n",
       " 'sein',\n",
       " 'dann',\n",
       " 'machen',\n",
       " 'sondern',\n",
       " 'hatten',\n",
       " 'dieselbe',\n",
       " 'dem',\n",
       " 'ander',\n",
       " 'denselben',\n",
       " 'werde',\n",
       " 'der',\n",
       " 'jeder',\n",
       " 'wenn',\n",
       " 'ohne',\n",
       " 'sehr',\n",
       " 'hin',\n",
       " 'jedem',\n",
       " 'derselben',\n",
       " 'soll',\n",
       " 'das',\n",
       " 'es',\n",
       " 'oder',\n",
       " 'jetzt',\n",
       " 'noch',\n",
       " 'nun',\n",
       " 'unseres',\n",
       " 'können',\n",
       " 'weg',\n",
       " 'unseren',\n",
       " 'mich',\n",
       " 'seine',\n",
       " 'wollte',\n",
       " 'mein',\n",
       " 'anderes',\n",
       " 'dich',\n",
       " 'während',\n",
       " 'sonst',\n",
       " 'euren',\n",
       " 'ihrem',\n",
       " 'doch',\n",
       " 'bis',\n",
       " 'daß',\n",
       " 'als',\n",
       " 'uns',\n",
       " 'demselben',\n",
       " 'weiter',\n",
       " 'alle',\n",
       " 'ihn',\n",
       " 'ob',\n",
       " 'um',\n",
       " 'und',\n",
       " 'hat',\n",
       " 'des',\n",
       " 'über',\n",
       " 'allem',\n",
       " 'dieselben',\n",
       " 'allen',\n",
       " 'eurem',\n",
       " 'gegen',\n",
       " 'kann',\n",
       " 'unsere',\n",
       " 'warst',\n",
       " 'jener',\n",
       " 'manches',\n",
       " 'anderen',\n",
       " 'einmal',\n",
       " 'nur',\n",
       " 'war',\n",
       " 'jene',\n",
       " 'jenes',\n",
       " 'jenem',\n",
       " 'auch',\n",
       " 'für',\n",
       " 'jenen',\n",
       " 'sich',\n",
       " 'einigen',\n",
       " 'ihres',\n",
       " 'solches',\n",
       " 'könnte',\n",
       " 'solcher',\n",
       " 'meiner',\n",
       " 'zum',\n",
       " 'anders',\n",
       " 'etwas',\n",
       " 'wird',\n",
       " 'welches',\n",
       " 'welchem',\n",
       " 'jeden',\n",
       " 'meines',\n",
       " 'weil',\n",
       " 'durch',\n",
       " 'deinen',\n",
       " 'dieses',\n",
       " 'desselben',\n",
       " 'euer',\n",
       " 'dieser',\n",
       " 'einige',\n",
       " 'mir',\n",
       " 'alles',\n",
       " 'also',\n",
       " 'meinen',\n",
       " 'derer',\n",
       " 'einiger',\n",
       " 'seines',\n",
       " 'werden',\n",
       " 'eine',\n",
       " 'aller',\n",
       " 'haben',\n",
       " 'hier',\n",
       " 'einig',\n",
       " 'zu',\n",
       " 'diese',\n",
       " 'so',\n",
       " 'jedes',\n",
       " 'seiner',\n",
       " 'auf',\n",
       " 'zwar',\n",
       " 'eure',\n",
       " 'selbst',\n",
       " 'bin',\n",
       " 'diesem',\n",
       " 'deiner',\n",
       " 'unser',\n",
       " 'würden',\n",
       " 'deine',\n",
       " 'anderem',\n",
       " 'mancher',\n",
       " 'an',\n",
       " 'welchen',\n",
       " 'eurer',\n",
       " 'damit',\n",
       " 'habe',\n",
       " 'einen',\n",
       " 'solche',\n",
       " 'eures',\n",
       " 'meine',\n",
       " 'bei',\n",
       " 'den',\n",
       " 'dasselbe',\n",
       " 'hinter',\n",
       " 'keine',\n",
       " 'dazu',\n",
       " 'mit',\n",
       " 'vor',\n",
       " 'ins',\n",
       " 'ist',\n",
       " 'ihm',\n",
       " 'solchem',\n",
       " 'dein',\n",
       " 'ihre',\n",
       " 'wie',\n",
       " 'anderr',\n",
       " 'keinem',\n",
       " 'solchen',\n",
       " 'eines',\n",
       " 'bist',\n",
       " 'im',\n",
       " 'hab',\n",
       " 'welcher',\n",
       " 'musste',\n",
       " 'wirst',\n",
       " 'wollen',\n",
       " 'einiges',\n",
       " 'seinen',\n",
       " 'da',\n",
       " 'einer',\n",
       " 'sollte',\n",
       " 'wo',\n",
       " 'viel',\n",
       " 'waren',\n",
       " 'einigem',\n",
       " 'er',\n",
       " 'dir',\n",
       " 'sind',\n",
       " 'was',\n",
       " 'in',\n",
       " 'derselbe',\n",
       " 'keinen',\n",
       " 'welche',\n",
       " 'wieder',\n",
       " 'deinem',\n",
       " 'dort',\n",
       " 'dessen',\n",
       " 'ein',\n",
       " 'anderm',\n",
       " 'dass',\n",
       " 'seinem',\n",
       " 'würde',\n",
       " 'kein',\n",
       " 'zwischen',\n",
       " 'anderer',\n",
       " 'deines',\n",
       " 'gewesen',\n",
       " 'keines',\n",
       " 'denn',\n",
       " 'andern',\n",
       " 'aber',\n",
       " 'manchen',\n",
       " 'ihr',\n",
       " 'du',\n",
       " 'indem',\n",
       " 'euch',\n",
       " 'ihnen',\n",
       " 'zur',\n",
       " 'man',\n",
       " 'nichts',\n",
       " 'keiner',\n",
       " 'nicht',\n",
       " 'andere',\n",
       " 'meinem',\n",
       " 'sie',\n",
       " 'einem']"
      ]
     },
     "execution_count": 90,
     "metadata": {},
     "output_type": "execute_result"
    }
   ],
   "source": [
    "stoplist_a = list(set(stoplist) - set([\"ich\"])) #ein Wort ('ich') aus der Stopliste entfernen.\n",
    "stoplist_a"
   ]
  },
  {
   "cell_type": "code",
   "execution_count": 102,
   "metadata": {},
   "outputs": [
    {
     "name": "stdout",
     "output_type": "stream",
     "text": [
      "['von', 'ihrer', 'nach', 'will', 'vom', 'manche', 'diesen', 'die', 'manchem', 'aus', 'dies', 'hatte', 'am', 'ihren', 'jede', 'muss', 'unserem', 'unter', 'wir', 'sein', 'dann', 'machen', 'sondern', 'hatten', 'dieselbe', 'dem', 'ander', 'denselben', 'werde', 'der', 'jeder', 'wenn', 'ohne', 'sehr', 'hin', 'jedem', 'derselben', 'soll', 'das', 'es', 'oder', 'jetzt', 'noch', 'nun', 'unseres', 'können', 'weg', 'unseren', 'mich', 'seine', 'wollte', 'mein', 'anderes', 'dich', 'während', 'sonst', 'euren', 'ihrem', 'doch', 'bis', 'daß', 'als', 'uns', 'demselben', 'weiter', 'alle', 'ihn', 'ob', 'um', 'und', 'hat', 'des', 'über', 'allem', 'dieselben', 'allen', 'eurem', 'gegen', 'kann', 'unsere', 'warst', 'jener', 'manches', 'anderen', 'einmal', 'nur', 'war', 'jene', 'jenes', 'jenem', 'auch', 'für', 'jenen', 'sich', 'einigen', 'ihres', 'solches', 'könnte', 'solcher', 'meiner', 'zum', 'anders', 'etwas', 'wird', 'welches', 'welchem', 'jeden', 'meines', 'weil', 'durch', 'deinen', 'dieses', 'desselben', 'euer', 'dieser', 'einige', 'mir', 'alles', 'also', 'meinen', 'derer', 'einiger', 'seines', 'werden', 'eine', 'aller', 'haben', 'hier', 'einig', 'zu', 'diese', 'so', 'jedes', 'seiner', 'auf', 'zwar', 'eure', 'selbst', 'bin', 'diesem', 'deiner', 'unser', 'würden', 'deine', 'anderem', 'mancher', 'an', 'welchen', 'eurer', 'damit', 'habe', 'einen', 'solche', 'eures', 'meine', 'bei', 'den', 'dasselbe', 'hinter', 'keine', 'dazu', 'mit', 'vor', 'ins', 'ist', 'ihm', 'solchem', 'dein', 'ihre', 'wie', 'anderr', 'keinem', 'solchen', 'eines', 'bist', 'im', 'hab', 'welcher', 'musste', 'wirst', 'wollen', 'einiges', 'seinen', 'da', 'einer', 'sollte', 'wo', 'viel', 'waren', 'einigem', 'er', 'dir', 'sind', 'was', 'in', 'derselbe', 'keinen', 'welche', 'wieder', 'deinem', 'dort', 'dessen', 'ein', 'anderm', 'dass', 'seinem', 'würde', 'kein', 'zwischen', 'anderer', 'deines', 'gewesen', 'keines', 'denn', 'andern', 'aber', 'manchen', 'ihr', 'du', 'indem', 'euch', 'ihnen', 'zur', 'man', 'nichts', 'keiner', 'nicht', 'andere', 'meinem', 'sie', 'einem', 'ich', 'ich', 'ich', 'ich', 'ich']\n"
     ]
    }
   ],
   "source": [
    "stoplist_a.append('ich') #einen Begriff wieder zufügen.\n",
    "print(stoplist_a)"
   ]
  },
  {
   "cell_type": "code",
   "execution_count": 95,
   "metadata": {},
   "outputs": [
    {
     "data": {
      "text/plain": [
       "['wald', 'spazieren']"
      ]
     },
     "execution_count": 95,
     "metadata": {},
     "output_type": "execute_result"
    }
   ],
   "source": [
    "words_german = [\"ich\", \"war\", \"im\", \"wald\", \"spazieren\"]\n",
    "filtered_words = [word for word in words_german if word not in stopwords.words('german')]\n",
    "filtered_words"
   ]
  },
  {
   "cell_type": "markdown",
   "metadata": {},
   "source": [
    "## Wordle 2.0"
   ]
  },
  {
   "cell_type": "markdown",
   "metadata": {},
   "source": [
    "- Tokenization\n",
    "- Lemmatization"
   ]
  },
  {
   "cell_type": "code",
   "execution_count": 96,
   "metadata": {},
   "outputs": [],
   "source": [
    "text = (\" \").join(udhr.words(\"German_Deutsch-Latin1\"))\n",
    "# tokenize and lemmatize\n",
    "words = word_tokenize(text)\n",
    "words_german =[word.lower() for word in words if word.isalpha()]\n",
    "lemma = nltk.WordNetLemmatizer()\n",
    "lemmas = [lemma.lemmatize(i) for i in words_german]\n",
    "clean_blob = lemmas"
   ]
  },
  {
   "cell_type": "markdown",
   "metadata": {},
   "source": [
    "- Numbers etc.. removal\n",
    "- Stop word removal"
   ]
  },
  {
   "cell_type": "code",
   "execution_count": 97,
   "metadata": {},
   "outputs": [
    {
     "data": {
      "text/plain": [
       "['allgemeine',\n",
       " 'erklärung',\n",
       " 'menschenrechte',\n",
       " 'resolution',\n",
       " 'a',\n",
       " 'iii',\n",
       " 'präambel',\n",
       " 'anerkennung',\n",
       " 'angeborenen',\n",
       " 'gleichen',\n",
       " 'unveräußerlichen',\n",
       " 'rechte',\n",
       " 'mitglieder',\n",
       " 'gemeinschaft',\n",
       " 'menschen',\n",
       " 'grundlage',\n",
       " 'freiheit',\n",
       " 'gerechtigkeit',\n",
       " 'frieden',\n",
       " 'welt']"
      ]
     },
     "execution_count": 97,
     "metadata": {},
     "output_type": "execute_result"
    }
   ],
   "source": [
    "from nltk.corpus import stopwords\n",
    "words_alpha =[word.lower() for word in clean_blob if word.isalpha()]\n",
    "stopwords = stopwords.words('german')\n",
    "stopwords.append(\"jede\")\n",
    "result = [word for word in words_alpha if word not in stopwords]\n",
    "result[0:20]"
   ]
  },
  {
   "cell_type": "code",
   "execution_count": 98,
   "metadata": {
    "scrolled": true
   },
   "outputs": [
    {
     "data": {
      "text/plain": [
       "['allgemeine',\n",
       " 'erklärung',\n",
       " 'menschenrechte',\n",
       " 'resolution',\n",
       " 'a',\n",
       " 'iii',\n",
       " 'präambel',\n",
       " 'anerkennung',\n",
       " 'angeborenen',\n",
       " 'gleichen',\n",
       " 'unveräußerlichen',\n",
       " 'rechte',\n",
       " 'mitglieder',\n",
       " 'gemeinschaft',\n",
       " 'menschen',\n",
       " 'grundlage',\n",
       " 'freiheit',\n",
       " 'gerechtigkeit',\n",
       " 'frieden',\n",
       " 'welt']"
      ]
     },
     "execution_count": 98,
     "metadata": {},
     "output_type": "execute_result"
    }
   ],
   "source": [
    "result[0:20]"
   ]
  },
  {
   "cell_type": "code",
   "execution_count": 99,
   "metadata": {},
   "outputs": [],
   "source": [
    "text = (\" \").join(result)"
   ]
  },
  {
   "cell_type": "code",
   "execution_count": 100,
   "metadata": {},
   "outputs": [],
   "source": [
    " a = [123,\n",
    "     123]"
   ]
  },
  {
   "cell_type": "code",
   "execution_count": 104,
   "metadata": {},
   "outputs": [],
   "source": [
    "%matplotlib inline"
   ]
  },
  {
   "cell_type": "code",
   "execution_count": 105,
   "metadata": {},
   "outputs": [
    {
     "data": {
      "image/png": "[encoded data removed]",
      "text/plain": [
       "<Figure size 1080x576 with 1 Axes>"
      ]
     },
     "metadata": {
      "needs_background": "light"
     },
     "output_type": "display_data"
    }
   ],
   "source": [
    "from wordcloud import WordCloud\n",
    "import matplotlib.pyplot as plt\n",
    "import numpy as np\n",
    "from PIL import Image\n",
    "import os\n",
    "from os import path\n",
    "d = path.dirname(__file__) if \"__file__\" in locals() else os.getcwd()\n",
    "\n",
    "maske = np.array(Image.open(path.join(d, \"maske.png\")))\n",
    "\n",
    "wc = WordCloud(background_color=\"white\", max_words=2000, mask=maske, contour_width=3, contour_color='steelblue',collocations=False, normalize_plurals=False)\n",
    "wc.generate(text)\n",
    "plt.figure(figsize=(15,8))\n",
    "plt.imshow(wc, interpolation=\"bilinear\")\n",
    "plt.axis(\"off\")\n",
    "plt.show()"
   ]
  },
  {
   "cell_type": "markdown",
   "metadata": {},
   "source": [
    "Eigene Wordcloud machen aus dem NZZ-Text über Arbeitslose (text9).\n"
   ]
  },
  {
   "cell_type": "code",
   "execution_count": 108,
   "metadata": {},
   "outputs": [
    {
     "data": {
      "text/plain": [
       "['Hälfte',\n",
       " 'Ausgesteuerten',\n",
       " 'Jahr',\n",
       " '|',\n",
       " 'NZZ',\n",
       " 'Etwas',\n",
       " 'Hälfte',\n",
       " 'Arbeitslosenversicherung',\n",
       " 'ausgesteuerten',\n",
       " 'Menschen',\n",
       " 'Jahr',\n",
       " 'Bundesamt',\n",
       " 'Statistik',\n",
       " 'Bundesamt',\n",
       " 'Statistik',\n",
       " 'BFS',\n",
       " 'Montag',\n",
       " 'Untersuchung',\n",
       " 'Situation',\n",
       " 'Menschen',\n",
       " 'Fünfjahresperiode',\n",
       " 'Durchschnitt',\n",
       " 'Menschen',\n",
       " 'ausgesteuert',\n",
       " 'Prozent',\n",
       " 'Jahr',\n",
       " 'Aussteuerung',\n",
       " 'Jahren',\n",
       " 'Anteil',\n",
       " 'Prozent',\n",
       " 'Prozent',\n",
       " 'Stelle',\n",
       " 'Prozent',\n",
       " 'Ausgesteuerten',\n",
       " 'Arbeitsmarkt',\n",
       " 'Überrepräsentiert',\n",
       " 'BFS',\n",
       " 'Ausgesteuerten',\n",
       " 'Menschen',\n",
       " 'Alter',\n",
       " 'Jahren',\n",
       " 'Anteil',\n",
       " 'Ausgesteuerten',\n",
       " 'Prozent',\n",
       " 'Prozent',\n",
       " 'Arbeitslosen',\n",
       " 'Prozent',\n",
       " 'ausmachten',\n",
       " 'Menschen',\n",
       " 'Berufsausbildung',\n",
       " 'Herkunft',\n",
       " 'Aussteuerung',\n",
       " 'Durchschnitt',\n",
       " 'Ausgesteuerte',\n",
       " 'Menschen',\n",
       " 'Arbeitsmarkt',\n",
       " 'Tritt',\n",
       " 'BFS',\n",
       " 'öfter',\n",
       " 'Arbeitnehmenden',\n",
       " 'Arbeitsverhältnissen',\n",
       " 'Prozent',\n",
       " 'Ausgesteuerten',\n",
       " 'Arbeit',\n",
       " 'Abruf',\n",
       " 'Prozent',\n",
       " 'Stellenvermittlungsbüro',\n",
       " 'Arbeitnehmenden',\n",
       " 'Anteile',\n",
       " 'Prozent',\n",
       " 'Teilzeitstellen',\n",
       " 'Ausgesteuerte',\n",
       " 'Arbeitnehmenden',\n",
       " 'Prozent',\n",
       " 'unbefristeten',\n",
       " 'Arbeitsvertrag',\n",
       " 'gehabt',\n",
       " 'Ausgesteuerten',\n",
       " 'Prozent',\n",
       " 'Prozent',\n",
       " 'ausgesteuerten',\n",
       " 'Männer',\n",
       " 'Teilzeit',\n",
       " 'Anteil',\n",
       " 'Erwerbstätigen',\n",
       " 'ausmachte',\n",
       " 'Frauen',\n",
       " 'BFS',\n",
       " 'Unterschied',\n",
       " 'Gut',\n",
       " 'Hälfte',\n",
       " 'Erwerbstätigen',\n",
       " 'Aussteuerung',\n",
       " 'Teilzeit',\n",
       " 'BFS',\n",
       " 'Unterbeschäftigte',\n",
       " 'Arbeitspensum',\n",
       " 'Monaten',\n",
       " 'Teilzeiterwerbstätigen',\n",
       " 'Aussteuerung',\n",
       " 'liege',\n",
       " 'Anteil',\n",
       " 'Fünftel',\n",
       " 'Menschen',\n",
       " 'ausgesteuert',\n",
       " 'niedrigere',\n",
       " 'Löhne',\n",
       " 'BFS-Untersuchung',\n",
       " 'Medianstundenlohn',\n",
       " 'Arbeitnehmende',\n",
       " 'Franken',\n",
       " 'liege',\n",
       " 'Ausgesteuerten',\n",
       " 'Franken',\n",
       " 'Führungskräften',\n",
       " 'Lohngefälle',\n",
       " 'Arbeitnehmenden',\n",
       " 'Franken',\n",
       " 'Franken',\n",
       " 'Arbeitnehmenden',\n",
       " 'Aussteuerung',\n",
       " 'Geringer',\n",
       " 'demgegenüber',\n",
       " 'Lohnunterschiede',\n",
       " 'Hilfsarbeitskräften',\n",
       " 'ausgesteuerten',\n",
       " 'Menschen',\n",
       " 'BFS',\n",
       " 'Alter',\n",
       " 'Gesundheitszustand',\n",
       " 'Erwerbsbevölkerung',\n",
       " 'Menschen',\n",
       " 'Jahren',\n",
       " 'stufe',\n",
       " 'Gesundheit',\n",
       " 'Prozent',\n",
       " 'Erwerbsbevölkerung']"
      ]
     },
     "execution_count": 108,
     "metadata": {},
     "output_type": "execute_result"
    }
   ],
   "source": [
    "from nltk.corpus import stopwords\n",
    "\n",
    "substantive = []\n",
    "blob = TextBlobDE(text9, parser=PatternParser(pprint=False, lemmata=True))\n",
    "for word in blob.tags:\n",
    "    if \"NN\" in word[1]:\n",
    "        substantive.append(word[0])"
   ]
  },
  {
   "cell_type": "code",
   "execution_count": 113,
   "metadata": {},
   "outputs": [
    {
     "data": {
      "text/plain": [
       "FreqDist({'Prozent': 14, 'Menschen': 9, 'Ausgesteuerten': 7, 'BFS': 6, 'Aussteuerung': 5, 'Arbeitnehmenden': 5, 'Anteil': 4, 'Franken': 4, 'Hälfte': 3, 'Jahr': 3, ...})"
      ]
     },
     "execution_count": 113,
     "metadata": {},
     "output_type": "execute_result"
    }
   ],
   "source": [
    "FreqDist(substantive)"
   ]
  },
  {
   "cell_type": "code",
   "execution_count": 114,
   "metadata": {},
   "outputs": [
    {
     "data": {
      "image/png": "[encoded data removed]",
      "text/plain": [
       "<Figure size 1296x864 with 1 Axes>"
      ]
     },
     "metadata": {
      "needs_background": "light"
     },
     "output_type": "display_data"
    }
   ],
   "source": [
    "%matplotlib inline\n",
    "from wordcloud import WordCloud\n",
    "import matplotlib.pyplot as plt\n",
    "import numpy as np\n",
    "from PIL import Image\n",
    "import os\n",
    "from os import path\n",
    "d = path.dirname(__file__) if \"__file__\" in locals() else os.getcwd()\n",
    "\n",
    "maske = np.array(Image.open(path.join(d, \"maske.png\")))\n",
    "\n",
    "wc = WordCloud(background_color=\"white\", max_words=2000, mask=maske, contour_width=3, contour_color='steelblue',collocations=False, normalize_plurals=False)\n",
    "wc.generate((\" \").join(substantive)) #hier wird die Liste zu einem String zusammengefügt\n",
    "plt.figure(figsize=(18,12))\n",
    "plt.imshow(wc, interpolation=\"bilinear\")\n",
    "plt.axis(\"off\")\n",
    "plt.show()"
   ]
  },
  {
   "cell_type": "code",
   "execution_count": null,
   "metadata": {},
   "outputs": [],
   "source": []
  }
 ],
 "metadata": {
  "kernelspec": {
   "display_name": "Python 3",
   "language": "python",
   "name": "python3"
  },
  "language_info": {
   "codemirror_mode": {
    "name": "ipython",
    "version": 3
   },
   "file_extension": ".py",
   "mimetype": "text/x-python",
   "name": "python",
   "nbconvert_exporter": "python",
   "pygments_lexer": "ipython3",
   "version": "3.7.4"
  }
 },
 "nbformat": 4,
 "nbformat_minor": 2
}
