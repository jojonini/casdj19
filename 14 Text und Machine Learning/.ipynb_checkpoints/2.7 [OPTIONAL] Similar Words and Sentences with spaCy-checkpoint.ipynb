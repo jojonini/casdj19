{
 "cells": [
  {
   "cell_type": "markdown",
   "metadata": {},
   "source": [
    "# Word and Sentence similarity with spaCy\n",
    "- Spacy ist ein machine learning natural language processing tool. \n",
    "- Aufgrund des Deep Learning Ansatzes ist es am weitesten von allen derzeitigen Tools fortgeschritten. \n",
    "- Allerdings erschliessen sich viele Funktionen für Laien nicht wirklich. \n",
    "- ```pip install --user spacy```\n",
    "- Deutsche Modelle runterladen:\n",
    "```!python3 -m spacy download de_core_news_sm```\n",
    "oder das grössere Modell:\n",
    "```!python3 -m spacy download de_core_news_md```\n",
    "\n",
    "\n",
    "früher auch: ```pip install https://github.com/explosion/spacy-models/releases/download/de_core_news_sm-2.0.0/de_core_news_sm-2.0.0.tar.gz```\n"
   ]
  },
  {
   "cell_type": "code",
   "execution_count": 7,
   "metadata": {},
   "outputs": [],
   "source": [
    "import spacy\n",
    "import de_core_news_md\n",
    "nlp = de_core_news_md.load()"
   ]
  },
  {
   "cell_type": "markdown",
   "metadata": {},
   "source": [
    "### Auf Satzebene"
   ]
  },
  {
   "cell_type": "code",
   "execution_count": 14,
   "metadata": {},
   "outputs": [],
   "source": [
    "satz1 = nlp(u\"Der Mann ging um die Ecke um zu prüfen was mit der Ampelanlage kaputt war\") #u evtl. für Unicode\n",
    "satz2 = nlp(u\"Es gab niemanden im Universum der Sauron besiegen konnte\")\n",
    "satz3 = nlp(u\"Es gibt in der Stadtverwaltung viele Strassen die kontrolliert werden müssen\")\n",
    "satz4 = nlp(u\"Der Monteur musste hinter das Haus um zu schauen, weshalb die grosse Uhr falsch lief.\")"
   ]
  },
  {
   "cell_type": "code",
   "execution_count": 9,
   "metadata": {},
   "outputs": [
    {
     "data": {
      "text/plain": [
       "0.8592774954894573"
      ]
     },
     "execution_count": 9,
     "metadata": {},
     "output_type": "execute_result"
    }
   ],
   "source": [
    "satz1.similarity(satz2)"
   ]
  },
  {
   "cell_type": "code",
   "execution_count": 15,
   "metadata": {},
   "outputs": [
    {
     "data": {
      "text/plain": [
       "0.9336442746701858"
      ]
     },
     "execution_count": 15,
     "metadata": {},
     "output_type": "execute_result"
    }
   ],
   "source": [
    "satz1.similarity(satz4)"
   ]
  },
  {
   "cell_type": "code",
   "execution_count": 16,
   "metadata": {},
   "outputs": [
    {
     "data": {
      "text/plain": [
       "0.862273550148104"
      ]
     },
     "execution_count": 16,
     "metadata": {},
     "output_type": "execute_result"
    }
   ],
   "source": [
    "satz2.similarity(satz4)"
   ]
  },
  {
   "cell_type": "markdown",
   "metadata": {},
   "source": [
    "Ok, wir laden das grössere Modell:"
   ]
  },
  {
   "cell_type": "code",
   "execution_count": 4,
   "metadata": {},
   "outputs": [
    {
     "name": "stdout",
     "output_type": "stream",
     "text": [
      "Collecting de_core_news_md==2.2.5 from https://github.com/explosion/spacy-models/releases/download/de_core_news_md-2.2.5/de_core_news_md-2.2.5.tar.gz#egg=de_core_news_md==2.2.5\n",
      "\u001b[?25l  Downloading https://github.com/explosion/spacy-models/releases/download/de_core_news_md-2.2.5/de_core_news_md-2.2.5.tar.gz (224.6MB)\n",
      "\u001b[K     |████████████████████████████████| 224.6MB 1.4MB/s eta 0:00:01   |▋                               | 4.6MB 32kB/s eta 1:53:11     |███▊                            | 26.4MB 1.8MB/s eta 0:01:51\n",
      "\u001b[?25hRequirement already satisfied: spacy>=2.2.2 in /Users/master/Library/Python/3.7/lib/python/site-packages (from de_core_news_md==2.2.5) (2.2.2)\n",
      "Requirement already satisfied: preshed<3.1.0,>=3.0.2 in /Users/master/Library/Python/3.7/lib/python/site-packages (from spacy>=2.2.2->de_core_news_md==2.2.5) (3.0.2)\n",
      "Requirement already satisfied: plac<1.2.0,>=0.9.6 in /Users/master/Library/Python/3.7/lib/python/site-packages (from spacy>=2.2.2->de_core_news_md==2.2.5) (1.1.3)\n",
      "Requirement already satisfied: importlib-metadata>=0.20; python_version < \"3.8\" in /usr/local/lib/python3.7/site-packages (from spacy>=2.2.2->de_core_news_md==2.2.5) (0.23)\n",
      "Requirement already satisfied: srsly<1.1.0,>=0.1.0 in /Users/master/Library/Python/3.7/lib/python/site-packages (from spacy>=2.2.2->de_core_news_md==2.2.5) (0.2.0)\n",
      "Requirement already satisfied: setuptools in /usr/local/lib/python3.7/site-packages (from spacy>=2.2.2->de_core_news_md==2.2.5) (41.4.0)\n",
      "Requirement already satisfied: murmurhash<1.1.0,>=0.28.0 in /Users/master/Library/Python/3.7/lib/python/site-packages (from spacy>=2.2.2->de_core_news_md==2.2.5) (1.0.2)\n",
      "Requirement already satisfied: cymem<2.1.0,>=2.0.2 in /Users/master/Library/Python/3.7/lib/python/site-packages (from spacy>=2.2.2->de_core_news_md==2.2.5) (2.0.3)\n",
      "Requirement already satisfied: blis<0.5.0,>=0.4.0 in /Users/master/Library/Python/3.7/lib/python/site-packages (from spacy>=2.2.2->de_core_news_md==2.2.5) (0.4.1)\n",
      "Requirement already satisfied: numpy>=1.15.0 in /usr/local/lib/python3.7/site-packages (from spacy>=2.2.2->de_core_news_md==2.2.5) (1.17.3)\n",
      "Requirement already satisfied: wasabi<1.1.0,>=0.3.0 in /Users/master/Library/Python/3.7/lib/python/site-packages (from spacy>=2.2.2->de_core_news_md==2.2.5) (0.4.0)\n",
      "Requirement already satisfied: thinc<7.4.0,>=7.3.0 in /Users/master/Library/Python/3.7/lib/python/site-packages (from spacy>=2.2.2->de_core_news_md==2.2.5) (7.3.1)\n",
      "Requirement already satisfied: requests<3.0.0,>=2.13.0 in /usr/local/lib/python3.7/site-packages (from spacy>=2.2.2->de_core_news_md==2.2.5) (2.22.0)\n",
      "Requirement already satisfied: zipp>=0.5 in /usr/local/lib/python3.7/site-packages (from importlib-metadata>=0.20; python_version < \"3.8\"->spacy>=2.2.2->de_core_news_md==2.2.5) (0.6.0)\n",
      "Requirement already satisfied: tqdm<5.0.0,>=4.10.0 in /usr/local/lib/python3.7/site-packages (from thinc<7.4.0,>=7.3.0->spacy>=2.2.2->de_core_news_md==2.2.5) (4.36.1)\n",
      "Requirement already satisfied: urllib3!=1.25.0,!=1.25.1,<1.26,>=1.21.1 in /usr/local/lib/python3.7/site-packages (from requests<3.0.0,>=2.13.0->spacy>=2.2.2->de_core_news_md==2.2.5) (1.25.6)\n",
      "Requirement already satisfied: chardet<3.1.0,>=3.0.2 in /usr/local/lib/python3.7/site-packages (from requests<3.0.0,>=2.13.0->spacy>=2.2.2->de_core_news_md==2.2.5) (3.0.4)\n",
      "Requirement already satisfied: certifi>=2017.4.17 in /usr/local/lib/python3.7/site-packages (from requests<3.0.0,>=2.13.0->spacy>=2.2.2->de_core_news_md==2.2.5) (2019.9.11)\n",
      "Requirement already satisfied: idna<2.9,>=2.5 in /usr/local/lib/python3.7/site-packages (from requests<3.0.0,>=2.13.0->spacy>=2.2.2->de_core_news_md==2.2.5) (2.8)\n",
      "Requirement already satisfied: more-itertools in /usr/local/lib/python3.7/site-packages (from zipp>=0.5->importlib-metadata>=0.20; python_version < \"3.8\"->spacy>=2.2.2->de_core_news_md==2.2.5) (7.2.0)\n",
      "Building wheels for collected packages: de-core-news-md\n",
      "  Building wheel for de-core-news-md (setup.py) ... \u001b[?25ldone\n",
      "\u001b[?25h  Created wheel for de-core-news-md: filename=de_core_news_md-2.2.5-cp37-none-any.whl size=228399478 sha256=cea325743cb164c7e5b8a0cd55cc628fe56ed43d81cb8d5d79ae4ed3ef6094a2\n",
      "  Stored in directory: /private/var/folders/hw/b3bfbd8n08v9shjcjn1ldgxc0000gn/T/pip-ephem-wheel-cache-ew363omx/wheels/41/60/41/81898870259d7c19fe8f9e46a537611c939f0c425eee2e1785\n",
      "Successfully built de-core-news-md\n",
      "Installing collected packages: de-core-news-md\n",
      "Successfully installed de-core-news-md-2.2.5\n",
      "\u001b[38;5;2m✔ Download and installation successful\u001b[0m\n",
      "You can now load the model via spacy.load('de_core_news_md')\n"
     ]
    }
   ],
   "source": [
    "!python3 -m spacy download de_core_news_md"
   ]
  },
  {
   "cell_type": "code",
   "execution_count": 10,
   "metadata": {
    "scrolled": true
   },
   "outputs": [
    {
     "data": {
      "text/plain": [
       "0.8941048821523883"
      ]
     },
     "execution_count": 10,
     "metadata": {},
     "output_type": "execute_result"
    }
   ],
   "source": [
    "satz1.similarity(satz3)"
   ]
  },
  {
   "cell_type": "code",
   "execution_count": 11,
   "metadata": {},
   "outputs": [
    {
     "data": {
      "text/plain": [
       "0.8745226214838854"
      ]
     },
     "execution_count": 11,
     "metadata": {},
     "output_type": "execute_result"
    }
   ],
   "source": [
    "satz2.similarity(satz3)"
   ]
  },
  {
   "cell_type": "markdown",
   "metadata": {},
   "source": [
    "### Auf Wörterebene"
   ]
  },
  {
   "cell_type": "code",
   "execution_count": 31,
   "metadata": {},
   "outputs": [],
   "source": [
    "tokens = nlp(u'Politiker Wirtschaft Schwimmen Reiten Sportler')"
   ]
  },
  {
   "cell_type": "code",
   "execution_count": 32,
   "metadata": {},
   "outputs": [
    {
     "name": "stdout",
     "output_type": "stream",
     "text": [
      "Politiker Politiker 1.0\n",
      "Politiker Wirtschaft 0.45795187\n",
      "Politiker Schwimmen 0.21006526\n",
      "Politiker Reiten 0.2499989\n",
      "Politiker Sportler 0.0\n",
      "Wirtschaft Politiker 0.45795187\n",
      "Wirtschaft Wirtschaft 1.0\n",
      "Wirtschaft Schwimmen 0.19859794\n",
      "Wirtschaft Reiten 0.1757126\n",
      "Wirtschaft Sportler 0.0\n",
      "Schwimmen Politiker 0.21006526\n",
      "Schwimmen Wirtschaft 0.19859794\n",
      "Schwimmen Schwimmen 1.0\n",
      "Schwimmen Reiten 0.6161452\n",
      "Schwimmen Sportler 0.0\n",
      "Reiten Politiker 0.2499989\n",
      "Reiten Wirtschaft 0.1757126\n",
      "Reiten Schwimmen 0.6161452\n",
      "Reiten Reiten 1.0\n",
      "Reiten Sportler 0.0\n",
      "Sportler Politiker 0.0\n",
      "Sportler Wirtschaft 0.0\n",
      "Sportler Schwimmen 0.0\n",
      "Sportler Reiten 0.0\n",
      "Sportler Sportler 1.0\n"
     ]
    },
    {
     "name": "stderr",
     "output_type": "stream",
     "text": [
      "/usr/local/Cellar/python/3.7.4_1/Frameworks/Python.framework/Versions/3.7/lib/python3.7/runpy.py:193: UserWarning: [W008] Evaluating Token.similarity based on empty vectors.\n",
      "  \"__main__\", mod_spec)\n",
      "/usr/local/Cellar/python/3.7.4_1/Frameworks/Python.framework/Versions/3.7/lib/python3.7/runpy.py:193: UserWarning: [W008] Evaluating Token.similarity based on empty vectors.\n",
      "  \"__main__\", mod_spec)\n",
      "/usr/local/Cellar/python/3.7.4_1/Frameworks/Python.framework/Versions/3.7/lib/python3.7/runpy.py:193: UserWarning: [W008] Evaluating Token.similarity based on empty vectors.\n",
      "  \"__main__\", mod_spec)\n",
      "/usr/local/Cellar/python/3.7.4_1/Frameworks/Python.framework/Versions/3.7/lib/python3.7/runpy.py:193: UserWarning: [W008] Evaluating Token.similarity based on empty vectors.\n",
      "  \"__main__\", mod_spec)\n",
      "/usr/local/Cellar/python/3.7.4_1/Frameworks/Python.framework/Versions/3.7/lib/python3.7/runpy.py:193: UserWarning: [W008] Evaluating Token.similarity based on empty vectors.\n",
      "  \"__main__\", mod_spec)\n",
      "/usr/local/Cellar/python/3.7.4_1/Frameworks/Python.framework/Versions/3.7/lib/python3.7/runpy.py:193: UserWarning: [W008] Evaluating Token.similarity based on empty vectors.\n",
      "  \"__main__\", mod_spec)\n",
      "/usr/local/Cellar/python/3.7.4_1/Frameworks/Python.framework/Versions/3.7/lib/python3.7/runpy.py:193: UserWarning: [W008] Evaluating Token.similarity based on empty vectors.\n",
      "  \"__main__\", mod_spec)\n",
      "/usr/local/Cellar/python/3.7.4_1/Frameworks/Python.framework/Versions/3.7/lib/python3.7/runpy.py:193: UserWarning: [W008] Evaluating Token.similarity based on empty vectors.\n",
      "  \"__main__\", mod_spec)\n"
     ]
    }
   ],
   "source": [
    "for token1 in tokens:\n",
    "    for token2 in tokens:\n",
    "        print(token1.text, token2.text, token1.similarity(token2))"
   ]
  },
  {
   "cell_type": "markdown",
   "metadata": {},
   "source": [
    "## Es gibt die Möglichkeit \"präziser\" zu werden indem wir eigene sog. Word embeddings benutzen, die auf crawls von wikipedia basieren.\n",
    "- https://spacy.io/usage/vectors-similarity\n",
    "- https://fasttext.cc/docs/en/crawl-vectors.html\n",
    "- ```wget https://s3-us-west-1.amazonaws.com/fasttext-vectors/word-vectors-v2/cc.de.300.vec.gz```\n",
    "- ```python -m spacy \"$@\" init-model de /tmp/de_vectors_web_lg --vectors-loc cc.de.300.vec.gz```\n",
    "- Später dann als Nutzung:\n",
    "```\n",
    "nlp = spacy.load('de')\n",
    "spacy.load('/tmp/de_vectors_web_lg', vocab=nlp.vocab)\n",
    "nlp.to_disk('/tmp/de_model_with_vectors')\n",
    "```\n",
    "- Leider bekomme ich gerade einen CRC Error, dh. das File ist korrumpiert :("
   ]
  },
  {
   "cell_type": "markdown",
   "metadata": {},
   "source": [
    "## Anwendungsmöglichkeiten Dokumente vergleichen oder Sätze die sich ähneln?"
   ]
  },
  {
   "cell_type": "code",
   "execution_count": 19,
   "metadata": {},
   "outputs": [],
   "source": [
    "rede_alice = u'''Sehr geehrter Herr Präsident! Liebe Kolleginnen und Kollegen!\n",
    "\n",
    "Der Haushalt ist der Nerv des Staates. Daher muss er den profanen Augen des Untertanen entzogen werden.\n",
    "\n",
    "Diesen Satz, der Kardinal Richelieu zugeordnet wird, haben Sie sich offensichtlich seit Jahrzehnten auf die Fahnen geschrieben; denn pünktlich zur Vorstellung des Haushaltes beginnt das Tarnen und Täuschen. Statt dem Souverän, dem Bürger, reinen Wein einzuschenken, werden vollmundige Sonntagsreden gehalten. Und dabei fühlen Sie sich dem Schriftzug am Hohen Hause „DEM DEUTSCHEN VOLKE“ ohnehin nicht mehr verpflichtet. Das Volk wollen Sie sich nämlich selbst aussuchen und zusammenstellen.\n",
    "\n",
    "Sie reden von einer schwarzen Null – doch in Wahrheit sitzen die Steuerzahler auf einem gewaltigen Schuldenberg, den die künftigen Generationen erben werden. Dennoch binden uns die jeweiligen Finanzminister, wie gestern auch Olaf Scholz, Jahr für Jahr einen Bären auf. Wie das gelingt? Ganz einfach: Im Bundeshaushalt werden schlicht nicht alle Ausgabenposten aufgeführt. Denn: Wo ist zum Beispiel der EU-Etat zu finden? Richtig – gar nicht. Die rund 30 Milliarden Euro, die Deutschland nach Brüssel transferiert, werden im Budget verschwiegen. Nach dem Brexit wird der Posten sogar noch größer. Die Haftungen und Garantien für andere Euro-Staaten, Banken und die diversen Euro-Rettungsfonds sind gigantisch, ganz zu schweigen von den TARGET2-Salden, mit denen wir unsere Exporte nämlich selbst bezahlen.\n",
    "\n",
    "Auch ist nur ein Teil der tatsächlichen Schulden überhaupt veröffentlicht. Es ist nämlich die Schattenverschuldung, die Sie der jüngeren Generation wie einen Mühlenstein um den Hals gehängt haben. Der Ökonom Rafelhüschen hat in seiner Generationenbilanz nachgewiesen: Auf unglaubliche 7 Billionen Euro beläuft sich die Gesamtverschuldung, die Bund, Länder und Gemeinden angehäuft haben, zuzüglich der zukünftigen Zahlungen und Verpflichtungen aus dem gesetzlichen Sozialversicherungssystem und Ihrer stattlichen Pensionen. Ich stelle die Frage: Ist das eigentlich noch verantwortliches Haushalten?\n",
    "\n",
    "Sie reden von Verantwortung, doch in Wahrheit geben Sie das Königsrecht des Parlamentes, die Budgethoheit, schamlos aus der Hand. „No taxation without representation“ – keine Besteuerung ohne Zustimmung des Parlaments – ist Grundsatz einer jeden parlamentarischen Demokratie. Das Bundesverfassungsgericht hat ganz klar festgehalten: Als Repräsentanten des Volkes müssen die gewählten Abgeordneten des Deutschen Bundestages … die Kontrolle über grundlegende haushaltspolitische Entscheidungen behalten. Der Deutsche Bundestag darf seine Budgetverantwortung nicht durch unbestimmte haushaltspolitische Ermächtigungen auf andere Akteure übertragen. Sie haben aber dennoch den Rettungsschirmen, den dauerhaften automatisierten Finanzierungsmechanismen zugestimmt, und Sie bejubeln die Pläne von Präsident Emmanuel Macron – kein Widerspruch zum gigantischen Transfer von deutschem Steuergeld, kein Widerspruch zu einem EU-Finanzminister. Ganz im Gegenteil: Es scheint Ihnen nicht schnell genug zu gehen, Verantwortung nach Paris und Brüssel zu übertragen – und damit das Steuergeld, das Sie hier nie erarbeitet haben, sehr geehrte Damen und Herren.\n",
    "\n",
    "Unser Haushalt ist sozial gerecht, behaupten Sie tatsächlich. Deutschland hat eine der höchsten Einkommens- und Ausgabenbelastungen aller westlichen Staaten. Durch Ihre absurde Steuerpolitik sind vor allem die Verdiener mittlerer und kleiner Einkommen, vor allem die Familien belastet. Die Steuerzahler bluten zusätzlich mit dem Abschmelzen ihrer Ersparnisse für die Zinsersparnis, die sich der Staat über die Null- und Negativzinspolitik der EZB ermöglicht. Der Staat entschuldet sich also auf Kosten der Sparer und Steuerzahler.\n",
    "\n",
    "Und dann über die schwarze Null reden! Was ist daran gerecht, was ist daran sozial, sehr geehrte Damen und Herren? Es ist nichts anderes als Steuerzahlerausbeutung nach Gutsherrenart, was Sie hier praktizieren. Während die Infrastruktur dieses Landes zerfällt, der Staat seine Bürger nicht mehr schützen kann, fließen Abermilliarden in die Aufnahme und Alimentierung illegaler Einwanderer und in die Sozialsysteme.\n",
    "\n",
    "Es ist erschreckend: In spätestens 20 Jahren wird jeder fünfte Rentner auf die Grundsicherung angewiesen sein. Trotz eines harten Arbeitslebens haben heute unzählige Senioren kaum genug zum Leben. Zwei Beispiele aus Bochum: Zum einen Herbert W. Bis Mitte der 70er-Jahre hat er unter Tage gearbeitet, später bei Opel, hat viele Jahre ins deutsche Rentensystem eingezahlt, sammelt am Wochenende Flaschen vor dem Ruhrstadion, um seine kümmerliche Rente aufzubessern. Zum anderen Sami A. Er ging früher auch einer beschwerlichen Arbeit nach, er war Leibwächter von Osama Bin Laden, hat nie ins deutsche Sozialsystem eingezahlt, fährt am Wochenende gern mit seinem Moped ins Grüne, erhält vom Staat 1 200 Euro pro Monat, und das seit sage und schreibe zehn Jahren. Das ist aus meiner Sicht eine himmelschreiende Ungerechtigkeit, die Sie zu verantworten haben.\n",
    "\n",
    "Sie behaupten, der Haushalt sei zukunftsorientiert. Im Gegenteil: Sie verbauen die Chancen der zukünftigen Generationen. Das Fundament unseres Staates sind die Menschen, die hier leben und arbeiten. Es sind aber nicht nur die Menschen, die jetzt hier leben, sondern auch diejenigen, die in Zukunft hier leben werden. Ja, wir haben die Hauptverantwortung für die Menschen, die Familien, die schon länger hier leben, und diesen Menschen haben Sie zu dienen. Staatsaufgabe ist nämlich, das über Generationen aufgebaute Volksvermögen treuhänderisch zum Wohle des deutschen Volkes zu verwalten und es nicht mit vollen Händen zum Fenster rauszuschmeißen; denn Eigentümer sind die deutschen Bürger und nicht Sie, nicht die Regierung. Seit 1972 werden in Deutschland jedes Jahr weniger Kinder geboren, als Menschen sterben. Für die Überlebensfähigkeit eines leistungsfähigen Staates ist das ein Problem. Was haben Sie dagegen getan? Nichts, na ja, jedenfalls nichts Wirksames. Denn Sie setzen ausschließlich auf kompensatorische Einwanderung – das sagen Sie ja die ganze Zeit. Bei muslimischen Zuwanderern schaut die Geburtenrate nämlich ganz anders aus. Sogar die Aufettung der Einwohnerzahl durch zugewanderte Straftäter mit mehrfachen Identitäten scheint Sie überhaupt gar nicht zu stören. Doch ich kann Ihnen sagen: Burkas, Kopftuchmädchen, alimentierte Messermänner und sonstige Taugenichtse werden unseren Wohlstand, das Wirtschaftswachstum und vor allem den Sozialstaat nicht sichern. Dazu, Herr Kauder, bedarf es einer qualifizierten und keiner plan- und zügellosen, bildungsfernen Zuwanderung.\n",
    "\n",
    "Deutschland ist schon lange ein grenzenloses Einwanderungsland für Unqualifzierte und ein Auswanderungsland für Hochqualifzierte geworden. Und was tun Sie dagegen? Wer soll in Zukunft für die Renten aufkommen? Wer zahlt denn Ihre stattlichen Pensionen, auch Ihre, Herr Hofreiter, Sie Schreihals? Ihre eingewanderten Goldstücke etwa? Das glauben Sie doch wohl nicht im Ernst. Die Bürger scheinen Ihnen vollkommen egal zu sein. Sie wollen sich darauf beschränken, den Niedergang unseres Landes zu verwalten, teilweise haben wir den Eindruck, dass Sie ihn sogar befeuern. Aber das wird wohl Ihrem Wertekanon entsprechen. Wenn eine Bundestagsvizepräsidentin einem Transparent hinterherrennt, auf dem steht „Deutschland, du mieses Stück Scheiße“, und alle hier das mittragen, indem sie zur Bundestagsvizeprä- sidentin gewählt wird – ich spreche von Claudia Roth –, dann muss man sich über nichts mehr wundern hier in diesem Hohen Haus.\n",
    "\n",
    "Die AfD hingegen tritt für Verantwortung, Gerechtigkeit und für eine lebenswerte Zukunft ein. Deshalb fordern wir erstens einen schonungslosen Kassensturz. Alle Zahlen müssen endlich offen auf den Tisch gelegt werden.\n",
    "\n",
    "Zweitens. Wir fordern, den Sozialstaat endlich zu sichern und die Zukunft zu gestalten. Die Strategie des Generationenersatzes durch eine ungeregelte Zuwanderung, teilweise aus frauenverachtenden Stammeskulturen, hat sich als Holzweg erwiesen. Wohlstand kann nur gesichert werden, wenn in sichere Grenzen und in die kommenden Generationen investiert wird.\n",
    "\n",
    "Drittens. Wir wollen echte Steuergerechtigkeit. Mittel- und Geringverdiener müssen endlich ehrlich belastet werden. Dazu muss der Grundfreibetrag endlich angehoben werden. 2 000 Euro brutto im Monat steuerfrei, das wäre doch einmal visionär; denn es kann doch nicht sein, dass ein Facharbeiter bereits beim 1,3-Fachen des Durchschnittslohnes den Spitzensteuersatz zu zahlen hat. Ich kann Ihnen sagen: Es ist endlich Zeit für eine ehrliche Entlastung.\n",
    "\n",
    "Viertens. Keine weitere Aushöhlung der Souveränität. Die Hoheit über unseren Haushalt gehört nach Berlin und nicht nach Brüssel. In diesem Sinne schließe ich mit einem Zitat des früheren tschechischen Präsidenten Zeman, das Ihnen auch schon die ehrenwerte ehemalige CDU-Abgeordnete Erika Steinbach vorgetragen hat – ich zitiere –: Falls Sie in einem Land leben, in dem Sie für das Fischen ohne Angelschein bestraft werden, jedoch nicht für den illegalen Grenzübertritt ohne gültigen Reisepass, dann haben Sie das volle Recht, zu sagen, dieses Land wird von Idioten regiert.\n",
    "'''\n",
    "\n"
   ]
  },
  {
   "cell_type": "code",
   "execution_count": 22,
   "metadata": {},
   "outputs": [],
   "source": [
    "rede_bernd = u'''Björn Höcke: Liebe Freunde, liebe Mitstreiter innerhalb und außerhalb unserer Partei, liebe Patrioten von nah und fern, ich bin einfach nur überglücklich heute hier bei euch in Dresden... [unv., geht in Jubel unter]\n",
    "\n",
    "[Applaus, Jubel]\n",
    "\n",
    "Es ist mir schon lange Zeit ein Herzensanliegen, das tun zu dürfen. Ich bin der Jungen Alternative hier in Dresden hier dankbar dafür, dass sie die Einladung ausgesprochen hat, dass sie den Mut bewiesen hat, einen unbequemen Redner einzuladen...\n",
    "\n",
    "[Gelächter, Applaus]\n",
    "\n",
    "...Mut bewiesen hat, diese Veranstaltung, die ja wirklich eine große Veranstaltung ist, zu stemmen. Das zu leisten, das ist ein großer, schwieriger organisatorischer Akt, gerade wenn man gegen so viele Gegner zu kämpfen hat. Sie hat‘s getan. Lieber Herr Scholz [Anm.: Matthias Scholz, Vorsitzender der Jungen Alternative], herzlichen Dank für ihre Einladung, für die Einladung ihres Stadtverbandes... [unv., geht in Jubel unter]\n",
    "\n",
    "[Applaus]\n",
    "\n",
    "Wir haben eine großartige Rede gehört von Markus Mohr, Stadtrat in Aachen, der ein ganz wichtiges Thema hier ausgebreitet hat, das Thema der sozialen Frage. Dazu will ich heute nichts sagen. Ich will heute würdigen, ich will hier und da auch mahnen und ich will vor allen Dingen appellieren. Wir haben zwei potentielle Bundestagskandidaten gehört, denen ich von Herzen alles, alles Gute wünsche. Ich hoffe, lieber Herr Vogel [Anm.: Stefan Vogel, AfD-Stadtratsfraktion Dresden] lieber Herr Maier [Anm.: Jens Maier, Richter am Landgericht Dresden und Direktkandidat der AfD in Dresden] sie können hier reüssieren und können in den Bundestag einziehen. So aufrechte Patrioten können... [unv., geht in Jubel unter]\n",
    "\n",
    "[Applaus]\n",
    "\n",
    "Liebe Freunde, Dresden ist eine ganz besondere Stadt. Ich kann mich noch gut erinnern, wie hier im Oktober 2014 die Straßenproteste begonnen haben und ich kann mich noch sehr gut daran erinnern, wie ich mich kurze Zeit später mit einigen frisch gewählten Abgeordneten des Thüringer Landtages auf den Weg nach Dresden machte, und das [sic!] in Augenschein zu nehmen, was innerhalb von wenigen Wochen und Monaten eine weltweite Aufmerksamkeit erzwungen hatte.\n",
    "\n",
    "[Rufe: „Bravo!“, Applaus]\n",
    "\n",
    "Wir suchten den Beginn des Pegida-Spazierganges und wir fanden ihn nicht direkt, weil wir etwas ortsunkundig waren. Und ich kann mich noch gut erinnern, wie wir durch mehrere Gruppen von sogenannten Antifaschisten durch mussten…\n",
    "\n",
    "[Rufe: „Pfui!“]\n",
    "\n",
    "...damals, damals waren wir noch unbekannt, damals war ich noch unbekannt. Heute wäre das für mich wahrscheinlich eine lebensgefährliche Aktion.\n",
    "\n",
    "[Rufe: „Pfui!“, Gelächter]\n",
    "\n",
    "Sie können sich vorstellen wie froh ich war, als ich diese wilden Horden verlassen hatte und mit meiner kleinen Thüringer Gruppe dann endlich den Pegida-Spaziergang gefunden hatte.\n",
    "\n",
    "[einzelner Ruf: „Wir wollen dich montags sehen!“, längerer Applaus]\n",
    "\n",
    "Liebe Freunde, ihr dürft mir jetzt, wenn ich hier rede, nicht die Schamesröte ins Gesicht treiben.\n",
    "\n",
    "[Gelächter, Applaus]\n",
    "\n",
    "Wir gingen dann damals nach Dresden und haben uns die Lage vor Ort angeguckt, und was wir sahen bei den Spaziergängern, das waren keine verschrobenen Sonderlinge, das waren keine wirtschaftlich Abgehängten und das waren auch keine grölenden Nazis, die wir dort antrafen. Wir haben uns dann dem Spaziergang angeschlossen. Und während dieses Spaziergangs sind wir an kreischenden, verhetzten, von induziertem Irresein gekennzeichneten jugendlichen Wirrköpfen vorbeigekommen…\n",
    "\n",
    "[Jubel, Applaus]\n",
    "\n",
    "...und waren einfach nur erstaunt darüber, dass diese Spaziergänger trotz dieser unflätigen Provokation dieser Wirrköpfe, trotz einer staatsgefährdenden Politik der Altparteien zu Tausenden in so vornehmer und vorbildlicher Art und Weise ihre Bürgerrechte wahrnahmen.\n",
    "\n",
    "[Applaus]\n",
    "\n",
    "\"Ihr Sachsen seid das große, unerreichte Vorbild\"\n",
    "\n",
    "Weil wir Patrioten dasselbe Leiden in den Knochen haben und weil wir derselben Sache dienen, möchte ich es hier nochmal in aller Öffentlichkeit und aller Deutlichkeit aussprechen: Ich persönlich, liebe Freunde, ich persönlich bin stolz auf das, was ihr in Dresden erreicht habt. Ihr Sachsen, ihr Dresdner, seid für uns Thüringer und für uns Erfurter das große, unerreichte Vorbild!\n",
    "\n",
    "[längerer, stehender Jubel und Applaus]\n",
    "\n",
    "Protest gegen den Auftritt des AfD-Politikers Björn Höcke am Dienstagabend im Dresdner Ballhaus Watzke\n",
    "Protest gegen den Auftritt des AfD-Politikers Björn Höcke am Dienstagabend im Dresdner Ballhaus WatzkeFOTO: ZB\n",
    "Euch Dresdnern, euch Patrioten aus Sachsen gebührt das große Verdienst, und dieses große Verdienst nimmt euch niemand mehr. Es ist ein historisches Verdienst, den ersten Schritt getan zu haben. Den ersten Schritt, der notwendig war, der der Lage geschuldet war, in einer Bewegung, die eine inhaltliche Fundamentalopposition darstellt. Und dieser erste Schritt hin zur Tat ist gerade für uns Bürger doch so schwer, weil er sich, dieser Bürger – und so empfindet er es zumindest in seinem Innersten, und auch das habe ich immer wieder in vielen Gesprächen gespürt, die ich geführt habe in den letzten Monaten und Jahren – weil er sich im Innersten glaubt, gegen seinen Staat, gegen den Staat, den er doch maßgeblich trägt und den er grundsätzlich befürwortet, stellen muss.\n",
    "\n",
    "Der Philosoph Frank Lisson hat das mal vor kurzem sehr schön beschrieben und zwar aus der Sicht eines Westdeutschen, ich zitiere: „Wer hätte als Westdeutscher vor zwanzig, dreißig Jahren noch gedacht, selber einmal vor die Gewissensfrage der ehemaligen DDR-Bürger gestellt zu werden, die da lautet: Wie habe ich mich in einem Staat zu verhalten, dessen Regierung kapitale Rechtsbrüche begeht, die Verfassung mißachtet, sich willkürlich über geltende Gesetze erhebt und im Namen einer verhängnisvollen Ideologie verantwortungslose Politik gegen das eigene Volk betreibt?“ [Anm.: Auszug aus Lisson, Frank: „Fundamentalopposition“, in „Sezession“, Nr. 75, 2016]\n",
    "[Applaus]\n",
    "\n",
    "Diese Frage, die Frank Lisson, wie so viele Westdeutsche, gestellt hat – wir hier im Osten haben sie für uns endgültig und abschließend beantwortet, liebe Mitbürger.\n",
    "\n",
    "[Rufe: „Bravo!“, Applaus]\n",
    "\n",
    "Wir sagen ja! Wir sagen ja, nicht zur strukturellen Fundamentalopposition, weil wir diesen Staat ja wollen! Wir wollen ihn am Leben erhalten und wir wollen ihn stützen. Wir sagen aber ja zu einer inhaltlichen Fundamentalopposition um diesen Staat, den wir erhalten wollen, vor den verbrauchten politischen Alteliten zu schützen, die ihn nur missbrauchen um ihn abzuschaffen! Das werden wir nicht zulassen, liebe Freunde!\n",
    "\n",
    "[Applaus, Jubel]\n",
    "\n",
    "Dresden – und ich habe es eingangs betont und es ist meine tiefe und feste Überzeugung – Dresden ist die Hauptstadt der Mutbürger.\n",
    "\n",
    "[Applaus]\n",
    "\n",
    "Und wenn ich euren Verdienst anschaue und bewerte, den ihr euch erworben habt, und die Deutschland-abschaffende Politik der Altparteien, und wenn ich heute wieder in diesem Saal wie glaube ich noch niemals zuvor seit ich in einer Partei Politik mache eine reine, ehrliche bescheidende und tief begründete Vaterlandsliebe spüre, und wenn ich mir jetzt die desolate innere und äußere Lage der Bundeshauptstadt Berlin vor Augen führe, dann meine ich, eigentlich dürfte nicht Berlin, eigentlich müsste Dresden die deutsche Hauptstadt... [unv., geht in Applaus unter]'''"
   ]
  },
  {
   "cell_type": "code",
   "execution_count": 20,
   "metadata": {},
   "outputs": [],
   "source": [
    "rede_sarah = u'''Dr. Sahra Wagenknecht (DIE LINKE):\n",
    "\n",
    "Herr Präsident! Werte Kolleginnen und Kollegen! Frau Bundeskanzlerin, Sie werden hier gleich ans Mikrofon treten und wieder ausgiebig Ihre Politik loben.\n",
    "\n",
    "(Unruhe bei der CDU/CSU)\n",
    "\n",
    "Aber wenn man sich die derzeitige Politik und die derzeitige Situation in Deutschland, in Europa und in der Welt ansieht und wenn man vor allen Dingen Ihre ganz persönliche Mitverantwortung für diese Situation in Rechnung stellt, dann fragt man sich schon, wie Sie darauf auch noch stolz sein können.\n",
    "\n",
    "(Beifall bei der LINKEN)\n",
    "\n",
    "Ja, wir leben in einem reichen Land, das gute Autos und international gefragte Maschinen produziert. Aber es ist ein zutiefst gespaltenes Land. Es ist ein Land, in dem selbst fleißige Arbeit nicht mehr vor Armut schützt und in dem inzwischen die Auswahl des Elternhauses wichtiger geworden ist als die Auswahl des Berufs. Es ist ein Land, in dem kaum noch investiert wird, in dem Straßen und Brücken verrotten, in dem viele Kinder in verwahrlosten Wohngebieten aufwachsen,\n",
    "\n",
    "(Norbert Barthle (CDU/CSU): Sprechen Sie jetzt von Afrika?)\n",
    "\n",
    "in dem ihnen elementare Bildung vorenthalten wird.\n",
    "\n",
    "(Michael Grosse-Brömer (CDU/CSU): Um Gottes willen! Wo leben Sie eigentlich?)\n",
    "\n",
    "Was tun Sie, Frau Bundeskanzlerin? Statt Problemlösungen liefern Sie Taschenspielertricks, statt solider Finanzierungen liefern Sie kreative Buchführung, und statt wirtschaftspolitischer Rationalität liefern Sie okkulte Opferrituale vor Ihrer neuen Göttin, der schwarzen Null, die Ihnen trotz aller Beschwörungsformeln im nächsten Jahr wieder nicht erscheinen wird.\n",
    "\n",
    "(Beifall bei der LINKEN - Unruhe bei der CDU/CSU)\n",
    "\n",
    "Solide öffentliche Finanzen gibt es eben nicht ohne eine dynamische Wirtschaft. Es gibt sie nicht ohne Konsumenten, die genug Geld in der Tasche haben, um sich ein gutes Leben leisten zu können, und es gibt sie auch nicht ohne Unternehmen, die genau wegen dieser Nachfrage Anreize haben, zu investieren, statt ihr Geld zu bunkern oder ihre Aktionäre mit immer neuen Rekorddividenden glücklich zu machen. Es gibt solide öffentliche Finanzen auch nicht, wenn gerade die reichsten Familien und die größten Konzerne kaum noch einen müden Euro zur Finanzierung des Gemeinwesens beitragen und der Staat dabei wegschaut.\n",
    "\n",
    "Und deswegen ist für mich die schwarze Null eigentlich ein Ausdruck einer Null-Kompetenz in der Wirtschaftspolitik.\n",
    "\n",
    "Das ist das Urteil des Wirtschaftsweisen Peter Bofinger über Ihre Politik, Frau Kanzlerin. Vielleicht erinnern Sie sich auch noch, was Sie im August im schönen Lindau am Bodensee von den Wirtschaftsnobelpreisträgern zu hören bekommen haben. Ich gebe eine kleine Kostprobe:\n",
    "\n",
    "Merkel verfolgt ... eine völlig falsche Politik.\n",
    "\n",
    "Merkel scheint den Ernst der Lage nicht kapiert zu haben.\n",
    "\n",
    "Merkels Rede sei eine einzige Katastrophe gewesen. Wohlgemerkt: Das ist kein Mitschnitt aus einer Mitgliederversammlung der Linken. Das waren die Urteile international renommierter Wirtschaftsnobelpreisträger über Ihre Politik, Frau Merkel. Wenn Sie vielleicht einmal zuhören könnten, vielleicht würde Ihnen das zu denken geben;\n",
    "\n",
    "(Beifall bei der LINKEN)\n",
    "\n",
    "aber offensichtlich interessiert Sie das überhaupt nicht.\n",
    "\n",
    "Weggucken, wegducken, wegreden ‑ das ist Ihr Dreiklang im Umgang mit den Gefahren und Problemen der Gegenwart.\n",
    "\n",
    "(Michael Grosse-Brömer (CDU/CSU): Das sieht die ganze Welt anders!)\n",
    "\n",
    "Aber die Gefahren sind einfach zu groß und die Probleme zu ernst, als dass wir so weiter mit ihnen umgehen könnten. Die deutsche Wirtschaft stagniert. Alle Prognosen für das nächste Jahr mussten nach unten korrigiert werden.\n",
    "\n",
    "Aus konjunkturellen wie aus prinzipiellen Gründen braucht dieses Land endlich mehr Investitionen. Sie haben nun lauthals ein Investitionsprogramm angekündigt. Aber was sieht man, wenn man in das Kleingedruckte schaut? Dann sieht man, dass nach Ihren eigenen Planungen der Anteil der Investitionsausgaben des Bundes weiter sinken soll, nämlich von aktuell 10,1 Prozent auf nur noch 8,3 Prozent im Jahr 2018. So viel wirtschaftspolitische Ignoranz kann einem wirklich die Sprache verschlagen.\n",
    "\n",
    "(Beifall bei der LINKEN ‑ Norbert Barthle (CDU/CSU): War das ein Versprechen? ‑ Gunther Krichbaum (CDU/CSU): Das wäre schön! Wir wollen Gysi!)\n",
    "\n",
    "‑ Sie können sich ruhig aufregen. Es wäre aber besser, wenn Sie sich nicht nur aufregen würden, sondern auch Konsequenzen ziehen würden.\n",
    "\n",
    "(Beifall bei der LINKEN)\n",
    "\n",
    "Es geht nicht nur um Straßen, es geht auch nicht nur um Brücken, es geht auch um Zukunftstechnologien und Innovationen. Wer meint, dafür wird schon der Markt sorgen, der sollte sich einmal fragen, warum sich eigentlich alle wichtigen digitalen Technologien heutzutage in der Hand von US-Unternehmen befinden, die Möglichkeit zur globalen Überwachung inklusive. Nicht, weil der Markt jenseits des Atlantiks so viel besser funktioniert, sondern weil sich der Staat das zumindest früher ziemlich viel hat kosten lassen. Fast die gesamte Technologie, die heute in einem iPhone steckt, ist doch nicht in Steve Jobs Garage entwickelt worden. Die ist in staatlichen Forschungszentren entwickelt worden. Wer glaubt, dass ein fundamentaler technologischer Umbruch wie die Energiewende möglich wäre ohne massive öffentliche Investitionen in die Erforschung und Umsetzung alternativer Technologien, der hat wirklich nichts verstanden.\n",
    "\n",
    "(Beifall bei der LINKEN - Michael Grosse-Brömer (CDU/CSU): Sie hatten doch nur Robotron! Die größten Chips der Welt!)\n",
    "\n",
    "Aber statt über solche Fragen auch nur nachzudenken, verhandelt diese Regierung lieber über Investorenschutz. Genau genommen verhandelt sie nicht, sondern der Wirtschaftsminister führt einen unglaublichen Eiertanz auf, um der Öffentlichkeit Sand in die Augen zu streuen. Ich rede von den geplanten Freihandelsabkommen CETA und TTIP,\n",
    "\n",
    "(Michael Grosse-Brömer (CDU/CSU): Eine große Chance! Die müssen wir schnell umsetzen!)\n",
    "\n",
    "und ich rede von den Sondergerichten für große Konzerne, mittels derer diese Konzerne den deutschen Staat in Zukunft für jede Mindestlohnerhöhung und für jedes Umweltschutzgesetz vor den Kadi ziehen können.\n",
    "\n",
    "(Lachen bei Abgeordneten der CDU/CSU)\n",
    "\n",
    "Aber offensichtlich hat Herr Gabriel in seiner politischen Laufbahn nicht mehr vor, den Mindestlohn zu erhöhen oder die Umwelt zu schützen. Zumindest habe ich vernommen, dass er der Öffentlichkeit mitgeteilt hat, diese Sondergerichte ließen sich - leider, leider - nicht mehr aus dem Abkommen CETA herausverhandeln. Ja, Herr Gabriel, wenn sich diese Sondergerichte nicht mehr herausverhandeln lassen, dann muss Deutschland diese Abkommen eben ablehnen. Dann muss man CETA ablehnen, und das Gleiche gilt auch für TTIP.\n",
    "\n",
    "(Beifall bei der LINKEN sowie bei Abgeordneten des BÜNDNISSES 90/DIE GRÜNEN)\n",
    "\n",
    "Beide Abkommen haben doch im Kern nur das Ziel, Löhne, Sozialstandards und Verbraucherschutz noch weiter auf Sinkflug zu schicken und den Kapitalismus endgültig vor den Zumutungen der Demokratie zu schützen; das ist doch das, worum es bei diesen Abkommen geht. Das ist das Letzte, was wir brauchen. Denn dann kann man auf Wahlen und Parlamentarismus konsequenterweise auch ganz verzichten. Wenn wir hier im Bundestag keine Gesetze mehr machen können, die den Banken und Konzernen nicht gefallen, dann verkommt das, was wir hier tun, wirklich zu einer schlichten Theatervorstellung. Da muss ich Ihnen sagen: Für ein Theater ist dieses Haus wirklich zu teuer und am Ende vielleicht auch zu wenig unterhaltsam.\n",
    "\n",
    "(Beifall bei der LINKEN)\n",
    "\n",
    "Der bekannte Ordoliberale Alexander Rüstow - vielleicht gibt es bei Ihnen noch den einen oder anderen, der ihn kennt - hat bereits vor einem halben Jahrhundert gewarnt, dass - ich zitiere -\n",
    "\n",
    "der Staat, der damit anfängt, die Raubtiere der organisierten Unternehmerinteressen zu füttern, letzten Endes von ihnen verschlungen wird.\n",
    "\n",
    "Gerade deshalb haben die Ordoliberalen ja immer wieder davor gewarnt, Unternehmen oder auch Banken so groß oder so mächtig werden zu lassen, dass sie die Allgemeinheit erpressen oder ihr schlicht auf der Nase herumtanzen können. Es war ihre zentrale Botschaft, dass das verhindert werden muss.\n",
    "\n",
    "Versagt der Staat auf diesem Felde, dann ist es bald um die soziale Marktwirtschaft geschehen, war Ludwig Erhards knappe Prognose zu diesem Thema. Gerade Sie von der CDU/CSU, die Sie sich so gern auf Ludwig Erhard berufen, sollten zugeben, dass er recht behalten hat. Der Staat hat auf diesem Feld versagt. Deswegen ist es um die soziale Marktwirtschaft geschehen. Wir haben nämlich keine mehr.\n",
    "\n",
    "(Beifall bei der LINKEN)\n",
    "\n",
    "Auch in Brisbane haben Sie, Frau Merkel, und auch die anderen Regierungschefs wieder auf vielen wichtigen Feldern vor den Raubtieren kapituliert: bei der Finanzmarktregulierung, beim Klimaschutz und natürlich auch bei der Bekämpfung der Steuerflucht von Konzernen. Es ist einem schon aufgefallen, wie eilig sich diese Regierung, als die Enthüllungen über die Steuersparmodelle in Luxemburg in der Presse waren, bemüht hat, zur Tagesordnung überzugehen. Nun nehme ich Ihnen ja ab, dass Sie über die Enthüllungen nicht besonders verblüfft waren. Auch ich war nicht besonders verblüfft. Es ist lange bekannt, dass es solche Steuersparmodelle gibt, und zwar nicht nur in Luxemburg, sondern auch in vielen anderen EU-Staaten. Es ist auch bekannt, dass dem deutschen Staat - dem Bund, den Ländern und auch den Kommunen - schätzungsweise 100 Milliarden Euro im Jahr entgehen, weil es solche Modelle gibt. 100 Milliarden Euro!\n",
    "\n",
    "Die Unternehmen gehen sogar ganz offen damit um, dass sie das praktizieren. Die Deutsche Bank zum Beispiel lobt sich in ihrem Geschäftsbericht ausdrücklich dafür, dass sie durch eine, wie es vornehm heißt, vorteilhafte geografische Verteilung ihres Konzernergebnisses ihre Steuerzahlungen minimiert, sprich die Öffentlichkeit kräftig geschädigt hat. Ich finde, das muss man sich einmal auf der Zunge zergehen lassen: Eine Bank, die es ohne die Milliardenzahlungen der Steuerzahlerinnen und Steuerzahler überhaupt nicht mehr gäbe, die bankrott gewesen wäre, ist auch noch stolz darauf, dass sie solche Modelle nutzt und dadurch die Öffentlichkeit in Milliardenhöhe schädigt. Natürlich ist das kriminell.'''"
   ]
  },
  {
   "cell_type": "code",
   "execution_count": 23,
   "metadata": {},
   "outputs": [],
   "source": [
    "doc1 = nlp(rede_alice)\n",
    "doc2 = nlp(rede_bernd)\n",
    "doc3 = nlp(rede_sarah)"
   ]
  },
  {
   "cell_type": "code",
   "execution_count": 24,
   "metadata": {},
   "outputs": [
    {
     "data": {
      "text/plain": [
       "0.9841254427182252"
      ]
     },
     "execution_count": 24,
     "metadata": {},
     "output_type": "execute_result"
    }
   ],
   "source": [
    "doc1.similarity(doc2)"
   ]
  },
  {
   "cell_type": "code",
   "execution_count": 25,
   "metadata": {},
   "outputs": [
    {
     "data": {
      "text/plain": [
       "0.9953351218662165"
      ]
     },
     "execution_count": 25,
     "metadata": {},
     "output_type": "execute_result"
    }
   ],
   "source": [
    "doc1.similarity(doc3)"
   ]
  },
  {
   "cell_type": "code",
   "execution_count": 26,
   "metadata": {},
   "outputs": [
    {
     "data": {
      "text/plain": [
       "0.9902867639336066"
      ]
     },
     "execution_count": 26,
     "metadata": {},
     "output_type": "execute_result"
    }
   ],
   "source": [
    "doc2.similarity(doc3)"
   ]
  },
  {
   "cell_type": "markdown",
   "metadata": {},
   "source": [
    "- Anscheinend ähneln sich die Reden mehr als man denkt..."
   ]
  },
  {
   "cell_type": "code",
   "execution_count": 40,
   "metadata": {},
   "outputs": [],
   "source": [
    "import warnings\n",
    "warnings.filterwarnings('ignore')"
   ]
  },
  {
   "cell_type": "code",
   "execution_count": 41,
   "metadata": {},
   "outputs": [],
   "source": [
    "doc1_sentences = list(doc1.sents)\n",
    "doc2_sentences = list(doc2.sents)"
   ]
  },
  {
   "cell_type": "code",
   "execution_count": 42,
   "metadata": {},
   "outputs": [],
   "source": [
    "max = 0\n",
    "top = \"\"\n",
    "for s1 in doc1_sentences:\n",
    "    for s2 in doc2_sentences:\n",
    "        if s1.similarity(s2) > max:\n",
    "            top = [s1,s2]\n",
    "            max = s1.similarity(s2)"
   ]
  },
  {
   "cell_type": "code",
   "execution_count": 43,
   "metadata": {},
   "outputs": [
    {
     "data": {
      "text/plain": [
       "1.0"
      ]
     },
     "execution_count": 43,
     "metadata": {},
     "output_type": "execute_result"
    }
   ],
   "source": [
    "max"
   ]
  },
  {
   "cell_type": "code",
   "execution_count": 44,
   "metadata": {},
   "outputs": [
    {
     "data": {
      "text/plain": [
       "[Liebe, Liebe]"
      ]
     },
     "execution_count": 44,
     "metadata": {},
     "output_type": "execute_result"
    }
   ],
   "source": [
    "top"
   ]
  },
  {
   "cell_type": "code",
   "execution_count": 48,
   "metadata": {},
   "outputs": [],
   "source": [
    "max = 0\n",
    "top = \"\"\n",
    "for s1 in doc1_sentences:\n",
    "    for s2 in doc1_sentences:\n",
    "        if s1.similarity(s2) < 1:\n",
    "            if s1.similarity(s2) > max:\n",
    "                top = [s1,s2]\n",
    "                max = s1.similarity(s2)"
   ]
  },
  {
   "cell_type": "code",
   "execution_count": 49,
   "metadata": {},
   "outputs": [
    {
     "data": {
      "text/plain": [
       "0.96981686"
      ]
     },
     "execution_count": 49,
     "metadata": {},
     "output_type": "execute_result"
    }
   ],
   "source": [
    "max"
   ]
  },
  {
   "cell_type": "code",
   "execution_count": 50,
   "metadata": {},
   "outputs": [
    {
     "data": {
      "text/plain": [
       "[Wenn eine Bundestagsvizepräsidentin einem Transparent hinterherrennt, auf dem steht „Deutschland, du mieses Stück Scheiße“, und alle hier das mittragen, indem sie zur Bundestagsvizeprä- sidentin gewählt wird – ich spreche von Claudia Roth –, dann muss man sich über nichts mehr wundern hier in diesem Hohen Haus.\n",
       " ,\n",
       " In diesem Sinne schließe ich mit einem Zitat des früheren tschechischen Präsidenten Zeman, das Ihnen auch schon die ehrenwerte ehemalige CDU-Abgeordnete Erika Steinbach vorgetragen hat – ich zitiere –: Falls Sie in einem Land leben, in dem Sie für das Fischen ohne Angelschein bestraft werden, jedoch nicht für den illegalen Grenzübertritt ohne gültigen Reisepass, dann haben Sie das volle Recht, zu sagen, dieses Land wird von Idioten regiert.]"
      ]
     },
     "execution_count": 50,
     "metadata": {},
     "output_type": "execute_result"
    }
   ],
   "source": [
    "top"
   ]
  },
  {
   "cell_type": "markdown",
   "metadata": {},
   "source": [
    "- Interessant :)\n",
    "\n",
    "Klar, für was das brauchen kann, ist mir – und auch anderen Kolleginnen und Kollegen im Kurs – nicht ganz klar. "
   ]
  },
  {
   "cell_type": "code",
   "execution_count": null,
   "metadata": {},
   "outputs": [],
   "source": []
  }
 ],
 "metadata": {
  "kernelspec": {
   "display_name": "Python 3",
   "language": "python",
   "name": "python3"
  },
  "language_info": {
   "codemirror_mode": {
    "name": "ipython",
    "version": 3
   },
   "file_extension": ".py",
   "mimetype": "text/x-python",
   "name": "python",
   "nbconvert_exporter": "python",
   "pygments_lexer": "ipython3",
   "version": "3.7.4"
  }
 },
 "nbformat": 4,
 "nbformat_minor": 2
}
