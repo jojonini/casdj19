{
 "cells": [
  {
   "cell_type": "markdown",
   "metadata": {},
   "source": [
    "# Named Entities Recognition with NLTK\n",
    "- Named entities sind Orte, Firmen, Organisationen, Länder, etc.. alles Eigennamen. \n",
    "- Oft sind diese Eigennamen relativ wichtig im Text. "
   ]
  },
  {
   "cell_type": "code",
   "execution_count": 8,
   "metadata": {},
   "outputs": [
    {
     "name": "stderr",
     "output_type": "stream",
     "text": [
      "[nltk_data] Downloading package averaged_perceptron_tagger to\n",
      "[nltk_data]     /Users/master/nltk_data...\n",
      "[nltk_data]   Package averaged_perceptron_tagger is already up-to-\n",
      "[nltk_data]       date!\n",
      "[nltk_data] Downloading package maxent_ne_chunker to\n",
      "[nltk_data]     /Users/master/nltk_data...\n",
      "[nltk_data]   Unzipping chunkers/maxent_ne_chunker.zip.\n",
      "[nltk_data] Downloading package words to /Users/master/nltk_data...\n",
      "[nltk_data]   Unzipping corpora/words.zip.\n"
     ]
    },
    {
     "data": {
      "text/plain": [
       "True"
      ]
     },
     "execution_count": 8,
     "metadata": {},
     "output_type": "execute_result"
    }
   ],
   "source": [
    "import nltk\n",
    "nltk.download('averaged_perceptron_tagger')\n",
    "nltk.download('maxent_ne_chunker')\n",
    "nltk.download('words')"
   ]
  },
  {
   "cell_type": "markdown",
   "metadata": {},
   "source": [
    "https://www.nltk.org/book/ch07.html"
   ]
  },
  {
   "cell_type": "code",
   "execution_count": 9,
   "metadata": {
    "scrolled": true
   },
   "outputs": [
    {
     "data": {
      "text/plain": [
       "[('John', 'NNP'),\n",
       " ('Smith', 'NNP'),\n",
       " ('is', 'VBZ'),\n",
       " ('from', 'IN'),\n",
       " ('the', 'DT'),\n",
       " ('United', 'NNP'),\n",
       " ('States', 'NNPS'),\n",
       " ('of', 'IN'),\n",
       " ('America', 'NNP'),\n",
       " ('and', 'CC'),\n",
       " ('works', 'VBZ'),\n",
       " ('at', 'IN'),\n",
       " ('Microsoft', 'NNP'),\n",
       " ('Research', 'NNP'),\n",
       " ('Labs', 'NNP')]"
      ]
     },
     "execution_count": 9,
     "metadata": {},
     "output_type": "execute_result"
    }
   ],
   "source": [
    "nltk.pos_tag(nltk.word_tokenize(\"John Smith is from the United States of America and works at Microsoft Research Labs\"))"
   ]
  },
  {
   "cell_type": "code",
   "execution_count": 10,
   "metadata": {},
   "outputs": [
    {
     "name": "stdout",
     "output_type": "stream",
     "text": [
      "(S\n",
      "  (PERSON John/NNP)\n",
      "  (PERSON Smith/NNP)\n",
      "  is/VBZ\n",
      "  from/IN\n",
      "  the/DT\n",
      "  (GPE United/NNP States/NNPS)\n",
      "  of/IN\n",
      "  (GPE America/NNP)\n",
      "  and/CC\n",
      "  works/VBZ\n",
      "  at/IN\n",
      "  (ORGANIZATION Microsoft/NNP Research/NNP Labs/NNP))\n"
     ]
    }
   ],
   "source": [
    "print(nltk.ne_chunk(nltk.pos_tag(nltk.word_tokenize(\"John Smith is from the United States of America and works at Microsoft Research Labs\"))))"
   ]
  },
  {
   "cell_type": "code",
   "execution_count": 11,
   "metadata": {},
   "outputs": [
    {
     "name": "stdout",
     "output_type": "stream",
     "text": [
      "(S\n",
      "  (PERSON Johan/NNP)\n",
      "  (PERSON Meier/NNP)\n",
      "  kommt/NNP\n",
      "  aus/NN\n",
      "  (GPE Deutschland/NNP)\n",
      "  und/NN\n",
      "  arbeitet/NN\n",
      "  bei/NN\n",
      "  der/NN\n",
      "  (ORGANIZATION Forschungsabteilung/NNP)\n",
      "  von/NNP\n",
      "  Microsoft/NNP)\n"
     ]
    }
   ],
   "source": [
    "print(nltk.ne_chunk(nltk.pos_tag(nltk.word_tokenize(\"Johan Meier kommt aus Deutschland und arbeitet bei der Forschungsabteilung von Microsoft\"))))"
   ]
  },
  {
   "cell_type": "markdown",
   "metadata": {},
   "source": [
    "# Named Entities Recognition as a Service\n",
    "- Extrahieren von wichtigen sog. Named entities (cities, persons, etc..)\n",
    "- http://www.opencalais.com/opencalais-api/\n",
    "- http://www.opencalais.com/wp-content/uploads/folder/ThomsonReutersOpenCalaisAPIUserGuideR12_1.pdf\n",
    "- Super praktisch wenn man sehr viele Dokumente hat und aggregiert sehen möchte worüber gesprochen wird...."
   ]
  },
  {
   "cell_type": "markdown",
   "metadata": {},
   "source": [
    "```pip install httplib2```"
   ]
  },
  {
   "cell_type": "markdown",
   "metadata": {},
   "source": [
    "### Aufgabe\n",
    "Holt euch den text von http://www.spiegel.de/politik/ausland/brexit-das-endspiel-hat-begonnen-a-1238299.html mit dem readability tool."
   ]
  },
  {
   "cell_type": "code",
   "execution_count": 12,
   "metadata": {},
   "outputs": [],
   "source": [
    "text = '''Schon kurz nach Amtsantritt zeigte William Barr seine Marschrichtung auf. Der Justizminister liess eine irreführende Zusammenfassung des Mueller-Reports veröffentlichen und sprach den Präsidenten eigenmächtig frei von der Anklage, das Gesetz behindert zu haben.\n",
    "Wenig später beklagte er sich vor dem Senat, gegen den Präsidenten sei «spioniert» worden. Dann setzte er einen eigenen Sonderermittler ein, der diese «Spionage» untersuchen soll, obwohl ein Inspector General diesen Vorwurf bereits entkräftet hatte.\n",
    "Um ganz sicher zu sein, reiste Barr höchstpersönlich nach London und Rom, um Zeugen für die «Spionage» aufzutreiben, allerdings ohne Erfolg.\n",
    "Attorney General William Barr smiles at President Donald Trump as he signs an executive order during the International Association of Chiefs of Police Annual Conference and Exposition, at the McCormick Place Convention Center Chicago, Monday, Oct. 28, 2019, in Chicago. (AP Photo/Evan Vucci) Donald Trump,WIlliam Barr\n",
    "Mehr als nur Diener seines Herrn: William Barr und Donald Trump. Bild: AP\n",
    "\n",
    "Der Verdacht liegt nahe, dass Barr ein opportunistischer Hack sei, ein willfähriger Diener seines Herrn. Der Eindruck trügt. Der Justizminister ist ein Überzeugungstäter, der sich in einem Krieg gegen Sozialisten und Progressive wähnt. Das hat er am vergangenen Freitag in einer Rede vor der Federalist Society klar gemacht. Die Federalist Society ist ein Netzwerk von konservativen Juristen, das in der Reagan-Ära gegründet wurde.\n",
    "Barr ist ein gelehriger Schüler von Edwin Meese III. Dieser war Justizminister in der Reagan-Regierung. Einer breiten Öffentlichkeit bekannt wurde er als lächerlicher Pornografie-Jäger und Teilnehmer dubioser Finanzgeschäfte. Unter Juristen machte Meese sich einen Namen als Vertreter des «Originalismus», einer Rechtslehre, die sich auf die wörtliche Auslegung der Verfassung der Gründerväter beruft.\n",
    "epa07906393 US President Donald J. Trump presents the Presidential Medal of Freedom to Edwin Meese at the White House in Washington, DC, USA, 08 October 2019. Meese, 87, served as the Attorney General during the Reagan administration. EPA/Chris Kleponis / POOL\n",
    "Vom Präsidenten mit der Freiheitsmedaille geehrt: Der ehemalige Justizminister Edwin Meese III. Bild: EPA\n",
    "\n",
    "In seiner Rede beruft sich Barr ausdrücklich auf diese Doktrin. «Für die Zukunft unserer Nation ist es von entscheidender Bedeutung, dass wir die volle Kraft der Prinzipien der Gründerväter wiederherstellen», führte Barr aus. «Vor allem geht es um die Vision einer starken und unabhängigen Exekutive, die vom gesamten Volk gewählt wird.»\n",
    "Mehr zu Donald Trump:\n",
    "\n",
    "    Die perversen Folgen von Trumps Steuergeschenken\n",
    "    Alles, was du zu Trumps neuesten Twitter-Attacken auf Zeugen wissen musst\n",
    "    Trumps zweiter tödlicher Telefonanruf\n",
    "    Das «Who is who» des Impeachment: Diese Zeugen treten in den Hearings auf\n",
    "\n",
    "Die Originalisten stellen die Gewaltenteilung zwischen Regierung, Parlament und Justiz in Frage und berufen sich dabei auf die Gründerväter, allerdings mit dubiosen Beweisen.\n",
    "Justizminister Meese hat diese Doktrin in einer Zeit propagiert, in der sein Präsident unter massivem Druck stand. Reagans dubioser Iran-Contra-Deal wurde vom Parlament kritisch unter die Lupe genommen, seine eigenmächtige Politik der Deregulierung heftig kritisiert.\n",
    "Ed Meese scharte in dieser Zeit junge konservative Juristen um sich. Diese Truppe verstand sich als eine Art juristischer Prätorianergarde des Präsidenten. William Barr war einer von ihnen. Als Justizminister will er diese Tradition fortsetzen. «Ich bin stolz, unter Trump als Justizminister zu dienen», erklärte er. «Er führt diese Tradition weiter.»\n",
    "Für die Originalisten ist die Macht des Präsidenten uneingeschränkt. Nur so kann er die Gesellschaft vor dem drohenden Unheil bewahren. Die Kontrolle durch den Kongress ist in den Augen Barrs eine «konstante Belästigung» des Präsidenten mit dem Ziel, die Fundamente der Gesellschaft zu untergraben. '''"
   ]
  },
  {
   "cell_type": "code",
   "execution_count": 13,
   "metadata": {},
   "outputs": [],
   "source": [
    "import httplib2\n",
    "import json\n",
    "LOCAL_API_KEY = 's8kVFJoL3LFkMtPfBJKrJAF8BgJ7g85E' # Aquire this by registering at the Calais site\n",
    "CALAIS_TAG_API = 'https://api.thomsonreuters.com/permid/calais'\n",
    "headers = {\n",
    "    'X-AG-Access-Token': LOCAL_API_KEY,\n",
    "    'content-type': 'text/raw',\n",
    "    'outputformat': 'application/json'\n",
    "}\n",
    "http = httplib2.Http()\n",
    "response, content = http.request(CALAIS_TAG_API, 'POST', headers=headers, body=text)\n",
    "jcontent = json.loads(content.decode(\"utf-8\")) # Parse the json return into a python dict"
   ]
  },
  {
   "cell_type": "code",
   "execution_count": 14,
   "metadata": {},
   "outputs": [
    {
     "data": {
      "text/plain": [
       "{'contentType': 'text/raw',\n",
       " 'processingVer': 'AllMetadata',\n",
       " 'serverVersion': '12.9.216:216',\n",
       " 'submissionDate': '2019-11-19 13:24:46.663',\n",
       " 'truncatedTextLength': '3955',\n",
       " 'submitterCode': '0ca6a864-5659-789d-5f32-f365f695e757',\n",
       " 'signature': 'digestalg-1|Vzobd6S1lv5H4bOLhGTb8WbUrHk=|BuRIy0tWhJkeia5yUw91WlIGLeUnKer42Z8gF6WFcs48mHUpgZRjxQ==',\n",
       " 'language': 'German'}"
      ]
     },
     "execution_count": 14,
     "metadata": {},
     "output_type": "execute_result"
    }
   ],
   "source": [
    "jcontent[\"doc\"][\"meta\"]"
   ]
  },
  {
   "cell_type": "code",
   "execution_count": 15,
   "metadata": {},
   "outputs": [
    {
     "ename": "AttributeError",
     "evalue": "'dict' object has no attribute 'iteritems'",
     "output_type": "error",
     "traceback": [
      "\u001b[0;31m---------------------------------------------------------------------------\u001b[0m",
      "\u001b[0;31mAttributeError\u001b[0m                            Traceback (most recent call last)",
      "\u001b[0;32m<ipython-input-15-60a55ea64710>\u001b[0m in \u001b[0;36m<module>\u001b[0;34m\u001b[0m\n\u001b[0;32m----> 1\u001b[0;31m \u001b[0;32mfor\u001b[0m \u001b[0;34m(\u001b[0m\u001b[0mk\u001b[0m\u001b[0;34m,\u001b[0m\u001b[0mv\u001b[0m\u001b[0;34m)\u001b[0m \u001b[0;32min\u001b[0m \u001b[0mjcontent\u001b[0m\u001b[0;34m.\u001b[0m\u001b[0miteritems\u001b[0m\u001b[0;34m(\u001b[0m\u001b[0;34m)\u001b[0m\u001b[0;34m:\u001b[0m\u001b[0;34m\u001b[0m\u001b[0;34m\u001b[0m\u001b[0m\n\u001b[0m\u001b[1;32m      2\u001b[0m     \u001b[0;32mtry\u001b[0m\u001b[0;34m:\u001b[0m\u001b[0;34m\u001b[0m\u001b[0;34m\u001b[0m\u001b[0m\n\u001b[1;32m      3\u001b[0m         \u001b[0mprint\u001b[0m\u001b[0;34m(\u001b[0m\u001b[0;34m\"Key: %s Type: %s Name: %s\"\u001b[0m \u001b[0;34m%\u001b[0m \u001b[0;34m(\u001b[0m\u001b[0mk\u001b[0m\u001b[0;34m,\u001b[0m\u001b[0mv\u001b[0m\u001b[0;34m[\u001b[0m\u001b[0;34m\"name\"\u001b[0m\u001b[0;34m]\u001b[0m\u001b[0;34m,\u001b[0m\u001b[0mv\u001b[0m\u001b[0;34m[\u001b[0m\u001b[0;34m\"_type\"\u001b[0m\u001b[0;34m]\u001b[0m\u001b[0;34m)\u001b[0m\u001b[0;34m)\u001b[0m\u001b[0;34m\u001b[0m\u001b[0;34m\u001b[0m\u001b[0m\n\u001b[1;32m      4\u001b[0m     \u001b[0;32mexcept\u001b[0m\u001b[0;34m:\u001b[0m\u001b[0;34m\u001b[0m\u001b[0;34m\u001b[0m\u001b[0m\n\u001b[1;32m      5\u001b[0m         \u001b[0mprint\u001b[0m\u001b[0;34m(\u001b[0m\u001b[0;34m\"No name present for entity %s\"\u001b[0m \u001b[0;34m%\u001b[0m \u001b[0mk\u001b[0m\u001b[0;34m)\u001b[0m\u001b[0;34m\u001b[0m\u001b[0;34m\u001b[0m\u001b[0m\n",
      "\u001b[0;31mAttributeError\u001b[0m: 'dict' object has no attribute 'iteritems'"
     ]
    }
   ],
   "source": [
    "for (k,v) in jcontent.iteritems():\n",
    "    try:\n",
    "        print(\"Key: %s Type: %s Name: %s\" % (k,v[\"name\"],v[\"_type\"]))\n",
    "    except:\n",
    "        print(\"No name present for entity %s\" % k)"
   ]
  },
  {
   "cell_type": "markdown",
   "metadata": {},
   "source": []
  },
  {
   "cell_type": "markdown",
   "metadata": {},
   "source": [
    "## Aufgabe\n",
    "- Von welchen Ländern und Unternehmen wird vor allem gesprochen?"
   ]
  }
 ],
 "metadata": {
  "kernelspec": {
   "display_name": "Python 3",
   "language": "python",
   "name": "python3"
  },
  "language_info": {
   "codemirror_mode": {
    "name": "ipython",
    "version": 3
   },
   "file_extension": ".py",
   "mimetype": "text/x-python",
   "name": "python",
   "nbconvert_exporter": "python",
   "pygments_lexer": "ipython3",
   "version": "3.7.4"
  }
 },
 "nbformat": 4,
 "nbformat_minor": 2
}
