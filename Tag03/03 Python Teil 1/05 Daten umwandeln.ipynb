{
 "cells": [
  {
   "cell_type": "markdown",
   "metadata": {},
   "source": [
    "# Daten umwandeln - Strings und Zahlen\n",
    "Daten umzuwandeln ist wahrscheinlich, das was du am meisten machen wirst. Deshalb ist es praktisch es schon jetzt kennen zu lernen. "
   ]
  },
  {
   "cell_type": "markdown",
   "metadata": {},
   "source": [
    "### Einen String in eine Zahl umwandeln\n",
    "Dazu wenden wir den **int()**-Befehl auf einen String (direkt oder in einer Variable gespeichert) an: **int(string)**\n",
    "\n",
    "int steht für Integer, den englischen Begriff für Ganzzahl."
   ]
  },
  {
   "cell_type": "code",
   "execution_count": null,
   "metadata": {},
   "outputs": [],
   "source": [
    "a = \"5\"\n",
    "b = \"6\"\n",
    "\n",
    "print(int(a) + int(b)) #nur nötig wenn Zahlen als Text/String vorliegen!"
   ]
  },
  {
   "cell_type": "code",
   "execution_count": 4,
   "metadata": {},
   "outputs": [
    {
     "name": "stdout",
     "output_type": "stream",
     "text": [
      "9\n"
     ]
    }
   ],
   "source": [
    "y = 5\n",
    "z = 4\n",
    "print(y + z)"
   ]
  },
  {
   "cell_type": "markdown",
   "metadata": {},
   "source": [
    "### Einen String in eine Kommazahl umwandeln\n",
    "Dazu wenden wir den **float()**-Befehl auf einen String (direkt oder in einer Variable gespeichert) an: **float(string)** \n",
    " \n",
    " \n",
    "Der Name float kommt daher, dass man Kommazahlen auch Fließkommazahlen nennt.\n",
    "\n",
    "Jo: eigentlich ist Python sehr locker im Umgang mit Zahlen. Andere Sprachen geben je nachdem nur Ganzzahlen raus. "
   ]
  },
  {
   "cell_type": "code",
   "execution_count": 1,
   "metadata": {},
   "outputs": [
    {
     "name": "stdout",
     "output_type": "stream",
     "text": [
      "12.1\n"
     ]
    }
   ],
   "source": [
    "a = \"5.5\"\n",
    "b = \"6.6\"\n",
    "\n",
    "print(float(a) + float(b))"
   ]
  },
  {
   "cell_type": "code",
   "execution_count": 7,
   "metadata": {},
   "outputs": [
    {
     "name": "stdout",
     "output_type": "stream",
     "text": [
      "5.56.6\n"
     ]
    }
   ],
   "source": [
    "a = \"5.5\"\n",
    "b = \"6.6\"\n",
    "print(a + b) #so sähe das aus: die beiden Zahlen werden einfach zusammengehängt."
   ]
  },
  {
   "cell_type": "markdown",
   "metadata": {},
   "source": [
    "### Eine Zahl in einen String umwandeln\n",
    "Dazu wenden wir den **str()**-Befehl auf eine Ganzzahl oder Kommazahl an (direkt oder in einer Variable gespeichert): **str(zahl)**"
   ]
  },
  {
   "cell_type": "code",
   "execution_count": null,
   "metadata": {},
   "outputs": [],
   "source": [
    "age = 21\n",
    "print(\"Ich bin \" + str(age) + \" Jahre alt\")"
   ]
  },
  {
   "cell_type": "markdown",
   "metadata": {},
   "source": [
    "## Übung\n",
    "\n",
    "- Speichere  die Zahl PI mit 4 Nachkommastellen in der Variable a. \n",
    "- Multipliziere sie mit 2. \n",
    "- Wandle die Zahl in einen String um und gebe sie aus als Satz: \"Das doppelter der Zahl Pi ist: a\"\n",
    "\n"
   ]
  },
  {
   "cell_type": "code",
   "execution_count": 8,
   "metadata": {},
   "outputs": [
    {
     "name": "stdout",
     "output_type": "stream",
     "text": [
      "Das doppelte der Zahl Pi ist: 6.2832\n"
     ]
    }
   ],
   "source": [
    "pi = 3.1416\n",
    "print(\"Das doppelte der Zahl Pi ist: \" + str(pi*2))"
   ]
  },
  {
   "cell_type": "markdown",
   "metadata": {},
   "source": [
    "# Daten umwandeln - Listen und Strings\n",
    "Wir können mit Python Elemente zu einer Liste zusammenfügen oder eine Liste in einzelne Elemente zerlegen."
   ]
  },
  {
   "cell_type": "markdown",
   "metadata": {},
   "source": [
    "### Strings aus einer Liste zu einem String zusammenfügen\n",
    "\n",
    "Mit dem  **join()**-Befehl, der auf einen String angewendet wird, verbinden wir die Strings aus einer Liste zu einem neuen String: **string.join(liste)**\n",
    "\n",
    "Der String, auf den join() angewendet wird, bildet dabei die Nahtstelle: Dieser String wird als Verbindung zwischen den einzelnen Listenelementen im neuen String gesetzt.\n",
    "\n",
    "\n",
    "So sieht das aus ohne .join:"
   ]
  },
  {
   "cell_type": "code",
   "execution_count": 14,
   "metadata": {},
   "outputs": [
    {
     "name": "stdout",
     "output_type": "stream",
     "text": [
      "An der Uni studieren ['Max', 'Monika', 'Erik', 'Franziska']\n"
     ]
    }
   ],
   "source": [
    "students = [\"Max\", \"Monika\", \"Erik\", \"Franziska\"]\n",
    "print(\"An der Uni studieren \" + str(students))"
   ]
  },
  {
   "cell_type": "markdown",
   "metadata": {},
   "source": [
    "Und so, wenn man den .join-Befehl verwendet:"
   ]
  },
  {
   "cell_type": "code",
   "execution_count": 11,
   "metadata": {
    "scrolled": true
   },
   "outputs": [
    {
     "name": "stdout",
     "output_type": "stream",
     "text": [
      "Max, Monika, Erik, Franziska\n"
     ]
    }
   ],
   "source": [
    "students = [\"Max\", \"Monika\", \"Erik\", \"Franziska\"]\n",
    "a = \", \".join(students)\n",
    "print(a)"
   ]
  },
  {
   "cell_type": "code",
   "execution_count": 12,
   "metadata": {},
   "outputs": [
    {
     "name": "stdout",
     "output_type": "stream",
     "text": [
      "An unserer Uni studieren: Max, Monika, Erik, Franziska\n"
     ]
    }
   ],
   "source": [
    "students_as_string = \", \".join(students)\n",
    "print(\"An unserer Uni studieren: \" + students_as_string)"
   ]
  },
  {
   "cell_type": "code",
   "execution_count": 13,
   "metadata": {},
   "outputs": [
    {
     "name": "stdout",
     "output_type": "stream",
     "text": [
      "Max - Monika - Erik - Franziska\n"
     ]
    }
   ],
   "source": [
    "students = [\"Max\", \"Monika\", \"Erik\", \"Franziska\"]\n",
    "print(\" - \".join(students))"
   ]
  },
  {
   "cell_type": "markdown",
   "metadata": {},
   "source": [
    "### Einen String in eine Liste aufspalten\n",
    "\n",
    "Mit dem **split()**-Befehl, der auf einen String angewendet wird, wird dieser String an seinen Leerzeichen aufgespalten und die daraus resultierenden Einzelstrings in einer Liste gespeichert: **string.split()**"
   ]
  },
  {
   "cell_type": "code",
   "execution_count": 16,
   "metadata": {},
   "outputs": [],
   "source": [
    "i = \"Max, Monika, Erik, Franziska\""
   ]
  },
  {
   "cell_type": "code",
   "execution_count": 17,
   "metadata": {
    "scrolled": true
   },
   "outputs": [
    {
     "name": "stdout",
     "output_type": "stream",
     "text": [
      "['Max,', 'Monika,', 'Erik,', 'Franziska']\n"
     ]
    }
   ],
   "source": [
    "print(i.split())"
   ]
  },
  {
   "cell_type": "markdown",
   "metadata": {},
   "source": [
    "So kann man aus einem Satz eine Liste machen:"
   ]
  },
  {
   "cell_type": "code",
   "execution_count": 21,
   "metadata": {},
   "outputs": [
    {
     "name": "stdout",
     "output_type": "stream",
     "text": [
      "['eine', 'Liste', 'machen']\n"
     ]
    }
   ],
   "source": [
    "a = \"eine Liste machen\"\n",
    "liste = (a.split())\n",
    "print(liste)"
   ]
  },
  {
   "cell_type": "markdown",
   "metadata": {},
   "source": [
    "Wir können sogar noch genauer festlegen, an welchen Stellen der String von split() aufgespaltet werden soll."
   ]
  },
  {
   "cell_type": "code",
   "execution_count": 22,
   "metadata": {
    "scrolled": true
   },
   "outputs": [
    {
     "name": "stdout",
     "output_type": "stream",
     "text": [
      "['Max', 'Monika', 'Erik', 'Franziska']\n"
     ]
    }
   ],
   "source": [
    "print(i.split(\", \"))"
   ]
  },
  {
   "cell_type": "code",
   "execution_count": 23,
   "metadata": {},
   "outputs": [
    {
     "name": "stdout",
     "output_type": "stream",
     "text": [
      "['M', 'x, Monik', ', Erik, Fr', 'nzisk', '']\n"
     ]
    }
   ],
   "source": [
    "print(i.split(\"a\"))"
   ]
  },
  {
   "cell_type": "markdown",
   "metadata": {},
   "source": [
    "Insbesondere können wir auch mehrere der Befehle, die wir schon kennen gelernt haben, miteinander kombinieren:"
   ]
  },
  {
   "cell_type": "code",
   "execution_count": 24,
   "metadata": {},
   "outputs": [
    {
     "name": "stdout",
     "output_type": "stream",
     "text": [
      "7\n"
     ]
    }
   ],
   "source": [
    "# Hier zählen wir die Anzahl der Wörter des Satzes s\n",
    "\n",
    "s = \"Ich bin ein Satz mit vielen Wörtern\"\n",
    "print(len(s.split()))"
   ]
  },
  {
   "cell_type": "markdown",
   "metadata": {},
   "source": [
    "## Übung 1\n",
    "- Nimm einen Artikel aus 20 minuten. \n",
    "- Kopiere ihn in einen String. \n",
    "- Zerlege den Artikel in Wörter. \n",
    "- Zähle die Wörter. \n",
    "- Gib aus \" Der Artikel xyz enthält x wörter\" "
   ]
  },
  {
   "cell_type": "code",
   "execution_count": 26,
   "metadata": {},
   "outputs": [
    {
     "data": {
      "text/plain": [
       "8506"
      ]
     },
     "execution_count": 26,
     "metadata": {},
     "output_type": "execute_result"
    }
   ],
   "source": [
    "text = '''\n",
    "Suche\n",
    "Einstellungen watson News auf Facebook watson News auf Twitter Hol dir die App!\n",
    "STARTSEITE\n",
    "SCHWEIZ\n",
    "INTERNATIONAL\n",
    "WIRTSCHAFT\n",
    "SPORT\n",
    "LEBEN\n",
    "SPASS\n",
    "DIGITAL\n",
    "WISSEN\n",
    "BLOGS\n",
    "VIDEOS\n",
    "WETTBEWERBE\n",
    "Aktuelle Themen:\n",
    "Best of watson Fussball USA Gesellschaft & Politik Champions League Eishockey Donald Trump National League Zürich Polizeirapport Alle Themen\n",
    "Hol dir die App! watson auf Facebook Newsletter Werbung Über uns Impressum AGB Datenschutz\n",
    "freundlich 18°\n",
    "Schweiz\n",
    "International\n",
    "Wirtschaft\n",
    "Sport\n",
    "Leben\n",
    "Spass\n",
    "Digital\n",
    "Wissen\n",
    "Blogs\n",
    "Videos\n",
    "Wettbewerbe\n",
    "\n",
    "Wir verwenden Cookies und Analysetools, um die Nutzerfreundlichkeit der Internetseite zu verbessern und passende Werbung von watson und unseren Werbepartnern anzuzeigen. Weitere Infos findest Du in unserer Datenschutzerklärung.OK\n",
    "SchweizVideos \n",
    "Testbericht: So fährt sich das Enuu-Wägeli durch Zürich\n",
    "Das E-Mobil im Test\n",
    "abspielen\n",
    "video: watson/adrian müller / linda beciri\n",
    "\n",
    "Vergiss die E-Trottis! So fährt sich das E-Wägeli durch Zürich\n",
    "Nach Lime, Circ, Bird und Tier kommt Enuu: Das Bieler Start-up will mit 50 ovalen Elektro-Wägelchen den Sharing-Markt aufmischen. Aber aufgepasst: Die watson-Testfahrt verläuft nicht ohne Rumpler.\n",
    "\n",
    "1      3 \n",
    "18.09.19, 13:58\n",
    "adrian müller, linda beciri\n",
    "Und los geht's: Mit Vollgas brettert der watson-Reporter im vierrädrigen Elektro-Flitzer unter der Zürcher Hardbrücke durch. Die Lenkstange ruckelt, das Plastik-Chassis wackelt. Bei den maximal 30 km/h muss man im fahrenden «Ei» ein bisschen Gegensteuer geben, um nicht vom Kurs abzukommen. Dann folgt der «Elch-Test» vor dem Schiffbau. Beinahe brechen die Hinterräder aus. Vollbremsung!\n",
    "\n",
    "Die ovalen Mobilitätsdinger des Bieler Start-ups Enuu sind weder ein Velo noch ein Auto. Die ersten von 50 vierrädrigen Elektroleichtfahrzeugen warten seit wenigen Tagen in Zürich auf erste Kunden. Wie E-Trottis können sie via App lokalisiert und freigeschaltet werden.\n",
    "\n",
    "Bild\n",
    "«Elch-Test» knapp bestanden: watson-Reporter Adrian Müller nach der rasanten Testfahrt mit dem Enuu-Mobil. bild: watson\n",
    "\n",
    "Die Bedienung ist jedoch gewöhnungsbedürftig. Der Testfahrer braucht mehrere Minuten, bis er das Gefährt ins Rollen bringt. Dafür beschleunigt das Elektro-Gefährt erstaunlich zügig. Da kommt überraschend viel Fahrspass auf. Und das Ding bietet in der Kabine viel Raum. Trotz seiner Körperlänge von 189 Zentimetern findet der watson-Reporter problemlos im Elektro-Wägelchen Platz. Die Sicht ist allerdings durch das tiefgezogene Dach eingeschränkt.\n",
    "\n",
    "Pluspunkte\n",
    "Fahrer ist vor schlechtem Wetter geschützt.\n",
    "attraktiver Preis\n",
    "Man kann Gepäck transportieren.\n",
    "rasche Beschleunigung\n",
    "Töffli-Führerschein reicht.\n",
    "Elektroantrieb\n",
    "erstaunlich viel Fahrspass\n",
    "Wir fahren weiter. Und fragen uns, warum man so ein Gefährt überhaupt ausleihen soll? Der grosse Pluspunkt ist rasch gefunden: Im Gegensatz zu den E-Trottis ist das Enuu-Mobil wetterfest, man ist von Regen und Wind geschützt. Im Sommer wird es allerdings in der unklimatisierten Kabine rasch heiss.\n",
    "\n",
    "Lime ist nach der Unfallserie zurück – doch wie gut ist das neue E-Trotti?\n",
    "Abzug gibt es für das Design, das alles andere als sexy ist. Mit dem Enuu-Mobil würde ich kaum beim ersten Date vorfahren.\n",
    "\n",
    "Minuspunkte\n",
    "unpräzise, wackelige Steuerung\n",
    "gewöhnungsbedürftige Bedienung\n",
    "unattraktives Design\n",
    "Schwierige Parkplatzsuche – man darf nur auf Velo- und Töffparkplätzen parkieren.\n",
    "eingeschränkte Sicht\n",
    "So viel kostet es\n",
    "Die Tarife sind zum Start äusserst attraktiv und deutlich billiger als E-Trottis: Das Ei-Gefährt freizuschalten kostet 90 Rappen, jede weitere Fahrminute schlägt mit 20 Rappen zu Buche. Zum Vergleich: Beim E-Scooter Anbieter Circ kostet die Freischaltung 1 Franken und die Minute 35 Rappen.\n",
    "\n",
    "Bild\n",
    "Blick ins Cockpit: Wegen des tiefen Dachs ist die Sicht eingeschränkt. bild: watson\n",
    "\n",
    "Der grosse Knackpunkt dürfte die Park-Situation ergeben: Die vierrädrigen Eier dürfen offiziell nur auf Velo- oder Töffparkplätzen abgestellt werden und müssen wenn möglich auf den Velostreifen fahren.\n",
    "\n",
    "Parkplätze als Knackpunkt\n",
    "Knatsch mit den Velofahrern dürfte angesichts der prekären Parkverhältnisse, etwa rund um den Bahnhof, vorprogrammiert sein. Die Stadt sieht es lockerer: «Ganz grundsätzlich stellt sich die Frage, ob die Parkierungsmöglichkeiten wegen lediglich 50 Enuu-Fahrzeugen spürbar eingeschränkt werden», so Robert Soos vom Sicherheitsdepartement der Stadt Zürich. Im Übrigen hätten die Anbieter der Verleih-Fahrzeuge einen bedingten Anspruch auf Nutzung des öffentlichen Grundes und damit auch der Abstellplätze. Enuu zahlt der Stadt dafür 20 Franken pro Monat/Fahrzeug.\n",
    "\n",
    "Ein ''Enuu'' Elektromobil ist auf den Strassen von Biel unterwegs, am Donnerstag, 8. November 2018, in Biel. Die Fahrzeuge sind auf Radwegen zugelassen und der Benutzer braucht keinen Fuehrschein der Kategorie B. Enuu darf auf einem Parkplatz fuer Velos/Motorraeder parkiert werden. (KEYSTONE/Adrian Reusser)\n",
    "Das Enuu-Mobil ist seit Herbst 2018 in Biel unterwegs. Nun rollen die E-Wägeli auch durch Zürich. bild: keystone\n",
    "\n",
    "«Wir sind mehr als zufrieden»\n",
    "Nach einer Testphase in Biel wagt Enuu nun den Sprung nach Zürich. Das Jungunternehmen peilt Basel und Genf als weitere Schweizer Städte an. 2020 soll die Expansion in europäische Metropolen folgen.\n",
    "\n",
    "In Biel ist eine kleine Flotte von Enuu-Mobilen seit vergangenem Herbst unterwegs. Das «Bieler Tagblatt» fällte unlängst ein Zwischenurteil. Enuu holt sich gute Noten ab: 100 Fahrten nehmen die 13 Fahrzeuge täglich unter die Räder, insgesamt zählt das System über 800 Nutzer. Entsprechend glücklich ist Enuu-Mitgründer Luca Placi: «Wir sind mehr als zufrieden.» Inzwischen hat Enuu in Biel die Flotte auf 20 Fahrzeuge aufgestockt.\n",
    "\n",
    "Nun bleibt abzuwarten, wie sich Enuu in den anderen Schweizer Städten gegen die harte Konkurrenz durch E-Trottis und Leihvelos schlägt.\n",
    "\n",
    "OMG! So sieht der Ferienstau in Beijing aus\n",
    "Adrian testet den neuen Lime-Scooter\n",
    "Play Icon\n",
    "Das könnte dich auch interessieren:\n",
    "Shaqiri? Xhaka? Von wegen! Zwei Torhüter sind die besten Schweizer bei «FIFA 20»\n",
    "  \n",
    "Migros Aare baut rund 300 Arbeitsplätze ab\n",
    "  \n",
    "Röstigraben im Bundeshaus: «Sobald ich auf Deutsch wechsle, sinkt der Lärm um 10 Dezibel»\n",
    "  \n",
    "Keine Angst vor Freitag, dem 13.! Diese 13 Menschen haben bereits alles Pech aufgebraucht\n",
    "Alle Artikel anzeigen\n",
    "Abonniere unseren Newsletter\n",
    "Deine E-Mail\n",
    "Themen\n",
    "SCHWEIZ VIDEOS BASEL MOBILITÄT VIDEO ZÜRICH\n",
    "3\n",
    "BubbleUm mit zu diskutieren oder Bilder und YouTube-Videos zu posten, musst du eingeloggt sein.\n",
    "Schicke uns deinen Input\n",
    "http://youtu.be/zP0sqRMzkwo\n",
    "Bild hochladenYouTube Video Einbetten600Hier gehts zu den Kommentarregeln.\n",
    "3Alle Kommentare anzeigen\n",
    "Auf Facebook teilen\n",
    "Auf Twitter teilen\n",
    "In Whatsapp teilen\n",
    "Via E-Mail teilen\n",
    "3Anzahl Kommentare\n",
    "MEISTGELESEN\n",
    "1Für ewiges Glück, drücke hier: PICDUMP 🍀\n",
    "2Bald wird die Area 51 gestürmt – 10 Fakten zum geheimnisvollen …\n",
    "3Schweizer sind nicht mehr die Reichsten der Welt\n",
    "4Millenials werden in diesem Retro-Food-Quiz so was von abkacken …\n",
    "5History Porn Teil LI: Geschichte in 24 Wahnsinns-Bildern \n",
    "MEISTKOMMENTIERT\n",
    "1Sportlerpics auf Social Media: Rogers Rasselbande in Genf\n",
    "251 km/h in der 30er-Zone: Nationalrat will Verkehrssünder …\n",
    "3Die neusten Entwicklungen um die Attacken in Saudi-Arabien werfen …\n",
    "4Neue Studie zeigt: 33'000 Suizidversuche innert eines Jahres in …\n",
    "5CVP fährt grosse Negativ-Kampagne gegen andere Parteien – die … \n",
    "MEISTGETEILT\n",
    "1Das? Das ist nur die wohl umfangreichste Schatzkarte aller …\n",
    "2Kapo Zürich landet mit der «Tetris Challenge» einen viralen …\n",
    "3Robbie Earl ist unschuldig – ist er das wirklich?\n",
    "4«Lotter Leo»? Nein. Aber Namen sind nur noch aufgenähte …\n",
    "5So gut repräsentieren die Nationalrats-Kandidierenden die …\n",
    "Das? Das ist nur die wohl umfangreichste Schatzkarte aller bisherigen Zeiten\n",
    "Mit Hilfe dieser Schatzkarte wirst du reich! Eventuell. Sicher ist jedenfalls, dass du den Spuren von 75 Schätzen nachjagen kannst, die noch immer darauf warten, gefunden zu werden.\n",
    "\n",
    "Seid willkommen, Suchende. Und tretet ein.\n",
    "\n",
    "Wir haben für euch versunkene Schiffe, Piratenschätze, Mongolen- und Armadaschiffe, einige obligate Nazi-Schätze und natürlich die Legenden um den Nibelungenhort, die Bundeslade und den Schatz der Tempelritter.\n",
    "\n",
    "Klickt euch wild durch die Schatzkarte oder liest erst in Ruhe unsere Empfehlungen durch, die ihr gleich darunter findet.\n",
    "\n",
    "Unsere Karte erhebt keinerlei Anspruch auf Vollständigkeit, sie erzählt die Geschichten von 75 erlesenen Schätzen, die …\n",
    "\n",
    "Artikel lesenLink zum Artikel\n",
    "Hol dir die App! watson auf Facebook Newsletter Werbung Über uns Impressum AGB Datenschutz'''\n",
    "len(text)"
   ]
  },
  {
   "cell_type": "code",
   "execution_count": 28,
   "metadata": {},
   "outputs": [
    {
     "data": {
      "text/plain": [
       "1202"
      ]
     },
     "execution_count": 28,
     "metadata": {},
     "output_type": "execute_result"
    }
   ],
   "source": [
    "woerter = text.split() #oder man könnte auch text.split)(\" \")\n",
    "len(woerter)"
   ]
  },
  {
   "cell_type": "markdown",
   "metadata": {},
   "source": [
    "## Übung 2 \n",
    "\n",
    "- Lass dir vom Nachbarn seine Email geben. \n",
    "- Wenn die Mailadresse _Max-Mustermann@gmail.com_ lautet, sollst du _Max-Mustermann_ ausgeben; wenn die Mailadresse _KlaraKlarnamen@uni-berlin.de_ heisst, sollst du _KlaraKlarnamen_ ausgeben."
   ]
  },
  {
   "cell_type": "code",
   "execution_count": 38,
   "metadata": {},
   "outputs": [
    {
     "data": {
      "text/plain": [
       "'martin steinegger'"
      ]
     },
     "execution_count": 38,
     "metadata": {},
     "output_type": "execute_result"
    }
   ],
   "source": [
    "name = (\"martin.steinegger@zsz.ch\".split(\"@\")).pop(0) #geht alles in einer Zeile ohne Zwischenschritte, aber nicht \n",
    "#zuviel, sonst wird's unübersichtlich. \n",
    "\n",
    "name.replace(\".\",\" \") #Bonus: . mit Space ersetzen. "
   ]
  },
  {
   "cell_type": "markdown",
   "metadata": {},
   "source": [
    "Aber so ist es übersichtlicher und nachvollziehbar: \n",
    "Man erstellt eine Liste und zeigt sich den gewünschten Eintrag an:"
   ]
  },
  {
   "cell_type": "code",
   "execution_count": 40,
   "metadata": {},
   "outputs": [
    {
     "data": {
      "text/plain": [
       "'martin.steinegger'"
      ]
     },
     "execution_count": 40,
     "metadata": {},
     "output_type": "execute_result"
    }
   ],
   "source": [
    "email = \"martin.steinegger@zsz.ch\"\n",
    "email_split = email.split(\"@\")\n",
    "name = email_split[0]\n",
    "name"
   ]
  },
  {
   "cell_type": "markdown",
   "metadata": {},
   "source": [
    "Geht übrigens auch:"
   ]
  },
  {
   "cell_type": "code",
   "execution_count": 42,
   "metadata": {},
   "outputs": [
    {
     "data": {
      "text/plain": [
       "['w', 'u', 'r', 's', 't']"
      ]
     },
     "execution_count": 42,
     "metadata": {},
     "output_type": "execute_result"
    }
   ],
   "source": [
    "list(\"wurst\")"
   ]
  },
  {
   "cell_type": "markdown",
   "metadata": {},
   "source": [
    "## Übung 3\n",
    "\n",
    "Aktuell legen alle Kunden (`mail1`, `mail2`, `mail3`) als separate Variable vor. Wir möchten daraus jetzt eine Liste bauen, sodass wir die Möglichkeit hätten, später noch weitere Kunden in diese Liste hinzuzufügen.\n",
    "\n",
    "Überführe deswegen die Kunden `mail1`, `mail2` und `mail3` in die Liste `clients` und lasse dir anschließend die Anzahl der Elemente der Liste `clients` mit Hilfe von Python ausgeben."
   ]
  },
  {
   "cell_type": "code",
   "execution_count": 43,
   "metadata": {},
   "outputs": [
    {
     "name": "stdout",
     "output_type": "stream",
     "text": [
      "['zarah.zauber@zauberberg.de', 'thomas.plotkowiak@gmail.com', 'uwe_unhold@dunklerwald.de']\n"
     ]
    }
   ],
   "source": [
    "mail1 = \"zarah.zauber@zauberberg.de\"\n",
    "mail2 = \"thomas.plotkowiak@gmail.com\"\n",
    "mail3 = \"uwe_unhold@dunklerwald.de\" \n",
    "\n",
    "clients = [mail1] + [mail2] + [mail3]\n",
    "\n",
    "# Füge hier mail1, mail2, mail3 zur clients - Liste hinzu \n",
    "# Zähle wieviele elemente die liste hat.\n",
    "\n",
    "print(clients)"
   ]
  },
  {
   "cell_type": "code",
   "execution_count": 44,
   "metadata": {},
   "outputs": [
    {
     "data": {
      "text/plain": [
       "['zarah.zauber@zauberberg.de',\n",
       " 'thomas.plotkowiak@gmail.com',\n",
       " 'uwe_unhold@dunklerwald.de',\n",
       " 'jo@niggli.com']"
      ]
     },
     "execution_count": 44,
     "metadata": {},
     "output_type": "execute_result"
    }
   ],
   "source": [
    "clients.append(\"jo@niggli.com\")\n",
    "clients"
   ]
  },
  {
   "cell_type": "code",
   "execution_count": 45,
   "metadata": {},
   "outputs": [
    {
     "data": {
      "text/plain": [
       "4"
      ]
     },
     "execution_count": 45,
     "metadata": {},
     "output_type": "execute_result"
    }
   ],
   "source": [
    "len(clients)"
   ]
  },
  {
   "cell_type": "markdown",
   "metadata": {},
   "source": [
    "Oder dann auch so, nur mit den Namen:"
   ]
  },
  {
   "cell_type": "code",
   "execution_count": 47,
   "metadata": {},
   "outputs": [
    {
     "name": "stdout",
     "output_type": "stream",
     "text": [
      "['zarah.zauber', 'thomas.plotkowiak', 'uwe_unhold']\n"
     ]
    }
   ],
   "source": [
    "mail1 = \"zarah.zauber@zauberberg.de\"\n",
    "mail2 = \"thomas.plotkowiak@gmail.com\"\n",
    "mail3 = \"uwe_unhold@dunklerwald.de\" \n",
    "clients_new = []\n",
    "clients_new.append(mail1.split(\"@\")[0])\n",
    "clients_new.append(mail2.split(\"@\")[0])\n",
    "clients_new.append(mail3.split(\"@\")[0])\n",
    "print(clients_new)"
   ]
  }
 ],
 "metadata": {
  "kernelspec": {
   "display_name": "Python 3",
   "language": "python",
   "name": "python3"
  },
  "language_info": {
   "codemirror_mode": {
    "name": "ipython",
    "version": 3
   },
   "file_extension": ".py",
   "mimetype": "text/x-python",
   "name": "python",
   "nbconvert_exporter": "python",
   "pygments_lexer": "ipython3",
   "version": "3.7.3"
  }
 },
 "nbformat": 4,
 "nbformat_minor": 2
}
