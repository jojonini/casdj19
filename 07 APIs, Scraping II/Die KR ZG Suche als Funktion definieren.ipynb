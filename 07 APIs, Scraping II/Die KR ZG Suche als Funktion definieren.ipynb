{
 "cells": [
  {
   "cell_type": "markdown",
   "metadata": {},
   "source": [
    "So könnte man den ganzen Code in eine Funktion minidict abspeichern und dann wieder aufrufen:"
   ]
  },
  {
   "cell_type": "code",
   "execution_count": 42,
   "metadata": {},
   "outputs": [],
   "source": [
    "def minidict(listenelement):\n",
    "    \n",
    "    for element in listenelement:\n",
    "        td_list = element.find_all('td')\n",
    "        url = td_list[0].find('a')['href'] \n",
    "        geschäft = td_list[1].text\n",
    "        stand = td_list[2].text\n",
    "        zuständig = td_list[3].text\n",
    "        geschäftsart = td_list[4].text\n",
    "        status = td_list[5].text\n",
    "\n",
    "        mini_dict = {'url':url,\n",
    "              'geschäft': geschäft,\n",
    "              'stand': stand,\n",
    "              'zuständig': zuständig,\n",
    "              'geschäftsart': geschäftsart,\n",
    "              'status' : status}\n",
    "    \n",
    "        return mini_dict\n"
   ]
  }
 ],
 "metadata": {
  "kernelspec": {
   "display_name": "Python 3",
   "language": "python",
   "name": "python3"
  },
  "language_info": {
   "codemirror_mode": {
    "name": "ipython",
    "version": 3
   },
   "file_extension": ".py",
   "mimetype": "text/x-python",
   "name": "python",
   "nbconvert_exporter": "python",
   "pygments_lexer": "ipython3",
   "version": "3.7.4"
  }
 },
 "nbformat": 4,
 "nbformat_minor": 2
}
