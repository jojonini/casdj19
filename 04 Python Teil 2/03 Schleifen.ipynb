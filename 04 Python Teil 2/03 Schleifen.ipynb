{
 "cells": [
  {
   "cell_type": "markdown",
   "metadata": {},
   "source": [
    "# Schleifen\n",
    "\n",
    "Schleifen erlauben es dir, dafür zu sorgen, dass bestimmte Teile vom Programm mehrfach ausgeführt werden. Das ist praktisch, wenn du z.B. eine Liste von Studierenden hast und dafür sorgen möchtest, dass z. B. ein print() - Befehl einmal für jeden Studierenden ausgeführt wird. \n",
    "\n",
    "Eine Schleife erlaubt dir, sowas in recht wenig Code auszudrücken!"
   ]
  },
  {
   "cell_type": "markdown",
   "metadata": {},
   "source": [
    "## Die while-Schleife\n",
    "Ein Code-Block innerhalb einer if-elif-else-Struktur wird jeweils nur einmal ausgeführt. Bei Schleifen wie der **while-Schleife** wird ein Code-Block so lange mehrmals hintereinander ausgeführt, bis eine Abbruchbedingung erfüllt ist."
   ]
  },
  {
   "cell_type": "code",
   "execution_count": 1,
   "metadata": {},
   "outputs": [
    {
     "name": "stdout",
     "output_type": "stream",
     "text": [
      "0\n",
      "1\n",
      "2\n",
      "3\n",
      "4\n",
      "5\n",
      "6\n",
      "7\n",
      "8\n",
      "9\n",
      "Das war's mit der Schleife!\n"
     ]
    }
   ],
   "source": [
    "counter = 0\n",
    "\n",
    "while counter < 10:\n",
    "    print(counter)\n",
    "    counter = counter + 1\n",
    "    \n",
    "print(\"Das war's mit der Schleife!\")"
   ]
  },
  {
   "cell_type": "markdown",
   "metadata": {},
   "source": [
    "Wenn der print-Befehl fehlt macht er eine unendliche Schleife und gibt 0 aus - und das Programm muss mit Stopp-Tsaste unterbrochen werden (bei In [*])"
   ]
  },
  {
   "cell_type": "markdown",
   "metadata": {},
   "source": [
    "Innerhalb einer Schleife **muss** sich **unbedingt** ein Zustand in jedem Schritt verändern, damit die Schleifenbedingung nicht dauerhaft erfüllt ist, und das Programm die Schleife auch wieder verlassen kann:"
   ]
  },
  {
   "cell_type": "markdown",
   "metadata": {},
   "source": [
    "## Übung \n",
    "\n",
    "Repariere die kaputte Schleife."
   ]
  },
  {
   "cell_type": "code",
   "execution_count": 6,
   "metadata": {},
   "outputs": [
    {
     "name": "stdout",
     "output_type": "stream",
     "text": [
      "Moritz\n",
      "Klara\n",
      "Monika\n",
      "Max\n"
     ]
    }
   ],
   "source": [
    "students = [\"Moritz\", \"Klara\", \"Monika\", \"Max\"]\n",
    "i = 0\n",
    "while i < len(students):\n",
    "    print(students[i])\n",
    "    i = i + 1"
   ]
  },
  {
   "cell_type": "markdown",
   "metadata": {},
   "source": [
    "Nach *while* muss eine Operation kommen, die eine Variable verändert, damit die Schleife auch wieder gestoppt wird (muss sich auf den Counter beziehen)."
   ]
  },
  {
   "cell_type": "markdown",
   "metadata": {},
   "source": [
    "## Die for-Schleife\n",
    "Neben der while-Schleife, die wir schon kennen gelernt haben, gibt es noch die **for-Schleife**. Hier durchläuft eine Schleifenvariable nacheinander die Werte in einer ebenfalls anzugebenden Sequenz.\n",
    "\n",
    "Bei dieser Sequenz kann es sich z. B. um eine Liste handeln."
   ]
  },
  {
   "cell_type": "code",
   "execution_count": 10,
   "metadata": {},
   "outputs": [
    {
     "name": "stdout",
     "output_type": "stream",
     "text": [
      "5\n",
      "8\n",
      "10\n"
     ]
    }
   ],
   "source": [
    "numbers = [5, 8, 10]\n",
    "for number in numbers:\n",
    "    print(number)"
   ]
  },
  {
   "cell_type": "code",
   "execution_count": 9,
   "metadata": {},
   "outputs": [
    {
     "name": "stdout",
     "output_type": "stream",
     "text": [
      "Max\n",
      "Moritz\n",
      "Monika\n"
     ]
    }
   ],
   "source": [
    "students = [\"Max\", \"Moritz\", \"Monika\"]\n",
    "for student in students:\n",
    "    print(student)"
   ]
  },
  {
   "cell_type": "markdown",
   "metadata": {},
   "source": [
    "Wir sehen, dass unsere Schleifenvariable i nacheinander und automatisch die Werte aus der Liste annimmt. **Anmerkung: man nimmt für die Variablen möglichst klare Begriffe (also number oder students statt i).**"
   ]
  },
  {
   "cell_type": "markdown",
   "metadata": {},
   "source": [
    "### Das range-Objekt\n",
    "Als Sequenz für eine for-Schleife braucht man nicht zwangsläufig eine Liste. Häufig greift man stattdessen auf ein **range**-Objekt zurück:"
   ]
  },
  {
   "cell_type": "code",
   "execution_count": 1,
   "metadata": {},
   "outputs": [
    {
     "name": "stdout",
     "output_type": "stream",
     "text": [
      "range(0, 10)\n"
     ]
    }
   ],
   "source": [
    "print(range(0,10))"
   ]
  },
  {
   "cell_type": "code",
   "execution_count": 2,
   "metadata": {},
   "outputs": [
    {
     "name": "stdout",
     "output_type": "stream",
     "text": [
      "0\n",
      "1\n",
      "2\n",
      "3\n",
      "4\n",
      "5\n",
      "6\n",
      "7\n",
      "8\n",
      "9\n"
     ]
    }
   ],
   "source": [
    "for i in range(0, 10):\n",
    "    print(i)"
   ]
  },
  {
   "cell_type": "markdown",
   "metadata": {},
   "source": [
    "## Übung \n",
    "Summiere alle Zahlen von 1 bis 100 mit hilfe einer for schleife und eines range objektes. "
   ]
  },
  {
   "cell_type": "code",
   "execution_count": 27,
   "metadata": {},
   "outputs": [
    {
     "name": "stdout",
     "output_type": "stream",
     "text": [
      "5050\n"
     ]
    }
   ],
   "source": [
    "# Hier summieren wir alle Zahlen von 1 bis 100 mithilfe einer for-Schleife und eines range-Objektes auf\n",
    "summe = 0\n",
    "for zahl in range(1,101):\n",
    "    summe = summe + zahl\n",
    "print(summe) \n",
    "    "
   ]
  },
  {
   "cell_type": "markdown",
   "metadata": {},
   "source": [
    "Überprüfen was gerade läuft:"
   ]
  },
  {
   "cell_type": "code",
   "execution_count": 40,
   "metadata": {},
   "outputs": [
    {
     "name": "stdout",
     "output_type": "stream",
     "text": [
      "0\n",
      "1\n",
      "3\n",
      "6\n",
      "10\n",
      "15\n",
      "21\n",
      "28\n",
      "36\n",
      "45\n",
      "55\n"
     ]
    }
   ],
   "source": [
    "summe = 0\n",
    "for zahl in range(1,11):\n",
    "    print(summe)\n",
    "    summe = summe + zahl\n",
    "print(summe) "
   ]
  },
  {
   "cell_type": "markdown",
   "metadata": {},
   "source": [
    "Was ist da eigentlich drin, in dem *range*?"
   ]
  },
  {
   "cell_type": "code",
   "execution_count": 30,
   "metadata": {},
   "outputs": [
    {
     "data": {
      "text/plain": [
       "[1, 2, 3, 4, 5, 6, 7, 8, 9, 10]"
      ]
     },
     "execution_count": 30,
     "metadata": {},
     "output_type": "execute_result"
    }
   ],
   "source": [
    "list(range(1,11))"
   ]
  },
  {
   "cell_type": "markdown",
   "metadata": {},
   "source": [
    "## Continue & Break\n",
    "\n",
    "Wir können während eines Schleifendurchlaufs den aktuellen Durchlauf vorzeitig abbrechen und unmittelbar mit dem nächsten Schleifendurchlauf fortfahren (**continue**) oder auch die gesamte Schleife abbrechen (**break**).\n"
   ]
  },
  {
   "cell_type": "markdown",
   "metadata": {},
   "source": [
    "### Continue\n",
    "Wir brauchen einfach das Wort **continue** in eine Schleife zu schreiben, wenn an einer bestimmten Stelle zum neuen Schleifendurchlauf gesprungen werden soll:"
   ]
  },
  {
   "cell_type": "code",
   "execution_count": 32,
   "metadata": {},
   "outputs": [
    {
     "name": "stdout",
     "output_type": "stream",
     "text": [
      "0\n",
      "1\n",
      "2\n",
      "4\n",
      "5\n",
      "6\n",
      "7\n",
      "8\n",
      "9\n"
     ]
    }
   ],
   "source": [
    "for zahl in range(0, 10):\n",
    "    if zahl == 3:\n",
    "        continue\n",
    "    print(zahl)"
   ]
  },
  {
   "cell_type": "markdown",
   "metadata": {},
   "source": [
    "In dem obigen Beispiel wird für den Wert 3 der print()-Befehl übersprungen."
   ]
  },
  {
   "cell_type": "markdown",
   "metadata": {},
   "source": [
    "### Break\n",
    "Auch **break** schreiben wir einfach in eine Zeile, und schon wird die ganze Schleife abgebrochen, wenn das Programm diese Stelle erreicht:\n"
   ]
  },
  {
   "cell_type": "code",
   "execution_count": 4,
   "metadata": {},
   "outputs": [
    {
     "name": "stdout",
     "output_type": "stream",
     "text": [
      "0\n",
      "1\n",
      "2\n"
     ]
    }
   ],
   "source": [
    "for i in range(0, 10):\n",
    "    if i == 3:\n",
    "        break\n",
    "    print(i)"
   ]
  },
  {
   "cell_type": "markdown",
   "metadata": {},
   "source": [
    "## Übung\n",
    "\n",
    "Schreibe eine Schleife die alle elemente einer Liste zusammenzählt und wenn die summe größer als 20 ist hält sie an, und gibt die summe aus. "
   ]
  },
  {
   "cell_type": "code",
   "execution_count": 33,
   "metadata": {},
   "outputs": [
    {
     "name": "stdout",
     "output_type": "stream",
     "text": [
      "4\n",
      "10\n",
      "17\n",
      "19\n"
     ]
    }
   ],
   "source": [
    "liste = [4, 6, 7, 2, 4, 6, 7]\n",
    "\n",
    "summe = 0\n",
    "\n",
    "for zahl in liste:\n",
    "    summe = summe + zahl\n",
    "    if summe > 20:\n",
    "        break\n",
    "    \n",
    "    print(summe)\n",
    "    "
   ]
  },
  {
   "cell_type": "markdown",
   "metadata": {},
   "source": [
    "Noch nicht ganz das Richtige. Es müsste eigentlich 23 ausgeben."
   ]
  },
  {
   "cell_type": "code",
   "execution_count": 34,
   "metadata": {},
   "outputs": [
    {
     "name": "stdout",
     "output_type": "stream",
     "text": [
      "23\n"
     ]
    }
   ],
   "source": [
    "liste = [4, 6, 7, 2, 4, 6, 7]\n",
    "\n",
    "summe = 0\n",
    "\n",
    "for zahl in liste:\n",
    "    summe = summe + zahl\n",
    "    if summe > 20:\n",
    "        break\n",
    "print(summe)"
   ]
  },
  {
   "cell_type": "markdown",
   "metadata": {},
   "source": [
    "## Übung 2\n",
    "\n",
    "Wir bauen einen Trump Twitter generator. \n",
    "\n"
   ]
  },
  {
   "cell_type": "markdown",
   "metadata": {},
   "source": [
    "Wir können in Python mit der **randint()**-Funktion zufällige Zahlen generieren. Doch um auf diese Funktion zurückzugreifen, müssen wir erst das random-Modul einbinden. :-)"
   ]
  },
  {
   "cell_type": "code",
   "execution_count": 45,
   "metadata": {},
   "outputs": [],
   "source": [
    "import random"
   ]
  },
  {
   "cell_type": "markdown",
   "metadata": {},
   "source": [
    "randint liefert zufällig Ganzzahlen aus einem Intervall, das wir der Funktion mitteilen müssen. Die beiden Grenzen und alle ganzen Zahlen innerhalb des Intervalls können dabei Werte von randint sein."
   ]
  },
  {
   "cell_type": "code",
   "execution_count": 46,
   "metadata": {},
   "outputs": [
    {
     "name": "stdout",
     "output_type": "stream",
     "text": [
      "3\n"
     ]
    }
   ],
   "source": [
    "print(random.randint(0, 4))"
   ]
  },
  {
   "cell_type": "code",
   "execution_count": 47,
   "metadata": {},
   "outputs": [
    {
     "name": "stdout",
     "output_type": "stream",
     "text": [
      "4\n"
     ]
    }
   ],
   "source": [
    "print(random.randint(0, 4))"
   ]
  },
  {
   "cell_type": "markdown",
   "metadata": {},
   "source": [
    "### Listen mit den Begriffen für unsere Tweets anlegen\n",
    "\n",
    "Hier haben wir einfach mal ein paar häufig auftretende Begriffe aus den Tweets kopiert ;-)"
   ]
  },
  {
   "cell_type": "code",
   "execution_count": 51,
   "metadata": {},
   "outputs": [],
   "source": [
    "part1 = [\"Putin,\", \"Hillary,\", \"Obama\", \"Fake News,\", \"Mexico,\", \"Arnold Schwarzenegger\", \"The Democrats\"]\n",
    "part2 = [\"no talent,\", \"on the way down,\", \"really poor numbers,\", \"nasty tone,\", \"looking like a fool,\", \"bad hombre,\"]\n",
    "part3 = [\"got destroyed by my ratings.\", \"rigged the election.\", \"had a much smaller crowd.\", \"will pay for the wall.\"]\n",
    "part4 = [\"So sad\", \"Apologize\", \"So true\", \"Media won't report\", \"Big trouble\", \"Fantastic job\", \"Stay tuned\"]"
   ]
  },
  {
   "cell_type": "code",
   "execution_count": 43,
   "metadata": {
    "scrolled": true
   },
   "outputs": [
    {
     "name": "stdout",
     "output_type": "stream",
     "text": [
      "[['Putin,', 'Hillary,', 'Obama', 'Fake News,', 'Mexico,', 'Arnold Schwarzenegger', 'The Democrats'], ['no talent,', 'on the way down,', 'really poor numbers,', 'nasty tone,', 'looking like a fool,', 'bad hombre,'], ['got destroyed by my ratings.', 'rigged the election.', 'had a much smaller crowd.', 'will pay for the wall.'], ['So sad', 'Apologize', 'So true', \"Media won't report\", 'Big trouble', 'Fantastic job', 'Stay tuned']]\n"
     ]
    }
   ],
   "source": [
    "# Wir können auch Listen von Listen erstellen!\n",
    "best_words = [part1, part2, part3, part4]\n",
    "print(best_words)"
   ]
  },
  {
   "cell_type": "markdown",
   "metadata": {},
   "source": [
    "### Den Tweet-Generator bauen\n",
    " \n",
    "- Nimm jeweils ein zufälliges wort von jeder part1..4 liste. \n",
    "- Füge es zu unserem satz hinzu. \n",
    "- Wenn du fertig bist gib unseren satz als string aus. \n",
    "- z.B. Hillary, nasty tone, had a much smaller crowd. Media won't report!"
   ]
  },
  {
   "cell_type": "code",
   "execution_count": 61,
   "metadata": {},
   "outputs": [
    {
     "data": {
      "text/plain": [
       "'Obama nasty tone, rigged the election. So true'"
      ]
     },
     "execution_count": 61,
     "metadata": {},
     "output_type": "execute_result"
    }
   ],
   "source": [
    "import random \n",
    "sentence = []\n",
    "wort1 = part1[random.randint(0, len(part1))]\n",
    "wort2 = part2[random.randint(0, len(part2))]\n",
    "wort3 = part3[random.randint(0, len(part3))]\n",
    "wort4 = part4[random.randint(0, len(part4))]\n",
    "\" \".join([wort1,wort2,wort3,wort4]) #"
   ]
  },
  {
   "cell_type": "code",
   "execution_count": 60,
   "metadata": {},
   "outputs": [
    {
     "name": "stdout",
     "output_type": "stream",
     "text": [
      "The Democrats no talent, got destroyed by my ratings. So sad\n"
     ]
    }
   ],
   "source": [
    "#http://pythonfiddle.com/random-sentence-generator/\n",
    "import random\n",
    "part1 = [\"Putin,\", \"Hillary,\", \"Obama\", \"Fake News,\", \"Mexico,\", \"Arnold Schwarzenegger\", \"The Democrats\"]\n",
    "part2 = [\"no talent,\", \"on the way down,\", \"really poor numbers,\", \"nasty tone,\", \"looking like a fool,\", \"bad hombre,\"]\n",
    "part3 = [\"got destroyed by my ratings.\", \"rigged the election.\", \"had a much smaller crowd.\", \"will pay for the wall.\"]\n",
    "part4 = [\"So sad\", \"Apologize\", \"So true\", \"Media won't report\", \"Big trouble\", \"Fantastic job\", \"Stay tuned\"]\n",
    "\n",
    "print(random.choice(part1), random.choice(part2), random.choice(part3), random.choice(part4))"
   ]
  },
  {
   "cell_type": "code",
   "execution_count": null,
   "metadata": {},
   "outputs": [],
   "source": []
  }
 ],
 "metadata": {
  "kernelspec": {
   "display_name": "Python 3",
   "language": "python",
   "name": "python3"
  },
  "language_info": {
   "codemirror_mode": {
    "name": "ipython",
    "version": 3
   },
   "file_extension": ".py",
   "mimetype": "text/x-python",
   "name": "python",
   "nbconvert_exporter": "python",
   "pygments_lexer": "ipython3",
   "version": "3.7.3"
  }
 },
 "nbformat": 4,
 "nbformat_minor": 2
}
