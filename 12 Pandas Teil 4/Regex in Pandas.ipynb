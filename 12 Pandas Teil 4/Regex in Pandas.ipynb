{
 "cells": [
  {
   "cell_type": "markdown",
   "metadata": {},
   "source": [
    "# Regex in Pandas"
   ]
  },
  {
   "cell_type": "markdown",
   "metadata": {},
   "source": [
    "**Inhalt:** Regular Expressions in Pandas anwenden\n",
    "\n",
    "**Nötige Skills:** Regex in Python\n",
    "\n",
    "**Lernziele:**\n",
    "- Ein praktisches Beispiel kennenlernen, wo Regex nützlich sein kann"
   ]
  },
  {
   "cell_type": "markdown",
   "metadata": {},
   "source": [
    "# Das Beispiel"
   ]
  },
  {
   "cell_type": "markdown",
   "metadata": {},
   "source": [
    "Das Bundesamt für Statistik stellt oft Dateien in verknorkster Form zur Verfügung, zum Beispiel, wenn man Auswertungen nach Gemeinden, Bezirken und Kantonen über das interaktive Portal generieren lässt: https://www.pxweb.bfs.admin.ch/pxweb/de/\n",
    "\n",
    "Das vorliegende Beispiel beinhaltet die Bevölkerungszahlen, gegliedert nach Zivilstand einerseits (ledig, verheiratet, etc) und nach räumlicher Struktur (Gemeinden, Bezirke, Kantone) andererseits.\n",
    "\n",
    "Das File ist gespeichert unter `dataprojects/BFS/px-x-0102010000_103.xlsx`"
   ]
  },
  {
   "cell_type": "markdown",
   "metadata": {},
   "source": [
    "Unser 1. Ziel ist: Wir wollen die Tabelle filtern\n",
    "- nur die Gemeinden\n",
    "- nur die Bezirke\n",
    "- nur die Kantone"
   ]
  },
  {
   "cell_type": "markdown",
   "metadata": {
    "collapsed": true
   },
   "source": [
    "Unser 2. Ziel ist: Wir wollen bei den Gemeinden die jeweilige Nummer isolieren"
   ]
  },
  {
   "cell_type": "markdown",
   "metadata": {},
   "source": [
    "## Vorbereitung"
   ]
  },
  {
   "cell_type": "code",
   "execution_count": 1,
   "metadata": {},
   "outputs": [],
   "source": [
    "import pandas as pd"
   ]
  },
  {
   "cell_type": "code",
   "execution_count": 2,
   "metadata": {},
   "outputs": [],
   "source": [
    "import re"
   ]
  },
  {
   "cell_type": "code",
   "execution_count": 3,
   "metadata": {},
   "outputs": [],
   "source": [
    "%matplotlib inline"
   ]
  },
  {
   "cell_type": "markdown",
   "metadata": {},
   "source": [
    "## Datei laden"
   ]
  },
  {
   "cell_type": "code",
   "execution_count": 4,
   "metadata": {},
   "outputs": [],
   "source": [
    "path = 'dataprojects/BFS/px-x-0102010000_103.xlsx'"
   ]
  },
  {
   "cell_type": "code",
   "execution_count": 5,
   "metadata": {},
   "outputs": [],
   "source": [
    "df = pd.read_excel(path)"
   ]
  },
  {
   "cell_type": "markdown",
   "metadata": {},
   "source": [
    "## Explorieren"
   ]
  },
  {
   "cell_type": "code",
   "execution_count": 6,
   "metadata": {},
   "outputs": [
    {
     "data": {
      "text/html": [
       "<div>\n",
       "<style scoped>\n",
       "    .dataframe tbody tr th:only-of-type {\n",
       "        vertical-align: middle;\n",
       "    }\n",
       "\n",
       "    .dataframe tbody tr th {\n",
       "        vertical-align: top;\n",
       "    }\n",
       "\n",
       "    .dataframe thead th {\n",
       "        text-align: right;\n",
       "    }\n",
       "</style>\n",
       "<table border=\"1\" class=\"dataframe\">\n",
       "  <thead>\n",
       "    <tr style=\"text-align: right;\">\n",
       "      <th></th>\n",
       "      <th>Einheit</th>\n",
       "      <th>Zivilstand</th>\n",
       "      <th>Anzahl</th>\n",
       "    </tr>\n",
       "  </thead>\n",
       "  <tbody>\n",
       "    <tr>\n",
       "      <td>0</td>\n",
       "      <td>Schweiz</td>\n",
       "      <td>Ledig</td>\n",
       "      <td>3650651</td>\n",
       "    </tr>\n",
       "    <tr>\n",
       "      <td>1</td>\n",
       "      <td>Schweiz</td>\n",
       "      <td>Verheiratet</td>\n",
       "      <td>3583008</td>\n",
       "    </tr>\n",
       "    <tr>\n",
       "      <td>2</td>\n",
       "      <td>Schweiz</td>\n",
       "      <td>Verwitwet</td>\n",
       "      <td>407408</td>\n",
       "    </tr>\n",
       "    <tr>\n",
       "      <td>3</td>\n",
       "      <td>Schweiz</td>\n",
       "      <td>Geschieden</td>\n",
       "      <td>685622</td>\n",
       "    </tr>\n",
       "    <tr>\n",
       "      <td>4</td>\n",
       "      <td>- Zürich</td>\n",
       "      <td>Ledig</td>\n",
       "      <td>666873</td>\n",
       "    </tr>\n",
       "    <tr>\n",
       "      <td>5</td>\n",
       "      <td>- Zürich</td>\n",
       "      <td>Verheiratet</td>\n",
       "      <td>610396</td>\n",
       "    </tr>\n",
       "    <tr>\n",
       "      <td>6</td>\n",
       "      <td>- Zürich</td>\n",
       "      <td>Verwitwet</td>\n",
       "      <td>63173</td>\n",
       "    </tr>\n",
       "    <tr>\n",
       "      <td>7</td>\n",
       "      <td>- Zürich</td>\n",
       "      <td>Geschieden</td>\n",
       "      <td>125889</td>\n",
       "    </tr>\n",
       "    <tr>\n",
       "      <td>8</td>\n",
       "      <td>&gt;&gt; Bezirk Affoltern</td>\n",
       "      <td>Ledig</td>\n",
       "      <td>21785</td>\n",
       "    </tr>\n",
       "    <tr>\n",
       "      <td>9</td>\n",
       "      <td>&gt;&gt; Bezirk Affoltern</td>\n",
       "      <td>Verheiratet</td>\n",
       "      <td>23865</td>\n",
       "    </tr>\n",
       "    <tr>\n",
       "      <td>10</td>\n",
       "      <td>&gt;&gt; Bezirk Affoltern</td>\n",
       "      <td>Verwitwet</td>\n",
       "      <td>1875</td>\n",
       "    </tr>\n",
       "    <tr>\n",
       "      <td>11</td>\n",
       "      <td>&gt;&gt; Bezirk Affoltern</td>\n",
       "      <td>Geschieden</td>\n",
       "      <td>4076</td>\n",
       "    </tr>\n",
       "    <tr>\n",
       "      <td>12</td>\n",
       "      <td>......0001 Aeugst am Albis</td>\n",
       "      <td>Ledig</td>\n",
       "      <td>852</td>\n",
       "    </tr>\n",
       "    <tr>\n",
       "      <td>13</td>\n",
       "      <td>......0001 Aeugst am Albis</td>\n",
       "      <td>Verheiratet</td>\n",
       "      <td>908</td>\n",
       "    </tr>\n",
       "    <tr>\n",
       "      <td>14</td>\n",
       "      <td>......0001 Aeugst am Albis</td>\n",
       "      <td>Verwitwet</td>\n",
       "      <td>74</td>\n",
       "    </tr>\n",
       "    <tr>\n",
       "      <td>15</td>\n",
       "      <td>......0001 Aeugst am Albis</td>\n",
       "      <td>Geschieden</td>\n",
       "      <td>147</td>\n",
       "    </tr>\n",
       "    <tr>\n",
       "      <td>16</td>\n",
       "      <td>......0002 Affoltern am Albis</td>\n",
       "      <td>Ledig</td>\n",
       "      <td>5000</td>\n",
       "    </tr>\n",
       "    <tr>\n",
       "      <td>17</td>\n",
       "      <td>......0002 Affoltern am Albis</td>\n",
       "      <td>Verheiratet</td>\n",
       "      <td>5159</td>\n",
       "    </tr>\n",
       "    <tr>\n",
       "      <td>18</td>\n",
       "      <td>......0002 Affoltern am Albis</td>\n",
       "      <td>Verwitwet</td>\n",
       "      <td>545</td>\n",
       "    </tr>\n",
       "    <tr>\n",
       "      <td>19</td>\n",
       "      <td>......0002 Affoltern am Albis</td>\n",
       "      <td>Geschieden</td>\n",
       "      <td>1004</td>\n",
       "    </tr>\n",
       "  </tbody>\n",
       "</table>\n",
       "</div>"
      ],
      "text/plain": [
       "                          Einheit   Zivilstand   Anzahl\n",
       "0                         Schweiz        Ledig  3650651\n",
       "1                         Schweiz  Verheiratet  3583008\n",
       "2                         Schweiz    Verwitwet   407408\n",
       "3                         Schweiz   Geschieden   685622\n",
       "4                        - Zürich        Ledig   666873\n",
       "5                        - Zürich  Verheiratet   610396\n",
       "6                        - Zürich    Verwitwet    63173\n",
       "7                        - Zürich   Geschieden   125889\n",
       "8             >> Bezirk Affoltern        Ledig    21785\n",
       "9             >> Bezirk Affoltern  Verheiratet    23865\n",
       "10            >> Bezirk Affoltern    Verwitwet     1875\n",
       "11            >> Bezirk Affoltern   Geschieden     4076\n",
       "12     ......0001 Aeugst am Albis        Ledig      852\n",
       "13     ......0001 Aeugst am Albis  Verheiratet      908\n",
       "14     ......0001 Aeugst am Albis    Verwitwet       74\n",
       "15     ......0001 Aeugst am Albis   Geschieden      147\n",
       "16  ......0002 Affoltern am Albis        Ledig     5000\n",
       "17  ......0002 Affoltern am Albis  Verheiratet     5159\n",
       "18  ......0002 Affoltern am Albis    Verwitwet      545\n",
       "19  ......0002 Affoltern am Albis   Geschieden     1004"
      ]
     },
     "execution_count": 6,
     "metadata": {},
     "output_type": "execute_result"
    }
   ],
   "source": [
    "df.head(20)"
   ]
  },
  {
   "cell_type": "markdown",
   "metadata": {},
   "source": [
    "Welche Einheitstypen gibt es? Und welches Muster haben sie?\n",
    "- Gemeinde (\"...... 9999 Gemeindename\")\n",
    "- Bezirk (\">> Bezirsname\")\n",
    "- Kantone (\"- Kantonsname\")\n",
    "- Land (\"Land\")"
   ]
  },
  {
   "cell_type": "markdown",
   "metadata": {},
   "source": [
    "## Pandas-Funktionen, die Regex brauchen können"
   ]
  },
  {
   "cell_type": "markdown",
   "metadata": {},
   "source": [
    "Einige Befehle heissen leicht anders, funktionieren aber sehr ähnlich wie in der re.Library\n",
    "\n",
    "- **`str.contains(r\"regex\")`**: das Pendant zu `re.search()` - ja/nein-Antwort\n",
    "\n",
    "- **`str.extract(r\"regex\")`**: auch ähnlich wie `re.search()` - Suchergebnis als Antwort\n",
    "\n",
    "- **`str.replace(r\"regex\", \"str\")`**: das Pendant zu `re.sub()` - ersetzt Match mit String"
   ]
  },
  {
   "cell_type": "markdown",
   "metadata": {},
   "source": [
    "Wir wenden diese Funktionen jetzt an."
   ]
  },
  {
   "cell_type": "markdown",
   "metadata": {},
   "source": [
    "### Aber zuerst ..."
   ]
  },
  {
   "cell_type": "markdown",
   "metadata": {},
   "source": [
    "**Quiz:** Zuerst brauchen wir die Regex-Ausdrücke, um die Einheiten zu erkennen.\n",
    "\n",
    "Am besten mit Tests beginnen, ob die Regex an einer Einheit anschlägt - und jeweils auch testen, ob die Regex bei Einheiten, die wir *nicht* wollen, auch *nicht* anschlägt."
   ]
  },
  {
   "cell_type": "markdown",
   "metadata": {},
   "source": [
    "**Test für Kantone**"
   ]
  },
  {
   "cell_type": "code",
   "execution_count": 9,
   "metadata": {},
   "outputs": [],
   "source": [
    "# Unsere Regex\n",
    "regex_k = r\"-\\s\\w*\\b\"\n",
    "#oder simpler: r\"^-\""
   ]
  },
  {
   "cell_type": "code",
   "execution_count": 10,
   "metadata": {},
   "outputs": [
    {
     "data": {
      "text/plain": [
       "<re.Match object; span=(0, 8), match='- Aargau'>"
      ]
     },
     "execution_count": 10,
     "metadata": {},
     "output_type": "execute_result"
    }
   ],
   "source": [
    "# Schlägt die regex bei den Kantonen an?\n",
    "# (Gut ist, wenn wir ein \"Match\"-Objekt erhalten)\n",
    "re.search(regex_k, \"- Aargau\")"
   ]
  },
  {
   "cell_type": "code",
   "execution_count": 11,
   "metadata": {},
   "outputs": [],
   "source": [
    "# Schlägt die regex bei den Bezirken NICHT an?\n",
    "# (Gut ist hier, wenn wir nichts zurückerhalten)\n",
    "re.search(regex_k, \">> Wahlkreis Luzern-Stadt\")"
   ]
  },
  {
   "cell_type": "code",
   "execution_count": 12,
   "metadata": {},
   "outputs": [],
   "source": [
    "# Schlägt die regex bei den Gemeinden NICHT an?\n",
    "re.search(regex_k, \"......0001 Aeugst am Albis\")"
   ]
  },
  {
   "cell_type": "markdown",
   "metadata": {},
   "source": [
    "**Test für Bezirke**"
   ]
  },
  {
   "cell_type": "code",
   "execution_count": 13,
   "metadata": {},
   "outputs": [],
   "source": [
    "# Unsere Regex\n",
    "regex_b = r\"^>>\""
   ]
  },
  {
   "cell_type": "code",
   "execution_count": 15,
   "metadata": {},
   "outputs": [],
   "source": [
    "# Schlägt die regex bei den Bezirken an?\n",
    "re.search(regex_b, \"- Aargau\")"
   ]
  },
  {
   "cell_type": "code",
   "execution_count": 16,
   "metadata": {},
   "outputs": [
    {
     "data": {
      "text/plain": [
       "<re.Match object; span=(0, 2), match='>>'>"
      ]
     },
     "execution_count": 16,
     "metadata": {},
     "output_type": "execute_result"
    }
   ],
   "source": [
    "# Schlägt die regex bei den Kantonen NICHT an?\n",
    "re.search(regex_b, \">> Wahlkreis Luzern-Stadt\")"
   ]
  },
  {
   "cell_type": "code",
   "execution_count": 17,
   "metadata": {},
   "outputs": [],
   "source": [
    "# Schlägt die regex bei den Gemeinden NICHT an?\n",
    "re.search(regex_b, \"......0001 Aeugst am Albis\")"
   ]
  },
  {
   "cell_type": "markdown",
   "metadata": {},
   "source": [
    "**Test für Gemeinden**"
   ]
  },
  {
   "cell_type": "code",
   "execution_count": 18,
   "metadata": {},
   "outputs": [],
   "source": [
    "# Unsere Regex\n",
    "regex_g = r\"\\.{6}\""
   ]
  },
  {
   "cell_type": "code",
   "execution_count": 19,
   "metadata": {},
   "outputs": [
    {
     "data": {
      "text/plain": [
       "<re.Match object; span=(0, 6), match='......'>"
      ]
     },
     "execution_count": 19,
     "metadata": {},
     "output_type": "execute_result"
    }
   ],
   "source": [
    "# Test für Gemeinde\n",
    "re.search(regex_g, \"......0001 Aeugst am Albis\")"
   ]
  },
  {
   "cell_type": "code",
   "execution_count": 20,
   "metadata": {},
   "outputs": [],
   "source": [
    "# Schlägt die regex bei den Kantonen NICHT an?\n",
    "re.search(regex_g, \">> Wahlkreis Luzern-Stadt\")"
   ]
  },
  {
   "cell_type": "code",
   "execution_count": 21,
   "metadata": {},
   "outputs": [],
   "source": [
    "# Schlägt die regex bei den Bezirken NICHT an?\n",
    "re.search(regex_g, \"- Aargau\")"
   ]
  },
  {
   "cell_type": "markdown",
   "metadata": {},
   "source": [
    "## 1. Daten filtern"
   ]
  },
  {
   "cell_type": "markdown",
   "metadata": {},
   "source": [
    "Nachdem wir nun die passenden Regex-Ausdrücke gefunden haben, können wir unsere Daten filtern.\n",
    "\n",
    "Ziel: Wir erstellen ein separates DF für Gemeinden, Bezirke, Kantone."
   ]
  },
  {
   "cell_type": "markdown",
   "metadata": {},
   "source": [
    "Hier können wir die Funktion `str.contains()` gut brauchen.\n",
    "\n",
    "Wir testen damit mal, ob die Einträge in der Spalte \"Einheit\" eine Gemeinde sind:"
   ]
  },
  {
   "cell_type": "code",
   "execution_count": 22,
   "metadata": {},
   "outputs": [
    {
     "data": {
      "text/plain": [
       "0       False\n",
       "1       False\n",
       "2       False\n",
       "3       False\n",
       "4       False\n",
       "        ...  \n",
       "9991     True\n",
       "9992     True\n",
       "9993     True\n",
       "9994     True\n",
       "9995     True\n",
       "Name: Einheit, Length: 9996, dtype: bool"
      ]
     },
     "execution_count": 22,
     "metadata": {},
     "output_type": "execute_result"
    }
   ],
   "source": [
    "df['Einheit'].str.contains(regex_g)"
   ]
  },
  {
   "cell_type": "markdown",
   "metadata": {},
   "source": [
    "Basierend auf dieser True/False-Liste können wir nun die Tabelle filtern."
   ]
  },
  {
   "cell_type": "code",
   "execution_count": 23,
   "metadata": {},
   "outputs": [
    {
     "data": {
      "text/html": [
       "<div>\n",
       "<style scoped>\n",
       "    .dataframe tbody tr th:only-of-type {\n",
       "        vertical-align: middle;\n",
       "    }\n",
       "\n",
       "    .dataframe tbody tr th {\n",
       "        vertical-align: top;\n",
       "    }\n",
       "\n",
       "    .dataframe thead th {\n",
       "        text-align: right;\n",
       "    }\n",
       "</style>\n",
       "<table border=\"1\" class=\"dataframe\">\n",
       "  <thead>\n",
       "    <tr style=\"text-align: right;\">\n",
       "      <th></th>\n",
       "      <th>Einheit</th>\n",
       "      <th>Zivilstand</th>\n",
       "      <th>Anzahl</th>\n",
       "    </tr>\n",
       "  </thead>\n",
       "  <tbody>\n",
       "    <tr>\n",
       "      <td>12</td>\n",
       "      <td>......0001 Aeugst am Albis</td>\n",
       "      <td>Ledig</td>\n",
       "      <td>852</td>\n",
       "    </tr>\n",
       "    <tr>\n",
       "      <td>13</td>\n",
       "      <td>......0001 Aeugst am Albis</td>\n",
       "      <td>Verheiratet</td>\n",
       "      <td>908</td>\n",
       "    </tr>\n",
       "    <tr>\n",
       "      <td>14</td>\n",
       "      <td>......0001 Aeugst am Albis</td>\n",
       "      <td>Verwitwet</td>\n",
       "      <td>74</td>\n",
       "    </tr>\n",
       "    <tr>\n",
       "      <td>15</td>\n",
       "      <td>......0001 Aeugst am Albis</td>\n",
       "      <td>Geschieden</td>\n",
       "      <td>147</td>\n",
       "    </tr>\n",
       "    <tr>\n",
       "      <td>16</td>\n",
       "      <td>......0002 Affoltern am Albis</td>\n",
       "      <td>Ledig</td>\n",
       "      <td>5000</td>\n",
       "    </tr>\n",
       "    <tr>\n",
       "      <td>...</td>\n",
       "      <td>...</td>\n",
       "      <td>...</td>\n",
       "      <td>...</td>\n",
       "    </tr>\n",
       "    <tr>\n",
       "      <td>9991</td>\n",
       "      <td>......6809 Haute-Ajoie</td>\n",
       "      <td>Geschieden</td>\n",
       "      <td>69</td>\n",
       "    </tr>\n",
       "    <tr>\n",
       "      <td>9992</td>\n",
       "      <td>......6810 La Baroche</td>\n",
       "      <td>Ledig</td>\n",
       "      <td>490</td>\n",
       "    </tr>\n",
       "    <tr>\n",
       "      <td>9993</td>\n",
       "      <td>......6810 La Baroche</td>\n",
       "      <td>Verheiratet</td>\n",
       "      <td>518</td>\n",
       "    </tr>\n",
       "    <tr>\n",
       "      <td>9994</td>\n",
       "      <td>......6810 La Baroche</td>\n",
       "      <td>Verwitwet</td>\n",
       "      <td>75</td>\n",
       "    </tr>\n",
       "    <tr>\n",
       "      <td>9995</td>\n",
       "      <td>......6810 La Baroche</td>\n",
       "      <td>Geschieden</td>\n",
       "      <td>100</td>\n",
       "    </tr>\n",
       "  </tbody>\n",
       "</table>\n",
       "<p>9296 rows × 3 columns</p>\n",
       "</div>"
      ],
      "text/plain": [
       "                            Einheit   Zivilstand  Anzahl\n",
       "12       ......0001 Aeugst am Albis        Ledig     852\n",
       "13       ......0001 Aeugst am Albis  Verheiratet     908\n",
       "14       ......0001 Aeugst am Albis    Verwitwet      74\n",
       "15       ......0001 Aeugst am Albis   Geschieden     147\n",
       "16    ......0002 Affoltern am Albis        Ledig    5000\n",
       "...                             ...          ...     ...\n",
       "9991         ......6809 Haute-Ajoie   Geschieden      69\n",
       "9992          ......6810 La Baroche        Ledig     490\n",
       "9993          ......6810 La Baroche  Verheiratet     518\n",
       "9994          ......6810 La Baroche    Verwitwet      75\n",
       "9995          ......6810 La Baroche   Geschieden     100\n",
       "\n",
       "[9296 rows x 3 columns]"
      ]
     },
     "execution_count": 23,
     "metadata": {},
     "output_type": "execute_result"
    }
   ],
   "source": [
    "df[df['Einheit'].str.contains(regex_g)]"
   ]
  },
  {
   "cell_type": "markdown",
   "metadata": {},
   "source": [
    "Wir speichern den Output in einer separaten DF (als Kopie, damit wir nachher keinen Ärger kriegen)."
   ]
  },
  {
   "cell_type": "code",
   "execution_count": 24,
   "metadata": {},
   "outputs": [],
   "source": [
    "df_g = df[df['Einheit'].str.contains(regex_g)].copy()"
   ]
  },
  {
   "cell_type": "markdown",
   "metadata": {},
   "source": [
    "**Quiz:** Erstellen Sie zwei weitere Dataframes, in denen nur die Kantone und Bezirke sind."
   ]
  },
  {
   "cell_type": "code",
   "execution_count": 25,
   "metadata": {},
   "outputs": [],
   "source": [
    "df_k = df[df['Einheit'].str.contains(regex_k)].copy()"
   ]
  },
  {
   "cell_type": "code",
   "execution_count": 26,
   "metadata": {},
   "outputs": [],
   "source": [
    "df_b = df[df['Einheit'].str.contains(regex_b)].copy()"
   ]
  },
  {
   "cell_type": "markdown",
   "metadata": {},
   "source": [
    "Jetzt haben wir drei DataFrames mit den Daten zur Schweiz, den Kantonen und den Gemeinden. "
   ]
  },
  {
   "cell_type": "markdown",
   "metadata": {},
   "source": [
    "## 2. Daten extrahieren"
   ]
  },
  {
   "cell_type": "markdown",
   "metadata": {},
   "source": [
    "Wir wenden uns den Gemeinden zu. Unser Ziel: Die Gemeindenummer in eine separate Spalte ziehen."
   ]
  },
  {
   "cell_type": "code",
   "execution_count": 27,
   "metadata": {},
   "outputs": [
    {
     "data": {
      "text/html": [
       "<div>\n",
       "<style scoped>\n",
       "    .dataframe tbody tr th:only-of-type {\n",
       "        vertical-align: middle;\n",
       "    }\n",
       "\n",
       "    .dataframe tbody tr th {\n",
       "        vertical-align: top;\n",
       "    }\n",
       "\n",
       "    .dataframe thead th {\n",
       "        text-align: right;\n",
       "    }\n",
       "</style>\n",
       "<table border=\"1\" class=\"dataframe\">\n",
       "  <thead>\n",
       "    <tr style=\"text-align: right;\">\n",
       "      <th></th>\n",
       "      <th>Einheit</th>\n",
       "      <th>Zivilstand</th>\n",
       "      <th>Anzahl</th>\n",
       "    </tr>\n",
       "  </thead>\n",
       "  <tbody>\n",
       "    <tr>\n",
       "      <td>12</td>\n",
       "      <td>......0001 Aeugst am Albis</td>\n",
       "      <td>Ledig</td>\n",
       "      <td>852</td>\n",
       "    </tr>\n",
       "    <tr>\n",
       "      <td>13</td>\n",
       "      <td>......0001 Aeugst am Albis</td>\n",
       "      <td>Verheiratet</td>\n",
       "      <td>908</td>\n",
       "    </tr>\n",
       "  </tbody>\n",
       "</table>\n",
       "</div>"
      ],
      "text/plain": [
       "                       Einheit   Zivilstand  Anzahl\n",
       "12  ......0001 Aeugst am Albis        Ledig     852\n",
       "13  ......0001 Aeugst am Albis  Verheiratet     908"
      ]
     },
     "execution_count": 27,
     "metadata": {},
     "output_type": "execute_result"
    }
   ],
   "source": [
    "df_g.head(2)"
   ]
  },
  {
   "cell_type": "markdown",
   "metadata": {},
   "source": [
    "Hier kommt die Funktion `str.extract()` gelegen. Um sie zu benutzen, müssen wir zwei Dinge wissen:\n",
    "1. die Regex, die zu dem gesamten Ausdruck passt.\n",
    "2. Den Teil der Regex, den wir in Klammern `()` setzen und extrahieren wollen."
   ]
  },
  {
   "cell_type": "code",
   "execution_count": 28,
   "metadata": {},
   "outputs": [
    {
     "data": {
      "text/html": [
       "<div>\n",
       "<style scoped>\n",
       "    .dataframe tbody tr th:only-of-type {\n",
       "        vertical-align: middle;\n",
       "    }\n",
       "\n",
       "    .dataframe tbody tr th {\n",
       "        vertical-align: top;\n",
       "    }\n",
       "\n",
       "    .dataframe thead th {\n",
       "        text-align: right;\n",
       "    }\n",
       "</style>\n",
       "<table border=\"1\" class=\"dataframe\">\n",
       "  <thead>\n",
       "    <tr style=\"text-align: right;\">\n",
       "      <th></th>\n",
       "      <th>0</th>\n",
       "    </tr>\n",
       "  </thead>\n",
       "  <tbody>\n",
       "    <tr>\n",
       "      <td>12</td>\n",
       "      <td>0001</td>\n",
       "    </tr>\n",
       "    <tr>\n",
       "      <td>13</td>\n",
       "      <td>0001</td>\n",
       "    </tr>\n",
       "    <tr>\n",
       "      <td>14</td>\n",
       "      <td>0001</td>\n",
       "    </tr>\n",
       "    <tr>\n",
       "      <td>15</td>\n",
       "      <td>0001</td>\n",
       "    </tr>\n",
       "    <tr>\n",
       "      <td>16</td>\n",
       "      <td>0002</td>\n",
       "    </tr>\n",
       "    <tr>\n",
       "      <td>...</td>\n",
       "      <td>...</td>\n",
       "    </tr>\n",
       "    <tr>\n",
       "      <td>9991</td>\n",
       "      <td>6809</td>\n",
       "    </tr>\n",
       "    <tr>\n",
       "      <td>9992</td>\n",
       "      <td>6810</td>\n",
       "    </tr>\n",
       "    <tr>\n",
       "      <td>9993</td>\n",
       "      <td>6810</td>\n",
       "    </tr>\n",
       "    <tr>\n",
       "      <td>9994</td>\n",
       "      <td>6810</td>\n",
       "    </tr>\n",
       "    <tr>\n",
       "      <td>9995</td>\n",
       "      <td>6810</td>\n",
       "    </tr>\n",
       "  </tbody>\n",
       "</table>\n",
       "<p>9296 rows × 1 columns</p>\n",
       "</div>"
      ],
      "text/plain": [
       "         0\n",
       "12    0001\n",
       "13    0001\n",
       "14    0001\n",
       "15    0001\n",
       "16    0002\n",
       "...    ...\n",
       "9991  6809\n",
       "9992  6810\n",
       "9993  6810\n",
       "9994  6810\n",
       "9995  6810\n",
       "\n",
       "[9296 rows x 1 columns]"
      ]
     },
     "execution_count": 28,
     "metadata": {},
     "output_type": "execute_result"
    }
   ],
   "source": [
    "#df_g['Einheit'].str.extract(r\"^\\.{6}(\\d{4}) .+$\")#umständlich. Es geht auch einfacher:\n",
    "df_g['Einheit'].str.extract(r\"(\\d{4})\")"
   ]
  },
  {
   "cell_type": "markdown",
   "metadata": {},
   "source": [
    "Wir können den Output dieser Funktion für die neue Spalte setzen."
   ]
  },
  {
   "cell_type": "code",
   "execution_count": 29,
   "metadata": {},
   "outputs": [],
   "source": [
    "df_g['Nummer'] = df_g['Einheit'].str.extract(r\"(\\d{4})\")"
   ]
  },
  {
   "cell_type": "code",
   "execution_count": 30,
   "metadata": {
    "scrolled": true
   },
   "outputs": [
    {
     "data": {
      "text/html": [
       "<div>\n",
       "<style scoped>\n",
       "    .dataframe tbody tr th:only-of-type {\n",
       "        vertical-align: middle;\n",
       "    }\n",
       "\n",
       "    .dataframe tbody tr th {\n",
       "        vertical-align: top;\n",
       "    }\n",
       "\n",
       "    .dataframe thead th {\n",
       "        text-align: right;\n",
       "    }\n",
       "</style>\n",
       "<table border=\"1\" class=\"dataframe\">\n",
       "  <thead>\n",
       "    <tr style=\"text-align: right;\">\n",
       "      <th></th>\n",
       "      <th>Einheit</th>\n",
       "      <th>Zivilstand</th>\n",
       "      <th>Anzahl</th>\n",
       "      <th>Nummer</th>\n",
       "    </tr>\n",
       "  </thead>\n",
       "  <tbody>\n",
       "    <tr>\n",
       "      <td>12</td>\n",
       "      <td>......0001 Aeugst am Albis</td>\n",
       "      <td>Ledig</td>\n",
       "      <td>852</td>\n",
       "      <td>0001</td>\n",
       "    </tr>\n",
       "    <tr>\n",
       "      <td>13</td>\n",
       "      <td>......0001 Aeugst am Albis</td>\n",
       "      <td>Verheiratet</td>\n",
       "      <td>908</td>\n",
       "      <td>0001</td>\n",
       "    </tr>\n",
       "    <tr>\n",
       "      <td>14</td>\n",
       "      <td>......0001 Aeugst am Albis</td>\n",
       "      <td>Verwitwet</td>\n",
       "      <td>74</td>\n",
       "      <td>0001</td>\n",
       "    </tr>\n",
       "    <tr>\n",
       "      <td>15</td>\n",
       "      <td>......0001 Aeugst am Albis</td>\n",
       "      <td>Geschieden</td>\n",
       "      <td>147</td>\n",
       "      <td>0001</td>\n",
       "    </tr>\n",
       "    <tr>\n",
       "      <td>16</td>\n",
       "      <td>......0002 Affoltern am Albis</td>\n",
       "      <td>Ledig</td>\n",
       "      <td>5000</td>\n",
       "      <td>0002</td>\n",
       "    </tr>\n",
       "    <tr>\n",
       "      <td>17</td>\n",
       "      <td>......0002 Affoltern am Albis</td>\n",
       "      <td>Verheiratet</td>\n",
       "      <td>5159</td>\n",
       "      <td>0002</td>\n",
       "    </tr>\n",
       "    <tr>\n",
       "      <td>18</td>\n",
       "      <td>......0002 Affoltern am Albis</td>\n",
       "      <td>Verwitwet</td>\n",
       "      <td>545</td>\n",
       "      <td>0002</td>\n",
       "    </tr>\n",
       "    <tr>\n",
       "      <td>19</td>\n",
       "      <td>......0002 Affoltern am Albis</td>\n",
       "      <td>Geschieden</td>\n",
       "      <td>1004</td>\n",
       "      <td>0002</td>\n",
       "    </tr>\n",
       "    <tr>\n",
       "      <td>20</td>\n",
       "      <td>......0003 Bonstetten</td>\n",
       "      <td>Ledig</td>\n",
       "      <td>2336</td>\n",
       "      <td>0003</td>\n",
       "    </tr>\n",
       "    <tr>\n",
       "      <td>21</td>\n",
       "      <td>......0003 Bonstetten</td>\n",
       "      <td>Verheiratet</td>\n",
       "      <td>2452</td>\n",
       "      <td>0003</td>\n",
       "    </tr>\n",
       "  </tbody>\n",
       "</table>\n",
       "</div>"
      ],
      "text/plain": [
       "                          Einheit   Zivilstand  Anzahl Nummer\n",
       "12     ......0001 Aeugst am Albis        Ledig     852   0001\n",
       "13     ......0001 Aeugst am Albis  Verheiratet     908   0001\n",
       "14     ......0001 Aeugst am Albis    Verwitwet      74   0001\n",
       "15     ......0001 Aeugst am Albis   Geschieden     147   0001\n",
       "16  ......0002 Affoltern am Albis        Ledig    5000   0002\n",
       "17  ......0002 Affoltern am Albis  Verheiratet    5159   0002\n",
       "18  ......0002 Affoltern am Albis    Verwitwet     545   0002\n",
       "19  ......0002 Affoltern am Albis   Geschieden    1004   0002\n",
       "20          ......0003 Bonstetten        Ledig    2336   0003\n",
       "21          ......0003 Bonstetten  Verheiratet    2452   0003"
      ]
     },
     "execution_count": 30,
     "metadata": {},
     "output_type": "execute_result"
    }
   ],
   "source": [
    "df_g.head(10)"
   ]
  },
  {
   "cell_type": "markdown",
   "metadata": {},
   "source": [
    "**Quiz:** Erstellen Sie im Gemeinde-DF eine weitere Spalte (\"Name\"), die den Namen der Gemeinde enthält!"
   ]
  },
  {
   "cell_type": "code",
   "execution_count": 36,
   "metadata": {},
   "outputs": [
    {
     "data": {
      "text/html": [
       "<div>\n",
       "<style scoped>\n",
       "    .dataframe tbody tr th:only-of-type {\n",
       "        vertical-align: middle;\n",
       "    }\n",
       "\n",
       "    .dataframe tbody tr th {\n",
       "        vertical-align: top;\n",
       "    }\n",
       "\n",
       "    .dataframe thead th {\n",
       "        text-align: right;\n",
       "    }\n",
       "</style>\n",
       "<table border=\"1\" class=\"dataframe\">\n",
       "  <thead>\n",
       "    <tr style=\"text-align: right;\">\n",
       "      <th></th>\n",
       "      <th>Einheit</th>\n",
       "      <th>Zivilstand</th>\n",
       "      <th>Anzahl</th>\n",
       "      <th>Nummer</th>\n",
       "      <th>Gemeinde</th>\n",
       "    </tr>\n",
       "  </thead>\n",
       "  <tbody>\n",
       "    <tr>\n",
       "      <td>12</td>\n",
       "      <td>......0001 Aeugst am Albis</td>\n",
       "      <td>Ledig</td>\n",
       "      <td>852</td>\n",
       "      <td>0001</td>\n",
       "      <td>Aeugst am Albis</td>\n",
       "    </tr>\n",
       "    <tr>\n",
       "      <td>13</td>\n",
       "      <td>......0001 Aeugst am Albis</td>\n",
       "      <td>Verheiratet</td>\n",
       "      <td>908</td>\n",
       "      <td>0001</td>\n",
       "      <td>Aeugst am Albis</td>\n",
       "    </tr>\n",
       "    <tr>\n",
       "      <td>14</td>\n",
       "      <td>......0001 Aeugst am Albis</td>\n",
       "      <td>Verwitwet</td>\n",
       "      <td>74</td>\n",
       "      <td>0001</td>\n",
       "      <td>Aeugst am Albis</td>\n",
       "    </tr>\n",
       "    <tr>\n",
       "      <td>15</td>\n",
       "      <td>......0001 Aeugst am Albis</td>\n",
       "      <td>Geschieden</td>\n",
       "      <td>147</td>\n",
       "      <td>0001</td>\n",
       "      <td>Aeugst am Albis</td>\n",
       "    </tr>\n",
       "    <tr>\n",
       "      <td>16</td>\n",
       "      <td>......0002 Affoltern am Albis</td>\n",
       "      <td>Ledig</td>\n",
       "      <td>5000</td>\n",
       "      <td>0002</td>\n",
       "      <td>Affoltern am Albis</td>\n",
       "    </tr>\n",
       "  </tbody>\n",
       "</table>\n",
       "</div>"
      ],
      "text/plain": [
       "                          Einheit   Zivilstand  Anzahl Nummer  \\\n",
       "12     ......0001 Aeugst am Albis        Ledig     852   0001   \n",
       "13     ......0001 Aeugst am Albis  Verheiratet     908   0001   \n",
       "14     ......0001 Aeugst am Albis    Verwitwet      74   0001   \n",
       "15     ......0001 Aeugst am Albis   Geschieden     147   0001   \n",
       "16  ......0002 Affoltern am Albis        Ledig    5000   0002   \n",
       "\n",
       "               Gemeinde  \n",
       "12      Aeugst am Albis  \n",
       "13      Aeugst am Albis  \n",
       "14      Aeugst am Albis  \n",
       "15      Aeugst am Albis  \n",
       "16   Affoltern am Albis  "
      ]
     },
     "execution_count": 36,
     "metadata": {},
     "output_type": "execute_result"
    }
   ],
   "source": [
    "df_g['Gemeinde'] = df_g['Einheit'].str.extract(r\"\\.{6}\\d{4}(.+)$\")\n",
    "df_g.head(5)"
   ]
  },
  {
   "cell_type": "code",
   "execution_count": 39,
   "metadata": {},
   "outputs": [
    {
     "data": {
      "text/plain": [
       "12         ......0001 Aeugst am Albis\n",
       "13         ......0001 Aeugst am Albis\n",
       "14         ......0001 Aeugst am Albis\n",
       "15         ......0001 Aeugst am Albis\n",
       "16      ......0002 Affoltern am Albis\n",
       "                    ...              \n",
       "9991           ......6809 Haute-Ajoie\n",
       "9992            ......6810 La Baroche\n",
       "9993            ......6810 La Baroche\n",
       "9994            ......6810 La Baroche\n",
       "9995            ......6810 La Baroche\n",
       "Name: Einheit, Length: 9296, dtype: object"
      ]
     },
     "execution_count": 39,
     "metadata": {},
     "output_type": "execute_result"
    }
   ],
   "source": [
    "df_g.pop('Einheit')"
   ]
  },
  {
   "cell_type": "code",
   "execution_count": 40,
   "metadata": {},
   "outputs": [
    {
     "data": {
      "text/html": [
       "<div>\n",
       "<style scoped>\n",
       "    .dataframe tbody tr th:only-of-type {\n",
       "        vertical-align: middle;\n",
       "    }\n",
       "\n",
       "    .dataframe tbody tr th {\n",
       "        vertical-align: top;\n",
       "    }\n",
       "\n",
       "    .dataframe thead th {\n",
       "        text-align: right;\n",
       "    }\n",
       "</style>\n",
       "<table border=\"1\" class=\"dataframe\">\n",
       "  <thead>\n",
       "    <tr style=\"text-align: right;\">\n",
       "      <th></th>\n",
       "      <th>Zivilstand</th>\n",
       "      <th>Anzahl</th>\n",
       "      <th>Nummer</th>\n",
       "      <th>Gemeinde</th>\n",
       "    </tr>\n",
       "  </thead>\n",
       "  <tbody>\n",
       "    <tr>\n",
       "      <td>12</td>\n",
       "      <td>Ledig</td>\n",
       "      <td>852</td>\n",
       "      <td>0001</td>\n",
       "      <td>Aeugst am Albis</td>\n",
       "    </tr>\n",
       "    <tr>\n",
       "      <td>13</td>\n",
       "      <td>Verheiratet</td>\n",
       "      <td>908</td>\n",
       "      <td>0001</td>\n",
       "      <td>Aeugst am Albis</td>\n",
       "    </tr>\n",
       "    <tr>\n",
       "      <td>14</td>\n",
       "      <td>Verwitwet</td>\n",
       "      <td>74</td>\n",
       "      <td>0001</td>\n",
       "      <td>Aeugst am Albis</td>\n",
       "    </tr>\n",
       "    <tr>\n",
       "      <td>15</td>\n",
       "      <td>Geschieden</td>\n",
       "      <td>147</td>\n",
       "      <td>0001</td>\n",
       "      <td>Aeugst am Albis</td>\n",
       "    </tr>\n",
       "    <tr>\n",
       "      <td>16</td>\n",
       "      <td>Ledig</td>\n",
       "      <td>5000</td>\n",
       "      <td>0002</td>\n",
       "      <td>Affoltern am Albis</td>\n",
       "    </tr>\n",
       "    <tr>\n",
       "      <td>...</td>\n",
       "      <td>...</td>\n",
       "      <td>...</td>\n",
       "      <td>...</td>\n",
       "      <td>...</td>\n",
       "    </tr>\n",
       "    <tr>\n",
       "      <td>9991</td>\n",
       "      <td>Geschieden</td>\n",
       "      <td>69</td>\n",
       "      <td>6809</td>\n",
       "      <td>Haute-Ajoie</td>\n",
       "    </tr>\n",
       "    <tr>\n",
       "      <td>9992</td>\n",
       "      <td>Ledig</td>\n",
       "      <td>490</td>\n",
       "      <td>6810</td>\n",
       "      <td>La Baroche</td>\n",
       "    </tr>\n",
       "    <tr>\n",
       "      <td>9993</td>\n",
       "      <td>Verheiratet</td>\n",
       "      <td>518</td>\n",
       "      <td>6810</td>\n",
       "      <td>La Baroche</td>\n",
       "    </tr>\n",
       "    <tr>\n",
       "      <td>9994</td>\n",
       "      <td>Verwitwet</td>\n",
       "      <td>75</td>\n",
       "      <td>6810</td>\n",
       "      <td>La Baroche</td>\n",
       "    </tr>\n",
       "    <tr>\n",
       "      <td>9995</td>\n",
       "      <td>Geschieden</td>\n",
       "      <td>100</td>\n",
       "      <td>6810</td>\n",
       "      <td>La Baroche</td>\n",
       "    </tr>\n",
       "  </tbody>\n",
       "</table>\n",
       "<p>9296 rows × 4 columns</p>\n",
       "</div>"
      ],
      "text/plain": [
       "       Zivilstand  Anzahl Nummer             Gemeinde\n",
       "12          Ledig     852   0001      Aeugst am Albis\n",
       "13    Verheiratet     908   0001      Aeugst am Albis\n",
       "14      Verwitwet      74   0001      Aeugst am Albis\n",
       "15     Geschieden     147   0001      Aeugst am Albis\n",
       "16          Ledig    5000   0002   Affoltern am Albis\n",
       "...           ...     ...    ...                  ...\n",
       "9991   Geschieden      69   6809          Haute-Ajoie\n",
       "9992        Ledig     490   6810           La Baroche\n",
       "9993  Verheiratet     518   6810           La Baroche\n",
       "9994    Verwitwet      75   6810           La Baroche\n",
       "9995   Geschieden     100   6810           La Baroche\n",
       "\n",
       "[9296 rows x 4 columns]"
      ]
     },
     "execution_count": 40,
     "metadata": {},
     "output_type": "execute_result"
    }
   ],
   "source": [
    "df_g"
   ]
  },
  {
   "cell_type": "markdown",
   "metadata": {},
   "source": [
    "## Übung"
   ]
  },
  {
   "cell_type": "markdown",
   "metadata": {},
   "source": [
    "### Teil 1"
   ]
  },
  {
   "cell_type": "markdown",
   "metadata": {},
   "source": [
    "**Hier haben Sie Gelegenheit noch etwas mit den Regex-Funktionen in Pandas zu experimentieren.**"
   ]
  },
  {
   "cell_type": "markdown",
   "metadata": {},
   "source": [
    "Wir arbeiten wieder mit dem Haupt-Dataframe am Anfang: `df`."
   ]
  },
  {
   "cell_type": "markdown",
   "metadata": {},
   "source": [
    "**Aufgabe 1:** Erstellen Sie im DF eine zusätzliche Spalte mit dem Namen \"Typ\". Darin soll stehen, ob es sich bei der betreffenden Zeile um eine Gemeinde, einen Bezirk, einen Kanton oder ein Land handelt.\n",
    "\n",
    "Tipp: Arbeiten Sie mit `df.loc[]`"
   ]
  },
  {
   "cell_type": "code",
   "execution_count": null,
   "metadata": {},
   "outputs": [],
   "source": [
    "df['Typ'] = df.loc['Einheit']"
   ]
  },
  {
   "cell_type": "markdown",
   "metadata": {
    "collapsed": true
   },
   "source": [
    "**Aufgabe 2:** Bereinigen Sie die Bezeichnungen in der Spalte \"Einheit\". Wir wollen keine Nummern und keine Sonderzeichen mehr darin sehen, nur noch die Namen der Gemeinden, Bezirke und Kantone.\n",
    "\n",
    "Tipp: Arbeiten Sie mit `str.replace()`"
   ]
  },
  {
   "cell_type": "code",
   "execution_count": null,
   "metadata": {},
   "outputs": [],
   "source": []
  },
  {
   "cell_type": "code",
   "execution_count": null,
   "metadata": {},
   "outputs": [],
   "source": []
  },
  {
   "cell_type": "code",
   "execution_count": null,
   "metadata": {},
   "outputs": [],
   "source": []
  },
  {
   "cell_type": "code",
   "execution_count": null,
   "metadata": {},
   "outputs": [],
   "source": []
  },
  {
   "cell_type": "code",
   "execution_count": null,
   "metadata": {},
   "outputs": [],
   "source": [
    "# zum Testen, ob es bei den Kantonen funktioniert hat:\n",
    "df[df['Typ'] == 'Kanton'].head(10)"
   ]
  },
  {
   "cell_type": "code",
   "execution_count": null,
   "metadata": {},
   "outputs": [],
   "source": [
    "# zum Testen, ob es bei den Bezirken funktioniert hat:\n",
    "df[df['Typ'] == 'Bezirk'].head(10)"
   ]
  },
  {
   "cell_type": "code",
   "execution_count": null,
   "metadata": {},
   "outputs": [],
   "source": [
    "# zum Testen, ob es bei den Gemeinden funktioniert hat:\n",
    "df[df['Typ'] == 'Gemeinde'].head(10)"
   ]
  },
  {
   "cell_type": "markdown",
   "metadata": {},
   "source": [
    "### Teil 2"
   ]
  },
  {
   "cell_type": "markdown",
   "metadata": {},
   "source": [
    "**Hier können Sie nochmals etwas Pivoting und Plotting trainieren**"
   ]
  },
  {
   "cell_type": "code",
   "execution_count": null,
   "metadata": {},
   "outputs": [],
   "source": [
    "df.to_csv('dataprojects/BFS/Einheiten_kategorisiert.csv', index=False)"
   ]
  },
  {
   "cell_type": "markdown",
   "metadata": {},
   "source": [
    "Zur Sicherheit laden wir die Daten nochmals neu - mit dem Stand der Übung bis hier."
   ]
  },
  {
   "cell_type": "code",
   "execution_count": null,
   "metadata": {},
   "outputs": [],
   "source": [
    "df = pd.read_csv('dataprojects/BFS/Einheiten_kategorisiert.csv')"
   ]
  },
  {
   "cell_type": "markdown",
   "metadata": {},
   "source": [
    "**Aufgabe 1:** Finden Sie die drei Gemeinden mit der höchsten Quote an Verwitweten Personen in der Bevölkerung.\n",
    "\n",
    "Tipp zum Vorgehen:\n",
    "1. DF nach Gemeinden filtern\n",
    "1. DF nach Zivilstand pivotieren\n",
    "1. Total der Bevölkerung mit `sum()` ausrechnen (`axis=1`)\n",
    "1. Verwitweten-Quote ausrechnen\n",
    "1. DF sortieren"
   ]
  },
  {
   "cell_type": "code",
   "execution_count": null,
   "metadata": {},
   "outputs": [],
   "source": [
    "# DF nach gemeinden filtern und pivotieren\n"
   ]
  },
  {
   "cell_type": "code",
   "execution_count": null,
   "metadata": {},
   "outputs": [],
   "source": [
    "# Bevölkerungstotal ausrechnen pro Gemeinde\n"
   ]
  },
  {
   "cell_type": "code",
   "execution_count": null,
   "metadata": {},
   "outputs": [],
   "source": [
    "# Verwitweten-Quote ausrechnen\n"
   ]
  },
  {
   "cell_type": "code",
   "execution_count": null,
   "metadata": {},
   "outputs": [],
   "source": [
    "# Sortieren und Top 3\n"
   ]
  },
  {
   "cell_type": "code",
   "execution_count": null,
   "metadata": {},
   "outputs": [],
   "source": []
  },
  {
   "cell_type": "code",
   "execution_count": null,
   "metadata": {},
   "outputs": [],
   "source": []
  },
  {
   "cell_type": "markdown",
   "metadata": {},
   "source": [
    "**Aufgabe 2:** Welcher Kanton hat die höchste Ledigen-Quote?"
   ]
  },
  {
   "cell_type": "code",
   "execution_count": null,
   "metadata": {},
   "outputs": [],
   "source": [
    "# DF nach Kantonen filtern und pivotieren\n"
   ]
  },
  {
   "cell_type": "code",
   "execution_count": null,
   "metadata": {},
   "outputs": [],
   "source": [
    "# Bevölkerungstotal ausrechnen pro Kanton\n"
   ]
  },
  {
   "cell_type": "code",
   "execution_count": null,
   "metadata": {},
   "outputs": [],
   "source": [
    "# Ledigen-Quote ausrechnen\n"
   ]
  },
  {
   "cell_type": "code",
   "execution_count": null,
   "metadata": {},
   "outputs": [],
   "source": [
    "# Sortieren und obersten anzeigen\n"
   ]
  },
  {
   "cell_type": "code",
   "execution_count": null,
   "metadata": {},
   "outputs": [],
   "source": []
  },
  {
   "cell_type": "code",
   "execution_count": null,
   "metadata": {},
   "outputs": [],
   "source": []
  },
  {
   "cell_type": "markdown",
   "metadata": {},
   "source": [
    "**Aufgabe 3:** Zeichnen Sie einen Bar-Chart mit der Verheirateten-Quote aller Kantone\n",
    "\n",
    "Tipp: Benutzen Sie das pivotierte DF, das Sie in Aufgabe 2 erstellt haben."
   ]
  },
  {
   "cell_type": "code",
   "execution_count": null,
   "metadata": {},
   "outputs": [],
   "source": [
    "# Verheirateten-Quote ausrechnen\n"
   ]
  },
  {
   "cell_type": "code",
   "execution_count": null,
   "metadata": {},
   "outputs": [],
   "source": [
    "#Sortieren und plotten\n"
   ]
  },
  {
   "cell_type": "code",
   "execution_count": null,
   "metadata": {},
   "outputs": [],
   "source": []
  },
  {
   "cell_type": "markdown",
   "metadata": {},
   "source": [
    "**Aufgabe 4:** Zeichnen Sie ein Stacked-Bar-Chart mit den relativen Zivilstands-Anteilen in zwei Gemeinden:\n",
    "- Corippo\n",
    "- Meienried\n",
    "\n",
    "Tipp zu Vorgehen:\n",
    "1. DF nach Gemeinden filtern und pivotieren\n",
    "1. Total der Einwohner für jede Gemeinde (in separater Series ablegen)\n",
    "1. Pivotiertes DF mit `div()` durch das Total dividieren (`axis=1`)\n",
    "1. mit `.loc[]` die beiden Gemeinden wählen\n",
    "1. Plot mit `stacked=True`"
   ]
  },
  {
   "cell_type": "code",
   "execution_count": null,
   "metadata": {},
   "outputs": [],
   "source": [
    "# DF nach gemeinden filtern und pivotieren\n"
   ]
  },
  {
   "cell_type": "code",
   "execution_count": null,
   "metadata": {},
   "outputs": [],
   "source": [
    "# Total der Einwohner für jede Gemeinde\n"
   ]
  },
  {
   "cell_type": "code",
   "execution_count": null,
   "metadata": {},
   "outputs": [],
   "source": [
    "# Neues DF mit relativen Werten\n"
   ]
  },
  {
   "cell_type": "code",
   "execution_count": null,
   "metadata": {},
   "outputs": [],
   "source": [
    "# Nur Meienried und Corippo anzeigen\n"
   ]
  },
  {
   "cell_type": "code",
   "execution_count": null,
   "metadata": {},
   "outputs": [],
   "source": [
    "# Plot\n"
   ]
  },
  {
   "cell_type": "code",
   "execution_count": null,
   "metadata": {},
   "outputs": [],
   "source": []
  }
 ],
 "metadata": {
  "kernelspec": {
   "display_name": "Python 3",
   "language": "python",
   "name": "python3"
  },
  "language_info": {
   "codemirror_mode": {
    "name": "ipython",
    "version": 3
   },
   "file_extension": ".py",
   "mimetype": "text/x-python",
   "name": "python",
   "nbconvert_exporter": "python",
   "pygments_lexer": "ipython3",
   "version": "3.7.3"
  }
 },
 "nbformat": 4,
 "nbformat_minor": 2
}
