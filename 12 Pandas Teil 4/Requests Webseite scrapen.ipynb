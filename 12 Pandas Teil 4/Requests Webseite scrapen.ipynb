{
 "cells": [
  {
   "cell_type": "code",
   "execution_count": 1,
   "metadata": {},
   "outputs": [],
   "source": [
    "import requests"
   ]
  },
  {
   "cell_type": "code",
   "execution_count": 8,
   "metadata": {},
   "outputs": [],
   "source": [
    "#aus Google\n",
    "url = \"https://dentist.zahnarztvergleich.ch/zahnarzt.php?geschlecht=0&name=&ort=&kanton=0&sprache=&kategorie=&suche_advanced_search=0\"\n",
    "\n",
    "r = requests.get(url)\n",
    "with open('file.txt', 'w') as file:\n",
    "    file.write(r.text)"
   ]
  },
  {
   "cell_type": "code",
   "execution_count": 16,
   "metadata": {},
   "outputs": [
    {
     "name": "stdout",
     "output_type": "stream",
     "text": [
      "\u001b[34mApplications\u001b[m\u001b[m/\r\n",
      "\u001b[34mCreative Cloud Files\u001b[m\u001b[m/\r\n",
      "\u001b[34mDesktop\u001b[m\u001b[m/\r\n",
      "\u001b[34mDocuments\u001b[m\u001b[m/\r\n",
      "\u001b[34mDownloads\u001b[m\u001b[m/\r\n",
      "\u001b[34mDropbox\u001b[m\u001b[m/\r\n",
      "\u001b[34mLibrary\u001b[m\u001b[m/\r\n",
      "Mit Requests Webseite scrapen (in eine File speichern).ipynb\r\n",
      "\u001b[34mMovies\u001b[m\u001b[m/\r\n",
      "\u001b[34mMusic\u001b[m\u001b[m/\r\n",
      "\u001b[34mOneDrive\u001b[m\u001b[m/\r\n",
      "\u001b[34mOneDrive - SRG SSR\u001b[m\u001b[m/\r\n",
      "Pandas Lernen eBook.pdf\r\n",
      "\u001b[34mPictures\u001b[m\u001b[m/\r\n",
      "\u001b[34mPublic\u001b[m\u001b[m/\r\n",
      "\u001b[34mPy\u001b[m\u001b[m/\r\n",
      "\u001b[34mSecureSafe\u001b[m\u001b[m/\r\n",
      "\u001b[34mSites\u001b[m\u001b[m/\r\n",
      "Untitled.ipynb\r\n",
      "\u001b[34mVirtualBox VMs\u001b[m\u001b[m/\r\n",
      "file.txt\r\n",
      "\u001b[34mmyCloud\u001b[m\u001b[m/\r\n",
      "\u001b[34mpond5\u001b[m\u001b[m/\r\n"
     ]
    }
   ],
   "source": [
    "ls"
   ]
  },
  {
   "cell_type": "markdown",
   "metadata": {},
   "source": [
    "einzeln geht es auch so:"
   ]
  },
  {
   "cell_type": "code",
   "execution_count": 27,
   "metadata": {},
   "outputs": [
    {
     "data": {
      "text/plain": [
       "requests.models.Response"
      ]
     },
     "execution_count": 27,
     "metadata": {},
     "output_type": "execute_result"
    }
   ],
   "source": [
    "url = \"https://www.zahnarztvergleich.ch/zahnarzt.php?p=20&geschlecht=0\"\n",
    "res = requests.get(url)\n",
    "type(res)"
   ]
  },
  {
   "cell_type": "code",
   "execution_count": 29,
   "metadata": {},
   "outputs": [],
   "source": [
    "url = \"https://www.zahnarztvergleich.ch/zahnarzt.php?p=20&geschlecht=0\"\n",
    "res = requests.get(url)\n",
    "with open(\"test.html\", \"w\") as file:\n",
    "    file.write(res.text)   #res ist der Zwischenspeicher. Argument ist text\n",
    "    file.close() #um Zwischenspeicher zu schonen"
   ]
  },
  {
   "cell_type": "markdown",
   "metadata": {},
   "source": [
    "Oder etwas abgewandelt auch so, um 5 Seiten abzufragen. Zuerst bauen wir dafür eine Liste für die URL's, die wir abfragen wollen. "
   ]
  },
  {
   "cell_type": "code",
   "execution_count": 19,
   "metadata": {},
   "outputs": [],
   "source": [
    "number = 0\n",
    "lst = ['20','30','40','50','60']\n",
    "urllst = []\n",
    "\n",
    "for number in lst:\n",
    "    url = \"https://www.zahnarztvergleich.ch/zahnarzt.php?p=\"+ number +\"&geschlecht=0\"\n",
    "    urllst.append(url)"
   ]
  },
  {
   "cell_type": "code",
   "execution_count": 20,
   "metadata": {},
   "outputs": [
    {
     "data": {
      "text/plain": [
       "['https://www.zahnarztvergleich.ch/zahnarzt.php?p=20&geschlecht=0',\n",
       " 'https://www.zahnarztvergleich.ch/zahnarzt.php?p=30&geschlecht=0',\n",
       " 'https://www.zahnarztvergleich.ch/zahnarzt.php?p=40&geschlecht=0',\n",
       " 'https://www.zahnarztvergleich.ch/zahnarzt.php?p=50&geschlecht=0',\n",
       " 'https://www.zahnarztvergleich.ch/zahnarzt.php?p=60&geschlecht=0']"
      ]
     },
     "execution_count": 20,
     "metadata": {},
     "output_type": "execute_result"
    }
   ],
   "source": [
    "urllst"
   ]
  },
  {
   "cell_type": "markdown",
   "metadata": {},
   "source": [
    "Jetzt bauen wir das in die Abfrage der Webseite ein:"
   ]
  },
  {
   "cell_type": "code",
   "execution_count": null,
   "metadata": {},
   "outputs": [],
   "source": [
    "#noch nicht fertig, Barny schickt es noch auf Slack \n",
    "\n",
    "res = requests.get(url)\n",
    "page_content = res.text\n",
    "with open(\"test.html\", \"wb\") as file:\n",
    "    file.write(page_content)\n",
    "    file.close()"
   ]
  }
 ],
 "metadata": {
  "kernelspec": {
   "display_name": "Python 3",
   "language": "python",
   "name": "python3"
  },
  "language_info": {
   "codemirror_mode": {
    "name": "ipython",
    "version": 3
   },
   "file_extension": ".py",
   "mimetype": "text/x-python",
   "name": "python",
   "nbconvert_exporter": "python",
   "pygments_lexer": "ipython3",
   "version": "3.7.3"
  }
 },
 "nbformat": 4,
 "nbformat_minor": 2
}
