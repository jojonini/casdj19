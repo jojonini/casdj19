{
 "cells": [
  {
   "cell_type": "markdown",
   "metadata": {},
   "source": [
    "    Einträge zählen in einer Liste:"
   ]
  },
  {
   "cell_type": "code",
   "execution_count": 16,
   "metadata": {},
   "outputs": [
    {
     "name": "stdout",
     "output_type": "stream",
     "text": [
      "{'Freund': 2, 'Freundin': 1, 'Magrit': 1, 'Bruder': 2, 'Schwester': 1}\n",
      "dict_keys(['Freund', 'Freundin', 'Magrit', 'Bruder', 'Schwester'])\n",
      "dict_values([2, 1, 1, 2, 1])\n"
     ]
    }
   ],
   "source": [
    "liste1 = ('Freund','Freundin','Magrit','Bruder','Schwester','Bruder','Freund')\n",
    "# ok, falsche Klammern. Doch wieso frisst es dies für die Suche trotzdem?\n",
    "d = {}\n",
    "for wort in liste1:\n",
    "    #d[wort] = 1\n",
    "    if wort in d:\n",
    "        d[wort] = d[wort] + 1\n",
    "    else: \n",
    "        d[wort] = 1\n",
    "        \n",
    "print(d)\n",
    "print(d.keys())\n",
    "print(d.values())"
   ]
  },
  {
   "cell_type": "markdown",
   "metadata": {},
   "source": [
    "Jetzt möchte ich die Einträge sortieren. Das müsste eigentlich über die Liste laufen, da ein Dict nicht sortiert werden kann. "
   ]
  },
  {
   "cell_type": "code",
   "execution_count": 20,
   "metadata": {},
   "outputs": [
    {
     "name": "stdout",
     "output_type": "stream",
     "text": [
      "{'Bruder': 3, 'Freund': 3, 'Freundin': 1, 'Magrit': 1, 'Schwester': 1}\n"
     ]
    }
   ],
   "source": [
    "liste2 = ['Freund','Freundin','Magrit','Bruder','Schwester','Bruder','Freund']\n",
    "liste2.append('Bruder')\n",
    "liste2.sort()\n",
    "\n",
    "d1 = {}\n",
    "for wort in liste2:\n",
    "    #d[wort] = 1\n",
    "    if wort in d1:\n",
    "        d1[wort] = d[wort] + 1\n",
    "    else: \n",
    "        d1[wort] = 1\n",
    "        \n",
    "print(d1)"
   ]
  },
  {
   "cell_type": "markdown",
   "metadata": {},
   "source": [
    "Ok, das Resultat ist falsch. Freund wird dreimal gezählt, wohl wegen dem Wortstamm Freund in Freundin!\n",
    "Wie suchen wir jetzt das exakte Wort?\n"
   ]
  },
  {
   "cell_type": "code",
   "execution_count": null,
   "metadata": {},
   "outputs": [],
   "source": []
  }
 ],
 "metadata": {
  "kernelspec": {
   "display_name": "Python 3",
   "language": "python",
   "name": "python3"
  },
  "language_info": {
   "codemirror_mode": {
    "name": "ipython",
    "version": 3
   },
   "file_extension": ".py",
   "mimetype": "text/x-python",
   "name": "python",
   "nbconvert_exporter": "python",
   "pygments_lexer": "ipython3",
   "version": "3.7.3"
  }
 },
 "nbformat": 4,
 "nbformat_minor": 2
}
