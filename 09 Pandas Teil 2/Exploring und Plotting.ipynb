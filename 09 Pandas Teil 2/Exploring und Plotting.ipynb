{
 "cells": [
  {
   "cell_type": "markdown",
   "metadata": {},
   "source": [
    "# Exploring und Plotting"
   ]
  },
  {
   "cell_type": "markdown",
   "metadata": {},
   "source": [
    "**Inhalt:** Selbständige Übung in Gruppen\n",
    "\n",
    "**Nötige Skills:** Erste Schritte mit Pandas\n",
    "\n",
    "**Lernziele:**\n",
    "- Daten herunterladen und einlesbar aufbereiten\n",
    "- Selbständig Daten explorieren und Storyideen testen\n",
    "- Colormaps kennenlernen"
   ]
  },
  {
   "cell_type": "markdown",
   "metadata": {},
   "source": [
    "# Das Beispiel"
   ]
  },
  {
   "cell_type": "markdown",
   "metadata": {},
   "source": [
    "Temperaturdaten von Meteoschweiz.\n",
    "\n",
    "Quelle und Dokumentation: https://www.meteoschweiz.admin.ch/home/klima/schweizer-klima-im-detail/schweizer-temperaturmittel/daten-schweizer-temperaturmittel.html\n",
    "\n",
    "Datenfile: https://www.meteoschweiz.admin.ch/product/input/climate-data/swissmean/10.18751-Climate-Timeseries-CHTM-1.1-swiss.txt\n",
    "\n",
    "Speichern Sie die Datei an einem geeigneten Ort, zB im Unterornder `dataprojects/Meteoschweiz/`"
   ]
  },
  {
   "cell_type": "markdown",
   "metadata": {},
   "source": [
    "## Vorbereitung"
   ]
  },
  {
   "cell_type": "markdown",
   "metadata": {},
   "source": [
    "Entscheiden Sie selbst, welche Libraries Sie brauchen!"
   ]
  },
  {
   "cell_type": "code",
   "execution_count": 2,
   "metadata": {},
   "outputs": [],
   "source": [
    "import pandas as pd\n",
    "import numpy as np"
   ]
  },
  {
   "cell_type": "code",
   "execution_count": 3,
   "metadata": {},
   "outputs": [],
   "source": [
    "path = 'dataprojects/Meteoschweiz/10.18751-Climate-Timeseries-CHTM-1.1-swiss.txt'"
   ]
  },
  {
   "cell_type": "code",
   "execution_count": 6,
   "metadata": {},
   "outputs": [
    {
     "data": {
      "text/html": [
       "<div>\n",
       "<style scoped>\n",
       "    .dataframe tbody tr th:only-of-type {\n",
       "        vertical-align: middle;\n",
       "    }\n",
       "\n",
       "    .dataframe tbody tr th {\n",
       "        vertical-align: top;\n",
       "    }\n",
       "\n",
       "    .dataframe thead th {\n",
       "        text-align: right;\n",
       "    }\n",
       "</style>\n",
       "<table border=\"1\" class=\"dataframe\">\n",
       "  <thead>\n",
       "    <tr style=\"text-align: right;\">\n",
       "      <th></th>\n",
       "      <th>time</th>\n",
       "      <th>jan</th>\n",
       "      <th>feb</th>\n",
       "      <th>mar</th>\n",
       "      <th>apr</th>\n",
       "      <th>may</th>\n",
       "      <th>jun</th>\n",
       "      <th>jul</th>\n",
       "      <th>aug</th>\n",
       "      <th>sep</th>\n",
       "      <th>oct</th>\n",
       "      <th>nov</th>\n",
       "      <th>dec</th>\n",
       "      <th>djf</th>\n",
       "      <th>mam</th>\n",
       "      <th>jja</th>\n",
       "      <th>son</th>\n",
       "      <th>winter</th>\n",
       "      <th>summer</th>\n",
       "      <th>year</th>\n",
       "    </tr>\n",
       "  </thead>\n",
       "  <tbody>\n",
       "    <tr>\n",
       "      <td>0</td>\n",
       "      <td>1864</td>\n",
       "      <td>-7.10</td>\n",
       "      <td>-4.52</td>\n",
       "      <td>0.04</td>\n",
       "      <td>2.11</td>\n",
       "      <td>7.43</td>\n",
       "      <td>9.48</td>\n",
       "      <td>12.37</td>\n",
       "      <td>10.95</td>\n",
       "      <td>8.59</td>\n",
       "      <td>3.50</td>\n",
       "      <td>-0.51</td>\n",
       "      <td>-4.47</td>\n",
       "      <td>NaN</td>\n",
       "      <td>3.19</td>\n",
       "      <td>10.93</td>\n",
       "      <td>3.86</td>\n",
       "      <td>NaN</td>\n",
       "      <td>8.49</td>\n",
       "      <td>3.16</td>\n",
       "    </tr>\n",
       "    <tr>\n",
       "      <td>1</td>\n",
       "      <td>1865</td>\n",
       "      <td>-3.47</td>\n",
       "      <td>-6.25</td>\n",
       "      <td>-5.91</td>\n",
       "      <td>7.03</td>\n",
       "      <td>10.09</td>\n",
       "      <td>10.98</td>\n",
       "      <td>13.99</td>\n",
       "      <td>11.16</td>\n",
       "      <td>11.90</td>\n",
       "      <td>5.19</td>\n",
       "      <td>1.26</td>\n",
       "      <td>-3.07</td>\n",
       "      <td>-4.73</td>\n",
       "      <td>3.74</td>\n",
       "      <td>12.04</td>\n",
       "      <td>6.12</td>\n",
       "      <td>-2.85</td>\n",
       "      <td>10.86</td>\n",
       "      <td>4.41</td>\n",
       "    </tr>\n",
       "    <tr>\n",
       "      <td>2</td>\n",
       "      <td>1866</td>\n",
       "      <td>-1.31</td>\n",
       "      <td>-0.42</td>\n",
       "      <td>-1.00</td>\n",
       "      <td>4.11</td>\n",
       "      <td>4.95</td>\n",
       "      <td>12.02</td>\n",
       "      <td>12.25</td>\n",
       "      <td>9.98</td>\n",
       "      <td>9.70</td>\n",
       "      <td>5.34</td>\n",
       "      <td>-0.20</td>\n",
       "      <td>-0.49</td>\n",
       "      <td>-1.60</td>\n",
       "      <td>2.69</td>\n",
       "      <td>11.42</td>\n",
       "      <td>4.95</td>\n",
       "      <td>0.11</td>\n",
       "      <td>8.84</td>\n",
       "      <td>4.58</td>\n",
       "    </tr>\n",
       "    <tr>\n",
       "      <td>3</td>\n",
       "      <td>1867</td>\n",
       "      <td>-3.87</td>\n",
       "      <td>0.56</td>\n",
       "      <td>-0.13</td>\n",
       "      <td>3.49</td>\n",
       "      <td>7.74</td>\n",
       "      <td>10.57</td>\n",
       "      <td>11.29</td>\n",
       "      <td>12.93</td>\n",
       "      <td>10.43</td>\n",
       "      <td>2.92</td>\n",
       "      <td>-1.43</td>\n",
       "      <td>-5.80</td>\n",
       "      <td>-1.27</td>\n",
       "      <td>3.70</td>\n",
       "      <td>11.60</td>\n",
       "      <td>3.97</td>\n",
       "      <td>0.20</td>\n",
       "      <td>9.41</td>\n",
       "      <td>4.06</td>\n",
       "    </tr>\n",
       "    <tr>\n",
       "      <td>4</td>\n",
       "      <td>1868</td>\n",
       "      <td>-5.46</td>\n",
       "      <td>-1.53</td>\n",
       "      <td>-2.30</td>\n",
       "      <td>2.33</td>\n",
       "      <td>12.04</td>\n",
       "      <td>11.97</td>\n",
       "      <td>12.89</td>\n",
       "      <td>12.50</td>\n",
       "      <td>11.12</td>\n",
       "      <td>4.76</td>\n",
       "      <td>-1.98</td>\n",
       "      <td>1.27</td>\n",
       "      <td>-4.26</td>\n",
       "      <td>4.02</td>\n",
       "      <td>12.45</td>\n",
       "      <td>4.63</td>\n",
       "      <td>-2.27</td>\n",
       "      <td>10.47</td>\n",
       "      <td>4.80</td>\n",
       "    </tr>\n",
       "    <tr>\n",
       "      <td>...</td>\n",
       "      <td>...</td>\n",
       "      <td>...</td>\n",
       "      <td>...</td>\n",
       "      <td>...</td>\n",
       "      <td>...</td>\n",
       "      <td>...</td>\n",
       "      <td>...</td>\n",
       "      <td>...</td>\n",
       "      <td>...</td>\n",
       "      <td>...</td>\n",
       "      <td>...</td>\n",
       "      <td>...</td>\n",
       "      <td>...</td>\n",
       "      <td>...</td>\n",
       "      <td>...</td>\n",
       "      <td>...</td>\n",
       "      <td>...</td>\n",
       "      <td>...</td>\n",
       "      <td>...</td>\n",
       "      <td>...</td>\n",
       "    </tr>\n",
       "    <tr>\n",
       "      <td>151</td>\n",
       "      <td>2015</td>\n",
       "      <td>-1.65</td>\n",
       "      <td>-3.22</td>\n",
       "      <td>2.02</td>\n",
       "      <td>5.32</td>\n",
       "      <td>9.26</td>\n",
       "      <td>13.59</td>\n",
       "      <td>17.76</td>\n",
       "      <td>15.56</td>\n",
       "      <td>9.06</td>\n",
       "      <td>5.88</td>\n",
       "      <td>4.21</td>\n",
       "      <td>2.26</td>\n",
       "      <td>-1.74</td>\n",
       "      <td>5.53</td>\n",
       "      <td>15.63</td>\n",
       "      <td>6.38</td>\n",
       "      <td>1.65</td>\n",
       "      <td>11.76</td>\n",
       "      <td>6.67</td>\n",
       "    </tr>\n",
       "    <tr>\n",
       "      <td>152</td>\n",
       "      <td>2016</td>\n",
       "      <td>-1.10</td>\n",
       "      <td>-0.19</td>\n",
       "      <td>0.14</td>\n",
       "      <td>4.57</td>\n",
       "      <td>7.88</td>\n",
       "      <td>11.97</td>\n",
       "      <td>15.09</td>\n",
       "      <td>14.80</td>\n",
       "      <td>12.54</td>\n",
       "      <td>5.38</td>\n",
       "      <td>1.82</td>\n",
       "      <td>-0.11</td>\n",
       "      <td>0.32</td>\n",
       "      <td>4.19</td>\n",
       "      <td>13.95</td>\n",
       "      <td>6.58</td>\n",
       "      <td>1.87</td>\n",
       "      <td>11.14</td>\n",
       "      <td>6.07</td>\n",
       "    </tr>\n",
       "    <tr>\n",
       "      <td>153</td>\n",
       "      <td>2017</td>\n",
       "      <td>-5.15</td>\n",
       "      <td>0.46</td>\n",
       "      <td>4.11</td>\n",
       "      <td>4.42</td>\n",
       "      <td>9.80</td>\n",
       "      <td>15.18</td>\n",
       "      <td>15.05</td>\n",
       "      <td>15.45</td>\n",
       "      <td>8.65</td>\n",
       "      <td>7.78</td>\n",
       "      <td>0.88</td>\n",
       "      <td>-2.43</td>\n",
       "      <td>-1.60</td>\n",
       "      <td>6.11</td>\n",
       "      <td>15.23</td>\n",
       "      <td>5.77</td>\n",
       "      <td>1.09</td>\n",
       "      <td>11.43</td>\n",
       "      <td>6.18</td>\n",
       "    </tr>\n",
       "    <tr>\n",
       "      <td>154</td>\n",
       "      <td>2018</td>\n",
       "      <td>0.48</td>\n",
       "      <td>-5.21</td>\n",
       "      <td>-0.21</td>\n",
       "      <td>7.81</td>\n",
       "      <td>10.43</td>\n",
       "      <td>13.81</td>\n",
       "      <td>16.24</td>\n",
       "      <td>15.89</td>\n",
       "      <td>12.56</td>\n",
       "      <td>8.04</td>\n",
       "      <td>2.79</td>\n",
       "      <td>-0.11</td>\n",
       "      <td>-2.39</td>\n",
       "      <td>6.01</td>\n",
       "      <td>15.31</td>\n",
       "      <td>7.80</td>\n",
       "      <td>0.21</td>\n",
       "      <td>12.79</td>\n",
       "      <td>6.88</td>\n",
       "    </tr>\n",
       "    <tr>\n",
       "      <td>155</td>\n",
       "      <td>2019</td>\n",
       "      <td>-4.37</td>\n",
       "      <td>0.73</td>\n",
       "      <td>2.27</td>\n",
       "      <td>4.49</td>\n",
       "      <td>6.08</td>\n",
       "      <td>15.25</td>\n",
       "      <td>16.21</td>\n",
       "      <td>15.10</td>\n",
       "      <td>NaN</td>\n",
       "      <td>NaN</td>\n",
       "      <td>NaN</td>\n",
       "      <td>NaN</td>\n",
       "      <td>-1.25</td>\n",
       "      <td>4.28</td>\n",
       "      <td>15.52</td>\n",
       "      <td>NaN</td>\n",
       "      <td>1.56</td>\n",
       "      <td>NaN</td>\n",
       "      <td>NaN</td>\n",
       "    </tr>\n",
       "  </tbody>\n",
       "</table>\n",
       "<p>156 rows × 20 columns</p>\n",
       "</div>"
      ],
      "text/plain": [
       "     time   jan   feb   mar   apr    may    jun    jul    aug    sep   oct  \\\n",
       "0    1864 -7.10 -4.52  0.04  2.11   7.43   9.48  12.37  10.95   8.59  3.50   \n",
       "1    1865 -3.47 -6.25 -5.91  7.03  10.09  10.98  13.99  11.16  11.90  5.19   \n",
       "2    1866 -1.31 -0.42 -1.00  4.11   4.95  12.02  12.25   9.98   9.70  5.34   \n",
       "3    1867 -3.87  0.56 -0.13  3.49   7.74  10.57  11.29  12.93  10.43  2.92   \n",
       "4    1868 -5.46 -1.53 -2.30  2.33  12.04  11.97  12.89  12.50  11.12  4.76   \n",
       "..    ...   ...   ...   ...   ...    ...    ...    ...    ...    ...   ...   \n",
       "151  2015 -1.65 -3.22  2.02  5.32   9.26  13.59  17.76  15.56   9.06  5.88   \n",
       "152  2016 -1.10 -0.19  0.14  4.57   7.88  11.97  15.09  14.80  12.54  5.38   \n",
       "153  2017 -5.15  0.46  4.11  4.42   9.80  15.18  15.05  15.45   8.65  7.78   \n",
       "154  2018  0.48 -5.21 -0.21  7.81  10.43  13.81  16.24  15.89  12.56  8.04   \n",
       "155  2019 -4.37  0.73  2.27  4.49   6.08  15.25  16.21  15.10    NaN   NaN   \n",
       "\n",
       "      nov   dec   djf   mam    jja   son  winter  summer  year  \n",
       "0   -0.51 -4.47   NaN  3.19  10.93  3.86     NaN    8.49  3.16  \n",
       "1    1.26 -3.07 -4.73  3.74  12.04  6.12   -2.85   10.86  4.41  \n",
       "2   -0.20 -0.49 -1.60  2.69  11.42  4.95    0.11    8.84  4.58  \n",
       "3   -1.43 -5.80 -1.27  3.70  11.60  3.97    0.20    9.41  4.06  \n",
       "4   -1.98  1.27 -4.26  4.02  12.45  4.63   -2.27   10.47  4.80  \n",
       "..    ...   ...   ...   ...    ...   ...     ...     ...   ...  \n",
       "151  4.21  2.26 -1.74  5.53  15.63  6.38    1.65   11.76  6.67  \n",
       "152  1.82 -0.11  0.32  4.19  13.95  6.58    1.87   11.14  6.07  \n",
       "153  0.88 -2.43 -1.60  6.11  15.23  5.77    1.09   11.43  6.18  \n",
       "154  2.79 -0.11 -2.39  6.01  15.31  7.80    0.21   12.79  6.88  \n",
       "155   NaN   NaN -1.25  4.28  15.52   NaN    1.56     NaN   NaN  \n",
       "\n",
       "[156 rows x 20 columns]"
      ]
     },
     "execution_count": 6,
     "metadata": {},
     "output_type": "execute_result"
    }
   ],
   "source": [
    "df_ch = pd.read_csv(path, delimiter = '\\t', skiprows = 15)\n",
    "df_ch"
   ]
  },
  {
   "cell_type": "markdown",
   "metadata": {},
   "source": [
    "## Datenfile laden"
   ]
  },
  {
   "cell_type": "markdown",
   "metadata": {},
   "source": [
    "Wie ist die Datei strukturiert? Was müssen wir beim Laden beachten?"
   ]
  },
  {
   "cell_type": "code",
   "execution_count": 8,
   "metadata": {},
   "outputs": [
    {
     "data": {
      "text/plain": [
       "(156, 20)"
      ]
     },
     "execution_count": 8,
     "metadata": {},
     "output_type": "execute_result"
    }
   ],
   "source": [
    "df_ch.shape"
   ]
  },
  {
   "cell_type": "code",
   "execution_count": 10,
   "metadata": {},
   "outputs": [
    {
     "data": {
      "text/html": [
       "<div>\n",
       "<style scoped>\n",
       "    .dataframe tbody tr th:only-of-type {\n",
       "        vertical-align: middle;\n",
       "    }\n",
       "\n",
       "    .dataframe tbody tr th {\n",
       "        vertical-align: top;\n",
       "    }\n",
       "\n",
       "    .dataframe thead th {\n",
       "        text-align: right;\n",
       "    }\n",
       "</style>\n",
       "<table border=\"1\" class=\"dataframe\">\n",
       "  <thead>\n",
       "    <tr style=\"text-align: right;\">\n",
       "      <th></th>\n",
       "      <th>time</th>\n",
       "      <th>jan</th>\n",
       "      <th>feb</th>\n",
       "      <th>mar</th>\n",
       "      <th>apr</th>\n",
       "      <th>may</th>\n",
       "      <th>jun</th>\n",
       "      <th>jul</th>\n",
       "      <th>aug</th>\n",
       "      <th>sep</th>\n",
       "      <th>oct</th>\n",
       "      <th>nov</th>\n",
       "      <th>dec</th>\n",
       "      <th>djf</th>\n",
       "      <th>mam</th>\n",
       "      <th>jja</th>\n",
       "      <th>son</th>\n",
       "      <th>winter</th>\n",
       "      <th>summer</th>\n",
       "      <th>year</th>\n",
       "    </tr>\n",
       "  </thead>\n",
       "  <tbody>\n",
       "    <tr>\n",
       "      <td>count</td>\n",
       "      <td>156.000000</td>\n",
       "      <td>156.000000</td>\n",
       "      <td>156.000000</td>\n",
       "      <td>156.000000</td>\n",
       "      <td>156.000000</td>\n",
       "      <td>156.000000</td>\n",
       "      <td>156.000000</td>\n",
       "      <td>156.000000</td>\n",
       "      <td>156.000000</td>\n",
       "      <td>155.000000</td>\n",
       "      <td>155.000000</td>\n",
       "      <td>155.000000</td>\n",
       "      <td>155.000000</td>\n",
       "      <td>155.000000</td>\n",
       "      <td>156.000000</td>\n",
       "      <td>156.000000</td>\n",
       "      <td>155.000000</td>\n",
       "      <td>155.000000</td>\n",
       "      <td>155.000000</td>\n",
       "      <td>155.000000</td>\n",
       "    </tr>\n",
       "    <tr>\n",
       "      <td>mean</td>\n",
       "      <td>1941.500000</td>\n",
       "      <td>-3.613782</td>\n",
       "      <td>-2.817372</td>\n",
       "      <td>-0.152308</td>\n",
       "      <td>3.315513</td>\n",
       "      <td>7.597949</td>\n",
       "      <td>11.044423</td>\n",
       "      <td>13.161026</td>\n",
       "      <td>12.658654</td>\n",
       "      <td>9.743032</td>\n",
       "      <td>5.315742</td>\n",
       "      <td>0.618000</td>\n",
       "      <td>-2.577419</td>\n",
       "      <td>-2.992000</td>\n",
       "      <td>3.587115</td>\n",
       "      <td>12.287756</td>\n",
       "      <td>5.225548</td>\n",
       "      <td>-0.532710</td>\n",
       "      <td>9.576645</td>\n",
       "      <td>4.516839</td>\n",
       "    </tr>\n",
       "    <tr>\n",
       "      <td>std</td>\n",
       "      <td>45.177428</td>\n",
       "      <td>2.083349</td>\n",
       "      <td>2.378872</td>\n",
       "      <td>1.962498</td>\n",
       "      <td>1.668117</td>\n",
       "      <td>1.713005</td>\n",
       "      <td>1.583626</td>\n",
       "      <td>1.649524</td>\n",
       "      <td>1.538001</td>\n",
       "      <td>1.633155</td>\n",
       "      <td>1.773637</td>\n",
       "      <td>1.587336</td>\n",
       "      <td>1.962955</td>\n",
       "      <td>1.472798</td>\n",
       "      <td>1.159247</td>\n",
       "      <td>1.158987</td>\n",
       "      <td>1.150773</td>\n",
       "      <td>1.087197</td>\n",
       "      <td>0.963206</td>\n",
       "      <td>0.856563</td>\n",
       "    </tr>\n",
       "    <tr>\n",
       "      <td>min</td>\n",
       "      <td>1864.000000</td>\n",
       "      <td>-8.820000</td>\n",
       "      <td>-11.930000</td>\n",
       "      <td>-5.910000</td>\n",
       "      <td>-0.510000</td>\n",
       "      <td>3.090000</td>\n",
       "      <td>7.270000</td>\n",
       "      <td>9.430000</td>\n",
       "      <td>9.070000</td>\n",
       "      <td>4.380000</td>\n",
       "      <td>-0.300000</td>\n",
       "      <td>-3.140000</td>\n",
       "      <td>-8.400000</td>\n",
       "      <td>-7.310000</td>\n",
       "      <td>1.220000</td>\n",
       "      <td>10.260000</td>\n",
       "      <td>1.850000</td>\n",
       "      <td>-3.150000</td>\n",
       "      <td>7.630000</td>\n",
       "      <td>2.850000</td>\n",
       "    </tr>\n",
       "    <tr>\n",
       "      <td>25%</td>\n",
       "      <td>1902.750000</td>\n",
       "      <td>-4.785000</td>\n",
       "      <td>-4.252500</td>\n",
       "      <td>-1.490000</td>\n",
       "      <td>2.155000</td>\n",
       "      <td>6.375000</td>\n",
       "      <td>10.075000</td>\n",
       "      <td>12.047500</td>\n",
       "      <td>11.492500</td>\n",
       "      <td>8.665000</td>\n",
       "      <td>4.200000</td>\n",
       "      <td>-0.490000</td>\n",
       "      <td>-3.840000</td>\n",
       "      <td>-4.020000</td>\n",
       "      <td>2.807500</td>\n",
       "      <td>11.420000</td>\n",
       "      <td>4.345000</td>\n",
       "      <td>-1.250000</td>\n",
       "      <td>8.925000</td>\n",
       "      <td>3.940000</td>\n",
       "    </tr>\n",
       "    <tr>\n",
       "      <td>50%</td>\n",
       "      <td>1941.500000</td>\n",
       "      <td>-3.480000</td>\n",
       "      <td>-2.655000</td>\n",
       "      <td>-0.080000</td>\n",
       "      <td>3.190000</td>\n",
       "      <td>7.660000</td>\n",
       "      <td>10.885000</td>\n",
       "      <td>13.095000</td>\n",
       "      <td>12.505000</td>\n",
       "      <td>9.650000</td>\n",
       "      <td>5.410000</td>\n",
       "      <td>0.610000</td>\n",
       "      <td>-2.430000</td>\n",
       "      <td>-2.880000</td>\n",
       "      <td>3.510000</td>\n",
       "      <td>12.150000</td>\n",
       "      <td>5.290000</td>\n",
       "      <td>-0.510000</td>\n",
       "      <td>9.450000</td>\n",
       "      <td>4.410000</td>\n",
       "    </tr>\n",
       "    <tr>\n",
       "      <td>75%</td>\n",
       "      <td>1980.250000</td>\n",
       "      <td>-2.025000</td>\n",
       "      <td>-1.175000</td>\n",
       "      <td>1.202500</td>\n",
       "      <td>4.465000</td>\n",
       "      <td>8.920000</td>\n",
       "      <td>11.972500</td>\n",
       "      <td>14.245000</td>\n",
       "      <td>13.607500</td>\n",
       "      <td>10.975000</td>\n",
       "      <td>6.445000</td>\n",
       "      <td>1.670000</td>\n",
       "      <td>-1.105000</td>\n",
       "      <td>-1.980000</td>\n",
       "      <td>4.227500</td>\n",
       "      <td>12.892500</td>\n",
       "      <td>5.975000</td>\n",
       "      <td>0.165000</td>\n",
       "      <td>10.230000</td>\n",
       "      <td>5.010000</td>\n",
       "    </tr>\n",
       "    <tr>\n",
       "      <td>max</td>\n",
       "      <td>2019.000000</td>\n",
       "      <td>0.480000</td>\n",
       "      <td>2.100000</td>\n",
       "      <td>4.330000</td>\n",
       "      <td>8.960000</td>\n",
       "      <td>12.040000</td>\n",
       "      <td>17.340000</td>\n",
       "      <td>17.760000</td>\n",
       "      <td>17.890000</td>\n",
       "      <td>13.320000</td>\n",
       "      <td>9.630000</td>\n",
       "      <td>4.740000</td>\n",
       "      <td>2.260000</td>\n",
       "      <td>0.460000</td>\n",
       "      <td>6.840000</td>\n",
       "      <td>16.870000</td>\n",
       "      <td>8.710000</td>\n",
       "      <td>2.610000</td>\n",
       "      <td>12.790000</td>\n",
       "      <td>6.880000</td>\n",
       "    </tr>\n",
       "  </tbody>\n",
       "</table>\n",
       "</div>"
      ],
      "text/plain": [
       "              time         jan         feb         mar         apr  \\\n",
       "count   156.000000  156.000000  156.000000  156.000000  156.000000   \n",
       "mean   1941.500000   -3.613782   -2.817372   -0.152308    3.315513   \n",
       "std      45.177428    2.083349    2.378872    1.962498    1.668117   \n",
       "min    1864.000000   -8.820000  -11.930000   -5.910000   -0.510000   \n",
       "25%    1902.750000   -4.785000   -4.252500   -1.490000    2.155000   \n",
       "50%    1941.500000   -3.480000   -2.655000   -0.080000    3.190000   \n",
       "75%    1980.250000   -2.025000   -1.175000    1.202500    4.465000   \n",
       "max    2019.000000    0.480000    2.100000    4.330000    8.960000   \n",
       "\n",
       "              may         jun         jul         aug         sep         oct  \\\n",
       "count  156.000000  156.000000  156.000000  156.000000  155.000000  155.000000   \n",
       "mean     7.597949   11.044423   13.161026   12.658654    9.743032    5.315742   \n",
       "std      1.713005    1.583626    1.649524    1.538001    1.633155    1.773637   \n",
       "min      3.090000    7.270000    9.430000    9.070000    4.380000   -0.300000   \n",
       "25%      6.375000   10.075000   12.047500   11.492500    8.665000    4.200000   \n",
       "50%      7.660000   10.885000   13.095000   12.505000    9.650000    5.410000   \n",
       "75%      8.920000   11.972500   14.245000   13.607500   10.975000    6.445000   \n",
       "max     12.040000   17.340000   17.760000   17.890000   13.320000    9.630000   \n",
       "\n",
       "              nov         dec         djf         mam         jja         son  \\\n",
       "count  155.000000  155.000000  155.000000  156.000000  156.000000  155.000000   \n",
       "mean     0.618000   -2.577419   -2.992000    3.587115   12.287756    5.225548   \n",
       "std      1.587336    1.962955    1.472798    1.159247    1.158987    1.150773   \n",
       "min     -3.140000   -8.400000   -7.310000    1.220000   10.260000    1.850000   \n",
       "25%     -0.490000   -3.840000   -4.020000    2.807500   11.420000    4.345000   \n",
       "50%      0.610000   -2.430000   -2.880000    3.510000   12.150000    5.290000   \n",
       "75%      1.670000   -1.105000   -1.980000    4.227500   12.892500    5.975000   \n",
       "max      4.740000    2.260000    0.460000    6.840000   16.870000    8.710000   \n",
       "\n",
       "           winter      summer        year  \n",
       "count  155.000000  155.000000  155.000000  \n",
       "mean    -0.532710    9.576645    4.516839  \n",
       "std      1.087197    0.963206    0.856563  \n",
       "min     -3.150000    7.630000    2.850000  \n",
       "25%     -1.250000    8.925000    3.940000  \n",
       "50%     -0.510000    9.450000    4.410000  \n",
       "75%      0.165000   10.230000    5.010000  \n",
       "max      2.610000   12.790000    6.880000  "
      ]
     },
     "execution_count": 10,
     "metadata": {},
     "output_type": "execute_result"
    }
   ],
   "source": [
    "df_ch.describe()"
   ]
  },
  {
   "cell_type": "code",
   "execution_count": 12,
   "metadata": {},
   "outputs": [
    {
     "data": {
      "text/plain": [
       "time        int64\n",
       "jan       float64\n",
       "feb       float64\n",
       "mar       float64\n",
       "apr       float64\n",
       "may       float64\n",
       "jun       float64\n",
       "jul       float64\n",
       "aug       float64\n",
       "sep       float64\n",
       "oct       float64\n",
       "nov       float64\n",
       "dec       float64\n",
       "djf       float64\n",
       "mam       float64\n",
       "jja       float64\n",
       "son       float64\n",
       "winter    float64\n",
       "summer    float64\n",
       "year      float64\n",
       "dtype: object"
      ]
     },
     "execution_count": 12,
     "metadata": {},
     "output_type": "execute_result"
    }
   ],
   "source": [
    "df_ch.dtypes"
   ]
  },
  {
   "cell_type": "code",
   "execution_count": null,
   "metadata": {},
   "outputs": [],
   "source": []
  },
  {
   "cell_type": "markdown",
   "metadata": {},
   "source": [
    "## Daten checken"
   ]
  },
  {
   "cell_type": "markdown",
   "metadata": {},
   "source": [
    "**Länge und Spalten**"
   ]
  },
  {
   "cell_type": "code",
   "execution_count": null,
   "metadata": {},
   "outputs": [],
   "source": []
  },
  {
   "cell_type": "markdown",
   "metadata": {},
   "source": [
    "**Integrität**"
   ]
  },
  {
   "cell_type": "code",
   "execution_count": null,
   "metadata": {},
   "outputs": [],
   "source": []
  },
  {
   "cell_type": "code",
   "execution_count": null,
   "metadata": {},
   "outputs": [],
   "source": []
  },
  {
   "cell_type": "markdown",
   "metadata": {},
   "source": [
    "**Was bedeuten die einzelnen Spalten?**"
   ]
  },
  {
   "cell_type": "markdown",
   "metadata": {},
   "source": [
    "- \"time\": das Jahr\n",
    "- \"jan\" bis \"dec\": die Monats-Mittelwerte\n",
    "- \"djf\" bis \"son\": die Quartals-Mittelwerte\n",
    "- \"winter\" und \"summer\": die Halbjahres-Mittelwerte\n",
    "- \"year\": der Jahres-Mittelwert"
   ]
  },
  {
   "cell_type": "code",
   "execution_count": null,
   "metadata": {},
   "outputs": [],
   "source": []
  },
  {
   "cell_type": "markdown",
   "metadata": {},
   "source": [
    "## Explorieren"
   ]
  },
  {
   "cell_type": "markdown",
   "metadata": {},
   "source": [
    "Ihr Ziel ist, aus den Temperaturdaten eine einfache Story zu generieren.\n",
    "\n",
    "Überlegen Sie sich dazu:\n",
    "- Welche Fragen richten Sie an das Temperaturdaten-Set?\n",
    "- Welche Auswertungen sind nötig, um die Fragen zu beanworten?\n",
    "- Wie stellen Sie die Resultate mittels Grafiken dar?\n",
    "\n",
    "Arbeiten Sie in Gruppen, um ein Ergebnis zu erarbeiten:\n",
    "- Drei bis vier Sätze, welche die Story zusammenfassen\n",
    "- eine oder mehrere Grafiken, die das Ergebnis illustrieren"
   ]
  },
  {
   "cell_type": "markdown",
   "metadata": {},
   "source": [
    "Wie haben sich die Temperaturen der Jahreszeiten seit 1864 verändert?\n",
    "\n"
   ]
  },
  {
   "cell_type": "code",
   "execution_count": 14,
   "metadata": {},
   "outputs": [
    {
     "data": {
      "text/plain": [
       "0       NaN\n",
       "1     -4.73\n",
       "2     -1.60\n",
       "3     -1.27\n",
       "4     -4.26\n",
       "       ... \n",
       "151   -1.74\n",
       "152    0.32\n",
       "153   -1.60\n",
       "154   -2.39\n",
       "155   -1.25\n",
       "Name: djf, Length: 156, dtype: float64"
      ]
     },
     "execution_count": 14,
     "metadata": {},
     "output_type": "execute_result"
    }
   ],
   "source": [
    "winter = df_ch['djf']\n",
    "winter"
   ]
  },
  {
   "cell_type": "code",
   "execution_count": 22,
   "metadata": {},
   "outputs": [
    {
     "data": {
      "text/plain": [
       "<matplotlib.axes._subplots.AxesSubplot at 0x119891ef0>"
      ]
     },
     "execution_count": 22,
     "metadata": {},
     "output_type": "execute_result"
    },
    {
     "data": {
      "image/png": "[encoded data removed]",
      "text/plain": [
       "<Figure size 432x288 with 1 Axes>"
      ]
     },
     "metadata": {
      "needs_background": "light"
     },
     "output_type": "display_data"
    }
   ],
   "source": [
    "winter = df_ch['djf']\n",
    "winter\n",
    "winter_abweichung = winter - winter.mean()\n",
    "winter_abweichung.plot()"
   ]
  },
  {
   "cell_type": "code",
   "execution_count": 23,
   "metadata": {},
   "outputs": [
    {
     "name": "stderr",
     "output_type": "stream",
     "text": [
      "/anaconda3/lib/python3.7/site-packages/ipykernel_launcher.py:2: SettingWithCopyWarning: \n",
      "A value is trying to be set on a copy of a slice from a DataFrame.\n",
      "Try using .loc[row_indexer,col_indexer] = value instead\n",
      "\n",
      "See the caveats in the documentation: http://pandas.pydata.org/pandas-docs/stable/user_guide/indexing.html#returning-a-view-versus-a-copy\n",
      "  \n"
     ]
    },
    {
     "data": {
      "text/html": [
       "<div>\n",
       "<style scoped>\n",
       "    .dataframe tbody tr th:only-of-type {\n",
       "        vertical-align: middle;\n",
       "    }\n",
       "\n",
       "    .dataframe tbody tr th {\n",
       "        vertical-align: top;\n",
       "    }\n",
       "\n",
       "    .dataframe thead th {\n",
       "        text-align: right;\n",
       "    }\n",
       "</style>\n",
       "<table border=\"1\" class=\"dataframe\">\n",
       "  <thead>\n",
       "    <tr style=\"text-align: right;\">\n",
       "      <th></th>\n",
       "      <th>time</th>\n",
       "      <th>djf</th>\n",
       "      <th>Abweichung</th>\n",
       "    </tr>\n",
       "  </thead>\n",
       "  <tbody>\n",
       "    <tr>\n",
       "      <td>0</td>\n",
       "      <td>1864</td>\n",
       "      <td>NaN</td>\n",
       "      <td>NaN</td>\n",
       "    </tr>\n",
       "    <tr>\n",
       "      <td>1</td>\n",
       "      <td>1865</td>\n",
       "      <td>-4.73</td>\n",
       "      <td>-1.738</td>\n",
       "    </tr>\n",
       "    <tr>\n",
       "      <td>2</td>\n",
       "      <td>1866</td>\n",
       "      <td>-1.60</td>\n",
       "      <td>1.392</td>\n",
       "    </tr>\n",
       "    <tr>\n",
       "      <td>3</td>\n",
       "      <td>1867</td>\n",
       "      <td>-1.27</td>\n",
       "      <td>1.722</td>\n",
       "    </tr>\n",
       "    <tr>\n",
       "      <td>4</td>\n",
       "      <td>1868</td>\n",
       "      <td>-4.26</td>\n",
       "      <td>-1.268</td>\n",
       "    </tr>\n",
       "    <tr>\n",
       "      <td>...</td>\n",
       "      <td>...</td>\n",
       "      <td>...</td>\n",
       "      <td>...</td>\n",
       "    </tr>\n",
       "    <tr>\n",
       "      <td>151</td>\n",
       "      <td>2015</td>\n",
       "      <td>-1.74</td>\n",
       "      <td>1.252</td>\n",
       "    </tr>\n",
       "    <tr>\n",
       "      <td>152</td>\n",
       "      <td>2016</td>\n",
       "      <td>0.32</td>\n",
       "      <td>3.312</td>\n",
       "    </tr>\n",
       "    <tr>\n",
       "      <td>153</td>\n",
       "      <td>2017</td>\n",
       "      <td>-1.60</td>\n",
       "      <td>1.392</td>\n",
       "    </tr>\n",
       "    <tr>\n",
       "      <td>154</td>\n",
       "      <td>2018</td>\n",
       "      <td>-2.39</td>\n",
       "      <td>0.602</td>\n",
       "    </tr>\n",
       "    <tr>\n",
       "      <td>155</td>\n",
       "      <td>2019</td>\n",
       "      <td>-1.25</td>\n",
       "      <td>1.742</td>\n",
       "    </tr>\n",
       "  </tbody>\n",
       "</table>\n",
       "<p>156 rows × 3 columns</p>\n",
       "</div>"
      ],
      "text/plain": [
       "     time   djf  Abweichung\n",
       "0    1864   NaN         NaN\n",
       "1    1865 -4.73      -1.738\n",
       "2    1866 -1.60       1.392\n",
       "3    1867 -1.27       1.722\n",
       "4    1868 -4.26      -1.268\n",
       "..    ...   ...         ...\n",
       "151  2015 -1.74       1.252\n",
       "152  2016  0.32       3.312\n",
       "153  2017 -1.60       1.392\n",
       "154  2018 -2.39       0.602\n",
       "155  2019 -1.25       1.742\n",
       "\n",
       "[156 rows x 3 columns]"
      ]
     },
     "execution_count": 23,
     "metadata": {},
     "output_type": "execute_result"
    }
   ],
   "source": [
    "winter = df_ch[['time','djf']]\n",
    "winter['Abweichung'] = winter_abweichung\n",
    "winter"
   ]
  },
  {
   "cell_type": "code",
   "execution_count": 25,
   "metadata": {},
   "outputs": [
    {
     "data": {
      "text/plain": [
       "<matplotlib.axes._subplots.AxesSubplot at 0x119b028d0>"
      ]
     },
     "execution_count": 25,
     "metadata": {},
     "output_type": "execute_result"
    },
    {
     "data": {
      "image/png": "[encoded data removed]",
      "text/plain": [
       "<Figure size 432x288 with 1 Axes>"
      ]
     },
     "metadata": {
      "needs_background": "light"
     },
     "output_type": "display_data"
    }
   ],
   "source": [
    "winter['Abweichung'].plot()"
   ]
  },
  {
   "cell_type": "code",
   "execution_count": 28,
   "metadata": {},
   "outputs": [
    {
     "data": {
      "text/html": [
       "<div>\n",
       "<style scoped>\n",
       "    .dataframe tbody tr th:only-of-type {\n",
       "        vertical-align: middle;\n",
       "    }\n",
       "\n",
       "    .dataframe tbody tr th {\n",
       "        vertical-align: top;\n",
       "    }\n",
       "\n",
       "    .dataframe thead th {\n",
       "        text-align: right;\n",
       "    }\n",
       "</style>\n",
       "<table border=\"1\" class=\"dataframe\">\n",
       "  <thead>\n",
       "    <tr style=\"text-align: right;\">\n",
       "      <th></th>\n",
       "      <th>djf</th>\n",
       "      <th>mam</th>\n",
       "      <th>jja</th>\n",
       "      <th>son</th>\n",
       "    </tr>\n",
       "  </thead>\n",
       "  <tbody>\n",
       "    <tr>\n",
       "      <td>0</td>\n",
       "      <td>NaN</td>\n",
       "      <td>3.19</td>\n",
       "      <td>10.93</td>\n",
       "      <td>3.86</td>\n",
       "    </tr>\n",
       "    <tr>\n",
       "      <td>1</td>\n",
       "      <td>-4.73</td>\n",
       "      <td>3.74</td>\n",
       "      <td>12.04</td>\n",
       "      <td>6.12</td>\n",
       "    </tr>\n",
       "    <tr>\n",
       "      <td>2</td>\n",
       "      <td>-1.60</td>\n",
       "      <td>2.69</td>\n",
       "      <td>11.42</td>\n",
       "      <td>4.95</td>\n",
       "    </tr>\n",
       "    <tr>\n",
       "      <td>3</td>\n",
       "      <td>-1.27</td>\n",
       "      <td>3.70</td>\n",
       "      <td>11.60</td>\n",
       "      <td>3.97</td>\n",
       "    </tr>\n",
       "    <tr>\n",
       "      <td>4</td>\n",
       "      <td>-4.26</td>\n",
       "      <td>4.02</td>\n",
       "      <td>12.45</td>\n",
       "      <td>4.63</td>\n",
       "    </tr>\n",
       "    <tr>\n",
       "      <td>...</td>\n",
       "      <td>...</td>\n",
       "      <td>...</td>\n",
       "      <td>...</td>\n",
       "      <td>...</td>\n",
       "    </tr>\n",
       "    <tr>\n",
       "      <td>151</td>\n",
       "      <td>-1.74</td>\n",
       "      <td>5.53</td>\n",
       "      <td>15.63</td>\n",
       "      <td>6.38</td>\n",
       "    </tr>\n",
       "    <tr>\n",
       "      <td>152</td>\n",
       "      <td>0.32</td>\n",
       "      <td>4.19</td>\n",
       "      <td>13.95</td>\n",
       "      <td>6.58</td>\n",
       "    </tr>\n",
       "    <tr>\n",
       "      <td>153</td>\n",
       "      <td>-1.60</td>\n",
       "      <td>6.11</td>\n",
       "      <td>15.23</td>\n",
       "      <td>5.77</td>\n",
       "    </tr>\n",
       "    <tr>\n",
       "      <td>154</td>\n",
       "      <td>-2.39</td>\n",
       "      <td>6.01</td>\n",
       "      <td>15.31</td>\n",
       "      <td>7.80</td>\n",
       "    </tr>\n",
       "    <tr>\n",
       "      <td>155</td>\n",
       "      <td>-1.25</td>\n",
       "      <td>4.28</td>\n",
       "      <td>15.52</td>\n",
       "      <td>NaN</td>\n",
       "    </tr>\n",
       "  </tbody>\n",
       "</table>\n",
       "<p>156 rows × 4 columns</p>\n",
       "</div>"
      ],
      "text/plain": [
       "      djf   mam    jja   son\n",
       "0     NaN  3.19  10.93  3.86\n",
       "1   -4.73  3.74  12.04  6.12\n",
       "2   -1.60  2.69  11.42  4.95\n",
       "3   -1.27  3.70  11.60  3.97\n",
       "4   -4.26  4.02  12.45  4.63\n",
       "..    ...   ...    ...   ...\n",
       "151 -1.74  5.53  15.63  6.38\n",
       "152  0.32  4.19  13.95  6.58\n",
       "153 -1.60  6.11  15.23  5.77\n",
       "154 -2.39  6.01  15.31  7.80\n",
       "155 -1.25  4.28  15.52   NaN\n",
       "\n",
       "[156 rows x 4 columns]"
      ]
     },
     "execution_count": 28,
     "metadata": {},
     "output_type": "execute_result"
    }
   ],
   "source": [
    "alle_jahreszeiten = df_ch[['djf','mam','jja','son']]\n",
    "alle_jahreszeiten"
   ]
  },
  {
   "cell_type": "code",
   "execution_count": 30,
   "metadata": {},
   "outputs": [
    {
     "data": {
      "text/plain": [
       "<matplotlib.axes._subplots.AxesSubplot at 0x119d2b278>"
      ]
     },
     "execution_count": 30,
     "metadata": {},
     "output_type": "execute_result"
    },
    {
     "data": {
      "image/png": "[encoded data removed]",
      "text/plain": [
       "<Figure size 864x432 with 1 Axes>"
      ]
     },
     "metadata": {
      "needs_background": "light"
     },
     "output_type": "display_data"
    }
   ],
   "source": [
    "alle_jahreszeiten.plot(figsize=(12,6), title = 'Temperaturverlauf der Jahreszeiten seit 1864')"
   ]
  },
  {
   "cell_type": "code",
   "execution_count": 1,
   "metadata": {},
   "outputs": [
    {
     "ename": "NameError",
     "evalue": "name 'df_ch' is not defined",
     "output_type": "error",
     "traceback": [
      "\u001b[0;31m---------------------------------------------------------------------------\u001b[0m",
      "\u001b[0;31mNameError\u001b[0m                                 Traceback (most recent call last)",
      "\u001b[0;32m<ipython-input-1-b231bd8ab1f2>\u001b[0m in \u001b[0;36m<module>\u001b[0;34m\u001b[0m\n\u001b[0;32m----> 1\u001b[0;31m \u001b[0mlen\u001b[0m\u001b[0;34m(\u001b[0m\u001b[0mdf_ch\u001b[0m\u001b[0;34m)\u001b[0m\u001b[0;34m\u001b[0m\u001b[0;34m\u001b[0m\u001b[0m\n\u001b[0m",
      "\u001b[0;31mNameError\u001b[0m: name 'df_ch' is not defined"
     ]
    }
   ],
   "source": [
    "len(df_ch)"
   ]
  },
  {
   "cell_type": "code",
   "execution_count": null,
   "metadata": {},
   "outputs": [],
   "source": []
  },
  {
   "cell_type": "code",
   "execution_count": null,
   "metadata": {},
   "outputs": [],
   "source": []
  },
  {
   "cell_type": "code",
   "execution_count": null,
   "metadata": {},
   "outputs": [],
   "source": []
  },
  {
   "cell_type": "markdown",
   "metadata": {},
   "source": [
    "### Story"
   ]
  },
  {
   "cell_type": "markdown",
   "metadata": {},
   "source": [
    "Führen Sie zum Schluss hier Ihren \"Pitch\" and die Redaktion auf, mit Grafik und Kurzbeschrieb"
   ]
  },
  {
   "cell_type": "code",
   "execution_count": null,
   "metadata": {},
   "outputs": [],
   "source": []
  },
  {
   "cell_type": "code",
   "execution_count": null,
   "metadata": {},
   "outputs": [],
   "source": []
  }
 ],
 "metadata": {
  "kernelspec": {
   "display_name": "Python 3",
   "language": "python",
   "name": "python3"
  },
  "language_info": {
   "codemirror_mode": {
    "name": "ipython",
    "version": 3
   },
   "file_extension": ".py",
   "mimetype": "text/x-python",
   "name": "python",
   "nbconvert_exporter": "python",
   "pygments_lexer": "ipython3",
   "version": "3.7.3"
  }
 },
 "nbformat": 4,
 "nbformat_minor": 2
}
