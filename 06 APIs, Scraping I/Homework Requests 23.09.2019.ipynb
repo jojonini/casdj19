{
 "cells": [
  {
   "cell_type": "markdown",
   "metadata": {},
   "source": [
    "Importiere die requests Library"
   ]
  },
  {
   "cell_type": "code",
   "execution_count": 2,
   "metadata": {},
   "outputs": [],
   "source": [
    "import requests"
   ]
  },
  {
   "cell_type": "markdown",
   "metadata": {},
   "source": [
    "Importiere die Pandas Library in der Kurzform."
   ]
  },
  {
   "cell_type": "code",
   "execution_count": 1,
   "metadata": {},
   "outputs": [],
   "source": [
    "import pandas as pd"
   ]
  },
  {
   "cell_type": "markdown",
   "metadata": {},
   "source": [
    "1. Unter Verwendung der [USGS.gov Earthquake API](https://earthquake.usgs.gov) ziehe heraus, wieviele Erdbeben sich im August 2018 ereignet haben?"
   ]
  },
  {
   "cell_type": "code",
   "execution_count": 6,
   "metadata": {},
   "outputs": [
    {
     "data": {
      "text/plain": [
       "'17045'"
      ]
     },
     "execution_count": 6,
     "metadata": {},
     "output_type": "execute_result"
    }
   ],
   "source": [
    "erdbeben_201808 = requests.get(\"https://earthquake.usgs.gov/fdsnws/event/1/count?starttime=2018-08-01&endtime=2018-08-31\")\n",
    "erdbeben_201808.text"
   ]
  },
  {
   "cell_type": "code",
   "execution_count": 71,
   "metadata": {},
   "outputs": [
    {
     "data": {
      "text/plain": [
       "17045"
      ]
     },
     "execution_count": 71,
     "metadata": {},
     "output_type": "execute_result"
    }
   ],
   "source": [
    "#oder als Zahl:\n",
    "erdbeben_201808.json()"
   ]
  },
  {
   "cell_type": "markdown",
   "metadata": {},
   "source": [
    "2. Mache das gleiche für August 2017, 2016, 2015?"
   ]
  },
  {
   "cell_type": "code",
   "execution_count": 7,
   "metadata": {},
   "outputs": [
    {
     "data": {
      "text/plain": [
       "'12300'"
      ]
     },
     "execution_count": 7,
     "metadata": {},
     "output_type": "execute_result"
    }
   ],
   "source": [
    "erdbeben_201708 = requests.get(\"https://earthquake.usgs.gov/fdsnws/event/1/count?starttime=2017-08-01&endtime=2017-08-31\")\n",
    "erdbeben_201708.text"
   ]
  },
  {
   "cell_type": "code",
   "execution_count": 8,
   "metadata": {},
   "outputs": [
    {
     "data": {
      "text/plain": [
       "'10878'"
      ]
     },
     "execution_count": 8,
     "metadata": {},
     "output_type": "execute_result"
    }
   ],
   "source": [
    "erdbeben_201608 = requests.get(\"https://earthquake.usgs.gov/fdsnws/event/1/count?starttime=2016-08-01&endtime=2016-08-31\")\n",
    "erdbeben_201608.text"
   ]
  },
  {
   "cell_type": "code",
   "execution_count": null,
   "metadata": {},
   "outputs": [],
   "source": [
    "#siehe oben"
   ]
  },
  {
   "cell_type": "code",
   "execution_count": null,
   "metadata": {},
   "outputs": [],
   "source": [
    "#Die Lösung von Reto um mit einem Loop eine Abfrage verschiedener Jahre (definiert in range) auszulösen:\n",
    "# https://earthquake.usgs.gov/fdsnws/event/1/count?starttime=2014-01-01&endtime=2014-01-02\n",
    "import requests\n",
    "import pandas as pd\n",
    "base = \"https://earthquake.usgs.gov/fdsnws/event/1/\"\n",
    "action = \"count?\"\n",
    "# Url = \"starttime=2018-09-25&endtime=2018-09-30-25&endtime=2018-09-30\"\n",
    "for jahr in range(2015, 2019):\n",
    "    \n",
    "    url = base + action + \"starttime=\" + str(jahr) + \"-08-01&endtime=\" + str(jahr) + \"-08-31\"\n",
    "    \n",
    "    response = requests.get(url)\n",
    "    print(str(jahr) + \": \" + str(response.text))"
   ]
  },
  {
   "cell_type": "markdown",
   "metadata": {},
   "source": [
    "3. Zeige nur die Erdbeben an, die in den letzten 5 Jahren eine Mindeststärke von 5,5 hatten? (Neue Parameter kannst Du mit den Zeichen \"&\" ergänzen. Lese Dich in die Dokumentation ein, um noch mehr Parameter kennezulernen)"
   ]
  },
  {
   "cell_type": "code",
   "execution_count": 17,
   "metadata": {},
   "outputs": [
    {
     "data": {
      "text/plain": [
       "'2255'"
      ]
     },
     "execution_count": 17,
     "metadata": {},
     "output_type": "execute_result"
    }
   ],
   "source": [
    "#minmagnitude\n",
    "import requests\n",
    "erdbeben_55 = requests.get(\"https://earthquake.usgs.gov/fdsnws/event/1/count?starttime=2014-09-01&endtime=2019-09-23&minmagnitude=5.5\")\n",
    "erdbeben_55.text"
   ]
  },
  {
   "cell_type": "markdown",
   "metadata": {},
   "source": [
    "Hier wäre das Ganze ziemlich easy, inkl. CSV. \n",
    "https://earthquake.usgs.gov/earthquakes/search/\n"
   ]
  },
  {
   "cell_type": "markdown",
   "metadata": {},
   "source": [
    "4. Zeige eine Liste der 10 stärksten Erdbeben des laufenden Jahres an. (Nicht vergessen, nun musst Du die Methode wechseln. Nicht mehr \"count\", sondern \"query\")."
   ]
  },
  {
   "cell_type": "code",
   "execution_count": 29,
   "metadata": {},
   "outputs": [
    {
     "data": {
      "text/plain": [
       "'{\"type\":\"FeatureCollection\",\"metadata\":{\"generated\":1569273304000,\"url\":\"https://earthquake.usgs.gov/fdsnws/event/1/query?format=geojson&starttime=2019-01-01&endtime=2019-09-24&minmagnitude=7\",\"title\":\"USGS Earthquakes\",\"status\":200,\"api\":\"1.8.1\",\"count\":9},\"features\":[{\"type\":\"Feature\",\"properties\":{\"mag\":7.2000000000000002,\"place\":\"93km NNE of Laiwui, Indonesia\",\"time\":1563095451599,\"updated\":1566451218111,\"tz\":540,\"url\":\"https://earthquake.usgs.gov/earthquakes/eventpage/us70004jyv\",\"detail\":\"https://earthquake.usgs.gov/fdsnws/event/1/query?eventid=us70004jyv&format=geojson\",\"felt\":16,\"cdi\":6.7000000000000002,\"mmi\":6.8049999999999997,\"alert\":\"green\",\"status\":\"reviewed\",\"tsunami\":1,\"sig\":808,\"net\":\"us\",\"code\":\"70004jyv\",\"ids\":\",us70004jyv,\",\"sources\":\",us,\",\"types\":\",dyfi,finite-fault,general-text,geoserve,ground-failure,impact-text,losspager,moment-tensor,origin,phase-data,poster,shakemap,\",\"nst\":null,\"dmin\":1.5029999999999999,\"rms\":0.84999999999999998,\"gap\":38,\"magType\":\"mww\",\"type\":\"earthquake\",\"title\":\"M 7.2 - 93km NNE of Laiwui, Indonesia\"},\"geometry\":{\"type\":\"Point\",\"coordinates\":[128.0291,-0.58689999999999998,19.390000000000001]},\"id\":\"us70004jyv\"},\\n{\"type\":\"Feature\",\"properties\":{\"mag\":7.0999999999999996,\"place\":\"2019 Ridgecrest Earthquake Sequence\",\"time\":1562383193040,\"updated\":1569092229862,\"tz\":-480,\"url\":\"https://earthquake.usgs.gov/earthquakes/eventpage/ci38457511\",\"detail\":\"https://earthquake.usgs.gov/fdsnws/event/1/query?eventid=ci38457511&format=geojson\",\"felt\":43099,\"cdi\":8.1999999999999993,\"mmi\":9.3000000000000007,\"alert\":\"yellow\",\"status\":\"reviewed\",\"tsunami\":1,\"sig\":1596,\"net\":\"ci\",\"code\":\"38457511\",\"ids\":\",ci38457511,us70004bn0,at00pu7alg,pt19187000,,\",\"sources\":\",ci,us,at,pt,,\",\"types\":\",dyfi,finite-fault,focal-mechanism,general-link,general-text,geoserve,ground-failure,impact-link,impact-text,losspager,moment-tensor,nearby-cities,oaf,origin,phase-data,poster,scitech-link,shakemap,\",\"nst\":77,\"dmin\":0.04616,\"rms\":0.22,\"gap\":43,\"magType\":\"mw\",\"type\":\"earthquake\",\"title\":\"M 7.1 - 2019 Ridgecrest Earthquake Sequence\"},\"geometry\":{\"type\":\"Point\",\"coordinates\":[-117.5993333,35.769500000000001,8]},\"id\":\"ci38457511\"},\\n{\"type\":\"Feature\",\"properties\":{\"mag\":7.2999999999999998,\"place\":\"292km NW of Saumlaki, Indonesia\",\"time\":1561344819830,\"updated\":1568215180040,\"tz\":540,\"url\":\"https://earthquake.usgs.gov/earthquakes/eventpage/us600044zz\",\"detail\":\"https://earthquake.usgs.gov/fdsnws/event/1/query?eventid=us600044zz&format=geojson\",\"felt\":323,\"cdi\":4.0999999999999996,\"mmi\":5.6399999999999997,\"alert\":\"green\",\"status\":\"reviewed\",\"tsunami\":1,\"sig\":952,\"net\":\"us\",\"code\":\"600044zz\",\"ids\":\",at00ptl1dg,pt19175001,us600044zz,\",\"sources\":\",at,pt,us,\",\"types\":\",dyfi,general-text,geoserve,ground-failure,impact-link,losspager,moment-tensor,origin,phase-data,poster,shakemap,\",\"nst\":null,\"dmin\":2.629,\"rms\":1.0800000000000001,\"gap\":16,\"magType\":\"mww\",\"type\":\"earthquake\",\"title\":\"M 7.3 - 292km NW of Saumlaki, Indonesia\"},\"geometry\":{\"type\":\"Point\",\"coordinates\":[129.16919999999999,-6.4077999999999999,212]},\"id\":\"us600044zz\"},\\n{\"type\":\"Feature\",\"properties\":{\"mag\":7.2999999999999998,\"place\":\"116km NE of L\\'Esperance Rock, New Zealand\",\"time\":1560639304130,\"updated\":1567779911040,\"tz\":-720,\"url\":\"https://earthquake.usgs.gov/earthquakes/eventpage/us6000417i\",\"detail\":\"https://earthquake.usgs.gov/fdsnws/event/1/query?eventid=us6000417i&format=geojson\",\"felt\":12,\"cdi\":8.3000000000000007,\"mmi\":6.4649999999999999,\"alert\":\"green\",\"status\":\"reviewed\",\"tsunami\":1,\"sig\":830,\"net\":\"us\",\"code\":\"6000417i\",\"ids\":\",at00pt5wzj,us6000417i,pt19166001,\",\"sources\":\",at,us,pt,\",\"types\":\",dyfi,finite-fault,general-text,geoserve,impact-link,impact-text,losspager,moment-tensor,origin,phase-data,poster,shakemap,\",\"nst\":null,\"dmin\":1.4019999999999999,\"rms\":0.81000000000000005,\"gap\":11,\"magType\":\"mww\",\"type\":\"earthquake\",\"title\":\"M 7.3 - 116km NE of L\\'Esperance Rock, New Zealand\"},\"geometry\":{\"type\":\"Point\",\"coordinates\":[-178.09950000000001,-30.644100000000002,46]},\"id\":\"us6000417i\"},\\n{\"type\":\"Feature\",\"properties\":{\"mag\":8,\"place\":\"78km SE of Lagunas, Peru\",\"time\":1558856475073,\"updated\":1569240516147,\"tz\":-300,\"url\":\"https://earthquake.usgs.gov/earthquakes/eventpage/us60003sc0\",\"detail\":\"https://earthquake.usgs.gov/fdsnws/event/1/query?eventid=us60003sc0&format=geojson\",\"felt\":1771,\"cdi\":8.9000000000000004,\"mmi\":7.9450000000000003,\"alert\":\"orange\",\"status\":\"reviewed\",\"tsunami\":1,\"sig\":1890,\"net\":\"us\",\"code\":\"60003sc0\",\"ids\":\",at00ps3pco,pt19146001,us60003sc0,\",\"sources\":\",at,pt,us,\",\"types\":\",dyfi,finite-fault,general-text,geoserve,ground-failure,impact-link,impact-text,losspager,moment-tensor,origin,phase-data,poster,shakemap,\",\"nst\":null,\"dmin\":3.1800000000000002,\"rms\":0.83999999999999997,\"gap\":17,\"magType\":\"mww\",\"type\":\"earthquake\",\"title\":\"M 8.0 - 78km SE of Lagunas, Peru\"},\"geometry\":{\"type\":\"Point\",\"coordinates\":[-75.2697,-5.8118999999999996,122.56999999999999]},\"id\":\"us60003sc0\"},\\n{\"type\":\"Feature\",\"properties\":{\"mag\":7.5999999999999996,\"place\":\"46km SSE of Namatanai, Papua New Guinea\",\"time\":1557838705939,\"updated\":1567706286523,\"tz\":600,\"url\":\"https://earthquake.usgs.gov/earthquakes/eventpage/us70003kyy\",\"detail\":\"https://earthquake.usgs.gov/fdsnws/event/1/query?eventid=us70003kyy&format=geojson\",\"felt\":57,\"cdi\":6.7999999999999998,\"mmi\":7.21,\"alert\":\"green\",\"status\":\"reviewed\",\"tsunami\":1,\"sig\":927,\"net\":\"us\",\"code\":\"70003kyy\",\"ids\":\",pt19134000,us70003kyy,\",\"sources\":\",pt,us,\",\"types\":\",dyfi,finite-fault,general-link,general-text,geoserve,ground-failure,impact-link,impact-text,losspager,moment-tensor,origin,phase-data,poster,shakemap,\",\"nst\":null,\"dmin\":0.45300000000000001,\"rms\":1,\"gap\":16,\"magType\":\"mww\",\"type\":\"earthquake\",\"title\":\"M 7.6 - 46km SSE of Namatanai, Papua New Guinea\"},\"geometry\":{\"type\":\"Point\",\"coordinates\":[152.5967,-4.0510000000000002,10]},\"id\":\"us70003kyy\"},\\n{\"type\":\"Feature\",\"properties\":{\"mag\":7.0999999999999996,\"place\":\"33km NW of Bulolo, Papua New Guinea\",\"time\":1557177577983,\"updated\":1564080867040,\"tz\":600,\"url\":\"https://earthquake.usgs.gov/earthquakes/eventpage/us70003hqb\",\"detail\":\"https://earthquake.usgs.gov/fdsnws/event/1/query?eventid=us70003hqb&format=geojson\",\"felt\":76,\"cdi\":6.5999999999999996,\"mmi\":7.1429999999999998,\"alert\":\"yellow\",\"status\":\"reviewed\",\"tsunami\":1,\"sig\":826,\"net\":\"us\",\"code\":\"70003hqb\",\"ids\":\",at00pr3pwp,us70003hqb,pt19126050,\",\"sources\":\",at,us,pt,\",\"types\":\",dyfi,finite-fault,general-text,geoserve,ground-failure,impact-link,impact-text,losspager,moment-tensor,origin,phase-data,poster,shakemap,\",\"nst\":null,\"dmin\":2.5139999999999998,\"rms\":1.02,\"gap\":16,\"magType\":\"mww\",\"type\":\"earthquake\",\"title\":\"M 7.1 - 33km NW of Bulolo, Papua New Guinea\"},\"geometry\":{\"type\":\"Point\",\"coordinates\":[146.4494,-6.9745999999999997,146]},\"id\":\"us70003hqb\"},\\n{\"type\":\"Feature\",\"properties\":{\"mag\":7,\"place\":\"23km NNE of Azangaro, Peru\",\"time\":1551430242591,\"updated\":1557858974040,\"tz\":-300,\"url\":\"https://earthquake.usgs.gov/earthquakes/eventpage/us1000j96d\",\"detail\":\"https://earthquake.usgs.gov/fdsnws/event/1/query?eventid=us1000j96d&format=geojson\",\"felt\":252,\"cdi\":7.2000000000000002,\"mmi\":4.423,\"alert\":\"green\",\"status\":\"reviewed\",\"tsunami\":1,\"sig\":935,\"net\":\"us\",\"code\":\"1000j96d\",\"ids\":\",at00pnoj8k,pt19060000,us1000j96d,\",\"sources\":\",at,pt,us,\",\"types\":\",dyfi,finite-fault,general-text,geoserve,ground-failure,impact-link,impact-text,losspager,moment-tensor,origin,phase-data,poster,shakemap,\",\"nst\":null,\"dmin\":2.5009999999999999,\"rms\":1.1299999999999999,\"gap\":42,\"magType\":\"mww\",\"type\":\"earthquake\",\"title\":\"M 7.0 - 23km NNE of Azangaro, Peru\"},\"geometry\":{\"type\":\"Point\",\"coordinates\":[-70.154600000000002,-14.713100000000001,267]},\"id\":\"us1000j96d\"},\\n{\"type\":\"Feature\",\"properties\":{\"mag\":7.5,\"place\":\"111km ESE of Palora, Ecuador\",\"time\":1550830643770,\"updated\":1557596444040,\"tz\":-300,\"url\":\"https://earthquake.usgs.gov/earthquakes/eventpage/us2000jlfv\",\"detail\":\"https://earthquake.usgs.gov/fdsnws/event/1/query?eventid=us2000jlfv&format=geojson\",\"felt\":417,\"cdi\":6.7000000000000002,\"mmi\":7.2809999999999997,\"alert\":\"yellow\",\"status\":\"reviewed\",\"tsunami\":1,\"sig\":1145,\"net\":\"us\",\"code\":\"2000jlfv\",\"ids\":\",at00pnbol0,pt19053000,us2000jlfv,\",\"sources\":\",at,pt,us,\",\"types\":\",dyfi,finite-fault,general-text,geoserve,ground-failure,impact-link,impact-text,losspager,moment-tensor,origin,phase-data,poster,shakemap,\",\"nst\":null,\"dmin\":2.0449999999999999,\"rms\":1.1200000000000001,\"gap\":15,\"magType\":\"mww\",\"type\":\"earthquake\",\"title\":\"M 7.5 - 111km ESE of Palora, Ecuador\"},\"geometry\":{\"type\":\"Point\",\"coordinates\":[-77.0505,-2.1861999999999999,145]},\"id\":\"us2000jlfv\"}],\"bbox\":[-178.0995,-30.6441,8,152.5967,35.7695,267]}'"
      ]
     },
     "execution_count": 29,
     "metadata": {},
     "output_type": "execute_result"
    }
   ],
   "source": [
    "erdbeben_max = requests.get(\"https://earthquake.usgs.gov/fdsnws/event/1/query?format=geojson&starttime=2019-01-01&endtime=2019-09-24&minmagnitude=7\")\n",
    "erdbeben_max.text"
   ]
  },
  {
   "cell_type": "code",
   "execution_count": 30,
   "metadata": {},
   "outputs": [],
   "source": [
    "erdbeben_max = erdbeben_max.json()"
   ]
  },
  {
   "cell_type": "code",
   "execution_count": 31,
   "metadata": {},
   "outputs": [
    {
     "name": "stdout",
     "output_type": "stream",
     "text": [
      "{'type': 'FeatureCollection', 'metadata': {'generated': 1569273304000, 'url': 'https://earthquake.usgs.gov/fdsnws/event/1/query?format=geojson&starttime=2019-01-01&endtime=2019-09-24&minmagnitude=7', 'title': 'USGS Earthquakes', 'status': 200, 'api': '1.8.1', 'count': 9}, 'features': [{'type': 'Feature', 'properties': {'mag': 7.2, 'place': '93km NNE of Laiwui, Indonesia', 'time': 1563095451599, 'updated': 1566451218111, 'tz': 540, 'url': 'https://earthquake.usgs.gov/earthquakes/eventpage/us70004jyv', 'detail': 'https://earthquake.usgs.gov/fdsnws/event/1/query?eventid=us70004jyv&format=geojson', 'felt': 16, 'cdi': 6.7, 'mmi': 6.805, 'alert': 'green', 'status': 'reviewed', 'tsunami': 1, 'sig': 808, 'net': 'us', 'code': '70004jyv', 'ids': ',us70004jyv,', 'sources': ',us,', 'types': ',dyfi,finite-fault,general-text,geoserve,ground-failure,impact-text,losspager,moment-tensor,origin,phase-data,poster,shakemap,', 'nst': None, 'dmin': 1.503, 'rms': 0.85, 'gap': 38, 'magType': 'mww', 'type': 'earthquake', 'title': 'M 7.2 - 93km NNE of Laiwui, Indonesia'}, 'geometry': {'type': 'Point', 'coordinates': [128.0291, -0.5869, 19.39]}, 'id': 'us70004jyv'}, {'type': 'Feature', 'properties': {'mag': 7.1, 'place': '2019 Ridgecrest Earthquake Sequence', 'time': 1562383193040, 'updated': 1569092229862, 'tz': -480, 'url': 'https://earthquake.usgs.gov/earthquakes/eventpage/ci38457511', 'detail': 'https://earthquake.usgs.gov/fdsnws/event/1/query?eventid=ci38457511&format=geojson', 'felt': 43099, 'cdi': 8.2, 'mmi': 9.3, 'alert': 'yellow', 'status': 'reviewed', 'tsunami': 1, 'sig': 1596, 'net': 'ci', 'code': '38457511', 'ids': ',ci38457511,us70004bn0,at00pu7alg,pt19187000,,', 'sources': ',ci,us,at,pt,,', 'types': ',dyfi,finite-fault,focal-mechanism,general-link,general-text,geoserve,ground-failure,impact-link,impact-text,losspager,moment-tensor,nearby-cities,oaf,origin,phase-data,poster,scitech-link,shakemap,', 'nst': 77, 'dmin': 0.04616, 'rms': 0.22, 'gap': 43, 'magType': 'mw', 'type': 'earthquake', 'title': 'M 7.1 - 2019 Ridgecrest Earthquake Sequence'}, 'geometry': {'type': 'Point', 'coordinates': [-117.5993333, 35.7695, 8]}, 'id': 'ci38457511'}, {'type': 'Feature', 'properties': {'mag': 7.3, 'place': '292km NW of Saumlaki, Indonesia', 'time': 1561344819830, 'updated': 1568215180040, 'tz': 540, 'url': 'https://earthquake.usgs.gov/earthquakes/eventpage/us600044zz', 'detail': 'https://earthquake.usgs.gov/fdsnws/event/1/query?eventid=us600044zz&format=geojson', 'felt': 323, 'cdi': 4.1, 'mmi': 5.64, 'alert': 'green', 'status': 'reviewed', 'tsunami': 1, 'sig': 952, 'net': 'us', 'code': '600044zz', 'ids': ',at00ptl1dg,pt19175001,us600044zz,', 'sources': ',at,pt,us,', 'types': ',dyfi,general-text,geoserve,ground-failure,impact-link,losspager,moment-tensor,origin,phase-data,poster,shakemap,', 'nst': None, 'dmin': 2.629, 'rms': 1.08, 'gap': 16, 'magType': 'mww', 'type': 'earthquake', 'title': 'M 7.3 - 292km NW of Saumlaki, Indonesia'}, 'geometry': {'type': 'Point', 'coordinates': [129.1692, -6.4078, 212]}, 'id': 'us600044zz'}, {'type': 'Feature', 'properties': {'mag': 7.3, 'place': \"116km NE of L'Esperance Rock, New Zealand\", 'time': 1560639304130, 'updated': 1567779911040, 'tz': -720, 'url': 'https://earthquake.usgs.gov/earthquakes/eventpage/us6000417i', 'detail': 'https://earthquake.usgs.gov/fdsnws/event/1/query?eventid=us6000417i&format=geojson', 'felt': 12, 'cdi': 8.3, 'mmi': 6.465, 'alert': 'green', 'status': 'reviewed', 'tsunami': 1, 'sig': 830, 'net': 'us', 'code': '6000417i', 'ids': ',at00pt5wzj,us6000417i,pt19166001,', 'sources': ',at,us,pt,', 'types': ',dyfi,finite-fault,general-text,geoserve,impact-link,impact-text,losspager,moment-tensor,origin,phase-data,poster,shakemap,', 'nst': None, 'dmin': 1.402, 'rms': 0.81, 'gap': 11, 'magType': 'mww', 'type': 'earthquake', 'title': \"M 7.3 - 116km NE of L'Esperance Rock, New Zealand\"}, 'geometry': {'type': 'Point', 'coordinates': [-178.0995, -30.6441, 46]}, 'id': 'us6000417i'}, {'type': 'Feature', 'properties': {'mag': 8, 'place': '78km SE of Lagunas, Peru', 'time': 1558856475073, 'updated': 1569240516147, 'tz': -300, 'url': 'https://earthquake.usgs.gov/earthquakes/eventpage/us60003sc0', 'detail': 'https://earthquake.usgs.gov/fdsnws/event/1/query?eventid=us60003sc0&format=geojson', 'felt': 1771, 'cdi': 8.9, 'mmi': 7.945, 'alert': 'orange', 'status': 'reviewed', 'tsunami': 1, 'sig': 1890, 'net': 'us', 'code': '60003sc0', 'ids': ',at00ps3pco,pt19146001,us60003sc0,', 'sources': ',at,pt,us,', 'types': ',dyfi,finite-fault,general-text,geoserve,ground-failure,impact-link,impact-text,losspager,moment-tensor,origin,phase-data,poster,shakemap,', 'nst': None, 'dmin': 3.18, 'rms': 0.84, 'gap': 17, 'magType': 'mww', 'type': 'earthquake', 'title': 'M 8.0 - 78km SE of Lagunas, Peru'}, 'geometry': {'type': 'Point', 'coordinates': [-75.2697, -5.8119, 122.57]}, 'id': 'us60003sc0'}, {'type': 'Feature', 'properties': {'mag': 7.6, 'place': '46km SSE of Namatanai, Papua New Guinea', 'time': 1557838705939, 'updated': 1567706286523, 'tz': 600, 'url': 'https://earthquake.usgs.gov/earthquakes/eventpage/us70003kyy', 'detail': 'https://earthquake.usgs.gov/fdsnws/event/1/query?eventid=us70003kyy&format=geojson', 'felt': 57, 'cdi': 6.8, 'mmi': 7.21, 'alert': 'green', 'status': 'reviewed', 'tsunami': 1, 'sig': 927, 'net': 'us', 'code': '70003kyy', 'ids': ',pt19134000,us70003kyy,', 'sources': ',pt,us,', 'types': ',dyfi,finite-fault,general-link,general-text,geoserve,ground-failure,impact-link,impact-text,losspager,moment-tensor,origin,phase-data,poster,shakemap,', 'nst': None, 'dmin': 0.453, 'rms': 1, 'gap': 16, 'magType': 'mww', 'type': 'earthquake', 'title': 'M 7.6 - 46km SSE of Namatanai, Papua New Guinea'}, 'geometry': {'type': 'Point', 'coordinates': [152.5967, -4.051, 10]}, 'id': 'us70003kyy'}, {'type': 'Feature', 'properties': {'mag': 7.1, 'place': '33km NW of Bulolo, Papua New Guinea', 'time': 1557177577983, 'updated': 1564080867040, 'tz': 600, 'url': 'https://earthquake.usgs.gov/earthquakes/eventpage/us70003hqb', 'detail': 'https://earthquake.usgs.gov/fdsnws/event/1/query?eventid=us70003hqb&format=geojson', 'felt': 76, 'cdi': 6.6, 'mmi': 7.143, 'alert': 'yellow', 'status': 'reviewed', 'tsunami': 1, 'sig': 826, 'net': 'us', 'code': '70003hqb', 'ids': ',at00pr3pwp,us70003hqb,pt19126050,', 'sources': ',at,us,pt,', 'types': ',dyfi,finite-fault,general-text,geoserve,ground-failure,impact-link,impact-text,losspager,moment-tensor,origin,phase-data,poster,shakemap,', 'nst': None, 'dmin': 2.514, 'rms': 1.02, 'gap': 16, 'magType': 'mww', 'type': 'earthquake', 'title': 'M 7.1 - 33km NW of Bulolo, Papua New Guinea'}, 'geometry': {'type': 'Point', 'coordinates': [146.4494, -6.9746, 146]}, 'id': 'us70003hqb'}, {'type': 'Feature', 'properties': {'mag': 7, 'place': '23km NNE of Azangaro, Peru', 'time': 1551430242591, 'updated': 1557858974040, 'tz': -300, 'url': 'https://earthquake.usgs.gov/earthquakes/eventpage/us1000j96d', 'detail': 'https://earthquake.usgs.gov/fdsnws/event/1/query?eventid=us1000j96d&format=geojson', 'felt': 252, 'cdi': 7.2, 'mmi': 4.423, 'alert': 'green', 'status': 'reviewed', 'tsunami': 1, 'sig': 935, 'net': 'us', 'code': '1000j96d', 'ids': ',at00pnoj8k,pt19060000,us1000j96d,', 'sources': ',at,pt,us,', 'types': ',dyfi,finite-fault,general-text,geoserve,ground-failure,impact-link,impact-text,losspager,moment-tensor,origin,phase-data,poster,shakemap,', 'nst': None, 'dmin': 2.501, 'rms': 1.13, 'gap': 42, 'magType': 'mww', 'type': 'earthquake', 'title': 'M 7.0 - 23km NNE of Azangaro, Peru'}, 'geometry': {'type': 'Point', 'coordinates': [-70.1546, -14.7131, 267]}, 'id': 'us1000j96d'}, {'type': 'Feature', 'properties': {'mag': 7.5, 'place': '111km ESE of Palora, Ecuador', 'time': 1550830643770, 'updated': 1557596444040, 'tz': -300, 'url': 'https://earthquake.usgs.gov/earthquakes/eventpage/us2000jlfv', 'detail': 'https://earthquake.usgs.gov/fdsnws/event/1/query?eventid=us2000jlfv&format=geojson', 'felt': 417, 'cdi': 6.7, 'mmi': 7.281, 'alert': 'yellow', 'status': 'reviewed', 'tsunami': 1, 'sig': 1145, 'net': 'us', 'code': '2000jlfv', 'ids': ',at00pnbol0,pt19053000,us2000jlfv,', 'sources': ',at,pt,us,', 'types': ',dyfi,finite-fault,general-text,geoserve,ground-failure,impact-link,impact-text,losspager,moment-tensor,origin,phase-data,poster,shakemap,', 'nst': None, 'dmin': 2.045, 'rms': 1.12, 'gap': 15, 'magType': 'mww', 'type': 'earthquake', 'title': 'M 7.5 - 111km ESE of Palora, Ecuador'}, 'geometry': {'type': 'Point', 'coordinates': [-77.0505, -2.1862, 145]}, 'id': 'us2000jlfv'}], 'bbox': [-178.0995, -30.6441, 8, 152.5967, 35.7695, 267]}\n"
     ]
    }
   ],
   "source": [
    "print(erdbeben_max)"
   ]
  },
  {
   "cell_type": "code",
   "execution_count": 36,
   "metadata": {},
   "outputs": [
    {
     "data": {
      "text/plain": [
       "[{'type': 'Feature',\n",
       "  'properties': {'mag': 7.2,\n",
       "   'place': '93km NNE of Laiwui, Indonesia',\n",
       "   'time': 1563095451599,\n",
       "   'updated': 1566451218111,\n",
       "   'tz': 540,\n",
       "   'url': 'https://earthquake.usgs.gov/earthquakes/eventpage/us70004jyv',\n",
       "   'detail': 'https://earthquake.usgs.gov/fdsnws/event/1/query?eventid=us70004jyv&format=geojson',\n",
       "   'felt': 16,\n",
       "   'cdi': 6.7,\n",
       "   'mmi': 6.805,\n",
       "   'alert': 'green',\n",
       "   'status': 'reviewed',\n",
       "   'tsunami': 1,\n",
       "   'sig': 808,\n",
       "   'net': 'us',\n",
       "   'code': '70004jyv',\n",
       "   'ids': ',us70004jyv,',\n",
       "   'sources': ',us,',\n",
       "   'types': ',dyfi,finite-fault,general-text,geoserve,ground-failure,impact-text,losspager,moment-tensor,origin,phase-data,poster,shakemap,',\n",
       "   'nst': None,\n",
       "   'dmin': 1.503,\n",
       "   'rms': 0.85,\n",
       "   'gap': 38,\n",
       "   'magType': 'mww',\n",
       "   'type': 'earthquake',\n",
       "   'title': 'M 7.2 - 93km NNE of Laiwui, Indonesia'},\n",
       "  'geometry': {'type': 'Point', 'coordinates': [128.0291, -0.5869, 19.39]},\n",
       "  'id': 'us70004jyv'},\n",
       " {'type': 'Feature',\n",
       "  'properties': {'mag': 7.1,\n",
       "   'place': '2019 Ridgecrest Earthquake Sequence',\n",
       "   'time': 1562383193040,\n",
       "   'updated': 1569092229862,\n",
       "   'tz': -480,\n",
       "   'url': 'https://earthquake.usgs.gov/earthquakes/eventpage/ci38457511',\n",
       "   'detail': 'https://earthquake.usgs.gov/fdsnws/event/1/query?eventid=ci38457511&format=geojson',\n",
       "   'felt': 43099,\n",
       "   'cdi': 8.2,\n",
       "   'mmi': 9.3,\n",
       "   'alert': 'yellow',\n",
       "   'status': 'reviewed',\n",
       "   'tsunami': 1,\n",
       "   'sig': 1596,\n",
       "   'net': 'ci',\n",
       "   'code': '38457511',\n",
       "   'ids': ',ci38457511,us70004bn0,at00pu7alg,pt19187000,,',\n",
       "   'sources': ',ci,us,at,pt,,',\n",
       "   'types': ',dyfi,finite-fault,focal-mechanism,general-link,general-text,geoserve,ground-failure,impact-link,impact-text,losspager,moment-tensor,nearby-cities,oaf,origin,phase-data,poster,scitech-link,shakemap,',\n",
       "   'nst': 77,\n",
       "   'dmin': 0.04616,\n",
       "   'rms': 0.22,\n",
       "   'gap': 43,\n",
       "   'magType': 'mw',\n",
       "   'type': 'earthquake',\n",
       "   'title': 'M 7.1 - 2019 Ridgecrest Earthquake Sequence'},\n",
       "  'geometry': {'type': 'Point', 'coordinates': [-117.5993333, 35.7695, 8]},\n",
       "  'id': 'ci38457511'},\n",
       " {'type': 'Feature',\n",
       "  'properties': {'mag': 7.3,\n",
       "   'place': '292km NW of Saumlaki, Indonesia',\n",
       "   'time': 1561344819830,\n",
       "   'updated': 1568215180040,\n",
       "   'tz': 540,\n",
       "   'url': 'https://earthquake.usgs.gov/earthquakes/eventpage/us600044zz',\n",
       "   'detail': 'https://earthquake.usgs.gov/fdsnws/event/1/query?eventid=us600044zz&format=geojson',\n",
       "   'felt': 323,\n",
       "   'cdi': 4.1,\n",
       "   'mmi': 5.64,\n",
       "   'alert': 'green',\n",
       "   'status': 'reviewed',\n",
       "   'tsunami': 1,\n",
       "   'sig': 952,\n",
       "   'net': 'us',\n",
       "   'code': '600044zz',\n",
       "   'ids': ',at00ptl1dg,pt19175001,us600044zz,',\n",
       "   'sources': ',at,pt,us,',\n",
       "   'types': ',dyfi,general-text,geoserve,ground-failure,impact-link,losspager,moment-tensor,origin,phase-data,poster,shakemap,',\n",
       "   'nst': None,\n",
       "   'dmin': 2.629,\n",
       "   'rms': 1.08,\n",
       "   'gap': 16,\n",
       "   'magType': 'mww',\n",
       "   'type': 'earthquake',\n",
       "   'title': 'M 7.3 - 292km NW of Saumlaki, Indonesia'},\n",
       "  'geometry': {'type': 'Point', 'coordinates': [129.1692, -6.4078, 212]},\n",
       "  'id': 'us600044zz'},\n",
       " {'type': 'Feature',\n",
       "  'properties': {'mag': 7.3,\n",
       "   'place': \"116km NE of L'Esperance Rock, New Zealand\",\n",
       "   'time': 1560639304130,\n",
       "   'updated': 1567779911040,\n",
       "   'tz': -720,\n",
       "   'url': 'https://earthquake.usgs.gov/earthquakes/eventpage/us6000417i',\n",
       "   'detail': 'https://earthquake.usgs.gov/fdsnws/event/1/query?eventid=us6000417i&format=geojson',\n",
       "   'felt': 12,\n",
       "   'cdi': 8.3,\n",
       "   'mmi': 6.465,\n",
       "   'alert': 'green',\n",
       "   'status': 'reviewed',\n",
       "   'tsunami': 1,\n",
       "   'sig': 830,\n",
       "   'net': 'us',\n",
       "   'code': '6000417i',\n",
       "   'ids': ',at00pt5wzj,us6000417i,pt19166001,',\n",
       "   'sources': ',at,us,pt,',\n",
       "   'types': ',dyfi,finite-fault,general-text,geoserve,impact-link,impact-text,losspager,moment-tensor,origin,phase-data,poster,shakemap,',\n",
       "   'nst': None,\n",
       "   'dmin': 1.402,\n",
       "   'rms': 0.81,\n",
       "   'gap': 11,\n",
       "   'magType': 'mww',\n",
       "   'type': 'earthquake',\n",
       "   'title': \"M 7.3 - 116km NE of L'Esperance Rock, New Zealand\"},\n",
       "  'geometry': {'type': 'Point', 'coordinates': [-178.0995, -30.6441, 46]},\n",
       "  'id': 'us6000417i'},\n",
       " {'type': 'Feature',\n",
       "  'properties': {'mag': 8,\n",
       "   'place': '78km SE of Lagunas, Peru',\n",
       "   'time': 1558856475073,\n",
       "   'updated': 1569240516147,\n",
       "   'tz': -300,\n",
       "   'url': 'https://earthquake.usgs.gov/earthquakes/eventpage/us60003sc0',\n",
       "   'detail': 'https://earthquake.usgs.gov/fdsnws/event/1/query?eventid=us60003sc0&format=geojson',\n",
       "   'felt': 1771,\n",
       "   'cdi': 8.9,\n",
       "   'mmi': 7.945,\n",
       "   'alert': 'orange',\n",
       "   'status': 'reviewed',\n",
       "   'tsunami': 1,\n",
       "   'sig': 1890,\n",
       "   'net': 'us',\n",
       "   'code': '60003sc0',\n",
       "   'ids': ',at00ps3pco,pt19146001,us60003sc0,',\n",
       "   'sources': ',at,pt,us,',\n",
       "   'types': ',dyfi,finite-fault,general-text,geoserve,ground-failure,impact-link,impact-text,losspager,moment-tensor,origin,phase-data,poster,shakemap,',\n",
       "   'nst': None,\n",
       "   'dmin': 3.18,\n",
       "   'rms': 0.84,\n",
       "   'gap': 17,\n",
       "   'magType': 'mww',\n",
       "   'type': 'earthquake',\n",
       "   'title': 'M 8.0 - 78km SE of Lagunas, Peru'},\n",
       "  'geometry': {'type': 'Point', 'coordinates': [-75.2697, -5.8119, 122.57]},\n",
       "  'id': 'us60003sc0'},\n",
       " {'type': 'Feature',\n",
       "  'properties': {'mag': 7.6,\n",
       "   'place': '46km SSE of Namatanai, Papua New Guinea',\n",
       "   'time': 1557838705939,\n",
       "   'updated': 1567706286523,\n",
       "   'tz': 600,\n",
       "   'url': 'https://earthquake.usgs.gov/earthquakes/eventpage/us70003kyy',\n",
       "   'detail': 'https://earthquake.usgs.gov/fdsnws/event/1/query?eventid=us70003kyy&format=geojson',\n",
       "   'felt': 57,\n",
       "   'cdi': 6.8,\n",
       "   'mmi': 7.21,\n",
       "   'alert': 'green',\n",
       "   'status': 'reviewed',\n",
       "   'tsunami': 1,\n",
       "   'sig': 927,\n",
       "   'net': 'us',\n",
       "   'code': '70003kyy',\n",
       "   'ids': ',pt19134000,us70003kyy,',\n",
       "   'sources': ',pt,us,',\n",
       "   'types': ',dyfi,finite-fault,general-link,general-text,geoserve,ground-failure,impact-link,impact-text,losspager,moment-tensor,origin,phase-data,poster,shakemap,',\n",
       "   'nst': None,\n",
       "   'dmin': 0.453,\n",
       "   'rms': 1,\n",
       "   'gap': 16,\n",
       "   'magType': 'mww',\n",
       "   'type': 'earthquake',\n",
       "   'title': 'M 7.6 - 46km SSE of Namatanai, Papua New Guinea'},\n",
       "  'geometry': {'type': 'Point', 'coordinates': [152.5967, -4.051, 10]},\n",
       "  'id': 'us70003kyy'},\n",
       " {'type': 'Feature',\n",
       "  'properties': {'mag': 7.1,\n",
       "   'place': '33km NW of Bulolo, Papua New Guinea',\n",
       "   'time': 1557177577983,\n",
       "   'updated': 1564080867040,\n",
       "   'tz': 600,\n",
       "   'url': 'https://earthquake.usgs.gov/earthquakes/eventpage/us70003hqb',\n",
       "   'detail': 'https://earthquake.usgs.gov/fdsnws/event/1/query?eventid=us70003hqb&format=geojson',\n",
       "   'felt': 76,\n",
       "   'cdi': 6.6,\n",
       "   'mmi': 7.143,\n",
       "   'alert': 'yellow',\n",
       "   'status': 'reviewed',\n",
       "   'tsunami': 1,\n",
       "   'sig': 826,\n",
       "   'net': 'us',\n",
       "   'code': '70003hqb',\n",
       "   'ids': ',at00pr3pwp,us70003hqb,pt19126050,',\n",
       "   'sources': ',at,us,pt,',\n",
       "   'types': ',dyfi,finite-fault,general-text,geoserve,ground-failure,impact-link,impact-text,losspager,moment-tensor,origin,phase-data,poster,shakemap,',\n",
       "   'nst': None,\n",
       "   'dmin': 2.514,\n",
       "   'rms': 1.02,\n",
       "   'gap': 16,\n",
       "   'magType': 'mww',\n",
       "   'type': 'earthquake',\n",
       "   'title': 'M 7.1 - 33km NW of Bulolo, Papua New Guinea'},\n",
       "  'geometry': {'type': 'Point', 'coordinates': [146.4494, -6.9746, 146]},\n",
       "  'id': 'us70003hqb'},\n",
       " {'type': 'Feature',\n",
       "  'properties': {'mag': 7,\n",
       "   'place': '23km NNE of Azangaro, Peru',\n",
       "   'time': 1551430242591,\n",
       "   'updated': 1557858974040,\n",
       "   'tz': -300,\n",
       "   'url': 'https://earthquake.usgs.gov/earthquakes/eventpage/us1000j96d',\n",
       "   'detail': 'https://earthquake.usgs.gov/fdsnws/event/1/query?eventid=us1000j96d&format=geojson',\n",
       "   'felt': 252,\n",
       "   'cdi': 7.2,\n",
       "   'mmi': 4.423,\n",
       "   'alert': 'green',\n",
       "   'status': 'reviewed',\n",
       "   'tsunami': 1,\n",
       "   'sig': 935,\n",
       "   'net': 'us',\n",
       "   'code': '1000j96d',\n",
       "   'ids': ',at00pnoj8k,pt19060000,us1000j96d,',\n",
       "   'sources': ',at,pt,us,',\n",
       "   'types': ',dyfi,finite-fault,general-text,geoserve,ground-failure,impact-link,impact-text,losspager,moment-tensor,origin,phase-data,poster,shakemap,',\n",
       "   'nst': None,\n",
       "   'dmin': 2.501,\n",
       "   'rms': 1.13,\n",
       "   'gap': 42,\n",
       "   'magType': 'mww',\n",
       "   'type': 'earthquake',\n",
       "   'title': 'M 7.0 - 23km NNE of Azangaro, Peru'},\n",
       "  'geometry': {'type': 'Point', 'coordinates': [-70.1546, -14.7131, 267]},\n",
       "  'id': 'us1000j96d'},\n",
       " {'type': 'Feature',\n",
       "  'properties': {'mag': 7.5,\n",
       "   'place': '111km ESE of Palora, Ecuador',\n",
       "   'time': 1550830643770,\n",
       "   'updated': 1557596444040,\n",
       "   'tz': -300,\n",
       "   'url': 'https://earthquake.usgs.gov/earthquakes/eventpage/us2000jlfv',\n",
       "   'detail': 'https://earthquake.usgs.gov/fdsnws/event/1/query?eventid=us2000jlfv&format=geojson',\n",
       "   'felt': 417,\n",
       "   'cdi': 6.7,\n",
       "   'mmi': 7.281,\n",
       "   'alert': 'yellow',\n",
       "   'status': 'reviewed',\n",
       "   'tsunami': 1,\n",
       "   'sig': 1145,\n",
       "   'net': 'us',\n",
       "   'code': '2000jlfv',\n",
       "   'ids': ',at00pnbol0,pt19053000,us2000jlfv,',\n",
       "   'sources': ',at,pt,us,',\n",
       "   'types': ',dyfi,finite-fault,general-text,geoserve,ground-failure,impact-link,impact-text,losspager,moment-tensor,origin,phase-data,poster,shakemap,',\n",
       "   'nst': None,\n",
       "   'dmin': 2.045,\n",
       "   'rms': 1.12,\n",
       "   'gap': 15,\n",
       "   'magType': 'mww',\n",
       "   'type': 'earthquake',\n",
       "   'title': 'M 7.5 - 111km ESE of Palora, Ecuador'},\n",
       "  'geometry': {'type': 'Point', 'coordinates': [-77.0505, -2.1862, 145]},\n",
       "  'id': 'us2000jlfv'}]"
      ]
     },
     "execution_count": 36,
     "metadata": {},
     "output_type": "execute_result"
    }
   ],
   "source": [
    "erdbeben_max[\"features\"]"
   ]
  },
  {
   "cell_type": "code",
   "execution_count": 37,
   "metadata": {},
   "outputs": [],
   "source": [
    "erdbeben_max = erdbeben_max[\"features\"]\n"
   ]
  },
  {
   "cell_type": "code",
   "execution_count": 38,
   "metadata": {},
   "outputs": [
    {
     "name": "stdout",
     "output_type": "stream",
     "text": [
      "7.2\n",
      "93km NNE of Laiwui, Indonesia\n",
      "1563095451599\n",
      "7.1\n",
      "2019 Ridgecrest Earthquake Sequence\n",
      "1562383193040\n",
      "7.3\n",
      "292km NW of Saumlaki, Indonesia\n",
      "1561344819830\n",
      "7.3\n",
      "116km NE of L'Esperance Rock, New Zealand\n",
      "1560639304130\n",
      "8\n",
      "78km SE of Lagunas, Peru\n",
      "1558856475073\n",
      "7.6\n",
      "46km SSE of Namatanai, Papua New Guinea\n",
      "1557838705939\n",
      "7.1\n",
      "33km NW of Bulolo, Papua New Guinea\n",
      "1557177577983\n",
      "7\n",
      "23km NNE of Azangaro, Peru\n",
      "1551430242591\n",
      "7.5\n",
      "111km ESE of Palora, Ecuador\n",
      "1550830643770\n"
     ]
    }
   ],
   "source": [
    "for beben in erdbeben_max:\n",
    "    print(beben[\"properties\"][\"mag\"])\n",
    "    print(beben[\"properties\"][\"place\"])\n",
    "    print(beben[\"properties\"][\"time\"])"
   ]
  },
  {
   "cell_type": "code",
   "execution_count": 41,
   "metadata": {},
   "outputs": [],
   "source": [
    "import time \n",
    "top2019 = []\n",
    "for beben in erdbeben_max:\n",
    "    magnitude = beben[\"properties\"][\"mag\"]\n",
    "    place = beben[\"properties\"][\"place\"]\n",
    "    zeit = beben[\"properties\"][\"time\"]\n",
    "    zeit = time.ctime(int(zeit))\n",
    "    mini_dict = {\"Magnitude: \":magnitude, \"Place: \":place, \"Time: \":zeit}\n",
    "    \n",
    "    top2019.append(mini_dict)"
   ]
  },
  {
   "cell_type": "code",
   "execution_count": 64,
   "metadata": {},
   "outputs": [
    {
     "data": {
      "text/html": [
       "<div>\n",
       "<style scoped>\n",
       "    .dataframe tbody tr th:only-of-type {\n",
       "        vertical-align: middle;\n",
       "    }\n",
       "\n",
       "    .dataframe tbody tr th {\n",
       "        vertical-align: top;\n",
       "    }\n",
       "\n",
       "    .dataframe thead th {\n",
       "        text-align: right;\n",
       "    }\n",
       "</style>\n",
       "<table border=\"1\" class=\"dataframe\">\n",
       "  <thead>\n",
       "    <tr style=\"text-align: right;\">\n",
       "      <th></th>\n",
       "      <th>Magnitude:</th>\n",
       "      <th>Place:</th>\n",
       "      <th>Time:</th>\n",
       "    </tr>\n",
       "  </thead>\n",
       "  <tbody>\n",
       "    <tr>\n",
       "      <th>0</th>\n",
       "      <td>7.2</td>\n",
       "      <td>93km NNE of Laiwui, Indonesia</td>\n",
       "      <td>Fri Jul 11 14:59:59 51502</td>\n",
       "    </tr>\n",
       "    <tr>\n",
       "      <th>1</th>\n",
       "      <td>7.1</td>\n",
       "      <td>2019 Ridgecrest Earthquake Sequence</td>\n",
       "      <td>Sun Dec 14 20:24:00 51479</td>\n",
       "    </tr>\n",
       "    <tr>\n",
       "      <th>2</th>\n",
       "      <td>7.3</td>\n",
       "      <td>292km NW of Saumlaki, Indonesia</td>\n",
       "      <td>Mon Jan 18 15:23:50 51447</td>\n",
       "    </tr>\n",
       "    <tr>\n",
       "      <th>3</th>\n",
       "      <td>7.3</td>\n",
       "      <td>116km NE of L'Esperance Rock, New Zealand</td>\n",
       "      <td>Thu Sep  9 23:48:50 51424</td>\n",
       "    </tr>\n",
       "    <tr>\n",
       "      <th>4</th>\n",
       "      <td>8.0</td>\n",
       "      <td>78km SE of Lagunas, Peru</td>\n",
       "      <td>Sat Mar 12 08:31:13 51368</td>\n",
       "    </tr>\n",
       "    <tr>\n",
       "      <th>5</th>\n",
       "      <td>7.6</td>\n",
       "      <td>46km SSE of Namatanai, Papua New Guinea</td>\n",
       "      <td>Sun Dec 11 14:52:19 51335</td>\n",
       "    </tr>\n",
       "    <tr>\n",
       "      <th>6</th>\n",
       "      <td>7.1</td>\n",
       "      <td>33km NW of Bulolo, Papua New Guinea</td>\n",
       "      <td>Sat Dec 29 16:13:03 51314</td>\n",
       "    </tr>\n",
       "    <tr>\n",
       "      <th>7</th>\n",
       "      <td>7.0</td>\n",
       "      <td>23km NNE of Azangaro, Peru</td>\n",
       "      <td>Sun Nov 13 14:09:51 51132</td>\n",
       "    </tr>\n",
       "    <tr>\n",
       "      <th>8</th>\n",
       "      <td>7.5</td>\n",
       "      <td>111km ESE of Palora, Ecuador</td>\n",
       "      <td>Thu Nov 13 18:56:10 51113</td>\n",
       "    </tr>\n",
       "  </tbody>\n",
       "</table>\n",
       "</div>"
      ],
      "text/plain": [
       "   Magnitude:                                     Place:   \\\n",
       "0          7.2              93km NNE of Laiwui, Indonesia   \n",
       "1          7.1        2019 Ridgecrest Earthquake Sequence   \n",
       "2          7.3            292km NW of Saumlaki, Indonesia   \n",
       "3          7.3  116km NE of L'Esperance Rock, New Zealand   \n",
       "4          8.0                   78km SE of Lagunas, Peru   \n",
       "5          7.6    46km SSE of Namatanai, Papua New Guinea   \n",
       "6          7.1        33km NW of Bulolo, Papua New Guinea   \n",
       "7          7.0                 23km NNE of Azangaro, Peru   \n",
       "8          7.5               111km ESE of Palora, Ecuador   \n",
       "\n",
       "                      Time:   \n",
       "0  Fri Jul 11 14:59:59 51502  \n",
       "1  Sun Dec 14 20:24:00 51479  \n",
       "2  Mon Jan 18 15:23:50 51447  \n",
       "3  Thu Sep  9 23:48:50 51424  \n",
       "4  Sat Mar 12 08:31:13 51368  \n",
       "5  Sun Dec 11 14:52:19 51335  \n",
       "6  Sat Dec 29 16:13:03 51314  \n",
       "7  Sun Nov 13 14:09:51 51132  \n",
       "8  Thu Nov 13 18:56:10 51113  "
      ]
     },
     "execution_count": 64,
     "metadata": {},
     "output_type": "execute_result"
    }
   ],
   "source": [
    "pd.DataFrame(top2019)"
   ]
  },
  {
   "cell_type": "code",
   "execution_count": 70,
   "metadata": {},
   "outputs": [],
   "source": [
    "pd.DataFrame(top2019).sort_values(\"Magnitude: \", ascending=False).to_csv(\"Topbeben2019.csv\")"
   ]
  },
  {
   "cell_type": "markdown",
   "metadata": {},
   "source": [
    "5. Wo haben sich diese Erdbeben ereignet?"
   ]
  },
  {
   "cell_type": "code",
   "execution_count": null,
   "metadata": {},
   "outputs": [],
   "source": []
  },
  {
   "cell_type": "code",
   "execution_count": null,
   "metadata": {},
   "outputs": [],
   "source": []
  },
  {
   "cell_type": "markdown",
   "metadata": {},
   "source": [
    "6. Ziehe auch die Zeit mit heraus?"
   ]
  },
  {
   "cell_type": "code",
   "execution_count": null,
   "metadata": {},
   "outputs": [],
   "source": []
  },
  {
   "cell_type": "markdown",
   "metadata": {},
   "source": [
    "7. Konvertiere die Unix Zeit zu leserlichen Zeit? (Suche nicht zu lange, schau mal an, wies im Pandas aussieht.)"
   ]
  }
 ],
 "metadata": {
  "kernelspec": {
   "display_name": "Python 3",
   "language": "python",
   "name": "python3"
  },
  "language_info": {
   "codemirror_mode": {
    "name": "ipython",
    "version": 3
   },
   "file_extension": ".py",
   "mimetype": "text/x-python",
   "name": "python",
   "nbconvert_exporter": "python",
   "pygments_lexer": "ipython3",
   "version": "3.7.3"
  }
 },
 "nbformat": 4,
 "nbformat_minor": 2
}
