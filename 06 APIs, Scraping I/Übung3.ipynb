{
 "cells": [
  {
   "cell_type": "markdown",
   "metadata": {},
   "source": [
    "# Übung 3"
   ]
  },
  {
   "cell_type": "markdown",
   "metadata": {},
   "source": [
    "#### 1. Importiere requests, BeautifulSoup und Pandas"
   ]
  },
  {
   "cell_type": "code",
   "execution_count": 44,
   "metadata": {},
   "outputs": [],
   "source": [
    "import requests\n",
    "import pandas as pd\n",
    "from bs4 import BeautifulSoup"
   ]
  },
  {
   "cell_type": "markdown",
   "metadata": {},
   "source": [
    "#### 2. Lade den Inhalt des Parkhaus-RSS-Feeds in eine Variabel"
   ]
  },
  {
   "cell_type": "code",
   "execution_count": 35,
   "metadata": {},
   "outputs": [],
   "source": [
    "park_db = requests.get('http://www.plszh.ch/plsFeed/rss')"
   ]
  },
  {
   "cell_type": "markdown",
   "metadata": {},
   "source": [
    "#### 3. Ziehen wir alle Titel heraus und machen daraus eine Liste"
   ]
  },
  {
   "cell_type": "code",
   "execution_count": 69,
   "metadata": {},
   "outputs": [],
   "source": [
    "contents = park_db.text #Wandeln wir den Text in ein Format um, mit dem BeautifulSoup umgehen kann.\n",
    "soup = BeautifulSoup(contents,'xml') #Geben wir das an BeautifulSoup weiter\n",
    "titles = soup.find_all('title')"
   ]
  },
  {
   "cell_type": "markdown",
   "metadata": {},
   "source": [
    "#### 4. Ziehen wir alle Links heraus und machen daraus eine Liste"
   ]
  },
  {
   "cell_type": "code",
   "execution_count": 37,
   "metadata": {},
   "outputs": [],
   "source": [
    "links = soup.find_all('link')"
   ]
  },
  {
   "cell_type": "markdown",
   "metadata": {},
   "source": [
    "#### 5. Nun bauen wir eine Dictionary aus den beiden Listen mit dem ersten Key \"Titel\" und zweiten Key \"URL\"."
   ]
  },
  {
   "cell_type": "code",
   "execution_count": 66,
   "metadata": {},
   "outputs": [],
   "source": [
    "url_liste = []\n",
    "for titel,url in zip(titles,links): #für platzhalter1, platzhalter2 für die Loop-Funktion!\n",
    "    \n",
    "    mini_dict = {\"Titel\":titel.text,\n",
    "                 \"URL\":url.text}\n",
    "    url_liste.append(mini_dict)"
   ]
  },
  {
   "cell_type": "markdown",
   "metadata": {},
   "source": [
    "#### 6. Schliesslich machen wir daraus einen DataFrame (eine für uns Menschen lesbare Tabelle) und speichern das Ergebnis ab."
   ]
  },
  {
   "cell_type": "code",
   "execution_count": 33,
   "metadata": {},
   "outputs": [
    {
     "data": {
      "text/html": [
       "<div>\n",
       "<style scoped>\n",
       "    .dataframe tbody tr th:only-of-type {\n",
       "        vertical-align: middle;\n",
       "    }\n",
       "\n",
       "    .dataframe tbody tr th {\n",
       "        vertical-align: top;\n",
       "    }\n",
       "\n",
       "    .dataframe thead th {\n",
       "        text-align: right;\n",
       "    }\n",
       "</style>\n",
       "<table border=\"1\" class=\"dataframe\">\n",
       "  <thead>\n",
       "    <tr style=\"text-align: right;\">\n",
       "      <th></th>\n",
       "      <th>Titel</th>\n",
       "      <th>URL</th>\n",
       "    </tr>\n",
       "  </thead>\n",
       "  <tbody>\n",
       "    <tr>\n",
       "      <th>1</th>\n",
       "      <td>Parkgarage am Central / Seilergraben</td>\n",
       "      <td>http://www.plszh.ch/plsNeu/parkhaus/central.js...</td>\n",
       "    </tr>\n",
       "    <tr>\n",
       "      <th>2</th>\n",
       "      <td>Parkhaus Accu / Otto-Schütz-Weg</td>\n",
       "      <td>http://www.plszh.ch/plsNeu/parkhaus/accu.jsp?p...</td>\n",
       "    </tr>\n",
       "    <tr>\n",
       "      <th>3</th>\n",
       "      <td>Parkhaus Albisriederplatz / Badenerstrasse 380</td>\n",
       "      <td>http://www.plszh.ch/plsNeu/parkhaus/albisriede...</td>\n",
       "    </tr>\n",
       "    <tr>\n",
       "      <th>4</th>\n",
       "      <td>Parkhaus Bleicherweg / Beethovenstrasse 35</td>\n",
       "      <td>http://www.plszh.ch/plsNeu/parkhaus/bleicherwe...</td>\n",
       "    </tr>\n",
       "    <tr>\n",
       "      <th>5</th>\n",
       "      <td>Parkhaus Center Eleven / Sophie-Täuber-Strasse 4</td>\n",
       "      <td>http://www.plszh.ch/plsNeu/parkhaus/center_11....</td>\n",
       "    </tr>\n",
       "    <tr>\n",
       "      <th>6</th>\n",
       "      <td>Parkhaus City Parking / Gessnerallee 14</td>\n",
       "      <td>http://www.plszh.ch/plsNeu/parkhaus/cp.jsp?pid=cp</td>\n",
       "    </tr>\n",
       "    <tr>\n",
       "      <th>7</th>\n",
       "      <td>Parkhaus Cityport / Affolternstrasse 56</td>\n",
       "      <td>http://www.plszh.ch/plsNeu/parkhaus/cityport.j...</td>\n",
       "    </tr>\n",
       "    <tr>\n",
       "      <th>8</th>\n",
       "      <td>Parkhaus Crowne Plaza / Badenerstrasse 420</td>\n",
       "      <td>http://www.plszh.ch/plsNeu/parkhaus/crowne_pla...</td>\n",
       "    </tr>\n",
       "    <tr>\n",
       "      <th>9</th>\n",
       "      <td>Parkhaus Dorflinde / Schwamendingenstrasse 31</td>\n",
       "      <td>http://www.plszh.ch/plsNeu/parkhaus/dorflinde....</td>\n",
       "    </tr>\n",
       "    <tr>\n",
       "      <th>10</th>\n",
       "      <td>Parkhaus Feldegg / Riesbachstrasse 7</td>\n",
       "      <td>http://www.plszh.ch/plsNeu/parkhaus/feldegg.js...</td>\n",
       "    </tr>\n",
       "    <tr>\n",
       "      <th>11</th>\n",
       "      <td>Parkhaus Globus / Löwenstrasse 50</td>\n",
       "      <td>http://www.plszh.ch/plsNeu/parkhaus/globus.jsp...</td>\n",
       "    </tr>\n",
       "    <tr>\n",
       "      <th>12</th>\n",
       "      <td>Parkhaus Hardau II / Bullingerstrasse 73</td>\n",
       "      <td>http://www.plszh.ch/plsNeu/parkhaus/hardau.jsp...</td>\n",
       "    </tr>\n",
       "    <tr>\n",
       "      <th>13</th>\n",
       "      <td>Parkhaus Hauptbahnhof / Sihlquai 41</td>\n",
       "      <td>http://www.plszh.ch/plsNeu/parkhaus/hb.jsp?pid=hb</td>\n",
       "    </tr>\n",
       "    <tr>\n",
       "      <th>14</th>\n",
       "      <td>Parkhaus Hohe Promenade / Rämistrasse 22a</td>\n",
       "      <td>http://www.plszh.ch/plsNeu/parkhaus/promenade....</td>\n",
       "    </tr>\n",
       "    <tr>\n",
       "      <th>15</th>\n",
       "      <td>Parkhaus Jelmoli / Steinmühleplatz 1</td>\n",
       "      <td>http://www.plszh.ch/plsNeu/parkhaus/jelmoli.js...</td>\n",
       "    </tr>\n",
       "    <tr>\n",
       "      <th>16</th>\n",
       "      <td>Parkhaus Jungholz / Jungholzstrasse 19</td>\n",
       "      <td>http://www.plszh.ch/plsNeu/parkhaus/jungholz.j...</td>\n",
       "    </tr>\n",
       "    <tr>\n",
       "      <th>17</th>\n",
       "      <td>Parkhaus Max-Bill-Platz / Armin-Bollinger-Weg</td>\n",
       "      <td>http://www.plszh.ch/plsNeu/parkhaus/max_bill_p...</td>\n",
       "    </tr>\n",
       "    <tr>\n",
       "      <th>18</th>\n",
       "      <td>Parkhaus Messe Zürich AG / Andreasstrasse 65</td>\n",
       "      <td>http://www.plszh.ch/plsNeu/parkhaus/messe.jsp?...</td>\n",
       "    </tr>\n",
       "    <tr>\n",
       "      <th>19</th>\n",
       "      <td>Parkhaus Nordhaus / Siewerdtstrasse 8</td>\n",
       "      <td>http://www.plszh.ch/plsNeu/parkhaus/nordhaus.j...</td>\n",
       "    </tr>\n",
       "    <tr>\n",
       "      <th>20</th>\n",
       "      <td>Parkhaus Octavo / Brown-Boveri-Strasse 2</td>\n",
       "      <td>http://www.plszh.ch/plsNeu/parkhaus/octavo.jsp...</td>\n",
       "    </tr>\n",
       "    <tr>\n",
       "      <th>21</th>\n",
       "      <td>Parkhaus Opéra / Schillerstrasse 5</td>\n",
       "      <td>http://www.plszh.ch/plsNeu/parkhaus/opera.jsp?...</td>\n",
       "    </tr>\n",
       "    <tr>\n",
       "      <th>22</th>\n",
       "      <td>Parkhaus P West / Förrlibuckstrasse 151</td>\n",
       "      <td>http://www.plszh.ch/plsNeu/parkhaus/p_west.jsp...</td>\n",
       "    </tr>\n",
       "    <tr>\n",
       "      <th>23</th>\n",
       "      <td>Parkhaus Park Hyatt / Beethovenstrasse 21</td>\n",
       "      <td>http://www.plszh.ch/plsNeu/parkhaus/park_hyatt...</td>\n",
       "    </tr>\n",
       "    <tr>\n",
       "      <th>24</th>\n",
       "      <td>Parkhaus Parkside / Sophie-Täuber-Strasse 10</td>\n",
       "      <td>http://www.plszh.ch/plsNeu/parkhaus/parkside.j...</td>\n",
       "    </tr>\n",
       "    <tr>\n",
       "      <th>25</th>\n",
       "      <td>Parkhaus Pfingstweid / Pfingstweidstrasse 1</td>\n",
       "      <td>http://www.plszh.ch/plsNeu/parkhaus/pfingstwei...</td>\n",
       "    </tr>\n",
       "    <tr>\n",
       "      <th>26</th>\n",
       "      <td>Parkhaus Stampfenbach / Niklausstrasse 1</td>\n",
       "      <td>http://www.plszh.ch/plsNeu/parkhaus/stampfenba...</td>\n",
       "    </tr>\n",
       "    <tr>\n",
       "      <th>27</th>\n",
       "      <td>Parkhaus Talgarten / Nüschelerstrasse 31</td>\n",
       "      <td>http://www.plszh.ch/plsNeu/parkhaus/talgarten....</td>\n",
       "    </tr>\n",
       "    <tr>\n",
       "      <th>28</th>\n",
       "      <td>Parkhaus USZ Nord / Frauenklinikstrasse</td>\n",
       "      <td>http://www.plszh.ch/plsNeu/parkhaus/unispital_...</td>\n",
       "    </tr>\n",
       "    <tr>\n",
       "      <th>29</th>\n",
       "      <td>Parkhaus Uni Irchel / Winterthurerstrasse 181</td>\n",
       "      <td>http://www.plszh.ch/plsNeu/parkhaus/uni_irchel...</td>\n",
       "    </tr>\n",
       "    <tr>\n",
       "      <th>30</th>\n",
       "      <td>Parkhaus Urania / Uraniastrasse 3</td>\n",
       "      <td>http://www.plszh.ch/plsNeu/parkhaus/urania.jsp...</td>\n",
       "    </tr>\n",
       "    <tr>\n",
       "      <th>31</th>\n",
       "      <td>Parkhaus Utoquai / Färberstrasse 6</td>\n",
       "      <td>http://www.plszh.ch/plsNeu/parkhaus/utoquai.js...</td>\n",
       "    </tr>\n",
       "    <tr>\n",
       "      <th>32</th>\n",
       "      <td>Parkhaus Züri 11 Shopping / Nansenstrasse 5/7</td>\n",
       "      <td>http://www.plszh.ch/plsNeu/parkhaus/zueri11.js...</td>\n",
       "    </tr>\n",
       "    <tr>\n",
       "      <th>33</th>\n",
       "      <td>Parkhaus Zürichhorn / Dufourstrasse 142</td>\n",
       "      <td>http://www.plszh.ch/plsNeu/parkhaus/zuerichhor...</td>\n",
       "    </tr>\n",
       "    <tr>\n",
       "      <th>34</th>\n",
       "      <td>Parkplatz Eisfeld / Thurgauerstrasse 54</td>\n",
       "      <td>http://www.plszh.ch/plsNeu/parkhaus/eisfeld.js...</td>\n",
       "    </tr>\n",
       "    <tr>\n",
       "      <th>35</th>\n",
       "      <td>Parkplatz Theater 11 / Dörfli-/Thurgauerstrasse</td>\n",
       "      <td>http://www.plszh.ch/plsNeu/parkhaus/theater_11...</td>\n",
       "    </tr>\n",
       "    <tr>\n",
       "      <th>36</th>\n",
       "      <td>Parkplatz USZ Süd / Gloriastrasse</td>\n",
       "      <td>http://www.plszh.ch/plsNeu/parkhaus/unispital_...</td>\n",
       "    </tr>\n",
       "    <tr>\n",
       "      <th>37</th>\n",
       "      <td>Puls 5 Parkgarage / Giessereistrasse 18</td>\n",
       "      <td>http://www.plszh.ch/plsNeu/parkhaus/puls5.jsp?...</td>\n",
       "    </tr>\n",
       "  </tbody>\n",
       "</table>\n",
       "</div>"
      ],
      "text/plain": [
       "                                               Titel  \\\n",
       "1               Parkgarage am Central / Seilergraben   \n",
       "2                    Parkhaus Accu / Otto-Schütz-Weg   \n",
       "3     Parkhaus Albisriederplatz / Badenerstrasse 380   \n",
       "4         Parkhaus Bleicherweg / Beethovenstrasse 35   \n",
       "5   Parkhaus Center Eleven / Sophie-Täuber-Strasse 4   \n",
       "6            Parkhaus City Parking / Gessnerallee 14   \n",
       "7            Parkhaus Cityport / Affolternstrasse 56   \n",
       "8         Parkhaus Crowne Plaza / Badenerstrasse 420   \n",
       "9      Parkhaus Dorflinde / Schwamendingenstrasse 31   \n",
       "10              Parkhaus Feldegg / Riesbachstrasse 7   \n",
       "11                 Parkhaus Globus / Löwenstrasse 50   \n",
       "12          Parkhaus Hardau II / Bullingerstrasse 73   \n",
       "13               Parkhaus Hauptbahnhof / Sihlquai 41   \n",
       "14         Parkhaus Hohe Promenade / Rämistrasse 22a   \n",
       "15              Parkhaus Jelmoli / Steinmühleplatz 1   \n",
       "16            Parkhaus Jungholz / Jungholzstrasse 19   \n",
       "17     Parkhaus Max-Bill-Platz / Armin-Bollinger-Weg   \n",
       "18      Parkhaus Messe Zürich AG / Andreasstrasse 65   \n",
       "19             Parkhaus Nordhaus / Siewerdtstrasse 8   \n",
       "20          Parkhaus Octavo / Brown-Boveri-Strasse 2   \n",
       "21                Parkhaus Opéra / Schillerstrasse 5   \n",
       "22           Parkhaus P West / Förrlibuckstrasse 151   \n",
       "23         Parkhaus Park Hyatt / Beethovenstrasse 21   \n",
       "24      Parkhaus Parkside / Sophie-Täuber-Strasse 10   \n",
       "25       Parkhaus Pfingstweid / Pfingstweidstrasse 1   \n",
       "26          Parkhaus Stampfenbach / Niklausstrasse 1   \n",
       "27          Parkhaus Talgarten / Nüschelerstrasse 31   \n",
       "28           Parkhaus USZ Nord / Frauenklinikstrasse   \n",
       "29     Parkhaus Uni Irchel / Winterthurerstrasse 181   \n",
       "30                 Parkhaus Urania / Uraniastrasse 3   \n",
       "31                Parkhaus Utoquai / Färberstrasse 6   \n",
       "32     Parkhaus Züri 11 Shopping / Nansenstrasse 5/7   \n",
       "33           Parkhaus Zürichhorn / Dufourstrasse 142   \n",
       "34           Parkplatz Eisfeld / Thurgauerstrasse 54   \n",
       "35   Parkplatz Theater 11 / Dörfli-/Thurgauerstrasse   \n",
       "36                 Parkplatz USZ Süd / Gloriastrasse   \n",
       "37           Puls 5 Parkgarage / Giessereistrasse 18   \n",
       "\n",
       "                                                  URL  \n",
       "1   http://www.plszh.ch/plsNeu/parkhaus/central.js...  \n",
       "2   http://www.plszh.ch/plsNeu/parkhaus/accu.jsp?p...  \n",
       "3   http://www.plszh.ch/plsNeu/parkhaus/albisriede...  \n",
       "4   http://www.plszh.ch/plsNeu/parkhaus/bleicherwe...  \n",
       "5   http://www.plszh.ch/plsNeu/parkhaus/center_11....  \n",
       "6   http://www.plszh.ch/plsNeu/parkhaus/cp.jsp?pid=cp  \n",
       "7   http://www.plszh.ch/plsNeu/parkhaus/cityport.j...  \n",
       "8   http://www.plszh.ch/plsNeu/parkhaus/crowne_pla...  \n",
       "9   http://www.plszh.ch/plsNeu/parkhaus/dorflinde....  \n",
       "10  http://www.plszh.ch/plsNeu/parkhaus/feldegg.js...  \n",
       "11  http://www.plszh.ch/plsNeu/parkhaus/globus.jsp...  \n",
       "12  http://www.plszh.ch/plsNeu/parkhaus/hardau.jsp...  \n",
       "13  http://www.plszh.ch/plsNeu/parkhaus/hb.jsp?pid=hb  \n",
       "14  http://www.plszh.ch/plsNeu/parkhaus/promenade....  \n",
       "15  http://www.plszh.ch/plsNeu/parkhaus/jelmoli.js...  \n",
       "16  http://www.plszh.ch/plsNeu/parkhaus/jungholz.j...  \n",
       "17  http://www.plszh.ch/plsNeu/parkhaus/max_bill_p...  \n",
       "18  http://www.plszh.ch/plsNeu/parkhaus/messe.jsp?...  \n",
       "19  http://www.plszh.ch/plsNeu/parkhaus/nordhaus.j...  \n",
       "20  http://www.plszh.ch/plsNeu/parkhaus/octavo.jsp...  \n",
       "21  http://www.plszh.ch/plsNeu/parkhaus/opera.jsp?...  \n",
       "22  http://www.plszh.ch/plsNeu/parkhaus/p_west.jsp...  \n",
       "23  http://www.plszh.ch/plsNeu/parkhaus/park_hyatt...  \n",
       "24  http://www.plszh.ch/plsNeu/parkhaus/parkside.j...  \n",
       "25  http://www.plszh.ch/plsNeu/parkhaus/pfingstwei...  \n",
       "26  http://www.plszh.ch/plsNeu/parkhaus/stampfenba...  \n",
       "27  http://www.plszh.ch/plsNeu/parkhaus/talgarten....  \n",
       "28  http://www.plszh.ch/plsNeu/parkhaus/unispital_...  \n",
       "29  http://www.plszh.ch/plsNeu/parkhaus/uni_irchel...  \n",
       "30  http://www.plszh.ch/plsNeu/parkhaus/urania.jsp...  \n",
       "31  http://www.plszh.ch/plsNeu/parkhaus/utoquai.js...  \n",
       "32  http://www.plszh.ch/plsNeu/parkhaus/zueri11.js...  \n",
       "33  http://www.plszh.ch/plsNeu/parkhaus/zuerichhor...  \n",
       "34  http://www.plszh.ch/plsNeu/parkhaus/eisfeld.js...  \n",
       "35  http://www.plszh.ch/plsNeu/parkhaus/theater_11...  \n",
       "36  http://www.plszh.ch/plsNeu/parkhaus/unispital_...  \n",
       "37  http://www.plszh.ch/plsNeu/parkhaus/puls5.jsp?...  "
      ]
     },
     "execution_count": 33,
     "metadata": {},
     "output_type": "execute_result"
    }
   ],
   "source": [
    "pd.DataFrame(url_liste)[1:] #1: heisst: nur alles ab Zeile 1."
   ]
  },
  {
   "cell_type": "markdown",
   "metadata": {},
   "source": [
    "Und jetzt machen wir daraus noch ein .csv - also wir exportieren es wirklich!"
   ]
  },
  {
   "cell_type": "code",
   "execution_count": 39,
   "metadata": {},
   "outputs": [],
   "source": [
    "pd.DataFrame(url_liste).to_csv(\"parkhäuser_url.csv\")"
   ]
  },
  {
   "cell_type": "markdown",
   "metadata": {},
   "source": [
    "Kleiner Tipp dazwischen, dazwischen immer wieder zur Kontrolle die Zwischenschritte ausgeben.   \n",
    "Und jetzt noch: wieviele Parkplätze sind in Zürichs Parkäusern gerade frei?"
   ]
  },
  {
   "cell_type": "code",
   "execution_count": 101,
   "metadata": {},
   "outputs": [
    {
     "data": {
      "text/plain": [
       "4478"
      ]
     },
     "execution_count": 101,
     "metadata": {},
     "output_type": "execute_result"
    }
   ],
   "source": [
    "descriptions = soup.find_all('description')\n",
    "\n",
    "summe = 0\n",
    "for open_einzel in descriptions:\n",
    "    open_pp = int(re.findall(\"[0-9]+\", open_einzel.text)[0]) #oder re.findall\n",
    "    #open_pp ist das in ganze Zahlen umgewandelte Ergebnis aus der Suche nach Zahlen \n",
    "    #in der Tabelle \"descriptions\" aus der Zeile open_einzel. WTF? Kompliziert!\n",
    "    #print(open_einzel)\n",
    "    summe = summe + open_pp\n",
    "    #print(open_pp)\n",
    "summe"
   ]
  },
  {
   "cell_type": "markdown",
   "metadata": {},
   "source": [
    "#Die Lösung von Plotti:\n",
    "\n",
    "results = []\n",
    "summe = 0\n",
    "for title,url,description in zip(titles,urls,descriptions):\n",
    "    number_of_parkspots = int(re.findall(\"[0-9]+\",description.text)[0])\n",
    "    summe = summe + number_of_parkspots\n",
    "    results.append({\"Titel\":title.text,\"Url\":url.text,\"Parkplätze\": number_of_parkspots})\n",
    "summe"
   ]
  },
  {
   "cell_type": "markdown",
   "metadata": {},
   "source": [
    "#Um die Zahlen herauszuholen gibt es diese Möglichkeiten:\n",
    "#int(a.split(\"/\")[1]) \n",
    "#int(re.findall(\"[0-9]+\",a[1]))"
   ]
  }
 ],
 "metadata": {
  "kernelspec": {
   "display_name": "Python 3",
   "language": "python",
   "name": "python3"
  },
  "language_info": {
   "codemirror_mode": {
    "name": "ipython",
    "version": 3
   },
   "file_extension": ".py",
   "mimetype": "text/x-python",
   "name": "python",
   "nbconvert_exporter": "python",
   "pygments_lexer": "ipython3",
   "version": "3.7.3"
  }
 },
 "nbformat": 4,
 "nbformat_minor": 2
}
