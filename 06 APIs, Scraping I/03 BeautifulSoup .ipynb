{
 "cells": [
  {
   "cell_type": "markdown",
   "metadata": {},
   "source": [
    "# Einführung in BeautifulSoup, einlesen von Files"
   ]
  },
  {
   "cell_type": "markdown",
   "metadata": {},
   "source": [
    "Und als aller Erstes wollen wir die Developer Tools kennenlernen:\n",
    "\n",
    "- Gehen wir auf: www.srf.ch.\n",
    "- Öffnen den Chrome Browser. Die Developer Tools findest DU im Menü unter More Tools -> Developer Tools. Shortcuts: F12, Str-Ctr-I oder Cmd + Opt + I (alle Browser die Dev Tools, wir fokussieren hier auf den Chrome Browser) \n",
    "- Der Reiter, der uns interessiert, ist: “Elements”. Steuere ihn an.\n",
    "- Wir können hier zwischen Mobilansicht und Desktop wechseln\n",
    "- Oder Elemente auf der Website suchen. Wähle den Pfeil an. Und suche nun etwas auf der Website. \n",
    "- Hier können wir auch Texte manipulieren, teste es auf www.srf.ch. \n",
    "- Aber das interessiert uns nicht. Wir wollen die Struktur der Website kennenlernen. Vertiefen wir uns eine Weile in diese Struktur. Je besser wir sie kennen, desto einfacher ist es, Daten auszulesen.\n",
    "- Das sollte euch nun etwas bekannter vorkommen. Ihr habt eben selber solche Zeilen geschrieben. "
   ]
  },
  {
   "cell_type": "markdown",
   "metadata": {},
   "source": [
    "Gehen wir zurück zu dem File, den ihr eben selber bearbeitet habt. Zuerst müssen wir das File einlesen."
   ]
  },
  {
   "cell_type": "code",
   "execution_count": 1,
   "metadata": {},
   "outputs": [],
   "source": [
    "file = open('02 HTML Code bearbeitet.htm', 'r')"
   ]
  },
  {
   "cell_type": "markdown",
   "metadata": {},
   "source": [
    "Und so sieht der PC das File:"
   ]
  },
  {
   "cell_type": "code",
   "execution_count": 2,
   "metadata": {},
   "outputs": [
    {
     "data": {
      "text/plain": [
       "'<h1>Welt erschüttert!</h1>\\n\\n<!doctype html>\\n<html lang=\"de\">\\n\\n<head>\\n    <title>CAS-Kurs hackt Webseite</title>\\n    <meta charset=\"utf-8\"></meta>\\n</head>\\n\\n<body style=\"color:black;\">\\n    <h2>Luzern geschockt</h2>\\n    <p>Am MAZ Luzern wird aus einer kleinen Übung bitterer Ernst.\\n    Ein kleiner Hack sorgt weltweit für ein grosses Echo und Verunsicherung.</p>\\n\\n    <ul>\\n    <li>Es gibt dazu nur einen Listenpunkt!</li>\\n<img src=\"Bild_ABomb.jpg\" alt=\"Kleine Ursache, schreckliche Auswirkung.\">\\n<p>Zum Glück konnte der Abwurf einer Atombombe in letzter Minute gestoppt werden.</p>\\n\\n</body style=\"color:blue;\">\\n</ul>\\n<body>\\n<h2>Kurz: das ist passiert</h2>\\n<p style=\"color:blue;\">Hier steht der Einleitungstext meiner Website. </p>\\n<ul>\\n<li>1. Plotti zeigt Dev-Modus</li>\\n<li>2. Kursteilnehmer öffnet Webseite</li>\\n<li>3. Kursteilnehmer schreibt Titel um.</li>\\n<li>4. Die Welt steht Kopf.</li>\\n</body>\\n<body style=\"color:red;\">\\n</ul>\\n<h2>Das sind die Auswirkungen</h2>\\n<p>Der kleine Hack hatte grosse Folgen.</p>\\n<ul>\\n<li>Trump twittert darüber</li>\\n<li>EDA reagiert.</li>\\n<li>Weltweit greifen Medien das Thema auf. </li>\\n<li>Erste Hamsterkäufe.</li>\\n</body>\\n'"
      ]
     },
     "execution_count": 2,
     "metadata": {},
     "output_type": "execute_result"
    }
   ],
   "source": [
    "file.read()"
   ]
  },
  {
   "cell_type": "code",
   "execution_count": 5,
   "metadata": {},
   "outputs": [],
   "source": [
    "file = open('02 HTML Code bearbeitet.htm', 'r')"
   ]
  },
  {
   "cell_type": "code",
   "execution_count": 6,
   "metadata": {},
   "outputs": [
    {
     "data": {
      "text/plain": [
       "'<h1>Welt erschüttert!</h1>\\n'"
      ]
     },
     "execution_count": 6,
     "metadata": {},
     "output_type": "execute_result"
    }
   ],
   "source": [
    "file.readline() #liest die erste Zeile aus"
   ]
  },
  {
   "cell_type": "markdown",
   "metadata": {},
   "source": [
    "```open``` ist eine eingebaute Funktion von Python. Ihr findet hier [eine Zusammenstellung](https://docs.python.org/2/library/functions.html) all dieser Funktionen. Es gibt neben ```r```und ```w``` noch die Binary modi. ```rb```und ```wb```. Binary heisst, dass der Computer sich die Buchstaben im Format abspeichert, der ihm am besten liegt. 0 und 1. E = 01000101, F = 01000110, ihr findet mehr [hier](http://sticksandstones.kstrom.com/appen.html) (allerdings Python 2) und mehr [hier](https://docs.python.org/3/tutorial/inputoutput.html)."
   ]
  },
  {
   "cell_type": "code",
   "execution_count": 84,
   "metadata": {
    "collapsed": true
   },
   "outputs": [],
   "source": [
    "file2 = open('testingopen.txt', 'w')"
   ]
  },
  {
   "cell_type": "markdown",
   "metadata": {},
   "source": [
    "Oben seht ihr das Ergebnis, wenn ihr ein File schreibt. Im selben Ordner wie dieses Jupyter Notebook erscheint nun eben dieses file2. Das einfach der vollständigkeitshalber."
   ]
  },
  {
   "cell_type": "code",
   "execution_count": 85,
   "metadata": {},
   "outputs": [
    {
     "data": {
      "text/plain": [
       "'<h1> Anatomie einer Website</h1>\\n\\n<!doctype html>\\n<html lang=\"de\">\\n\\n<head>\\n    <title>Hier steht mein Titel</title>\\n</head>\\n\\n<body style=\"color:blue;\">\\n    <h2>Das ist die erste Überschrift</h2>\\n    <p>Hier steht der Einleitungstext meiner Website. </p>\\n    <ul>\\n    <li>Erster Listenpunkt</li>\\n    <li>Zweiter Listenpunkt</li>\\n    <li>Dritter Listenpunkt</li>\\n    <li>Vierter Listenpunkt</li>\\n</body style=\"color:blue;\">\\n</ul>\\n<body>\\n<h2>Das ist die zweite Überschrift</h2>\\n<p style=\"color:red;\">Hier steht der Einleitungstext meiner Website. </p>\\n<ul>\\n<li>Erster Listenpunkt</li>\\n<li>Zweiter Listenpunkt</li>\\n<li>Dritter Listenpunkt</li>\\n<li>Vierter Listenpunkt</li>\\n</body>\\n<body style=\"color:red;\">\\n</ul>\\n<h2>Das ist die dritte Überschrift</h2>\\n<p>Hier steht der Einleitungstext meiner Website. </p>\\n<ul>\\n<li>Erster Listenpunkt</li>\\n<li>Zweiter Listenpunkt</li>\\n<li>Dritter Listenpunkt</li>\\n<li>Vierter Listenpunkt</li>\\n</body>\\n'"
      ]
     },
     "execution_count": 85,
     "metadata": {},
     "output_type": "execute_result"
    }
   ],
   "source": [
    "file.read()"
   ]
  },
  {
   "cell_type": "code",
   "execution_count": 9,
   "metadata": {},
   "outputs": [],
   "source": [
    "text = file.read()"
   ]
  },
  {
   "cell_type": "code",
   "execution_count": 10,
   "metadata": {},
   "outputs": [],
   "source": [
    "file = open('02 HTML Code bearbeitet.htm', 'r')"
   ]
  },
  {
   "cell_type": "code",
   "execution_count": 11,
   "metadata": {},
   "outputs": [
    {
     "data": {
      "text/plain": [
       "'<h1>Welt erschüttert!</h1>\\n'"
      ]
     },
     "execution_count": 11,
     "metadata": {},
     "output_type": "execute_result"
    }
   ],
   "source": [
    "file.readline()"
   ]
  },
  {
   "cell_type": "code",
   "execution_count": 13,
   "metadata": {},
   "outputs": [
    {
     "data": {
      "text/plain": [
       "'<h1>Welt erschüttert!</h1>\\n\\n<!doctype html>\\n<html lang=\"de\">\\n\\n<head>\\n    <title>CAS-Kurs hackt Webseite</title>\\n    <meta charset=\"utf-8\"></meta>\\n</head>\\n\\n<body style=\"color:black;\">\\n    <h2>Luzern geschockt</h2>\\n    <p>Am MAZ Luzern wird aus einer kleinen Übung bitterer Ernst.\\n    Ein kleiner Hack sorgt weltweit für ein grosses Echo und Verunsicherung.</p>\\n\\n    <ul>\\n    <li>Es gibt dazu nur einen Listenpunkt!</li>\\n<img src=\"Bild_ABomb.jpg\" alt=\"Kleine Ursache, schreckliche Auswirkung.\">\\n<p>Zum Glück konnte der Abwurf einer Atombombe in letzter Minute gestoppt werden.</p>\\n\\n</body style=\"color:blue;\">\\n</ul>\\n<body>\\n<h2>Kurz: das ist passiert</h2>\\n<p style=\"color:blue;\">Hier steht der Einleitungstext meiner Website. </p>\\n<ul>\\n<li>1. Plotti zeigt Dev-Modus</li>\\n<li>2. Kursteilnehmer öffnet Webseite</li>\\n<li>3. Kursteilnehmer schreibt Titel um.</li>\\n<li>4. Die Welt steht Kopf.</li>\\n</body>\\n<body style=\"color:red;\">\\n</ul>\\n<h2>Das sind die Auswirkungen</h2>\\n<p>Der kleine Hack hatte grosse Folgen.</p>\\n<ul>\\n<li>Trump twittert darüber</li>\\n<li>EDA reagiert.</li>\\n<li>Weltweit greifen Medien das Thema auf. </li>\\n<li>Erste Hamsterkäufe.</li>\\n</body>\\n'"
      ]
     },
     "execution_count": 13,
     "metadata": {},
     "output_type": "execute_result"
    }
   ],
   "source": [
    "#Das sieht aber nicht sehr schön aus\n",
    "file = open('02 HTML Code bearbeitet.htm', 'r')\n",
    "text = file.read()\n",
    "text"
   ]
  },
  {
   "cell_type": "markdown",
   "metadata": {},
   "source": [
    "Mit BeautifulSoup kann man HTML-Sites in eine Form bringen, die es uns Menschen wieder einfacher macht, die Inhalte zu lesen. Wir beginnne wir immer, indem wir die Library installieren. Wie mit ```!pip import BS4```falls ihr das nicht schon getan habt. Und dann importieren wir die Library."
   ]
  },
  {
   "cell_type": "code",
   "execution_count": 14,
   "metadata": {},
   "outputs": [],
   "source": [
    "from bs4 import BeautifulSoup"
   ]
  },
  {
   "cell_type": "code",
   "execution_count": 15,
   "metadata": {},
   "outputs": [],
   "source": [
    "soup = BeautifulSoup(text, 'lxml')"
   ]
  },
  {
   "cell_type": "markdown",
   "metadata": {},
   "source": [
    "Jetzt kann man gezielt nach bestimmten Elementen suchen, zum Beispiel allen Titel, die mit h2 formatiert wurden. "
   ]
  },
  {
   "cell_type": "code",
   "execution_count": 20,
   "metadata": {},
   "outputs": [
    {
     "data": {
      "text/plain": [
       "<h2>Luzern geschockt</h2>"
      ]
     },
     "execution_count": 20,
     "metadata": {},
     "output_type": "execute_result"
    }
   ],
   "source": [
    "soup.find('h2')"
   ]
  },
  {
   "cell_type": "code",
   "execution_count": 17,
   "metadata": {},
   "outputs": [
    {
     "data": {
      "text/plain": [
       "[<h2>Luzern geschockt</h2>,\n",
       " <h2>Kurz: das ist passiert</h2>,\n",
       " <h2>Das sind die Auswirkungen</h2>]"
      ]
     },
     "execution_count": 17,
     "metadata": {},
     "output_type": "execute_result"
    }
   ],
   "source": [
    "soup.find_all('h2')"
   ]
  },
  {
   "cell_type": "markdown",
   "metadata": {},
   "source": [
    "Oder wir wollen nur den Text des ersten Titels, ohne die Formatierung. "
   ]
  },
  {
   "cell_type": "code",
   "execution_count": 22,
   "metadata": {},
   "outputs": [
    {
     "data": {
      "text/plain": [
       "'Luzern geschockt'"
      ]
     },
     "execution_count": 22,
     "metadata": {},
     "output_type": "execute_result"
    }
   ],
   "source": [
    "soup.find('h2').text"
   ]
  },
  {
   "cell_type": "code",
   "execution_count": 18,
   "metadata": {},
   "outputs": [],
   "source": [
    "#Bauen wir eine neue Liste\n",
    "new_lst = []\n",
    "for element in soup.find_all('h2'):\n",
    "    new_lst.append(element.text)"
   ]
  },
  {
   "cell_type": "code",
   "execution_count": 19,
   "metadata": {},
   "outputs": [
    {
     "data": {
      "text/plain": [
       "['Luzern geschockt', 'Kurz: das ist passiert', 'Das sind die Auswirkungen']"
      ]
     },
     "execution_count": 19,
     "metadata": {},
     "output_type": "execute_result"
    }
   ],
   "source": [
    "new_lst"
   ]
  },
  {
   "cell_type": "code",
   "execution_count": 28,
   "metadata": {},
   "outputs": [],
   "source": [
    "#Bauen wir eine Liste von Dictionaries\n",
    "new_lst = []\n",
    "for element in soup.find_all('h2'):\n",
    "    mini_dict = {'Titel':element.text}\n",
    "    new_lst.append(mini_dict)"
   ]
  },
  {
   "cell_type": "code",
   "execution_count": 29,
   "metadata": {},
   "outputs": [],
   "source": [
    "import pandas as pd"
   ]
  },
  {
   "cell_type": "code",
   "execution_count": 30,
   "metadata": {},
   "outputs": [
    {
     "data": {
      "text/html": [
       "<div>\n",
       "<style scoped>\n",
       "    .dataframe tbody tr th:only-of-type {\n",
       "        vertical-align: middle;\n",
       "    }\n",
       "\n",
       "    .dataframe tbody tr th {\n",
       "        vertical-align: top;\n",
       "    }\n",
       "\n",
       "    .dataframe thead th {\n",
       "        text-align: right;\n",
       "    }\n",
       "</style>\n",
       "<table border=\"1\" class=\"dataframe\">\n",
       "  <thead>\n",
       "    <tr style=\"text-align: right;\">\n",
       "      <th></th>\n",
       "      <th>Titel</th>\n",
       "    </tr>\n",
       "  </thead>\n",
       "  <tbody>\n",
       "    <tr>\n",
       "      <th>0</th>\n",
       "      <td>Luzern geschockt</td>\n",
       "    </tr>\n",
       "    <tr>\n",
       "      <th>1</th>\n",
       "      <td>Kurz: das ist passiert</td>\n",
       "    </tr>\n",
       "    <tr>\n",
       "      <th>2</th>\n",
       "      <td>Das sind die Auswirkungen</td>\n",
       "    </tr>\n",
       "  </tbody>\n",
       "</table>\n",
       "</div>"
      ],
      "text/plain": [
       "                       Titel\n",
       "0           Luzern geschockt\n",
       "1     Kurz: das ist passiert\n",
       "2  Das sind die Auswirkungen"
      ]
     },
     "execution_count": 30,
     "metadata": {},
     "output_type": "execute_result"
    }
   ],
   "source": [
    "pd.DataFrame(new_lst)"
   ]
  },
  {
   "cell_type": "markdown",
   "metadata": {},
   "source": [
    "Miniübung. Alles List-Items einsammeln."
   ]
  },
  {
   "cell_type": "code",
   "execution_count": 32,
   "metadata": {},
   "outputs": [],
   "source": [
    "new_lst2 = []\n",
    "for element in soup.find_all('li'):\n",
    "    mini_dict = {'List-Items':element.text}\n",
    "    new_lst2.append(mini_dict)"
   ]
  },
  {
   "cell_type": "code",
   "execution_count": 33,
   "metadata": {},
   "outputs": [
    {
     "data": {
      "text/html": [
       "<div>\n",
       "<style scoped>\n",
       "    .dataframe tbody tr th:only-of-type {\n",
       "        vertical-align: middle;\n",
       "    }\n",
       "\n",
       "    .dataframe tbody tr th {\n",
       "        vertical-align: top;\n",
       "    }\n",
       "\n",
       "    .dataframe thead th {\n",
       "        text-align: right;\n",
       "    }\n",
       "</style>\n",
       "<table border=\"1\" class=\"dataframe\">\n",
       "  <thead>\n",
       "    <tr style=\"text-align: right;\">\n",
       "      <th></th>\n",
       "      <th>List-Items</th>\n",
       "    </tr>\n",
       "  </thead>\n",
       "  <tbody>\n",
       "    <tr>\n",
       "      <th>0</th>\n",
       "      <td>Es gibt dazu nur einen Listenpunkt!</td>\n",
       "    </tr>\n",
       "    <tr>\n",
       "      <th>1</th>\n",
       "      <td>1. Plotti zeigt Dev-Modus</td>\n",
       "    </tr>\n",
       "    <tr>\n",
       "      <th>2</th>\n",
       "      <td>2. Kursteilnehmer öffnet Webseite</td>\n",
       "    </tr>\n",
       "    <tr>\n",
       "      <th>3</th>\n",
       "      <td>3. Kursteilnehmer schreibt Titel um.</td>\n",
       "    </tr>\n",
       "    <tr>\n",
       "      <th>4</th>\n",
       "      <td>4. Die Welt steht Kopf.</td>\n",
       "    </tr>\n",
       "    <tr>\n",
       "      <th>5</th>\n",
       "      <td>Trump twittert darüber</td>\n",
       "    </tr>\n",
       "    <tr>\n",
       "      <th>6</th>\n",
       "      <td>EDA reagiert.</td>\n",
       "    </tr>\n",
       "    <tr>\n",
       "      <th>7</th>\n",
       "      <td>Weltweit greifen Medien das Thema auf.</td>\n",
       "    </tr>\n",
       "    <tr>\n",
       "      <th>8</th>\n",
       "      <td>Erste Hamsterkäufe.</td>\n",
       "    </tr>\n",
       "  </tbody>\n",
       "</table>\n",
       "</div>"
      ],
      "text/plain": [
       "                                List-Items\n",
       "0      Es gibt dazu nur einen Listenpunkt!\n",
       "1                1. Plotti zeigt Dev-Modus\n",
       "2        2. Kursteilnehmer öffnet Webseite\n",
       "3     3. Kursteilnehmer schreibt Titel um.\n",
       "4                  4. Die Welt steht Kopf.\n",
       "5                   Trump twittert darüber\n",
       "6                            EDA reagiert.\n",
       "7  Weltweit greifen Medien das Thema auf. \n",
       "8                      Erste Hamsterkäufe."
      ]
     },
     "execution_count": 33,
     "metadata": {},
     "output_type": "execute_result"
    }
   ],
   "source": [
    "import pandas as pd\n",
    "pd.DataFrame(new_lst2)"
   ]
  },
  {
   "cell_type": "markdown",
   "metadata": {},
   "source": [
    "\n",
    "\n",
    "## Gehen wir zu etwas komplexerem Inhalt: Ein RSS-Feed\n",
    "Was wir hier haben, ist die aktuelle Ausbuchung der Parkplätze in der Stadt Zürich. Sie werden von der Stadt in einem RSS Feed abgeboten. Schauen wir uns den [Link einmal an](http://www.plszh.ch/plsFeed/rss). Nicht sehr lesbar, aber äusserst strukturiert. Lesen wir die Plätze aus."
   ]
  },
  {
   "cell_type": "code",
   "execution_count": 34,
   "metadata": {},
   "outputs": [],
   "source": [
    "import requests"
   ]
  },
  {
   "cell_type": "code",
   "execution_count": 36,
   "metadata": {},
   "outputs": [],
   "source": [
    "r = requests.get('http://www.plszh.ch/plsFeed/rss') #Besuchen wir die URL"
   ]
  },
  {
   "cell_type": "code",
   "execution_count": 38,
   "metadata": {},
   "outputs": [
    {
     "data": {
      "text/plain": [
       "38"
      ]
     },
     "execution_count": 38,
     "metadata": {},
     "output_type": "execute_result"
    }
   ],
   "source": [
    "contents = r.text #Wandeln wir den Text in ein Format um, mit dem BeautifulSoup umgehen kann.\n",
    "soup = BeautifulSoup(contents,'xml') #Geben wir das an BeautifulSoup weiter\n",
    "titles = soup.find_all('title') #Nun lesen wir Titel aus.\n",
    "len(titles) #Schauen wir, wie lange die Titel sind."
   ]
  },
  {
   "cell_type": "code",
   "execution_count": 39,
   "metadata": {},
   "outputs": [
    {
     "data": {
      "text/plain": [
       "<title>FEED Parkleitsystem Stadt Zürich</title>"
      ]
     },
     "execution_count": 39,
     "metadata": {},
     "output_type": "execute_result"
    }
   ],
   "source": [
    "titles[0] "
   ]
  },
  {
   "cell_type": "code",
   "execution_count": 40,
   "metadata": {},
   "outputs": [
    {
     "data": {
      "text/plain": [
       "<title>Parkgarage am Central / Seilergraben</title>"
      ]
     },
     "execution_count": 40,
     "metadata": {},
     "output_type": "execute_result"
    }
   ],
   "source": [
    "titles[1]"
   ]
  },
  {
   "cell_type": "code",
   "execution_count": 41,
   "metadata": {},
   "outputs": [
    {
     "data": {
      "text/plain": [
       "'Parkgarage am Central / Seilergraben'"
      ]
     },
     "execution_count": 41,
     "metadata": {},
     "output_type": "execute_result"
    }
   ],
   "source": [
    "titles[1].text"
   ]
  },
  {
   "cell_type": "code",
   "execution_count": 42,
   "metadata": {},
   "outputs": [
    {
     "data": {
      "text/plain": [
       "<description>open /    0</description>"
      ]
     },
     "execution_count": 42,
     "metadata": {},
     "output_type": "execute_result"
    }
   ],
   "source": [
    "descr = soup.find_all('description')\n",
    "descr[1]"
   ]
  },
  {
   "cell_type": "markdown",
   "metadata": {},
   "source": [
    "Jetzt haben wir uns die Titel (titles) und die Beschreibungen (descr) rausgeholt. Jetzt fügen wir das mit **zip** zusammen und bauen uns eine Liste daraus (wichtig: beide Listen müssen gleich viele Elemente enthalten):"
   ]
  },
  {
   "cell_type": "code",
   "execution_count": 43,
   "metadata": {},
   "outputs": [],
   "source": [
    "#Bauen wir die eigene Liste\n",
    "lst = []\n",
    "for garage,anzahl in zip(titles,descr):\n",
    "    \n",
    "    mini_dict = {'Parkgarage':garage.text,\n",
    "                 'Descr':anzahl.text}\n",
    "    \n",
    "    lst.append(mini_dict)"
   ]
  },
  {
   "cell_type": "code",
   "execution_count": 107,
   "metadata": {},
   "outputs": [
    {
     "data": {
      "text/plain": [
       "[{'Descr': 'http://www.plszh.ch/plsFeed/rss?type=rss_0.92 | rss_0.93 | rss_0.94 | rss_1.0 | rss_2.0 (=default) | atom_0.3 | atom_1.0',\n",
       "  'Parkgarage': 'FEED Parkleitsystem Stadt Zürich'},\n",
       " {'Descr': 'open /   15',\n",
       "  'Parkgarage': 'Parkgarage am Central / Seilergraben'},\n",
       " {'Descr': 'open /  163', 'Parkgarage': 'Parkhaus Accu / Otto-Schütz-Weg'},\n",
       " {'Descr': 'open /   56',\n",
       "  'Parkgarage': 'Parkhaus Albisriederplatz / Badenerstrasse 380'},\n",
       " {'Descr': 'open /   12',\n",
       "  'Parkgarage': 'Parkhaus Bleicherweg / Beethovenstrasse 35'},\n",
       " {'Descr': 'open /  220',\n",
       "  'Parkgarage': 'Parkhaus Center Eleven / Sophie-Täuber-Strasse 4'},\n",
       " {'Descr': 'open /   89',\n",
       "  'Parkgarage': 'Parkhaus City Parking / Gessnerallee 14'},\n",
       " {'Descr': 'open /   54',\n",
       "  'Parkgarage': 'Parkhaus Cityport / Affolternstrasse 56'},\n",
       " {'Descr': 'open /  277',\n",
       "  'Parkgarage': 'Parkhaus Crowne Plaza / Badenerstrasse 420'},\n",
       " {'Descr': 'open /   36',\n",
       "  'Parkgarage': 'Parkhaus Dorflinde / Schwamendingenstrasse 31'},\n",
       " {'Descr': 'open /   72',\n",
       "  'Parkgarage': 'Parkhaus Feldegg / Riesbachstrasse 7'},\n",
       " {'Descr': 'open /    0', 'Parkgarage': 'Parkhaus Globus / Löwenstrasse 50'},\n",
       " {'Descr': 'open /  103',\n",
       "  'Parkgarage': 'Parkhaus Hardau II / Bullingerstrasse 73'},\n",
       " {'Descr': 'open /   72', 'Parkgarage': 'Parkhaus Hauptbahnhof / Sihlquai 41'},\n",
       " {'Descr': 'open /  270',\n",
       "  'Parkgarage': 'Parkhaus Hohe Promenade / Rämistrasse 22a'},\n",
       " {'Descr': 'open /    0',\n",
       "  'Parkgarage': 'Parkhaus Jelmoli / Steinmühleplatz 1'},\n",
       " {'Descr': 'open /  109',\n",
       "  'Parkgarage': 'Parkhaus Jungholz / Jungholzstrasse 19'},\n",
       " {'Descr': 'open /   56',\n",
       "  'Parkgarage': 'Parkhaus Max-Bill-Platz / Armin-Bollinger-Weg'},\n",
       " {'Descr': 'open /  999',\n",
       "  'Parkgarage': 'Parkhaus Messe Zürich AG / Andreasstrasse 65'},\n",
       " {'Descr': 'open /   42',\n",
       "  'Parkgarage': 'Parkhaus Nordhaus / Siewerdtstrasse 8'},\n",
       " {'Descr': 'open /    1',\n",
       "  'Parkgarage': 'Parkhaus Octavo / Brown-Boveri-Strasse 2'},\n",
       " {'Descr': 'open /   92', 'Parkgarage': 'Parkhaus Opéra / Schillerstrasse 5'},\n",
       " {'Descr': 'open /  334',\n",
       "  'Parkgarage': 'Parkhaus P West / Förrlibuckstrasse 151'},\n",
       " {'Descr': 'open /  107',\n",
       "  'Parkgarage': 'Parkhaus Park Hyatt / Beethovenstrasse 21'},\n",
       " {'Descr': 'open /    0',\n",
       "  'Parkgarage': 'Parkhaus Parkside / Sophie-Täuber-Strasse 10'},\n",
       " {'Descr': 'open /  125',\n",
       "  'Parkgarage': 'Parkhaus Pfingstweid / Pfingstweidstrasse 1'},\n",
       " {'Descr': 'open /  128',\n",
       "  'Parkgarage': 'Parkhaus Stampfenbach / Niklausstrasse 1'},\n",
       " {'Descr': 'open /    5',\n",
       "  'Parkgarage': 'Parkhaus Talgarten / Nüschelerstrasse 31'},\n",
       " {'Descr': 'open /   17',\n",
       "  'Parkgarage': 'Parkhaus USZ Nord / Frauenklinikstrasse'},\n",
       " {'Descr': '???? / ???',\n",
       "  'Parkgarage': 'Parkhaus Uni Irchel / Winterthurerstrasse 181'},\n",
       " {'Descr': 'open /   24', 'Parkgarage': 'Parkhaus Urania / Uraniastrasse 3'},\n",
       " {'Descr': 'open /   16', 'Parkgarage': 'Parkhaus Utoquai / Färberstrasse 6'},\n",
       " {'Descr': 'open /   26',\n",
       "  'Parkgarage': 'Parkhaus Züri 11 Shopping / Nansenstrasse 5/7'},\n",
       " {'Descr': 'open /   38',\n",
       "  'Parkgarage': 'Parkhaus Zürichhorn / Dufourstrasse 142'},\n",
       " {'Descr': 'open /    0',\n",
       "  'Parkgarage': 'Parkplatz Eisfeld / Thurgauerstrasse 54'},\n",
       " {'Descr': 'open /  144',\n",
       "  'Parkgarage': 'Parkplatz Theater 11 / Dörfli-/Thurgauerstrasse'},\n",
       " {'Descr': 'open /    1', 'Parkgarage': 'Parkplatz USZ Süd / Gloriastrasse'}]"
      ]
     },
     "execution_count": 107,
     "metadata": {},
     "output_type": "execute_result"
    }
   ],
   "source": [
    "lst"
   ]
  },
  {
   "cell_type": "code",
   "execution_count": 45,
   "metadata": {
    "scrolled": true
   },
   "outputs": [
    {
     "data": {
      "text/html": [
       "<div>\n",
       "<style scoped>\n",
       "    .dataframe tbody tr th:only-of-type {\n",
       "        vertical-align: middle;\n",
       "    }\n",
       "\n",
       "    .dataframe tbody tr th {\n",
       "        vertical-align: top;\n",
       "    }\n",
       "\n",
       "    .dataframe thead th {\n",
       "        text-align: right;\n",
       "    }\n",
       "</style>\n",
       "<table border=\"1\" class=\"dataframe\">\n",
       "  <thead>\n",
       "    <tr style=\"text-align: right;\">\n",
       "      <th></th>\n",
       "      <th>Descr</th>\n",
       "      <th>Parkgarage</th>\n",
       "    </tr>\n",
       "  </thead>\n",
       "  <tbody>\n",
       "    <tr>\n",
       "      <th>0</th>\n",
       "      <td>http://www.plszh.ch/plsFeed/rss?type=rss_0.92 ...</td>\n",
       "      <td>FEED Parkleitsystem Stadt Zürich</td>\n",
       "    </tr>\n",
       "    <tr>\n",
       "      <th>1</th>\n",
       "      <td>open /    0</td>\n",
       "      <td>Parkgarage am Central / Seilergraben</td>\n",
       "    </tr>\n",
       "    <tr>\n",
       "      <th>2</th>\n",
       "      <td>open /  130</td>\n",
       "      <td>Parkhaus Accu / Otto-Schütz-Weg</td>\n",
       "    </tr>\n",
       "    <tr>\n",
       "      <th>3</th>\n",
       "      <td>open /   55</td>\n",
       "      <td>Parkhaus Albisriederplatz / Badenerstrasse 380</td>\n",
       "    </tr>\n",
       "    <tr>\n",
       "      <th>4</th>\n",
       "      <td>open /    2</td>\n",
       "      <td>Parkhaus Bleicherweg / Beethovenstrasse 35</td>\n",
       "    </tr>\n",
       "  </tbody>\n",
       "</table>\n",
       "</div>"
      ],
      "text/plain": [
       "                                               Descr  \\\n",
       "0  http://www.plszh.ch/plsFeed/rss?type=rss_0.92 ...   \n",
       "1                                        open /    0   \n",
       "2                                        open /  130   \n",
       "3                                        open /   55   \n",
       "4                                        open /    2   \n",
       "\n",
       "                                       Parkgarage  \n",
       "0                FEED Parkleitsystem Stadt Zürich  \n",
       "1            Parkgarage am Central / Seilergraben  \n",
       "2                 Parkhaus Accu / Otto-Schütz-Weg  \n",
       "3  Parkhaus Albisriederplatz / Badenerstrasse 380  \n",
       "4      Parkhaus Bleicherweg / Beethovenstrasse 35  "
      ]
     },
     "execution_count": 45,
     "metadata": {},
     "output_type": "execute_result"
    }
   ],
   "source": [
    "pd.DataFrame(lst).head() #head zeigt die ersten fünf Elemente an."
   ]
  },
  {
   "cell_type": "code",
   "execution_count": 46,
   "metadata": {},
   "outputs": [
    {
     "data": {
      "text/html": [
       "<div>\n",
       "<style scoped>\n",
       "    .dataframe tbody tr th:only-of-type {\n",
       "        vertical-align: middle;\n",
       "    }\n",
       "\n",
       "    .dataframe tbody tr th {\n",
       "        vertical-align: top;\n",
       "    }\n",
       "\n",
       "    .dataframe thead th {\n",
       "        text-align: right;\n",
       "    }\n",
       "</style>\n",
       "<table border=\"1\" class=\"dataframe\">\n",
       "  <thead>\n",
       "    <tr style=\"text-align: right;\">\n",
       "      <th></th>\n",
       "      <th>Descr</th>\n",
       "      <th>Parkgarage</th>\n",
       "    </tr>\n",
       "  </thead>\n",
       "  <tbody>\n",
       "    <tr>\n",
       "      <th>1</th>\n",
       "      <td>open /    0</td>\n",
       "      <td>Parkgarage am Central / Seilergraben</td>\n",
       "    </tr>\n",
       "    <tr>\n",
       "      <th>2</th>\n",
       "      <td>open /  130</td>\n",
       "      <td>Parkhaus Accu / Otto-Schütz-Weg</td>\n",
       "    </tr>\n",
       "    <tr>\n",
       "      <th>3</th>\n",
       "      <td>open /   55</td>\n",
       "      <td>Parkhaus Albisriederplatz / Badenerstrasse 380</td>\n",
       "    </tr>\n",
       "    <tr>\n",
       "      <th>4</th>\n",
       "      <td>open /    2</td>\n",
       "      <td>Parkhaus Bleicherweg / Beethovenstrasse 35</td>\n",
       "    </tr>\n",
       "    <tr>\n",
       "      <th>5</th>\n",
       "      <td>open /  154</td>\n",
       "      <td>Parkhaus Center Eleven / Sophie-Täuber-Strasse 4</td>\n",
       "    </tr>\n",
       "    <tr>\n",
       "      <th>6</th>\n",
       "      <td>open /   93</td>\n",
       "      <td>Parkhaus City Parking / Gessnerallee 14</td>\n",
       "    </tr>\n",
       "    <tr>\n",
       "      <th>7</th>\n",
       "      <td>open /   20</td>\n",
       "      <td>Parkhaus Cityport / Affolternstrasse 56</td>\n",
       "    </tr>\n",
       "    <tr>\n",
       "      <th>8</th>\n",
       "      <td>open /  172</td>\n",
       "      <td>Parkhaus Crowne Plaza / Badenerstrasse 420</td>\n",
       "    </tr>\n",
       "    <tr>\n",
       "      <th>9</th>\n",
       "      <td>open /   28</td>\n",
       "      <td>Parkhaus Dorflinde / Schwamendingenstrasse 31</td>\n",
       "    </tr>\n",
       "    <tr>\n",
       "      <th>10</th>\n",
       "      <td>open /   26</td>\n",
       "      <td>Parkhaus Feldegg / Riesbachstrasse 7</td>\n",
       "    </tr>\n",
       "    <tr>\n",
       "      <th>11</th>\n",
       "      <td>open /    9</td>\n",
       "      <td>Parkhaus Globus / Löwenstrasse 50</td>\n",
       "    </tr>\n",
       "    <tr>\n",
       "      <th>12</th>\n",
       "      <td>open /   97</td>\n",
       "      <td>Parkhaus Hardau II / Bullingerstrasse 73</td>\n",
       "    </tr>\n",
       "    <tr>\n",
       "      <th>13</th>\n",
       "      <td>open /   56</td>\n",
       "      <td>Parkhaus Hauptbahnhof / Sihlquai 41</td>\n",
       "    </tr>\n",
       "    <tr>\n",
       "      <th>14</th>\n",
       "      <td>open /  278</td>\n",
       "      <td>Parkhaus Hohe Promenade / Rämistrasse 22a</td>\n",
       "    </tr>\n",
       "    <tr>\n",
       "      <th>15</th>\n",
       "      <td>open /    0</td>\n",
       "      <td>Parkhaus Jelmoli / Steinmühleplatz 1</td>\n",
       "    </tr>\n",
       "    <tr>\n",
       "      <th>16</th>\n",
       "      <td>open /   92</td>\n",
       "      <td>Parkhaus Jungholz / Jungholzstrasse 19</td>\n",
       "    </tr>\n",
       "    <tr>\n",
       "      <th>17</th>\n",
       "      <td>open /   77</td>\n",
       "      <td>Parkhaus Max-Bill-Platz / Armin-Bollinger-Weg</td>\n",
       "    </tr>\n",
       "    <tr>\n",
       "      <th>18</th>\n",
       "      <td>open /  999</td>\n",
       "      <td>Parkhaus Messe Zürich AG / Andreasstrasse 65</td>\n",
       "    </tr>\n",
       "    <tr>\n",
       "      <th>19</th>\n",
       "      <td>open /   35</td>\n",
       "      <td>Parkhaus Nordhaus / Siewerdtstrasse 8</td>\n",
       "    </tr>\n",
       "    <tr>\n",
       "      <th>20</th>\n",
       "      <td>open /  110</td>\n",
       "      <td>Parkhaus Octavo / Brown-Boveri-Strasse 2</td>\n",
       "    </tr>\n",
       "    <tr>\n",
       "      <th>21</th>\n",
       "      <td>open /   74</td>\n",
       "      <td>Parkhaus Opéra / Schillerstrasse 5</td>\n",
       "    </tr>\n",
       "    <tr>\n",
       "      <th>22</th>\n",
       "      <td>open /  254</td>\n",
       "      <td>Parkhaus P West / Förrlibuckstrasse 151</td>\n",
       "    </tr>\n",
       "    <tr>\n",
       "      <th>23</th>\n",
       "      <td>open /   97</td>\n",
       "      <td>Parkhaus Park Hyatt / Beethovenstrasse 21</td>\n",
       "    </tr>\n",
       "    <tr>\n",
       "      <th>24</th>\n",
       "      <td>open /    0</td>\n",
       "      <td>Parkhaus Parkside / Sophie-Täuber-Strasse 10</td>\n",
       "    </tr>\n",
       "    <tr>\n",
       "      <th>25</th>\n",
       "      <td>open /   57</td>\n",
       "      <td>Parkhaus Pfingstweid / Pfingstweidstrasse 1</td>\n",
       "    </tr>\n",
       "    <tr>\n",
       "      <th>26</th>\n",
       "      <td>open /   85</td>\n",
       "      <td>Parkhaus Stampfenbach / Niklausstrasse 1</td>\n",
       "    </tr>\n",
       "    <tr>\n",
       "      <th>27</th>\n",
       "      <td>open /    5</td>\n",
       "      <td>Parkhaus Talgarten / Nüschelerstrasse 31</td>\n",
       "    </tr>\n",
       "    <tr>\n",
       "      <th>28</th>\n",
       "      <td>open /    1</td>\n",
       "      <td>Parkhaus USZ Nord / Frauenklinikstrasse</td>\n",
       "    </tr>\n",
       "    <tr>\n",
       "      <th>29</th>\n",
       "      <td>open /  410</td>\n",
       "      <td>Parkhaus Uni Irchel / Winterthurerstrasse 181</td>\n",
       "    </tr>\n",
       "    <tr>\n",
       "      <th>30</th>\n",
       "      <td>open /   97</td>\n",
       "      <td>Parkhaus Urania / Uraniastrasse 3</td>\n",
       "    </tr>\n",
       "    <tr>\n",
       "      <th>31</th>\n",
       "      <td>open /   20</td>\n",
       "      <td>Parkhaus Utoquai / Färberstrasse 6</td>\n",
       "    </tr>\n",
       "    <tr>\n",
       "      <th>32</th>\n",
       "      <td>open /    9</td>\n",
       "      <td>Parkhaus Züri 11 Shopping / Nansenstrasse 5/7</td>\n",
       "    </tr>\n",
       "    <tr>\n",
       "      <th>33</th>\n",
       "      <td>open /   38</td>\n",
       "      <td>Parkhaus Zürichhorn / Dufourstrasse 142</td>\n",
       "    </tr>\n",
       "    <tr>\n",
       "      <th>34</th>\n",
       "      <td>open /   33</td>\n",
       "      <td>Parkplatz Eisfeld / Thurgauerstrasse 54</td>\n",
       "    </tr>\n",
       "    <tr>\n",
       "      <th>35</th>\n",
       "      <td>open /  133</td>\n",
       "      <td>Parkplatz Theater 11 / Dörfli-/Thurgauerstrasse</td>\n",
       "    </tr>\n",
       "    <tr>\n",
       "      <th>36</th>\n",
       "      <td>open /    0</td>\n",
       "      <td>Parkplatz USZ Süd / Gloriastrasse</td>\n",
       "    </tr>\n",
       "    <tr>\n",
       "      <th>37</th>\n",
       "      <td>open /   13</td>\n",
       "      <td>Puls 5 Parkgarage / Giessereistrasse 18</td>\n",
       "    </tr>\n",
       "  </tbody>\n",
       "</table>\n",
       "</div>"
      ],
      "text/plain": [
       "          Descr                                        Parkgarage\n",
       "1   open /    0              Parkgarage am Central / Seilergraben\n",
       "2   open /  130                   Parkhaus Accu / Otto-Schütz-Weg\n",
       "3   open /   55    Parkhaus Albisriederplatz / Badenerstrasse 380\n",
       "4   open /    2        Parkhaus Bleicherweg / Beethovenstrasse 35\n",
       "5   open /  154  Parkhaus Center Eleven / Sophie-Täuber-Strasse 4\n",
       "6   open /   93           Parkhaus City Parking / Gessnerallee 14\n",
       "7   open /   20           Parkhaus Cityport / Affolternstrasse 56\n",
       "8   open /  172        Parkhaus Crowne Plaza / Badenerstrasse 420\n",
       "9   open /   28     Parkhaus Dorflinde / Schwamendingenstrasse 31\n",
       "10  open /   26              Parkhaus Feldegg / Riesbachstrasse 7\n",
       "11  open /    9                 Parkhaus Globus / Löwenstrasse 50\n",
       "12  open /   97          Parkhaus Hardau II / Bullingerstrasse 73\n",
       "13  open /   56               Parkhaus Hauptbahnhof / Sihlquai 41\n",
       "14  open /  278         Parkhaus Hohe Promenade / Rämistrasse 22a\n",
       "15  open /    0              Parkhaus Jelmoli / Steinmühleplatz 1\n",
       "16  open /   92            Parkhaus Jungholz / Jungholzstrasse 19\n",
       "17  open /   77     Parkhaus Max-Bill-Platz / Armin-Bollinger-Weg\n",
       "18  open /  999      Parkhaus Messe Zürich AG / Andreasstrasse 65\n",
       "19  open /   35             Parkhaus Nordhaus / Siewerdtstrasse 8\n",
       "20  open /  110          Parkhaus Octavo / Brown-Boveri-Strasse 2\n",
       "21  open /   74                Parkhaus Opéra / Schillerstrasse 5\n",
       "22  open /  254           Parkhaus P West / Förrlibuckstrasse 151\n",
       "23  open /   97         Parkhaus Park Hyatt / Beethovenstrasse 21\n",
       "24  open /    0      Parkhaus Parkside / Sophie-Täuber-Strasse 10\n",
       "25  open /   57       Parkhaus Pfingstweid / Pfingstweidstrasse 1\n",
       "26  open /   85          Parkhaus Stampfenbach / Niklausstrasse 1\n",
       "27  open /    5          Parkhaus Talgarten / Nüschelerstrasse 31\n",
       "28  open /    1           Parkhaus USZ Nord / Frauenklinikstrasse\n",
       "29  open /  410     Parkhaus Uni Irchel / Winterthurerstrasse 181\n",
       "30  open /   97                 Parkhaus Urania / Uraniastrasse 3\n",
       "31  open /   20                Parkhaus Utoquai / Färberstrasse 6\n",
       "32  open /    9     Parkhaus Züri 11 Shopping / Nansenstrasse 5/7\n",
       "33  open /   38           Parkhaus Zürichhorn / Dufourstrasse 142\n",
       "34  open /   33           Parkplatz Eisfeld / Thurgauerstrasse 54\n",
       "35  open /  133   Parkplatz Theater 11 / Dörfli-/Thurgauerstrasse\n",
       "36  open /    0                 Parkplatz USZ Süd / Gloriastrasse\n",
       "37  open /   13           Puls 5 Parkgarage / Giessereistrasse 18"
      ]
     },
     "execution_count": 46,
     "metadata": {},
     "output_type": "execute_result"
    }
   ],
   "source": [
    "pd.DataFrame(lst)[1:] #1: heisst: nur alles ab Zeile 1."
   ]
  },
  {
   "cell_type": "markdown",
   "metadata": {},
   "source": [
    "# Gehen wir zur [Übung 3](https://github.com/MAZ-CAS-DDJ/kurs_18_19/blob/master/06%20APIs%2C%20Scraping%20I/%C3%9Cbung3.ipynb)"
   ]
  },
  {
   "cell_type": "markdown",
   "metadata": {},
   "source": [
    "# Komplexere Websites"
   ]
  },
  {
   "cell_type": "code",
   "execution_count": 110,
   "metadata": {
    "collapsed": true
   },
   "outputs": [],
   "source": [
    "#laden wir die Frontpage von Watson\n",
    "r = requests.get('https://www.watson.ch')\n",
    "contents = r.text #Wir lesen den Inhalt aus\n",
    "soup = BeautifulSoup(contents,'xml')"
   ]
  },
  {
   "cell_type": "code",
   "execution_count": 111,
   "metadata": {
    "collapsed": true
   },
   "outputs": [],
   "source": [
    "#Ziehen wir die Titel raus\n",
    "titelliste = soup.find_all('a')"
   ]
  },
  {
   "cell_type": "code",
   "execution_count": 112,
   "metadata": {},
   "outputs": [
    {
     "data": {
      "text/plain": [
       "174"
      ]
     },
     "execution_count": 112,
     "metadata": {},
     "output_type": "execute_result"
    }
   ],
   "source": [
    "len(titelliste)"
   ]
  },
  {
   "cell_type": "code",
   "execution_count": 113,
   "metadata": {
    "collapsed": true
   },
   "outputs": [],
   "source": [
    "#Ziehen wir alle Kommentare raus\n",
    "kommentare = soup.find_all('a', {'class':'standard comments'})"
   ]
  },
  {
   "cell_type": "code",
   "execution_count": 114,
   "metadata": {},
   "outputs": [
    {
     "data": {
      "text/plain": [
       "17"
      ]
     },
     "execution_count": 114,
     "metadata": {},
     "output_type": "execute_result"
    }
   ],
   "source": [
    "len(kommentare)"
   ]
  },
  {
   "cell_type": "markdown",
   "metadata": {
    "collapsed": true
   },
   "source": [
    "Hier sehen wir, dass also nicht immer dieselbe Anzahl Kommentare und Artikel herausgelesen werden kann. Nicht jeder Artikel hat einen Kommentar. Wir müssen deshalb unseren Code anpassen."
   ]
  },
  {
   "cell_type": "code",
   "execution_count": 115,
   "metadata": {
    "collapsed": true
   },
   "outputs": [],
   "source": [
    "storybox = soup.find_all('div', {'class':'text'})"
   ]
  },
  {
   "cell_type": "code",
   "execution_count": 116,
   "metadata": {},
   "outputs": [
    {
     "data": {
      "text/plain": [
       "24"
      ]
     },
     "execution_count": 116,
     "metadata": {},
     "output_type": "execute_result"
    }
   ],
   "source": [
    "len(storybox)"
   ]
  },
  {
   "cell_type": "code",
   "execution_count": 117,
   "metadata": {},
   "outputs": [
    {
     "data": {
      "text/plain": [
       "<div class=\"text\">\n",
       "    Wir verwenden Cookies und Analysetools, um die Nutzerfreundlichkeit der Internetseite zu verbessern und passende Werbung von watson und unseren Werbepartnern anzuzeigen.\n",
       "    Weitere Infos findest Du in unserer <a href=\"/u/agb\">Datenschutzerklärung</a>.\n",
       "    </div>"
      ]
     },
     "execution_count": 117,
     "metadata": {},
     "output_type": "execute_result"
    }
   ],
   "source": [
    "storybox[0]"
   ]
  },
  {
   "cell_type": "code",
   "execution_count": 118,
   "metadata": {},
   "outputs": [
    {
     "data": {
      "text/plain": [
       "<div class=\"text\">\n",
       "<h2><a href=\"/sport/fussball/780028292-die-nati-in-der-verjuengungskur-so-koennte-das-kader-bei-der-em-2020-aussehen\">Die Nati in der Verjüngungskur – so könnte das Kader bei der EM 2020 aussehen</a></h2>\n",
       "<p class=\"author\">von Adrian Bürgler</p>\n",
       "<!-- iconrow ==> -->\n",
       "<div class=\"iconrow\">\n",
       "<!-- media icons ==> -->\n",
       "<div class=\"media_icons\">\n",
       "<!-- comments ==> -->\n",
       "<a class=\"standard comments\" href=\"#comments\">\n",
       "<span>26</span>\n",
       "</a>\n",
       "<!-- <== comments -->\n",
       "<!-- social shares ==> -->\n",
       "<a class=\"standard shares\" href=\"#\">\n",
       "<span>19</span>\n",
       "</a>\n",
       "<!-- <== social shares -->\n",
       "</div>\n",
       "<!-- <== media icons -->\n",
       "</div>\n",
       "<!-- <== iconrow -->\n",
       "</div>"
      ]
     },
     "execution_count": 118,
     "metadata": {},
     "output_type": "execute_result"
    }
   ],
   "source": [
    "storybox[2]"
   ]
  },
  {
   "cell_type": "code",
   "execution_count": 119,
   "metadata": {},
   "outputs": [
    {
     "data": {
      "text/plain": [
       "'Die Nati in der Verjüngungskur – so könnte das Kader bei der EM 2020 aussehen'"
      ]
     },
     "execution_count": 119,
     "metadata": {},
     "output_type": "execute_result"
    }
   ],
   "source": [
    "storybox[2].find('h2').text  "
   ]
  },
  {
   "cell_type": "code",
   "execution_count": 120,
   "metadata": {},
   "outputs": [
    {
     "data": {
      "text/plain": [
       "'26'"
      ]
     },
     "execution_count": 120,
     "metadata": {},
     "output_type": "execute_result"
    }
   ],
   "source": [
    "storybox[2].find('a', {'class':'standard comments'}).text.replace(\"\\n\", \"\")"
   ]
  },
  {
   "cell_type": "code",
   "execution_count": 121,
   "metadata": {},
   "outputs": [
    {
     "ename": "AttributeError",
     "evalue": "'NoneType' object has no attribute 'text'",
     "output_type": "error",
     "traceback": [
      "\u001b[0;31m---------------------------------------------------------------------------\u001b[0m",
      "\u001b[0;31mAttributeError\u001b[0m                            Traceback (most recent call last)",
      "\u001b[0;32m<ipython-input-121-6b4fcf56bbb5>\u001b[0m in \u001b[0;36m<module>\u001b[0;34m()\u001b[0m\n\u001b[1;32m      1\u001b[0m \u001b[0mlst\u001b[0m \u001b[0;34m=\u001b[0m \u001b[0;34m[\u001b[0m\u001b[0;34m]\u001b[0m\u001b[0;34m\u001b[0m\u001b[0m\n\u001b[1;32m      2\u001b[0m \u001b[0;32mfor\u001b[0m \u001b[0melem\u001b[0m \u001b[0;32min\u001b[0m \u001b[0mstorybox\u001b[0m\u001b[0;34m:\u001b[0m\u001b[0;34m\u001b[0m\u001b[0m\n\u001b[0;32m----> 3\u001b[0;31m     \u001b[0mt\u001b[0m \u001b[0;34m=\u001b[0m \u001b[0melem\u001b[0m\u001b[0;34m.\u001b[0m\u001b[0mfind\u001b[0m\u001b[0;34m(\u001b[0m\u001b[0;34m'h2'\u001b[0m\u001b[0;34m)\u001b[0m\u001b[0;34m.\u001b[0m\u001b[0mtext\u001b[0m\u001b[0;34m\u001b[0m\u001b[0m\n\u001b[0m\u001b[1;32m      4\u001b[0m     \u001b[0mk\u001b[0m \u001b[0;34m=\u001b[0m \u001b[0melem\u001b[0m\u001b[0;34m.\u001b[0m\u001b[0mfind\u001b[0m\u001b[0;34m(\u001b[0m\u001b[0;34m'a'\u001b[0m\u001b[0;34m,\u001b[0m \u001b[0;34m{\u001b[0m\u001b[0;34m'class'\u001b[0m\u001b[0;34m:\u001b[0m\u001b[0;34m'standard comments'\u001b[0m\u001b[0;34m}\u001b[0m\u001b[0;34m)\u001b[0m\u001b[0;34m.\u001b[0m\u001b[0mtext\u001b[0m\u001b[0;34m.\u001b[0m\u001b[0mreplace\u001b[0m\u001b[0;34m(\u001b[0m\u001b[0;34m\"\\n\"\u001b[0m\u001b[0;34m,\u001b[0m \u001b[0;34m\"\"\u001b[0m\u001b[0;34m)\u001b[0m\u001b[0;34m\u001b[0m\u001b[0m\n\u001b[1;32m      5\u001b[0m \u001b[0;34m\u001b[0m\u001b[0m\n",
      "\u001b[0;31mAttributeError\u001b[0m: 'NoneType' object has no attribute 'text'"
     ]
    }
   ],
   "source": [
    "lst = []\n",
    "for elem in storybox:\n",
    "    t = elem.find('h2').text\n",
    "    k = elem.find('a', {'class':'standard comments'}).text.replace(\"\\n\", \"\")\n",
    "    \n",
    "    mini_dict = {'Titel': t,\n",
    "                 'Kommentar': k}\n",
    "    \n",
    "    lst.append(mini_dict)"
   ]
  },
  {
   "cell_type": "code",
   "execution_count": 122,
   "metadata": {
    "collapsed": true
   },
   "outputs": [],
   "source": [
    "lst = []\n",
    "for elem in storybox:\n",
    "    \n",
    "    try: #Hier kannn man mit Fehlern umgehen. Man muss allerdings spärlcih damit umgehen. \n",
    "        t = elem.find('h2').text\n",
    "    except:\n",
    "        t = 'Kein Titel'\n",
    "    \n",
    "    try:\n",
    "        k = elem.find('a', {'class':'standard comments'}).text.replace(\"\\n\", \"\")\n",
    "    except:\n",
    "        k = 'Keine Kommentare'\n",
    "    \n",
    "    mini_dict = {'Titel': t,\n",
    "                 'Kommentar': k}\n",
    "    \n",
    "    lst.append(mini_dict)"
   ]
  },
  {
   "cell_type": "code",
   "execution_count": 123,
   "metadata": {},
   "outputs": [
    {
     "data": {
      "text/html": [
       "<div>\n",
       "<style scoped>\n",
       "    .dataframe tbody tr th:only-of-type {\n",
       "        vertical-align: middle;\n",
       "    }\n",
       "\n",
       "    .dataframe tbody tr th {\n",
       "        vertical-align: top;\n",
       "    }\n",
       "\n",
       "    .dataframe thead th {\n",
       "        text-align: right;\n",
       "    }\n",
       "</style>\n",
       "<table border=\"1\" class=\"dataframe\">\n",
       "  <thead>\n",
       "    <tr style=\"text-align: right;\">\n",
       "      <th></th>\n",
       "      <th>Kommentar</th>\n",
       "      <th>Titel</th>\n",
       "    </tr>\n",
       "  </thead>\n",
       "  <tbody>\n",
       "    <tr>\n",
       "      <th>0</th>\n",
       "      <td>Keine Kommentare</td>\n",
       "      <td>Kein Titel</td>\n",
       "    </tr>\n",
       "    <tr>\n",
       "      <th>1</th>\n",
       "      <td>6</td>\n",
       "      <td>Rick Gates ist die Achillesferse von Donald Trump</td>\n",
       "    </tr>\n",
       "    <tr>\n",
       "      <th>2</th>\n",
       "      <td>26</td>\n",
       "      <td>Die Nati in der Verjüngungskur – so könnte das...</td>\n",
       "    </tr>\n",
       "    <tr>\n",
       "      <th>3</th>\n",
       "      <td>Keine Kommentare</td>\n",
       "      <td>Nach dem Absturz: Ju-Air will noch im August w...</td>\n",
       "    </tr>\n",
       "    <tr>\n",
       "      <th>4</th>\n",
       "      <td>19</td>\n",
       "      <td>Gelson Fernandes tritt aus der Nati zurück: «E...</td>\n",
       "    </tr>\n",
       "    <tr>\n",
       "      <th>5</th>\n",
       "      <td>19</td>\n",
       "      <td>12 Salate, die du diesen Sommer über essen sol...</td>\n",
       "    </tr>\n",
       "    <tr>\n",
       "      <th>6</th>\n",
       "      <td>25</td>\n",
       "      <td>Das Tessin wollte die Burkas verbannen – bestr...</td>\n",
       "    </tr>\n",
       "    <tr>\n",
       "      <th>7</th>\n",
       "      <td>Keine Kommentare</td>\n",
       "      <td>A2 gesperrt: So sieht das Lastwagen-Wrack im P...</td>\n",
       "    </tr>\n",
       "    <tr>\n",
       "      <th>8</th>\n",
       "      <td>410</td>\n",
       "      <td>United lehnt zwei Spieler plus 50 Millionen fü...</td>\n",
       "    </tr>\n",
       "    <tr>\n",
       "      <th>9</th>\n",
       "      <td>46</td>\n",
       "      <td>«In der Nati ist keiner so klug wie du» – offe...</td>\n",
       "    </tr>\n",
       "    <tr>\n",
       "      <th>10</th>\n",
       "      <td>10</td>\n",
       "      <td>18 lustige Fails, die dich alles um dich herum...</td>\n",
       "    </tr>\n",
       "    <tr>\n",
       "      <th>11</th>\n",
       "      <td>7</td>\n",
       "      <td>\\nWegen diesen fiesen Memes? «Pu der Bär» komm...</td>\n",
       "    </tr>\n",
       "    <tr>\n",
       "      <th>12</th>\n",
       "      <td>9</td>\n",
       "      <td>\\nDiese Handys erhalten (ab sofort) das neue A...</td>\n",
       "    </tr>\n",
       "    <tr>\n",
       "      <th>13</th>\n",
       "      <td>10</td>\n",
       "      <td>\\nKind vergewaltigt, erniedrigt, verkauft: Zwö...</td>\n",
       "    </tr>\n",
       "    <tr>\n",
       "      <th>14</th>\n",
       "      <td>Keine Kommentare</td>\n",
       "      <td>\\nDrohne vermiest die Ferien des französischen...</td>\n",
       "    </tr>\n",
       "    <tr>\n",
       "      <th>15</th>\n",
       "      <td>Keine Kommentare</td>\n",
       "      <td>\\nGewaltiger Erdrutsch am Mont-Blanc fordert z...</td>\n",
       "    </tr>\n",
       "    <tr>\n",
       "      <th>16</th>\n",
       "      <td>1</td>\n",
       "      <td>\\nDie Favoritin hält dem Druck stand: Jolanda ...</td>\n",
       "    </tr>\n",
       "    <tr>\n",
       "      <th>17</th>\n",
       "      <td>11</td>\n",
       "      <td>20 Zitate von wichtigen Menschen, die du fürs ...</td>\n",
       "    </tr>\n",
       "    <tr>\n",
       "      <th>18</th>\n",
       "      <td>5</td>\n",
       "      <td>12 Grad kälter in 20 Minuten – nach Gewittern ...</td>\n",
       "    </tr>\n",
       "    <tr>\n",
       "      <th>19</th>\n",
       "      <td>62</td>\n",
       "      <td>Leonardo Genoni verlässt den SCB – na und?</td>\n",
       "    </tr>\n",
       "    <tr>\n",
       "      <th>20</th>\n",
       "      <td>52</td>\n",
       "      <td>Die Erde ist bei Google Maps keine flache Sche...</td>\n",
       "    </tr>\n",
       "    <tr>\n",
       "      <th>21</th>\n",
       "      <td>26</td>\n",
       "      <td>Petkovic provoziert den Neustart – was der ges...</td>\n",
       "    </tr>\n",
       "    <tr>\n",
       "      <th>22</th>\n",
       "      <td>Keine Kommentare</td>\n",
       "      <td>Milliardär Kroenke will alleiniger Besitzer vo...</td>\n",
       "    </tr>\n",
       "    <tr>\n",
       "      <th>23</th>\n",
       "      <td>Keine Kommentare</td>\n",
       "      <td>Im Bild</td>\n",
       "    </tr>\n",
       "  </tbody>\n",
       "</table>\n",
       "</div>"
      ],
      "text/plain": [
       "           Kommentar                                              Titel\n",
       "0   Keine Kommentare                                         Kein Titel\n",
       "1                  6  Rick Gates ist die Achillesferse von Donald Trump\n",
       "2                 26  Die Nati in der Verjüngungskur – so könnte das...\n",
       "3   Keine Kommentare  Nach dem Absturz: Ju-Air will noch im August w...\n",
       "4                 19  Gelson Fernandes tritt aus der Nati zurück: «E...\n",
       "5                 19  12 Salate, die du diesen Sommer über essen sol...\n",
       "6                 25  Das Tessin wollte die Burkas verbannen – bestr...\n",
       "7   Keine Kommentare  A2 gesperrt: So sieht das Lastwagen-Wrack im P...\n",
       "8                410  United lehnt zwei Spieler plus 50 Millionen fü...\n",
       "9                 46  «In der Nati ist keiner so klug wie du» – offe...\n",
       "10                10  18 lustige Fails, die dich alles um dich herum...\n",
       "11                 7  \\nWegen diesen fiesen Memes? «Pu der Bär» komm...\n",
       "12                 9  \\nDiese Handys erhalten (ab sofort) das neue A...\n",
       "13                10  \\nKind vergewaltigt, erniedrigt, verkauft: Zwö...\n",
       "14  Keine Kommentare  \\nDrohne vermiest die Ferien des französischen...\n",
       "15  Keine Kommentare  \\nGewaltiger Erdrutsch am Mont-Blanc fordert z...\n",
       "16                 1  \\nDie Favoritin hält dem Druck stand: Jolanda ...\n",
       "17                11  20 Zitate von wichtigen Menschen, die du fürs ...\n",
       "18                 5  12 Grad kälter in 20 Minuten – nach Gewittern ...\n",
       "19                62         Leonardo Genoni verlässt den SCB – na und?\n",
       "20                52  Die Erde ist bei Google Maps keine flache Sche...\n",
       "21                26  Petkovic provoziert den Neustart – was der ges...\n",
       "22  Keine Kommentare  Milliardär Kroenke will alleiniger Besitzer vo...\n",
       "23  Keine Kommentare                                            Im Bild"
      ]
     },
     "execution_count": 123,
     "metadata": {},
     "output_type": "execute_result"
    }
   ],
   "source": [
    "pd.DataFrame(lst)"
   ]
  },
  {
   "cell_type": "markdown",
   "metadata": {},
   "source": [
    "# Als Übung: Mit Funktion dasselbe tun.\n",
    "Wenn man sehr ausführlichen Code entwickelt, ist es oft praktisch, mit Funktionen zu arbeiten. Hier ein Beispiel davon, die das aussehen könnte."
   ]
  },
  {
   "cell_type": "code",
   "execution_count": 124,
   "metadata": {
    "collapsed": true
   },
   "outputs": [],
   "source": [
    "def kommentarezählen(url):\n",
    "    \n",
    "    r = requests.get(url)\n",
    "    soup = BeautifulSoup(r.text,'xml')\n",
    "    storybox = soup.find_all('div', {'class':'text'})\n",
    "    \n",
    "    lst = []   \n",
    "    for elem in storybox:\n",
    "        try: #Hier kannn man mit Fehlern umgehen. Man muss allerdings spärlcih damit umgehen. \n",
    "            t = elem.find('h2').text\n",
    "        except:\n",
    "            t = 'Kein Titel'\n",
    "        try:\n",
    "            k = elem.find('a', {'class':'standard comments'}).text.replace(\"\\n\", \"\")\n",
    "        except:\n",
    "            k = 'Keine Kommentare'\n",
    "        mini_dict = {'Titel': t,\n",
    "                 'Kommentar': k}\n",
    "        lst.append(mini_dict)\n",
    "    \n",
    "    return pd.DataFrame(lst)"
   ]
  },
  {
   "cell_type": "code",
   "execution_count": 125,
   "metadata": {},
   "outputs": [
    {
     "data": {
      "text/html": [
       "<div>\n",
       "<style scoped>\n",
       "    .dataframe tbody tr th:only-of-type {\n",
       "        vertical-align: middle;\n",
       "    }\n",
       "\n",
       "    .dataframe tbody tr th {\n",
       "        vertical-align: top;\n",
       "    }\n",
       "\n",
       "    .dataframe thead th {\n",
       "        text-align: right;\n",
       "    }\n",
       "</style>\n",
       "<table border=\"1\" class=\"dataframe\">\n",
       "  <thead>\n",
       "    <tr style=\"text-align: right;\">\n",
       "      <th></th>\n",
       "      <th>Kommentar</th>\n",
       "      <th>Titel</th>\n",
       "    </tr>\n",
       "  </thead>\n",
       "  <tbody>\n",
       "    <tr>\n",
       "      <th>0</th>\n",
       "      <td>Keine Kommentare</td>\n",
       "      <td>Kein Titel</td>\n",
       "    </tr>\n",
       "    <tr>\n",
       "      <th>1</th>\n",
       "      <td>6</td>\n",
       "      <td>Rick Gates ist die Achillesferse von Donald Trump</td>\n",
       "    </tr>\n",
       "    <tr>\n",
       "      <th>2</th>\n",
       "      <td>26</td>\n",
       "      <td>Die Nati in der Verjüngungskur – so könnte das...</td>\n",
       "    </tr>\n",
       "    <tr>\n",
       "      <th>3</th>\n",
       "      <td>Keine Kommentare</td>\n",
       "      <td>Nach dem Absturz: Ju-Air will noch im August w...</td>\n",
       "    </tr>\n",
       "    <tr>\n",
       "      <th>4</th>\n",
       "      <td>19</td>\n",
       "      <td>Gelson Fernandes tritt aus der Nati zurück: «E...</td>\n",
       "    </tr>\n",
       "    <tr>\n",
       "      <th>5</th>\n",
       "      <td>19</td>\n",
       "      <td>12 Salate, die du diesen Sommer über essen sol...</td>\n",
       "    </tr>\n",
       "    <tr>\n",
       "      <th>6</th>\n",
       "      <td>25</td>\n",
       "      <td>Das Tessin wollte die Burkas verbannen – bestr...</td>\n",
       "    </tr>\n",
       "    <tr>\n",
       "      <th>7</th>\n",
       "      <td>Keine Kommentare</td>\n",
       "      <td>A2 gesperrt: So sieht das Lastwagen-Wrack im P...</td>\n",
       "    </tr>\n",
       "    <tr>\n",
       "      <th>8</th>\n",
       "      <td>410</td>\n",
       "      <td>United lehnt zwei Spieler plus 50 Millionen fü...</td>\n",
       "    </tr>\n",
       "    <tr>\n",
       "      <th>9</th>\n",
       "      <td>46</td>\n",
       "      <td>«In der Nati ist keiner so klug wie du» – offe...</td>\n",
       "    </tr>\n",
       "    <tr>\n",
       "      <th>10</th>\n",
       "      <td>10</td>\n",
       "      <td>18 lustige Fails, die dich alles um dich herum...</td>\n",
       "    </tr>\n",
       "    <tr>\n",
       "      <th>11</th>\n",
       "      <td>7</td>\n",
       "      <td>\\nWegen diesen fiesen Memes? «Pu der Bär» komm...</td>\n",
       "    </tr>\n",
       "    <tr>\n",
       "      <th>12</th>\n",
       "      <td>9</td>\n",
       "      <td>\\nDiese Handys erhalten (ab sofort) das neue A...</td>\n",
       "    </tr>\n",
       "    <tr>\n",
       "      <th>13</th>\n",
       "      <td>10</td>\n",
       "      <td>\\nKind vergewaltigt, erniedrigt, verkauft: Zwö...</td>\n",
       "    </tr>\n",
       "    <tr>\n",
       "      <th>14</th>\n",
       "      <td>Keine Kommentare</td>\n",
       "      <td>\\nDrohne vermiest die Ferien des französischen...</td>\n",
       "    </tr>\n",
       "    <tr>\n",
       "      <th>15</th>\n",
       "      <td>Keine Kommentare</td>\n",
       "      <td>\\nGewaltiger Erdrutsch am Mont-Blanc fordert z...</td>\n",
       "    </tr>\n",
       "    <tr>\n",
       "      <th>16</th>\n",
       "      <td>1</td>\n",
       "      <td>\\nDie Favoritin hält dem Druck stand: Jolanda ...</td>\n",
       "    </tr>\n",
       "    <tr>\n",
       "      <th>17</th>\n",
       "      <td>11</td>\n",
       "      <td>20 Zitate von wichtigen Menschen, die du fürs ...</td>\n",
       "    </tr>\n",
       "    <tr>\n",
       "      <th>18</th>\n",
       "      <td>5</td>\n",
       "      <td>12 Grad kälter in 20 Minuten – nach Gewittern ...</td>\n",
       "    </tr>\n",
       "    <tr>\n",
       "      <th>19</th>\n",
       "      <td>62</td>\n",
       "      <td>Leonardo Genoni verlässt den SCB – na und?</td>\n",
       "    </tr>\n",
       "    <tr>\n",
       "      <th>20</th>\n",
       "      <td>52</td>\n",
       "      <td>Die Erde ist bei Google Maps keine flache Sche...</td>\n",
       "    </tr>\n",
       "    <tr>\n",
       "      <th>21</th>\n",
       "      <td>26</td>\n",
       "      <td>Petkovic provoziert den Neustart – was der ges...</td>\n",
       "    </tr>\n",
       "    <tr>\n",
       "      <th>22</th>\n",
       "      <td>Keine Kommentare</td>\n",
       "      <td>Milliardär Kroenke will alleiniger Besitzer vo...</td>\n",
       "    </tr>\n",
       "    <tr>\n",
       "      <th>23</th>\n",
       "      <td>Keine Kommentare</td>\n",
       "      <td>Im Bild</td>\n",
       "    </tr>\n",
       "  </tbody>\n",
       "</table>\n",
       "</div>"
      ],
      "text/plain": [
       "           Kommentar                                              Titel\n",
       "0   Keine Kommentare                                         Kein Titel\n",
       "1                  6  Rick Gates ist die Achillesferse von Donald Trump\n",
       "2                 26  Die Nati in der Verjüngungskur – so könnte das...\n",
       "3   Keine Kommentare  Nach dem Absturz: Ju-Air will noch im August w...\n",
       "4                 19  Gelson Fernandes tritt aus der Nati zurück: «E...\n",
       "5                 19  12 Salate, die du diesen Sommer über essen sol...\n",
       "6                 25  Das Tessin wollte die Burkas verbannen – bestr...\n",
       "7   Keine Kommentare  A2 gesperrt: So sieht das Lastwagen-Wrack im P...\n",
       "8                410  United lehnt zwei Spieler plus 50 Millionen fü...\n",
       "9                 46  «In der Nati ist keiner so klug wie du» – offe...\n",
       "10                10  18 lustige Fails, die dich alles um dich herum...\n",
       "11                 7  \\nWegen diesen fiesen Memes? «Pu der Bär» komm...\n",
       "12                 9  \\nDiese Handys erhalten (ab sofort) das neue A...\n",
       "13                10  \\nKind vergewaltigt, erniedrigt, verkauft: Zwö...\n",
       "14  Keine Kommentare  \\nDrohne vermiest die Ferien des französischen...\n",
       "15  Keine Kommentare  \\nGewaltiger Erdrutsch am Mont-Blanc fordert z...\n",
       "16                 1  \\nDie Favoritin hält dem Druck stand: Jolanda ...\n",
       "17                11  20 Zitate von wichtigen Menschen, die du fürs ...\n",
       "18                 5  12 Grad kälter in 20 Minuten – nach Gewittern ...\n",
       "19                62         Leonardo Genoni verlässt den SCB – na und?\n",
       "20                52  Die Erde ist bei Google Maps keine flache Sche...\n",
       "21                26  Petkovic provoziert den Neustart – was der ges...\n",
       "22  Keine Kommentare  Milliardär Kroenke will alleiniger Besitzer vo...\n",
       "23  Keine Kommentare                                            Im Bild"
      ]
     },
     "execution_count": 125,
     "metadata": {},
     "output_type": "execute_result"
    }
   ],
   "source": [
    "kommentarezählen('https://www.watson.ch/')"
   ]
  },
  {
   "cell_type": "markdown",
   "metadata": {},
   "source": [
    "Das können wir natürlich auf der Kommandozeile auslösen. Speichern wir unsere Skript und wandeln wir ihn um. (Wir müssen noch dafür sorgen, dass er mit einem Parameter ausgestattet werden kann. Aber auch das lässt sich einfach googeln)."
   ]
  },
  {
   "cell_type": "markdown",
   "metadata": {},
   "source": [
    "# Nun üben wir das ein wenig"
   ]
  },
  {
   "cell_type": "code",
   "execution_count": null,
   "metadata": {
    "collapsed": true
   },
   "outputs": [],
   "source": []
  }
 ],
 "metadata": {
  "kernelspec": {
   "display_name": "Python 3",
   "language": "python",
   "name": "python3"
  },
  "language_info": {
   "codemirror_mode": {
    "name": "ipython",
    "version": 3
   },
   "file_extension": ".py",
   "mimetype": "text/x-python",
   "name": "python",
   "nbconvert_exporter": "python",
   "pygments_lexer": "ipython3",
   "version": "3.7.4"
  }
 },
 "nbformat": 4,
 "nbformat_minor": 2
}
