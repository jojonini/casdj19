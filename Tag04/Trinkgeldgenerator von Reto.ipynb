{
 "cells": [
  {
   "cell_type": "code",
   "execution_count": 5,
   "metadata": {},
   "outputs": [
    {
     "name": "stdout",
     "output_type": "stream",
     "text": [
      "Preis: 25\n",
      "Preis des Essens: 25\n",
      "Mit 5 % Trinkgeld: 26.25\n",
      "Mit 10 % Trinkgeld: 27.500000000000004\n",
      "Mit 15 % Trinkgeld: 28.749999999999996\n",
      "Mit 20 % Trinkgeld: 30.0\n"
     ]
    }
   ],
   "source": [
    "## prozente in Liste fix hinterlegt\n",
    "def tipp_generator(price):\n",
    "    prozente = [5,10,15,20]\n",
    "    print(\"Preis des Essens: \" + str(price))\n",
    "    for i in range(0,4):\n",
    "       print(\"Mit \" + str(prozente[i]) + \" % Trinkgeld: \" +\n",
    "       str(int(price) * (1 + prozente[i]/100)))\n",
    "## fragt den Preis ab\n",
    "price = input(\"Preis: \")\n",
    "tipp_generator(price)"
   ]
  },
  {
   "cell_type": "code",
   "execution_count": null,
   "metadata": {},
   "outputs": [],
   "source": []
  }
 ],
 "metadata": {
  "kernelspec": {
   "display_name": "Python 3",
   "language": "python",
   "name": "python3"
  },
  "language_info": {
   "codemirror_mode": {
    "name": "ipython",
    "version": 3
   },
   "file_extension": ".py",
   "mimetype": "text/x-python",
   "name": "python",
   "nbconvert_exporter": "python",
   "pygments_lexer": "ipython3",
   "version": "3.7.3"
  }
 },
 "nbformat": 4,
 "nbformat_minor": 2
}
