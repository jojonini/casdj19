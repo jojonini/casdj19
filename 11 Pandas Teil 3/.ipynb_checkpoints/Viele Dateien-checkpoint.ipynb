{
 "cells": [
  {
   "cell_type": "markdown",
   "metadata": {},
   "source": [
    "# Viele Dateien"
   ]
  },
  {
   "cell_type": "markdown",
   "metadata": {},
   "source": [
    "**Inhalt:** Massenverarbeitung von gescrapten Zeitreihen\n",
    "\n",
    "**Nötige Skills:** Daten explorieren, Time+Date Basics\n",
    "\n",
    "**Lernziele:**\n",
    "- Pandas in Kombination mit Scraping\n",
    "- Öffnen und zusammenfügen von vielen Dateien (Glob)\n",
    "- Umstrukturierung von Dataframes (Pivot)\n",
    "- Plotting Level 4 (Small Multiples)"
   ]
  },
  {
   "cell_type": "markdown",
   "metadata": {},
   "source": [
    "## Das Beispiel"
   ]
  },
  {
   "cell_type": "markdown",
   "metadata": {},
   "source": [
    "Wir interessieren uns in diesem Notebook für Krypto-Coins.\n",
    "\n",
    "Die Webseite https://coinmarketcap.com/ führt Marktdaten zu den hundert wichtigsten Coins auf.\n",
    "\n",
    "Mit einem einfachen Scraper werden wir diese Daten beschaffen.\n",
    "\n",
    "Der Pfad zum Projektordner heisst `dataprojects/Krypto/`. Dort ist auch der Scraper abgelegt. \n",
    "\n",
    "Zu jeder Kryptowährung haben wir ein csv-Datenfile im Unterordner `data/`."
   ]
  },
  {
   "cell_type": "markdown",
   "metadata": {},
   "source": [
    "## Vorbereitung"
   ]
  },
  {
   "cell_type": "code",
   "execution_count": 1,
   "metadata": {},
   "outputs": [],
   "source": [
    "import pandas as pd"
   ]
  },
  {
   "cell_type": "code",
   "execution_count": 2,
   "metadata": {},
   "outputs": [],
   "source": [
    "import numpy as np"
   ]
  },
  {
   "cell_type": "code",
   "execution_count": 3,
   "metadata": {},
   "outputs": [],
   "source": [
    "import re"
   ]
  },
  {
   "cell_type": "code",
   "execution_count": 4,
   "metadata": {},
   "outputs": [],
   "source": [
    "import glob"
   ]
  },
  {
   "cell_type": "code",
   "execution_count": 5,
   "metadata": {},
   "outputs": [],
   "source": [
    "%matplotlib inline"
   ]
  },
  {
   "cell_type": "markdown",
   "metadata": {},
   "source": [
    "## Daten laden\n",
    "\n",
    "**In diesem Teil hat es einige neue Funktionen drin, die wir noch nicht kennen. Sie können sich einfach durchklicken.**"
   ]
  },
  {
   "cell_type": "markdown",
   "metadata": {},
   "source": [
    "### Einlesen 1: ein einzelnes File"
   ]
  },
  {
   "cell_type": "markdown",
   "metadata": {},
   "source": [
    "Zu jeder Kryptowährung gibt es eine Datei mit den Kursdaten. Wir laden testweise eines davon:"
   ]
  },
  {
   "cell_type": "code",
   "execution_count": 6,
   "metadata": {},
   "outputs": [],
   "source": [
    "path = 'dataprojects/Krypto/'"
   ]
  },
  {
   "cell_type": "code",
   "execution_count": 7,
   "metadata": {},
   "outputs": [],
   "source": [
    "df = pd.read_csv(path + 'data/Bitcoin.csv')"
   ]
  },
  {
   "cell_type": "code",
   "execution_count": 8,
   "metadata": {},
   "outputs": [
    {
     "data": {
      "text/html": [
       "<div>\n",
       "<style scoped>\n",
       "    .dataframe tbody tr th:only-of-type {\n",
       "        vertical-align: middle;\n",
       "    }\n",
       "\n",
       "    .dataframe tbody tr th {\n",
       "        vertical-align: top;\n",
       "    }\n",
       "\n",
       "    .dataframe thead th {\n",
       "        text-align: right;\n",
       "    }\n",
       "</style>\n",
       "<table border=\"1\" class=\"dataframe\">\n",
       "  <thead>\n",
       "    <tr style=\"text-align: right;\">\n",
       "      <th></th>\n",
       "      <th>date</th>\n",
       "      <th>open</th>\n",
       "      <th>high</th>\n",
       "      <th>low</th>\n",
       "      <th>close</th>\n",
       "      <th>volume</th>\n",
       "      <th>marketcap</th>\n",
       "    </tr>\n",
       "  </thead>\n",
       "  <tbody>\n",
       "    <tr>\n",
       "      <td>0</td>\n",
       "      <td>Oct 12, 2019</td>\n",
       "      <td>8315.66</td>\n",
       "      <td>8415.24</td>\n",
       "      <td>8313.34</td>\n",
       "      <td>8336.56</td>\n",
       "      <td>14,532,641,605</td>\n",
       "      <td>149,965,767,624</td>\n",
       "    </tr>\n",
       "    <tr>\n",
       "      <td>1</td>\n",
       "      <td>Oct 11, 2019</td>\n",
       "      <td>8585.26</td>\n",
       "      <td>8721.78</td>\n",
       "      <td>8316.18</td>\n",
       "      <td>8321.76</td>\n",
       "      <td>19,604,381,101</td>\n",
       "      <td>149,685,618,275</td>\n",
       "    </tr>\n",
       "  </tbody>\n",
       "</table>\n",
       "</div>"
      ],
      "text/plain": [
       "           date     open     high      low    close          volume  \\\n",
       "0  Oct 12, 2019  8315.66  8415.24  8313.34  8336.56  14,532,641,605   \n",
       "1  Oct 11, 2019  8585.26  8721.78  8316.18  8321.76  19,604,381,101   \n",
       "\n",
       "         marketcap  \n",
       "0  149,965,767,624  \n",
       "1  149,685,618,275  "
      ]
     },
     "execution_count": 8,
     "metadata": {},
     "output_type": "execute_result"
    }
   ],
   "source": [
    "df.head(2)"
   ]
  },
  {
   "cell_type": "markdown",
   "metadata": {},
   "source": [
    "Das DF ist 366 Einträge lang (da zu 365 + 1 Tagen Daten vorliegen)"
   ]
  },
  {
   "cell_type": "code",
   "execution_count": 9,
   "metadata": {},
   "outputs": [
    {
     "data": {
      "text/plain": [
       "366"
      ]
     },
     "execution_count": 9,
     "metadata": {},
     "output_type": "execute_result"
    }
   ],
   "source": [
    "len(df)"
   ]
  },
  {
   "cell_type": "markdown",
   "metadata": {},
   "source": [
    "Theoretisch könnten wir diesen Code jetzt für jede der 100 Währungen manuell wiederholen.\n",
    "\n",
    "Doch das ist umständlich, wir wollen automatisch alle Währungen laden."
   ]
  },
  {
   "cell_type": "markdown",
   "metadata": {},
   "source": [
    "### Einlesen 2: Alle Files auf einmal"
   ]
  },
  {
   "cell_type": "markdown",
   "metadata": {},
   "source": [
    "**Schritt 1: Liste von Dateinamen erstellen**"
   ]
  },
  {
   "cell_type": "markdown",
   "metadata": {},
   "source": [
    "Wir starten damit, dass wir das Verzeichnis durchsuchen, in dem alle Kryptowährungs-Daten abgelegt sind.\n",
    "\n",
    "Dazu benutzen wir `glob`, ein praktisches Tool aus der Standard Library: https://docs.python.org/3/library/glob.html"
   ]
  },
  {
   "cell_type": "code",
   "execution_count": 10,
   "metadata": {},
   "outputs": [],
   "source": [
    "filenames = glob.glob(path + 'data/*.csv')"
   ]
  },
  {
   "cell_type": "code",
   "execution_count": 11,
   "metadata": {},
   "outputs": [
    {
     "data": {
      "text/plain": [
       "100"
      ]
     },
     "execution_count": 11,
     "metadata": {},
     "output_type": "execute_result"
    }
   ],
   "source": [
    "len(filenames)"
   ]
  },
  {
   "cell_type": "markdown",
   "metadata": {},
   "source": [
    "Wir haben nun eine Liste von allen Dateinamen. Die ersten zwei Einträge sind:"
   ]
  },
  {
   "cell_type": "code",
   "execution_count": 18,
   "metadata": {},
   "outputs": [
    {
     "data": {
      "text/plain": [
       "['dataprojects/Krypto/data/BitCapitalVendor.csv',\n",
       " 'dataprojects/Krypto/data/XMax.csv']"
      ]
     },
     "execution_count": 18,
     "metadata": {},
     "output_type": "execute_result"
    }
   ],
   "source": [
    "filenames[0:2]"
   ]
  },
  {
   "cell_type": "markdown",
   "metadata": {},
   "source": [
    "**Schritt 2: Liste von Dataframes anhand der Dateinamen**"
   ]
  },
  {
   "cell_type": "markdown",
   "metadata": {},
   "source": [
    "Nun lesen wir jede einzelne Datei aus der Liste ein - und zwar in eine **Liste von Dataframes**.\n",
    "\n",
    "Diese Liste nennen wir `dfs[]`. Sie wird 100 Einträge haben, jedes davon ein Dataframe."
   ]
  },
  {
   "cell_type": "code",
   "execution_count": 14,
   "metadata": {},
   "outputs": [],
   "source": [
    "dfs = []"
   ]
  },
  {
   "cell_type": "markdown",
   "metadata": {},
   "source": [
    "List comprehensions kann man hier verwenden - hier als kleines Beispiel, wie das funktionieren könnte:"
   ]
  },
  {
   "cell_type": "code",
   "execution_count": 15,
   "metadata": {},
   "outputs": [],
   "source": [
    "my_list = (3,5,8)"
   ]
  },
  {
   "cell_type": "code",
   "execution_count": 17,
   "metadata": {},
   "outputs": [
    {
     "data": {
      "text/plain": [
       "[6, 10, 16]"
      ]
     },
     "execution_count": 17,
     "metadata": {},
     "output_type": "execute_result"
    }
   ],
   "source": [
    "[mein_element * 2 for mein_element in my_list]"
   ]
  },
  {
   "cell_type": "markdown",
   "metadata": {},
   "source": [
    "Zum Einlesen benutzen wir list comprehension..."
   ]
  },
  {
   "cell_type": "code",
   "execution_count": 19,
   "metadata": {},
   "outputs": [],
   "source": [
    "dfs = [pd.read_csv(filename) for filename in filenames]"
   ]
  },
  {
   "cell_type": "code",
   "execution_count": 20,
   "metadata": {},
   "outputs": [
    {
     "data": {
      "text/html": [
       "<div>\n",
       "<style scoped>\n",
       "    .dataframe tbody tr th:only-of-type {\n",
       "        vertical-align: middle;\n",
       "    }\n",
       "\n",
       "    .dataframe tbody tr th {\n",
       "        vertical-align: top;\n",
       "    }\n",
       "\n",
       "    .dataframe thead th {\n",
       "        text-align: right;\n",
       "    }\n",
       "</style>\n",
       "<table border=\"1\" class=\"dataframe\">\n",
       "  <thead>\n",
       "    <tr style=\"text-align: right;\">\n",
       "      <th></th>\n",
       "      <th>date</th>\n",
       "      <th>open</th>\n",
       "      <th>high</th>\n",
       "      <th>low</th>\n",
       "      <th>close</th>\n",
       "      <th>volume</th>\n",
       "      <th>marketcap</th>\n",
       "    </tr>\n",
       "  </thead>\n",
       "  <tbody>\n",
       "    <tr>\n",
       "      <td>0</td>\n",
       "      <td>Oct 12, 2019</td>\n",
       "      <td>0.042286</td>\n",
       "      <td>0.043125</td>\n",
       "      <td>0.040426</td>\n",
       "      <td>0.040929</td>\n",
       "      <td>1,173,745</td>\n",
       "      <td>36,475,731</td>\n",
       "    </tr>\n",
       "    <tr>\n",
       "      <td>1</td>\n",
       "      <td>Oct 11, 2019</td>\n",
       "      <td>0.043115</td>\n",
       "      <td>0.043170</td>\n",
       "      <td>0.040623</td>\n",
       "      <td>0.042298</td>\n",
       "      <td>1,173,758</td>\n",
       "      <td>37,695,631</td>\n",
       "    </tr>\n",
       "  </tbody>\n",
       "</table>\n",
       "</div>"
      ],
      "text/plain": [
       "           date      open      high       low     close     volume   marketcap\n",
       "0  Oct 12, 2019  0.042286  0.043125  0.040426  0.040929  1,173,745  36,475,731\n",
       "1  Oct 11, 2019  0.043115  0.043170  0.040623  0.042298  1,173,758  37,695,631"
      ]
     },
     "execution_count": 20,
     "metadata": {},
     "output_type": "execute_result"
    }
   ],
   "source": [
    "dfs[0].head(2)"
   ]
  },
  {
   "cell_type": "code",
   "execution_count": 21,
   "metadata": {},
   "outputs": [
    {
     "data": {
      "text/html": [
       "<div>\n",
       "<style scoped>\n",
       "    .dataframe tbody tr th:only-of-type {\n",
       "        vertical-align: middle;\n",
       "    }\n",
       "\n",
       "    .dataframe tbody tr th {\n",
       "        vertical-align: top;\n",
       "    }\n",
       "\n",
       "    .dataframe thead th {\n",
       "        text-align: right;\n",
       "    }\n",
       "</style>\n",
       "<table border=\"1\" class=\"dataframe\">\n",
       "  <thead>\n",
       "    <tr style=\"text-align: right;\">\n",
       "      <th></th>\n",
       "      <th>date</th>\n",
       "      <th>open</th>\n",
       "      <th>high</th>\n",
       "      <th>low</th>\n",
       "      <th>close</th>\n",
       "      <th>volume</th>\n",
       "      <th>marketcap</th>\n",
       "    </tr>\n",
       "  </thead>\n",
       "  <tbody>\n",
       "    <tr>\n",
       "      <td>0</td>\n",
       "      <td>Oct 12, 2019</td>\n",
       "      <td>0.003751</td>\n",
       "      <td>0.003926</td>\n",
       "      <td>0.003681</td>\n",
       "      <td>0.003702</td>\n",
       "      <td>105,130</td>\n",
       "      <td>36,449,827</td>\n",
       "    </tr>\n",
       "    <tr>\n",
       "      <td>1</td>\n",
       "      <td>Oct 11, 2019</td>\n",
       "      <td>0.003880</td>\n",
       "      <td>0.003882</td>\n",
       "      <td>0.003702</td>\n",
       "      <td>0.003751</td>\n",
       "      <td>235,612</td>\n",
       "      <td>36,931,201</td>\n",
       "    </tr>\n",
       "    <tr>\n",
       "      <td>2</td>\n",
       "      <td>Oct 10, 2019</td>\n",
       "      <td>0.003741</td>\n",
       "      <td>0.003883</td>\n",
       "      <td>0.003695</td>\n",
       "      <td>0.003878</td>\n",
       "      <td>207,092</td>\n",
       "      <td>38,176,451</td>\n",
       "    </tr>\n",
       "    <tr>\n",
       "      <td>3</td>\n",
       "      <td>Oct 09, 2019</td>\n",
       "      <td>0.003907</td>\n",
       "      <td>0.003927</td>\n",
       "      <td>0.003739</td>\n",
       "      <td>0.003741</td>\n",
       "      <td>203,093</td>\n",
       "      <td>36,819,367</td>\n",
       "    </tr>\n",
       "    <tr>\n",
       "      <td>4</td>\n",
       "      <td>Oct 08, 2019</td>\n",
       "      <td>0.004006</td>\n",
       "      <td>0.004174</td>\n",
       "      <td>0.003861</td>\n",
       "      <td>0.003907</td>\n",
       "      <td>110,105</td>\n",
       "      <td>38,449,733</td>\n",
       "    </tr>\n",
       "    <tr>\n",
       "      <td>...</td>\n",
       "      <td>...</td>\n",
       "      <td>...</td>\n",
       "      <td>...</td>\n",
       "      <td>...</td>\n",
       "      <td>...</td>\n",
       "      <td>...</td>\n",
       "      <td>...</td>\n",
       "    </tr>\n",
       "    <tr>\n",
       "      <td>361</td>\n",
       "      <td>Oct 16, 2018</td>\n",
       "      <td>0.022829</td>\n",
       "      <td>0.023191</td>\n",
       "      <td>0.022188</td>\n",
       "      <td>0.022341</td>\n",
       "      <td>922,106</td>\n",
       "      <td>181,623,700</td>\n",
       "    </tr>\n",
       "    <tr>\n",
       "      <td>362</td>\n",
       "      <td>Oct 15, 2018</td>\n",
       "      <td>0.021868</td>\n",
       "      <td>0.024322</td>\n",
       "      <td>0.021484</td>\n",
       "      <td>0.022873</td>\n",
       "      <td>1,517,050</td>\n",
       "      <td>185,777,802</td>\n",
       "    </tr>\n",
       "    <tr>\n",
       "      <td>363</td>\n",
       "      <td>Oct 14, 2018</td>\n",
       "      <td>0.021595</td>\n",
       "      <td>0.022196</td>\n",
       "      <td>0.021441</td>\n",
       "      <td>0.021846</td>\n",
       "      <td>672,381</td>\n",
       "      <td>177,296,968</td>\n",
       "    </tr>\n",
       "    <tr>\n",
       "      <td>364</td>\n",
       "      <td>Oct 13, 2018</td>\n",
       "      <td>0.021407</td>\n",
       "      <td>0.022191</td>\n",
       "      <td>0.021204</td>\n",
       "      <td>0.021735</td>\n",
       "      <td>992,835</td>\n",
       "      <td>176,239,612</td>\n",
       "    </tr>\n",
       "    <tr>\n",
       "      <td>365</td>\n",
       "      <td>Oct 12, 2018</td>\n",
       "      <td>0.021394</td>\n",
       "      <td>0.022037</td>\n",
       "      <td>0.020967</td>\n",
       "      <td>0.021487</td>\n",
       "      <td>1,210,850</td>\n",
       "      <td>174,071,738</td>\n",
       "    </tr>\n",
       "  </tbody>\n",
       "</table>\n",
       "<p>366 rows × 7 columns</p>\n",
       "</div>"
      ],
      "text/plain": [
       "             date      open      high       low     close     volume  \\\n",
       "0    Oct 12, 2019  0.003751  0.003926  0.003681  0.003702    105,130   \n",
       "1    Oct 11, 2019  0.003880  0.003882  0.003702  0.003751    235,612   \n",
       "2    Oct 10, 2019  0.003741  0.003883  0.003695  0.003878    207,092   \n",
       "3    Oct 09, 2019  0.003907  0.003927  0.003739  0.003741    203,093   \n",
       "4    Oct 08, 2019  0.004006  0.004174  0.003861  0.003907    110,105   \n",
       "..            ...       ...       ...       ...       ...        ...   \n",
       "361  Oct 16, 2018  0.022829  0.023191  0.022188  0.022341    922,106   \n",
       "362  Oct 15, 2018  0.021868  0.024322  0.021484  0.022873  1,517,050   \n",
       "363  Oct 14, 2018  0.021595  0.022196  0.021441  0.021846    672,381   \n",
       "364  Oct 13, 2018  0.021407  0.022191  0.021204  0.021735    992,835   \n",
       "365  Oct 12, 2018  0.021394  0.022037  0.020967  0.021487  1,210,850   \n",
       "\n",
       "       marketcap  \n",
       "0     36,449,827  \n",
       "1     36,931,201  \n",
       "2     38,176,451  \n",
       "3     36,819,367  \n",
       "4     38,449,733  \n",
       "..           ...  \n",
       "361  181,623,700  \n",
       "362  185,777,802  \n",
       "363  177,296,968  \n",
       "364  176,239,612  \n",
       "365  174,071,738  \n",
       "\n",
       "[366 rows x 7 columns]"
      ]
     },
     "execution_count": 21,
     "metadata": {},
     "output_type": "execute_result"
    }
   ],
   "source": [
    "dfs[50]"
   ]
  },
  {
   "cell_type": "markdown",
   "metadata": {},
   "source": [
    "Das heisst: die Liste von Filenamen *filenames*, die wir mit glob erstellt haben wird jetzt mit einem Loop in das neue DataFrame *dfs* eingelesen. "
   ]
  },
  {
   "cell_type": "markdown",
   "metadata": {},
   "source": [
    "**Schritt 3: Zu jedem Dataframe den Währungsnamen hinzufügen**"
   ]
  },
  {
   "cell_type": "markdown",
   "metadata": {},
   "source": [
    "Die einzelnen Dataframes in der Liste enthalten die Marktdaten. Doch sie enthalten selbst keine Information darüber, zu welcher Kryptowährung die Daten gehören. Wir führen zu dem Zweck in jedes Dataframe noch eine zusätzliche Spalte hinzu mit dem Namen der Währung. "
   ]
  },
  {
   "cell_type": "markdown",
   "metadata": {},
   "source": [
    "Praktisch ist zu diesem Zweck die Python-Funktion `zip()`. Sie fügt zwei separate Listen – hier: die Dataframes und die Dateinamen – wie ein Reissverschluss zusammen, so dass wir gleich durch beide aufs Mal loopen können."
   ]
  },
  {
   "cell_type": "code",
   "execution_count": 22,
   "metadata": {},
   "outputs": [],
   "source": [
    "for df, filename in zip(dfs, filenames):\n",
    "    df['currency'] = filename\n",
    "    df['currency'] = df['currency'].str.extract('/data/(.+).csv')"
   ]
  },
  {
   "cell_type": "code",
   "execution_count": 23,
   "metadata": {},
   "outputs": [
    {
     "data": {
      "text/html": [
       "<div>\n",
       "<style scoped>\n",
       "    .dataframe tbody tr th:only-of-type {\n",
       "        vertical-align: middle;\n",
       "    }\n",
       "\n",
       "    .dataframe tbody tr th {\n",
       "        vertical-align: top;\n",
       "    }\n",
       "\n",
       "    .dataframe thead th {\n",
       "        text-align: right;\n",
       "    }\n",
       "</style>\n",
       "<table border=\"1\" class=\"dataframe\">\n",
       "  <thead>\n",
       "    <tr style=\"text-align: right;\">\n",
       "      <th></th>\n",
       "      <th>date</th>\n",
       "      <th>open</th>\n",
       "      <th>high</th>\n",
       "      <th>low</th>\n",
       "      <th>close</th>\n",
       "      <th>volume</th>\n",
       "      <th>marketcap</th>\n",
       "      <th>currency</th>\n",
       "    </tr>\n",
       "  </thead>\n",
       "  <tbody>\n",
       "    <tr>\n",
       "      <td>0</td>\n",
       "      <td>Oct 12, 2019</td>\n",
       "      <td>0.042286</td>\n",
       "      <td>0.043125</td>\n",
       "      <td>0.040426</td>\n",
       "      <td>0.040929</td>\n",
       "      <td>1,173,745</td>\n",
       "      <td>36,475,731</td>\n",
       "      <td>BitCapitalVendor</td>\n",
       "    </tr>\n",
       "    <tr>\n",
       "      <td>1</td>\n",
       "      <td>Oct 11, 2019</td>\n",
       "      <td>0.043115</td>\n",
       "      <td>0.043170</td>\n",
       "      <td>0.040623</td>\n",
       "      <td>0.042298</td>\n",
       "      <td>1,173,758</td>\n",
       "      <td>37,695,631</td>\n",
       "      <td>BitCapitalVendor</td>\n",
       "    </tr>\n",
       "  </tbody>\n",
       "</table>\n",
       "</div>"
      ],
      "text/plain": [
       "           date      open      high       low     close     volume  \\\n",
       "0  Oct 12, 2019  0.042286  0.043125  0.040426  0.040929  1,173,745   \n",
       "1  Oct 11, 2019  0.043115  0.043170  0.040623  0.042298  1,173,758   \n",
       "\n",
       "    marketcap          currency  \n",
       "0  36,475,731  BitCapitalVendor  \n",
       "1  37,695,631  BitCapitalVendor  "
      ]
     },
     "execution_count": 23,
     "metadata": {},
     "output_type": "execute_result"
    }
   ],
   "source": [
    "dfs[0].head(2)"
   ]
  },
  {
   "cell_type": "markdown",
   "metadata": {},
   "source": [
    "**Schritt 4: Die DFs untereinander in ein einziges DF reihen**"
   ]
  },
  {
   "cell_type": "markdown",
   "metadata": {},
   "source": [
    "Nun fügen wir alle Dataframes zu einem einzigen, sehr langen Dataframe zusammen.\n",
    "\n",
    "Dazu benutzen wir die Funktion `pd.concat()`: https://pandas.pydata.org/pandas-docs/stable/generated/pandas.concat.html"
   ]
  },
  {
   "cell_type": "code",
   "execution_count": 24,
   "metadata": {},
   "outputs": [],
   "source": [
    "df_all = pd.concat(dfs, ignore_index=True)"
   ]
  },
  {
   "cell_type": "markdown",
   "metadata": {},
   "source": [
    "Ignore_index, damit es nicht einen wiederholenden Index gibt, sondern einen neuen kreirt."
   ]
  },
  {
   "cell_type": "markdown",
   "metadata": {},
   "source": [
    "Das resultierende DF ist nun 100x länger als die einzelnen zuvor:"
   ]
  },
  {
   "cell_type": "code",
   "execution_count": 27,
   "metadata": {},
   "outputs": [
    {
     "data": {
      "text/plain": [
       "(34567, 8)"
      ]
     },
     "execution_count": 27,
     "metadata": {},
     "output_type": "execute_result"
    }
   ],
   "source": [
    "df_all.shape"
   ]
  },
  {
   "cell_type": "code",
   "execution_count": 26,
   "metadata": {},
   "outputs": [
    {
     "data": {
      "text/html": [
       "<div>\n",
       "<style scoped>\n",
       "    .dataframe tbody tr th:only-of-type {\n",
       "        vertical-align: middle;\n",
       "    }\n",
       "\n",
       "    .dataframe tbody tr th {\n",
       "        vertical-align: top;\n",
       "    }\n",
       "\n",
       "    .dataframe thead th {\n",
       "        text-align: right;\n",
       "    }\n",
       "</style>\n",
       "<table border=\"1\" class=\"dataframe\">\n",
       "  <thead>\n",
       "    <tr style=\"text-align: right;\">\n",
       "      <th></th>\n",
       "      <th>date</th>\n",
       "      <th>open</th>\n",
       "      <th>high</th>\n",
       "      <th>low</th>\n",
       "      <th>close</th>\n",
       "      <th>volume</th>\n",
       "      <th>marketcap</th>\n",
       "      <th>currency</th>\n",
       "    </tr>\n",
       "  </thead>\n",
       "  <tbody>\n",
       "    <tr>\n",
       "      <td>0</td>\n",
       "      <td>Oct 12, 2019</td>\n",
       "      <td>0.042286</td>\n",
       "      <td>0.043125</td>\n",
       "      <td>0.040426</td>\n",
       "      <td>0.040929</td>\n",
       "      <td>1,173,745</td>\n",
       "      <td>36,475,731</td>\n",
       "      <td>BitCapitalVendor</td>\n",
       "    </tr>\n",
       "    <tr>\n",
       "      <td>1</td>\n",
       "      <td>Oct 11, 2019</td>\n",
       "      <td>0.043115</td>\n",
       "      <td>0.043170</td>\n",
       "      <td>0.040623</td>\n",
       "      <td>0.042298</td>\n",
       "      <td>1,173,758</td>\n",
       "      <td>37,695,631</td>\n",
       "      <td>BitCapitalVendor</td>\n",
       "    </tr>\n",
       "  </tbody>\n",
       "</table>\n",
       "</div>"
      ],
      "text/plain": [
       "           date      open      high       low     close     volume  \\\n",
       "0  Oct 12, 2019  0.042286  0.043125  0.040426  0.040929  1,173,745   \n",
       "1  Oct 11, 2019  0.043115  0.043170  0.040623  0.042298  1,173,758   \n",
       "\n",
       "    marketcap          currency  \n",
       "0  36,475,731  BitCapitalVendor  \n",
       "1  37,695,631  BitCapitalVendor  "
      ]
     },
     "execution_count": 26,
     "metadata": {},
     "output_type": "execute_result"
    }
   ],
   "source": [
    "df_all.head(2)"
   ]
  },
  {
   "cell_type": "code",
   "execution_count": 28,
   "metadata": {},
   "outputs": [
    {
     "data": {
      "text/html": [
       "<div>\n",
       "<style scoped>\n",
       "    .dataframe tbody tr th:only-of-type {\n",
       "        vertical-align: middle;\n",
       "    }\n",
       "\n",
       "    .dataframe tbody tr th {\n",
       "        vertical-align: top;\n",
       "    }\n",
       "\n",
       "    .dataframe thead th {\n",
       "        text-align: right;\n",
       "    }\n",
       "</style>\n",
       "<table border=\"1\" class=\"dataframe\">\n",
       "  <thead>\n",
       "    <tr style=\"text-align: right;\">\n",
       "      <th></th>\n",
       "      <th>date</th>\n",
       "      <th>open</th>\n",
       "      <th>high</th>\n",
       "      <th>low</th>\n",
       "      <th>close</th>\n",
       "      <th>volume</th>\n",
       "      <th>marketcap</th>\n",
       "      <th>currency</th>\n",
       "    </tr>\n",
       "  </thead>\n",
       "  <tbody>\n",
       "    <tr>\n",
       "      <td>34565</td>\n",
       "      <td>Oct 13, 2018</td>\n",
       "      <td>0.174794</td>\n",
       "      <td>0.177004</td>\n",
       "      <td>0.173345</td>\n",
       "      <td>0.176677</td>\n",
       "      <td>3,610,690</td>\n",
       "      <td>177,118,564</td>\n",
       "      <td>Bytom</td>\n",
       "    </tr>\n",
       "    <tr>\n",
       "      <td>34566</td>\n",
       "      <td>Oct 12, 2018</td>\n",
       "      <td>0.167734</td>\n",
       "      <td>0.177526</td>\n",
       "      <td>0.165599</td>\n",
       "      <td>0.174445</td>\n",
       "      <td>19,126,300</td>\n",
       "      <td>174,880,986</td>\n",
       "      <td>Bytom</td>\n",
       "    </tr>\n",
       "  </tbody>\n",
       "</table>\n",
       "</div>"
      ],
      "text/plain": [
       "               date      open      high       low     close      volume  \\\n",
       "34565  Oct 13, 2018  0.174794  0.177004  0.173345  0.176677   3,610,690   \n",
       "34566  Oct 12, 2018  0.167734  0.177526  0.165599  0.174445  19,126,300   \n",
       "\n",
       "         marketcap currency  \n",
       "34565  177,118,564    Bytom  \n",
       "34566  174,880,986    Bytom  "
      ]
     },
     "execution_count": 28,
     "metadata": {},
     "output_type": "execute_result"
    }
   ],
   "source": [
    "df_all.tail(2)"
   ]
  },
  {
   "cell_type": "code",
   "execution_count": 29,
   "metadata": {},
   "outputs": [
    {
     "data": {
      "text/plain": [
       "date          object\n",
       "open         float64\n",
       "high         float64\n",
       "low          float64\n",
       "close        float64\n",
       "volume        object\n",
       "marketcap     object\n",
       "currency      object\n",
       "dtype: object"
      ]
     },
     "execution_count": 29,
     "metadata": {},
     "output_type": "execute_result"
    }
   ],
   "source": [
    "df_all.dtypes"
   ]
  },
  {
   "cell_type": "markdown",
   "metadata": {},
   "source": [
    "Wir haben nun ein ellenlanges Dataframe. Genannt *long format*. Können wir daraus ein *wide format* machen? Doch wie?"
   ]
  },
  {
   "cell_type": "markdown",
   "metadata": {},
   "source": [
    "### Daten arrangieren"
   ]
  },
  {
   "cell_type": "markdown",
   "metadata": {},
   "source": [
    "Das hängt davon ab, was wir mit den Daten genau tun wollen.\n",
    "\n",
    "Eine Option wäre: die verschiedenen Währungen miteinander zu vergleichen. Und zwar anhand der Schlusskurse. Und dazu erstellen wir ein neues Dataframe *df_pivoted*\n",
    "\n",
    "Dazu müssen wir das Dataframe leicht umstellen, mit `pivot()`: https://pandas.pydata.org/pandas-docs/stable/generated/pandas.DataFrame.pivot.html\n",
    "\n",
    "Wir müssen uns dafür für einen Wert entscheiden, in diesem Fall den Schlusskurs jedes Tages *close*."
   ]
  },
  {
   "cell_type": "code",
   "execution_count": 36,
   "metadata": {},
   "outputs": [],
   "source": [
    "df_pivoted = df_all.pivot(index='date', columns='currency', values='close')"
   ]
  },
  {
   "cell_type": "markdown",
   "metadata": {},
   "source": [
    "Mit `pivot()` haben wir folgendes gemacht:\n",
    "- Statt im \"Long\"-Format sind die Daten nun im \"Wide\"-Format\n",
    "- Das heisst in diesem Fall: Wir haben es anhand der Währungen rearrangiert (`columns='currency'`)\n",
    "- Die Währungen stehen jetzt nicht mehr *untereinander*, sondern *nebeneinander*\n",
    "- Die Info, die wir für jede Währung ausgewählt haben, ist der Schlusskurs `values='Close'`)\n",
    "- Das DF ist jetzt wieder nur noch 366 Zeilen lang.\n",
    "- Index jeder Zeile ist ein Datum (`index='date'`)"
   ]
  },
  {
   "cell_type": "code",
   "execution_count": 37,
   "metadata": {},
   "outputs": [
    {
     "data": {
      "text/plain": [
       "(366, 100)"
      ]
     },
     "execution_count": 37,
     "metadata": {},
     "output_type": "execute_result"
    }
   ],
   "source": [
    "df_pivoted.shape"
   ]
  },
  {
   "cell_type": "markdown",
   "metadata": {},
   "source": [
    "Nun verfügen wir über einen Index, bei dem eine Zeile jeweils einem einzigartigen Zeitpunkt entspricht.\n",
    "\n",
    "Wir verschönern die Indexspalte noch etwas:"
   ]
  },
  {
   "cell_type": "code",
   "execution_count": 38,
   "metadata": {},
   "outputs": [],
   "source": [
    "df_pivoted.rename_axis(None, inplace=True)"
   ]
  },
  {
   "cell_type": "code",
   "execution_count": 39,
   "metadata": {
    "scrolled": true
   },
   "outputs": [
    {
     "data": {
      "text/html": [
       "<div>\n",
       "<style scoped>\n",
       "    .dataframe tbody tr th:only-of-type {\n",
       "        vertical-align: middle;\n",
       "    }\n",
       "\n",
       "    .dataframe tbody tr th {\n",
       "        vertical-align: top;\n",
       "    }\n",
       "\n",
       "    .dataframe thead th {\n",
       "        text-align: right;\n",
       "    }\n",
       "</style>\n",
       "<table border=\"1\" class=\"dataframe\">\n",
       "  <thead>\n",
       "    <tr style=\"text-align: right;\">\n",
       "      <th>currency</th>\n",
       "      <th>0x</th>\n",
       "      <th>ABBC Coin</th>\n",
       "      <th>Aeternity</th>\n",
       "      <th>Algorand</th>\n",
       "      <th>Ardor</th>\n",
       "      <th>Augur</th>\n",
       "      <th>Aurora</th>\n",
       "      <th>Basic Attenti...</th>\n",
       "      <th>Binance Coin</th>\n",
       "      <th>BitCapitalVendor</th>\n",
       "      <th>...</th>\n",
       "      <th>VeChain</th>\n",
       "      <th>Verge</th>\n",
       "      <th>Waves</th>\n",
       "      <th>XMax</th>\n",
       "      <th>XRP</th>\n",
       "      <th>ZB</th>\n",
       "      <th>Zcash</th>\n",
       "      <th>Zcoin</th>\n",
       "      <th>Zilliqa</th>\n",
       "      <th>aelf</th>\n",
       "    </tr>\n",
       "  </thead>\n",
       "  <tbody>\n",
       "    <tr>\n",
       "      <td>Apr 01, 2019</td>\n",
       "      <td>0.333060</td>\n",
       "      <td>0.174615</td>\n",
       "      <td>0.535463</td>\n",
       "      <td>NaN</td>\n",
       "      <td>0.082073</td>\n",
       "      <td>15.81</td>\n",
       "      <td>0.013118</td>\n",
       "      <td>0.284441</td>\n",
       "      <td>17.95</td>\n",
       "      <td>0.020534</td>\n",
       "      <td>...</td>\n",
       "      <td>0.006285</td>\n",
       "      <td>0.007409</td>\n",
       "      <td>2.89</td>\n",
       "      <td>0.000213</td>\n",
       "      <td>0.312747</td>\n",
       "      <td>0.356519</td>\n",
       "      <td>62.42</td>\n",
       "      <td>7.80</td>\n",
       "      <td>0.020646</td>\n",
       "      <td>0.186018</td>\n",
       "    </tr>\n",
       "    <tr>\n",
       "      <td>Apr 02, 2019</td>\n",
       "      <td>0.376557</td>\n",
       "      <td>0.187213</td>\n",
       "      <td>0.588288</td>\n",
       "      <td>NaN</td>\n",
       "      <td>0.087155</td>\n",
       "      <td>17.62</td>\n",
       "      <td>0.014222</td>\n",
       "      <td>0.321107</td>\n",
       "      <td>19.79</td>\n",
       "      <td>0.020990</td>\n",
       "      <td>...</td>\n",
       "      <td>0.007243</td>\n",
       "      <td>0.008337</td>\n",
       "      <td>3.09</td>\n",
       "      <td>0.000262</td>\n",
       "      <td>0.351499</td>\n",
       "      <td>0.340334</td>\n",
       "      <td>69.94</td>\n",
       "      <td>8.27</td>\n",
       "      <td>0.022510</td>\n",
       "      <td>0.197836</td>\n",
       "    </tr>\n",
       "    <tr>\n",
       "      <td>Apr 03, 2019</td>\n",
       "      <td>0.354311</td>\n",
       "      <td>0.199514</td>\n",
       "      <td>0.618482</td>\n",
       "      <td>NaN</td>\n",
       "      <td>0.087190</td>\n",
       "      <td>19.88</td>\n",
       "      <td>0.013433</td>\n",
       "      <td>0.286875</td>\n",
       "      <td>18.75</td>\n",
       "      <td>0.019601</td>\n",
       "      <td>...</td>\n",
       "      <td>0.007324</td>\n",
       "      <td>0.008540</td>\n",
       "      <td>2.89</td>\n",
       "      <td>0.000246</td>\n",
       "      <td>0.342234</td>\n",
       "      <td>0.339856</td>\n",
       "      <td>69.03</td>\n",
       "      <td>8.37</td>\n",
       "      <td>0.022189</td>\n",
       "      <td>0.197425</td>\n",
       "    </tr>\n",
       "    <tr>\n",
       "      <td>Apr 04, 2019</td>\n",
       "      <td>0.336743</td>\n",
       "      <td>0.188270</td>\n",
       "      <td>0.619473</td>\n",
       "      <td>NaN</td>\n",
       "      <td>0.086993</td>\n",
       "      <td>19.31</td>\n",
       "      <td>0.012403</td>\n",
       "      <td>0.284135</td>\n",
       "      <td>19.14</td>\n",
       "      <td>0.019670</td>\n",
       "      <td>...</td>\n",
       "      <td>0.007242</td>\n",
       "      <td>0.008634</td>\n",
       "      <td>2.80</td>\n",
       "      <td>0.000242</td>\n",
       "      <td>0.332513</td>\n",
       "      <td>0.329379</td>\n",
       "      <td>67.29</td>\n",
       "      <td>8.40</td>\n",
       "      <td>0.022738</td>\n",
       "      <td>0.224177</td>\n",
       "    </tr>\n",
       "    <tr>\n",
       "      <td>Apr 05, 2019</td>\n",
       "      <td>0.358358</td>\n",
       "      <td>0.184969</td>\n",
       "      <td>0.642781</td>\n",
       "      <td>NaN</td>\n",
       "      <td>0.088702</td>\n",
       "      <td>19.69</td>\n",
       "      <td>0.018812</td>\n",
       "      <td>0.308017</td>\n",
       "      <td>19.45</td>\n",
       "      <td>0.023826</td>\n",
       "      <td>...</td>\n",
       "      <td>0.007517</td>\n",
       "      <td>0.008997</td>\n",
       "      <td>2.90</td>\n",
       "      <td>0.000263</td>\n",
       "      <td>0.361803</td>\n",
       "      <td>0.337334</td>\n",
       "      <td>72.11</td>\n",
       "      <td>8.74</td>\n",
       "      <td>0.024953</td>\n",
       "      <td>0.225978</td>\n",
       "    </tr>\n",
       "    <tr>\n",
       "      <td>Apr 06, 2019</td>\n",
       "      <td>0.353617</td>\n",
       "      <td>0.178657</td>\n",
       "      <td>0.663468</td>\n",
       "      <td>NaN</td>\n",
       "      <td>0.088834</td>\n",
       "      <td>21.32</td>\n",
       "      <td>0.018555</td>\n",
       "      <td>0.303207</td>\n",
       "      <td>19.12</td>\n",
       "      <td>0.026855</td>\n",
       "      <td>...</td>\n",
       "      <td>0.007573</td>\n",
       "      <td>0.008899</td>\n",
       "      <td>2.99</td>\n",
       "      <td>0.000326</td>\n",
       "      <td>0.354405</td>\n",
       "      <td>0.331772</td>\n",
       "      <td>71.27</td>\n",
       "      <td>8.58</td>\n",
       "      <td>0.025119</td>\n",
       "      <td>0.222752</td>\n",
       "    </tr>\n",
       "    <tr>\n",
       "      <td>Apr 07, 2019</td>\n",
       "      <td>0.356219</td>\n",
       "      <td>0.184409</td>\n",
       "      <td>0.675090</td>\n",
       "      <td>NaN</td>\n",
       "      <td>0.090667</td>\n",
       "      <td>22.23</td>\n",
       "      <td>0.015822</td>\n",
       "      <td>0.300154</td>\n",
       "      <td>19.11</td>\n",
       "      <td>0.029292</td>\n",
       "      <td>...</td>\n",
       "      <td>0.007640</td>\n",
       "      <td>0.009603</td>\n",
       "      <td>2.97</td>\n",
       "      <td>0.000550</td>\n",
       "      <td>0.359856</td>\n",
       "      <td>0.320947</td>\n",
       "      <td>74.50</td>\n",
       "      <td>8.98</td>\n",
       "      <td>0.024847</td>\n",
       "      <td>0.223350</td>\n",
       "    </tr>\n",
       "    <tr>\n",
       "      <td>Apr 08, 2019</td>\n",
       "      <td>0.349616</td>\n",
       "      <td>0.188483</td>\n",
       "      <td>0.637086</td>\n",
       "      <td>NaN</td>\n",
       "      <td>0.089056</td>\n",
       "      <td>22.33</td>\n",
       "      <td>0.015472</td>\n",
       "      <td>0.295371</td>\n",
       "      <td>18.11</td>\n",
       "      <td>0.024593</td>\n",
       "      <td>...</td>\n",
       "      <td>0.007472</td>\n",
       "      <td>0.010828</td>\n",
       "      <td>2.89</td>\n",
       "      <td>0.000454</td>\n",
       "      <td>0.358234</td>\n",
       "      <td>0.337999</td>\n",
       "      <td>72.78</td>\n",
       "      <td>8.79</td>\n",
       "      <td>0.024042</td>\n",
       "      <td>0.213379</td>\n",
       "    </tr>\n",
       "    <tr>\n",
       "      <td>Apr 09, 2019</td>\n",
       "      <td>0.358662</td>\n",
       "      <td>0.339912</td>\n",
       "      <td>0.614607</td>\n",
       "      <td>NaN</td>\n",
       "      <td>0.085550</td>\n",
       "      <td>20.62</td>\n",
       "      <td>0.017648</td>\n",
       "      <td>0.290387</td>\n",
       "      <td>18.44</td>\n",
       "      <td>0.024197</td>\n",
       "      <td>...</td>\n",
       "      <td>0.007174</td>\n",
       "      <td>0.009875</td>\n",
       "      <td>2.82</td>\n",
       "      <td>0.000415</td>\n",
       "      <td>0.349462</td>\n",
       "      <td>0.319633</td>\n",
       "      <td>70.86</td>\n",
       "      <td>8.45</td>\n",
       "      <td>0.022668</td>\n",
       "      <td>0.203298</td>\n",
       "    </tr>\n",
       "    <tr>\n",
       "      <td>Apr 10, 2019</td>\n",
       "      <td>0.351244</td>\n",
       "      <td>0.280935</td>\n",
       "      <td>0.632388</td>\n",
       "      <td>NaN</td>\n",
       "      <td>0.085365</td>\n",
       "      <td>19.96</td>\n",
       "      <td>0.016502</td>\n",
       "      <td>0.293985</td>\n",
       "      <td>18.25</td>\n",
       "      <td>0.024724</td>\n",
       "      <td>...</td>\n",
       "      <td>0.007143</td>\n",
       "      <td>0.010087</td>\n",
       "      <td>2.79</td>\n",
       "      <td>0.000486</td>\n",
       "      <td>0.354792</td>\n",
       "      <td>0.317853</td>\n",
       "      <td>71.89</td>\n",
       "      <td>8.42</td>\n",
       "      <td>0.022806</td>\n",
       "      <td>0.199576</td>\n",
       "    </tr>\n",
       "  </tbody>\n",
       "</table>\n",
       "<p>10 rows × 100 columns</p>\n",
       "</div>"
      ],
      "text/plain": [
       "currency            0x  ABBC Coin  Aeternity  Algorand     Ardor  Augur  \\\n",
       "Apr 01, 2019  0.333060   0.174615   0.535463       NaN  0.082073  15.81   \n",
       "Apr 02, 2019  0.376557   0.187213   0.588288       NaN  0.087155  17.62   \n",
       "Apr 03, 2019  0.354311   0.199514   0.618482       NaN  0.087190  19.88   \n",
       "Apr 04, 2019  0.336743   0.188270   0.619473       NaN  0.086993  19.31   \n",
       "Apr 05, 2019  0.358358   0.184969   0.642781       NaN  0.088702  19.69   \n",
       "Apr 06, 2019  0.353617   0.178657   0.663468       NaN  0.088834  21.32   \n",
       "Apr 07, 2019  0.356219   0.184409   0.675090       NaN  0.090667  22.23   \n",
       "Apr 08, 2019  0.349616   0.188483   0.637086       NaN  0.089056  22.33   \n",
       "Apr 09, 2019  0.358662   0.339912   0.614607       NaN  0.085550  20.62   \n",
       "Apr 10, 2019  0.351244   0.280935   0.632388       NaN  0.085365  19.96   \n",
       "\n",
       "currency        Aurora  Basic Attenti...  Binance Coin  BitCapitalVendor  ...  \\\n",
       "Apr 01, 2019  0.013118          0.284441         17.95          0.020534  ...   \n",
       "Apr 02, 2019  0.014222          0.321107         19.79          0.020990  ...   \n",
       "Apr 03, 2019  0.013433          0.286875         18.75          0.019601  ...   \n",
       "Apr 04, 2019  0.012403          0.284135         19.14          0.019670  ...   \n",
       "Apr 05, 2019  0.018812          0.308017         19.45          0.023826  ...   \n",
       "Apr 06, 2019  0.018555          0.303207         19.12          0.026855  ...   \n",
       "Apr 07, 2019  0.015822          0.300154         19.11          0.029292  ...   \n",
       "Apr 08, 2019  0.015472          0.295371         18.11          0.024593  ...   \n",
       "Apr 09, 2019  0.017648          0.290387         18.44          0.024197  ...   \n",
       "Apr 10, 2019  0.016502          0.293985         18.25          0.024724  ...   \n",
       "\n",
       "currency       VeChain     Verge  Waves      XMax       XRP        ZB  Zcash  \\\n",
       "Apr 01, 2019  0.006285  0.007409   2.89  0.000213  0.312747  0.356519  62.42   \n",
       "Apr 02, 2019  0.007243  0.008337   3.09  0.000262  0.351499  0.340334  69.94   \n",
       "Apr 03, 2019  0.007324  0.008540   2.89  0.000246  0.342234  0.339856  69.03   \n",
       "Apr 04, 2019  0.007242  0.008634   2.80  0.000242  0.332513  0.329379  67.29   \n",
       "Apr 05, 2019  0.007517  0.008997   2.90  0.000263  0.361803  0.337334  72.11   \n",
       "Apr 06, 2019  0.007573  0.008899   2.99  0.000326  0.354405  0.331772  71.27   \n",
       "Apr 07, 2019  0.007640  0.009603   2.97  0.000550  0.359856  0.320947  74.50   \n",
       "Apr 08, 2019  0.007472  0.010828   2.89  0.000454  0.358234  0.337999  72.78   \n",
       "Apr 09, 2019  0.007174  0.009875   2.82  0.000415  0.349462  0.319633  70.86   \n",
       "Apr 10, 2019  0.007143  0.010087   2.79  0.000486  0.354792  0.317853  71.89   \n",
       "\n",
       "currency      Zcoin   Zilliqa      aelf  \n",
       "Apr 01, 2019   7.80  0.020646  0.186018  \n",
       "Apr 02, 2019   8.27  0.022510  0.197836  \n",
       "Apr 03, 2019   8.37  0.022189  0.197425  \n",
       "Apr 04, 2019   8.40  0.022738  0.224177  \n",
       "Apr 05, 2019   8.74  0.024953  0.225978  \n",
       "Apr 06, 2019   8.58  0.025119  0.222752  \n",
       "Apr 07, 2019   8.98  0.024847  0.223350  \n",
       "Apr 08, 2019   8.79  0.024042  0.213379  \n",
       "Apr 09, 2019   8.45  0.022668  0.203298  \n",
       "Apr 10, 2019   8.42  0.022806  0.199576  \n",
       "\n",
       "[10 rows x 100 columns]"
      ]
     },
     "execution_count": 39,
     "metadata": {},
     "output_type": "execute_result"
    }
   ],
   "source": [
    "df_pivoted.head(10)"
   ]
  },
  {
   "cell_type": "markdown",
   "metadata": {
    "collapsed": true
   },
   "source": [
    "Wir haben nun ein sauber formatiertes Dataframe mit hundert Spalten, die für jede Kryptowährung, sofern sie zum betreffenden Zeitpunkt existierte, einen Handelskurs enthält.\n",
    "\n",
    "**Grossartig! Wir sind damit bereit für die Datenanalyse. Ab hier sind Sie an der Reihe...**"
   ]
  },
  {
   "cell_type": "markdown",
   "metadata": {},
   "source": [
    "## Analyse"
   ]
  },
  {
   "cell_type": "markdown",
   "metadata": {},
   "source": [
    "### Vorbereitung"
   ]
  },
  {
   "cell_type": "markdown",
   "metadata": {},
   "source": [
    "Remember: Mit welchem Typ von Daten haben wir es hier zu tun...?\n",
    "\n",
    "... genau: mit einer Zeitreihe.\n",
    "\n",
    "Um damit zu arbeiten, müssen wir den Text in der Indexspalte in ein echtes Datum umwandeln."
   ]
  },
  {
   "cell_type": "code",
   "execution_count": 48,
   "metadata": {},
   "outputs": [
    {
     "ename": "ValueError",
     "evalue": "to assemble mappings requires at least that [year, month, day] be specified: [day,month,year] is missing",
     "output_type": "error",
     "traceback": [
      "\u001b[0;31m---------------------------------------------------------------------------\u001b[0m",
      "\u001b[0;31mValueError\u001b[0m                                Traceback (most recent call last)",
      "\u001b[0;32m<ipython-input-48-f83444524711>\u001b[0m in \u001b[0;36m<module>\u001b[0;34m\u001b[0m\n\u001b[0;32m----> 1\u001b[0;31m \u001b[0mdf_close\u001b[0m\u001b[0;34m[\u001b[0m\u001b[0;34m'Datum'\u001b[0m\u001b[0;34m]\u001b[0m \u001b[0;34m=\u001b[0m \u001b[0mpd\u001b[0m\u001b[0;34m.\u001b[0m\u001b[0mto_datetime\u001b[0m\u001b[0;34m(\u001b[0m\u001b[0mdf_pivoted\u001b[0m\u001b[0;34m,\u001b[0m \u001b[0mformat\u001b[0m \u001b[0;34m=\u001b[0m \u001b[0;34m'%b %d,%Y'\u001b[0m\u001b[0;34m)\u001b[0m\u001b[0;34m\u001b[0m\u001b[0;34m\u001b[0m\u001b[0m\n\u001b[0m",
      "\u001b[0;32m/anaconda3/lib/python3.7/site-packages/pandas/util/_decorators.py\u001b[0m in \u001b[0;36mwrapper\u001b[0;34m(*args, **kwargs)\u001b[0m\n\u001b[1;32m    206\u001b[0m                 \u001b[0;32melse\u001b[0m\u001b[0;34m:\u001b[0m\u001b[0;34m\u001b[0m\u001b[0;34m\u001b[0m\u001b[0m\n\u001b[1;32m    207\u001b[0m                     \u001b[0mkwargs\u001b[0m\u001b[0;34m[\u001b[0m\u001b[0mnew_arg_name\u001b[0m\u001b[0;34m]\u001b[0m \u001b[0;34m=\u001b[0m \u001b[0mnew_arg_value\u001b[0m\u001b[0;34m\u001b[0m\u001b[0;34m\u001b[0m\u001b[0m\n\u001b[0;32m--> 208\u001b[0;31m             \u001b[0;32mreturn\u001b[0m \u001b[0mfunc\u001b[0m\u001b[0;34m(\u001b[0m\u001b[0;34m*\u001b[0m\u001b[0margs\u001b[0m\u001b[0;34m,\u001b[0m \u001b[0;34m**\u001b[0m\u001b[0mkwargs\u001b[0m\u001b[0;34m)\u001b[0m\u001b[0;34m\u001b[0m\u001b[0;34m\u001b[0m\u001b[0m\n\u001b[0m\u001b[1;32m    209\u001b[0m \u001b[0;34m\u001b[0m\u001b[0m\n\u001b[1;32m    210\u001b[0m         \u001b[0;32mreturn\u001b[0m \u001b[0mwrapper\u001b[0m\u001b[0;34m\u001b[0m\u001b[0;34m\u001b[0m\u001b[0m\n",
      "\u001b[0;32m/anaconda3/lib/python3.7/site-packages/pandas/core/tools/datetimes.py\u001b[0m in \u001b[0;36mto_datetime\u001b[0;34m(arg, errors, dayfirst, yearfirst, utc, box, format, exact, unit, infer_datetime_format, origin, cache)\u001b[0m\n\u001b[1;32m    779\u001b[0m             \u001b[0mresult\u001b[0m \u001b[0;34m=\u001b[0m \u001b[0marg\u001b[0m\u001b[0;34m.\u001b[0m\u001b[0m_constructor\u001b[0m\u001b[0;34m(\u001b[0m\u001b[0mvalues\u001b[0m\u001b[0;34m,\u001b[0m \u001b[0mindex\u001b[0m\u001b[0;34m=\u001b[0m\u001b[0marg\u001b[0m\u001b[0;34m.\u001b[0m\u001b[0mindex\u001b[0m\u001b[0;34m,\u001b[0m \u001b[0mname\u001b[0m\u001b[0;34m=\u001b[0m\u001b[0marg\u001b[0m\u001b[0;34m.\u001b[0m\u001b[0mname\u001b[0m\u001b[0;34m)\u001b[0m\u001b[0;34m\u001b[0m\u001b[0;34m\u001b[0m\u001b[0m\n\u001b[1;32m    780\u001b[0m     \u001b[0;32melif\u001b[0m \u001b[0misinstance\u001b[0m\u001b[0;34m(\u001b[0m\u001b[0marg\u001b[0m\u001b[0;34m,\u001b[0m \u001b[0;34m(\u001b[0m\u001b[0mABCDataFrame\u001b[0m\u001b[0;34m,\u001b[0m \u001b[0mabc\u001b[0m\u001b[0;34m.\u001b[0m\u001b[0mMutableMapping\u001b[0m\u001b[0;34m)\u001b[0m\u001b[0;34m)\u001b[0m\u001b[0;34m:\u001b[0m\u001b[0;34m\u001b[0m\u001b[0;34m\u001b[0m\u001b[0m\n\u001b[0;32m--> 781\u001b[0;31m         \u001b[0mresult\u001b[0m \u001b[0;34m=\u001b[0m \u001b[0m_assemble_from_unit_mappings\u001b[0m\u001b[0;34m(\u001b[0m\u001b[0marg\u001b[0m\u001b[0;34m,\u001b[0m \u001b[0merrors\u001b[0m\u001b[0;34m,\u001b[0m \u001b[0mbox\u001b[0m\u001b[0;34m,\u001b[0m \u001b[0mtz\u001b[0m\u001b[0;34m)\u001b[0m\u001b[0;34m\u001b[0m\u001b[0;34m\u001b[0m\u001b[0m\n\u001b[0m\u001b[1;32m    782\u001b[0m     \u001b[0;32melif\u001b[0m \u001b[0misinstance\u001b[0m\u001b[0;34m(\u001b[0m\u001b[0marg\u001b[0m\u001b[0;34m,\u001b[0m \u001b[0mABCIndexClass\u001b[0m\u001b[0;34m)\u001b[0m\u001b[0;34m:\u001b[0m\u001b[0;34m\u001b[0m\u001b[0;34m\u001b[0m\u001b[0m\n\u001b[1;32m    783\u001b[0m         \u001b[0mcache_array\u001b[0m \u001b[0;34m=\u001b[0m \u001b[0m_maybe_cache\u001b[0m\u001b[0;34m(\u001b[0m\u001b[0marg\u001b[0m\u001b[0;34m,\u001b[0m \u001b[0mformat\u001b[0m\u001b[0;34m,\u001b[0m \u001b[0mcache\u001b[0m\u001b[0;34m,\u001b[0m \u001b[0mconvert_listlike\u001b[0m\u001b[0;34m)\u001b[0m\u001b[0;34m\u001b[0m\u001b[0;34m\u001b[0m\u001b[0m\n",
      "\u001b[0;32m/anaconda3/lib/python3.7/site-packages/pandas/core/tools/datetimes.py\u001b[0m in \u001b[0;36m_assemble_from_unit_mappings\u001b[0;34m(arg, errors, box, tz)\u001b[0m\n\u001b[1;32m    875\u001b[0m             \u001b[0;34m\"to assemble mappings requires at least that \"\u001b[0m\u001b[0;34m\u001b[0m\u001b[0;34m\u001b[0m\u001b[0m\n\u001b[1;32m    876\u001b[0m             \u001b[0;34m\"[year, month, day] be specified: [{required}] \"\u001b[0m\u001b[0;34m\u001b[0m\u001b[0;34m\u001b[0m\u001b[0m\n\u001b[0;32m--> 877\u001b[0;31m             \u001b[0;34m\"is missing\"\u001b[0m\u001b[0;34m.\u001b[0m\u001b[0mformat\u001b[0m\u001b[0;34m(\u001b[0m\u001b[0mrequired\u001b[0m\u001b[0;34m=\u001b[0m\u001b[0;34m\",\"\u001b[0m\u001b[0;34m.\u001b[0m\u001b[0mjoin\u001b[0m\u001b[0;34m(\u001b[0m\u001b[0mreq\u001b[0m\u001b[0;34m)\u001b[0m\u001b[0;34m)\u001b[0m\u001b[0;34m\u001b[0m\u001b[0;34m\u001b[0m\u001b[0m\n\u001b[0m\u001b[1;32m    878\u001b[0m         )\n\u001b[1;32m    879\u001b[0m \u001b[0;34m\u001b[0m\u001b[0m\n",
      "\u001b[0;31mValueError\u001b[0m: to assemble mappings requires at least that [year, month, day] be specified: [day,month,year] is missing"
     ]
    }
   ],
   "source": [
    "df_close['Datum'] = pd.to_datetime(df_pivoted, format = '%b %d,%Y')"
   ]
  },
  {
   "cell_type": "markdown",
   "metadata": {},
   "source": [
    "Und wir müssen den Datums-Index aufsteigend sortieren."
   ]
  },
  {
   "cell_type": "code",
   "execution_count": null,
   "metadata": {},
   "outputs": [],
   "source": []
  },
  {
   "cell_type": "code",
   "execution_count": null,
   "metadata": {
    "scrolled": true
   },
   "outputs": [],
   "source": []
  },
  {
   "cell_type": "markdown",
   "metadata": {},
   "source": [
    "Die nächste Frage ist: Wie vergleichen wir diese Kurse? Was sagt es aus, wenn eine Währung an einem bestimmten Tag zu 0,1976 USD gehandelt wurde und eine andere zu 18,66 USD?"
   ]
  },
  {
   "cell_type": "markdown",
   "metadata": {
    "collapsed": true
   },
   "source": [
    "### Vergleichbarkeit herstellen"
   ]
  },
  {
   "cell_type": "markdown",
   "metadata": {},
   "source": [
    "Diverse Dinge würden sich hier anbieten:\n",
    "- zB `pct_change()` um die Veränderungen in den Kursen zu analysieren\n",
    "- oder eine indexierte Zeitreihe, die an einem bestimmten Tag bei 100 beginnt\n",
    "\n",
    "Wir wählen die zweite Variante. Und speichern dazu die erste Zeile separat ab."
   ]
  },
  {
   "cell_type": "code",
   "execution_count": null,
   "metadata": {},
   "outputs": [],
   "source": []
  },
  {
   "cell_type": "markdown",
   "metadata": {},
   "source": [
    "Dann teilen wir jede einzelne Zeile im Dataframe durch die erste Zeile. Und speichern als neues DF ab."
   ]
  },
  {
   "cell_type": "code",
   "execution_count": null,
   "metadata": {},
   "outputs": [],
   "source": []
  },
  {
   "cell_type": "markdown",
   "metadata": {},
   "source": [
    "Das neue Dataframe müsste nun indexiert auf 100 sein: Alle Währungen starten am gleichen Punkt.\n",
    "\n",
    "Stimmt das wirklich? Schauen Sie sich die ersten fünf Zeilen an, um sicher zu sein..."
   ]
  },
  {
   "cell_type": "code",
   "execution_count": null,
   "metadata": {},
   "outputs": [],
   "source": []
  },
  {
   "cell_type": "markdown",
   "metadata": {},
   "source": [
    "### Auswertung"
   ]
  },
  {
   "cell_type": "markdown",
   "metadata": {},
   "source": [
    "Anhand der letzten Reihe können wir ablesen, wie viel eine Währung in den 366 Tagen an Wert gewonnen oder verloren hat.\n",
    "\n",
    "Zeigen Sie die letzte Reihe an und speichern sie in einer neuen Series."
   ]
  },
  {
   "cell_type": "code",
   "execution_count": null,
   "metadata": {},
   "outputs": [],
   "source": []
  },
  {
   "cell_type": "markdown",
   "metadata": {},
   "source": [
    "Welche zehn Kryptowährungen haben am meisten Wert gewonnen?"
   ]
  },
  {
   "cell_type": "code",
   "execution_count": null,
   "metadata": {},
   "outputs": [],
   "source": []
  },
  {
   "cell_type": "markdown",
   "metadata": {},
   "source": [
    "Welche haben am meisten Wert verloren?"
   ]
  },
  {
   "cell_type": "code",
   "execution_count": null,
   "metadata": {},
   "outputs": [],
   "source": []
  },
  {
   "cell_type": "markdown",
   "metadata": {},
   "source": [
    "### Plots"
   ]
  },
  {
   "cell_type": "markdown",
   "metadata": {},
   "source": [
    "Erstellen Sie einen einfachen Linienplot mit den relativen Kursen aller Währungen (Start bei 100)."
   ]
  },
  {
   "cell_type": "code",
   "execution_count": null,
   "metadata": {},
   "outputs": [],
   "source": []
  },
  {
   "cell_type": "markdown",
   "metadata": {},
   "source": [
    "Wow, das sind ziemlich viele Linien! Beschränken wir uns mal auf zehn Kryptowährungen statt hundert.\n",
    "\n",
    "Wir finden dazu eine Liste, die wir praktischerweise von unserem Scraper noch auf die Seite gelegt haben...\n",
    "\n",
    "... sie ist gespeichert unter: `dataprojects/Krypto/currencies.csv`."
   ]
  },
  {
   "cell_type": "markdown",
   "metadata": {},
   "source": [
    "Laden Sie die Datei und zeigen Sie die ersten zehn Zeilen an."
   ]
  },
  {
   "cell_type": "code",
   "execution_count": null,
   "metadata": {},
   "outputs": [],
   "source": []
  },
  {
   "cell_type": "code",
   "execution_count": null,
   "metadata": {},
   "outputs": [],
   "source": []
  },
  {
   "cell_type": "markdown",
   "metadata": {},
   "source": [
    "Speichern Sie die ersten zehn Einträge der Spalte \"name\" separat ab."
   ]
  },
  {
   "cell_type": "code",
   "execution_count": null,
   "metadata": {},
   "outputs": [],
   "source": []
  },
  {
   "cell_type": "code",
   "execution_count": null,
   "metadata": {},
   "outputs": [],
   "source": []
  },
  {
   "cell_type": "markdown",
   "metadata": {},
   "source": [
    "Sie können die Spalten im Dataframe mit den relativen Kursen nun anhand dieser Liste filtern."
   ]
  },
  {
   "cell_type": "code",
   "execution_count": null,
   "metadata": {},
   "outputs": [],
   "source": []
  },
  {
   "cell_type": "markdown",
   "metadata": {},
   "source": [
    "Plotten Sie nun ausschliesslich die Entwicklung der zehn ausgewählten Währungen."
   ]
  },
  {
   "cell_type": "code",
   "execution_count": null,
   "metadata": {},
   "outputs": [],
   "source": []
  },
  {
   "cell_type": "markdown",
   "metadata": {},
   "source": [
    "Was fällt Ihnen auf?"
   ]
  },
  {
   "cell_type": "code",
   "execution_count": null,
   "metadata": {},
   "outputs": [],
   "source": [
    "# "
   ]
  },
  {
   "cell_type": "code",
   "execution_count": null,
   "metadata": {},
   "outputs": [],
   "source": []
  },
  {
   "cell_type": "code",
   "execution_count": null,
   "metadata": {},
   "outputs": [],
   "source": []
  },
  {
   "cell_type": "code",
   "execution_count": null,
   "metadata": {},
   "outputs": [],
   "source": []
  },
  {
   "cell_type": "code",
   "execution_count": null,
   "metadata": {},
   "outputs": [],
   "source": []
  },
  {
   "cell_type": "code",
   "execution_count": null,
   "metadata": {},
   "outputs": [],
   "source": []
  },
  {
   "cell_type": "markdown",
   "metadata": {
    "collapsed": true
   },
   "source": [
    "# Plotting Level 4"
   ]
  },
  {
   "cell_type": "markdown",
   "metadata": {},
   "source": [
    "**Hier geht es wieder gemütlicher zu und her - Sie können sich durchklicken und müssen nichts programmieren.**"
   ]
  },
  {
   "cell_type": "markdown",
   "metadata": {
    "collapsed": true
   },
   "source": [
    "Inhalt dieser Plotting-Lektion:\n",
    "\n",
    "- Wir lernen, wie \"Small Multiples\" geht\n",
    "- Wir sehen, wie man die matplotlib-Funktionen direkt benutzen kann."
   ]
  },
  {
   "cell_type": "markdown",
   "metadata": {},
   "source": [
    "Dazu importieren wir erstmal ein paar Libraries..."
   ]
  },
  {
   "cell_type": "code",
   "execution_count": null,
   "metadata": {},
   "outputs": [],
   "source": [
    "import matplotlib.pyplot as plt"
   ]
  },
  {
   "cell_type": "code",
   "execution_count": null,
   "metadata": {},
   "outputs": [],
   "source": [
    "import matplotlib.dates as mdates\n",
    "import matplotlib.ticker as ticker"
   ]
  },
  {
   "cell_type": "markdown",
   "metadata": {},
   "source": [
    "... und laden eine Datei, welche das Ergebnis der bisherigen Übung enthält (die relativen Kurse aller Währungen)."
   ]
  },
  {
   "cell_type": "code",
   "execution_count": null,
   "metadata": {},
   "outputs": [],
   "source": [
    "# df_pivoted_100.to_csv(path + 'Close_indexed_to_100.csv')"
   ]
  },
  {
   "cell_type": "code",
   "execution_count": null,
   "metadata": {},
   "outputs": [],
   "source": [
    "df_relative = pd.read_csv(path + 'Close_indexed_to_100.csv', index_col=0)\n",
    "df_relative.index = pd.to_datetime(df_relative.index)"
   ]
  },
  {
   "cell_type": "code",
   "execution_count": null,
   "metadata": {},
   "outputs": [],
   "source": []
  },
  {
   "cell_type": "markdown",
   "metadata": {},
   "source": [
    "### Ein Plot"
   ]
  },
  {
   "cell_type": "markdown",
   "metadata": {},
   "source": [
    "Starten wir zuerst mal mit einem Plots: Bitcoin.\n",
    "\n",
    "Technisch gesehen besteht jede Matplotlib-/Pandas-Grafik aus zwei Dingen:\n",
    "1. Eine \"figure\", also eine Abbildung, gewissermassen das Blatt Papier\n",
    "1. Ein \"subplot\", also der einzelne Plot selbst, pro \"Papier\" können es auch mehrere sein"
   ]
  },
  {
   "cell_type": "code",
   "execution_count": null,
   "metadata": {},
   "outputs": [],
   "source": [
    "# Wir erstellen beide Dinge in einem Atemzug: figure und subplot\n",
    "fig, ax = plt.subplots(figsize=(10,6))\n",
    "\n",
    "# Und füllen den Plot jetzt mit Inhalt:\n",
    "df_relative['Bitcoin'].plot(title=\"Bitcoin\", ax=ax)"
   ]
  },
  {
   "cell_type": "markdown",
   "metadata": {},
   "source": [
    "### Zwei Plots"
   ]
  },
  {
   "cell_type": "markdown",
   "metadata": {},
   "source": [
    "Als nächstes Plotten wir zwei Währungen auf derselben Figure: Bitcoin und Ethereum.\n",
    "\n",
    "Wir müssen uns dazu erneut zwei Dinge basteln:\n",
    "1. Eine \"figure\", also eine Abbildung\n",
    "1. Diverse \"subplots\" für die jeweiligen Währungen\n",
    "\n",
    "Dazu formatieren wir jetzt die x-Achse etwas speziell."
   ]
  },
  {
   "cell_type": "code",
   "execution_count": null,
   "metadata": {},
   "outputs": [],
   "source": [
    "# Zuerst kreieren wir nur die Figure\n",
    "fig = plt.figure(figsize=(12,3))\n",
    "\n",
    "# Danach die einzelnen Subplots\n",
    "ax1 = fig.add_subplot(1, 2, 1) # total 1 Zeile, total 2 Spalten, Subplot Nr. 1\n",
    "ax2 = fig.add_subplot(1, 2, 2) # total 1 Zeile, total 2 Spalten, Subplot Nr. 2\n",
    "\n",
    "# Und schliesslich füllen wir die Subplots mit Inhalt\n",
    "df_relative['Bitcoin'].plot(title=\"Bitcoin\", ax=ax1)\n",
    "df_relative['Ethereum'].plot(title=\"Ethereum\", ax=ax2)\n",
    "\n",
    "# Hier formatieren wir die x-Achse für Plot 1\n",
    "ax1.xaxis.set_major_locator(mdates.MonthLocator())\n",
    "ax1.xaxis.set_major_formatter(mdates.DateFormatter('%m'))\n",
    "ax1.xaxis.set_minor_locator(ticker.NullLocator())\n",
    "\n",
    "# Hier formatieren wir die x-Achse für Plot 2\n",
    "ax2.xaxis.set_major_locator(mdates.MonthLocator())\n",
    "ax2.xaxis.set_major_formatter(mdates.DateFormatter('%m'))\n",
    "ax2.xaxis.set_minor_locator(ticker.NullLocator())"
   ]
  },
  {
   "cell_type": "markdown",
   "metadata": {},
   "source": [
    "Einige Angaben dazu, wie man Zeitachsen formatieren kann, gibt es hier:\n",
    "- TickLocators: https://matplotlib.org/examples/ticks_and_spines/tick-locators.html\n",
    "- TickFormatters: https://matplotlib.org/gallery/ticks_and_spines/tick-formatters.html"
   ]
  },
  {
   "cell_type": "markdown",
   "metadata": {
    "collapsed": true
   },
   "source": [
    "### Sehr viele Plots"
   ]
  },
  {
   "cell_type": "markdown",
   "metadata": {},
   "source": [
    "Nun plotten wir sämtliche Währungen, die keine \"NaN\"-Werte enthalten, auf einmal.\n",
    "\n",
    "Dazu isolieren wir erst kurz die letzte Zeile."
   ]
  },
  {
   "cell_type": "code",
   "execution_count": null,
   "metadata": {},
   "outputs": [],
   "source": [
    "s_last = df_relative.iloc[-1]"
   ]
  },
  {
   "cell_type": "markdown",
   "metadata": {},
   "source": [
    "Wie viele Währungen sind nicht \"NaN\"?"
   ]
  },
  {
   "cell_type": "code",
   "execution_count": null,
   "metadata": {},
   "outputs": [],
   "source": [
    "anzahl_charts = s_last.notnull().sum()\n",
    "anzahl_charts"
   ]
  },
  {
   "cell_type": "markdown",
   "metadata": {},
   "source": [
    "Wir sortieren unsere Liste der Währungen anhand der letzten Zeile etwas:"
   ]
  },
  {
   "cell_type": "code",
   "execution_count": null,
   "metadata": {},
   "outputs": [],
   "source": [
    "sortierte_waehrungen = s_last[s_last.notnull()].sort_values(ascending=False)\n",
    "sortierte_waehrungen.head(2)"
   ]
  },
  {
   "cell_type": "markdown",
   "metadata": {},
   "source": [
    "Und wiederholen dann wiederum dasselbe Vorgehen wie vorher."
   ]
  },
  {
   "cell_type": "code",
   "execution_count": null,
   "metadata": {},
   "outputs": [],
   "source": [
    "# Eine Abbildung, die gross genug ist\n",
    "fig = plt.figure(figsize=(15,18))\n",
    "\n",
    "# Und nun, für jede einzelne Währung einen Subplot:\n",
    "for i, waehrung in enumerate(sortierte_waehrungen.index):\n",
    "    \n",
    "    # einen Subplot kreieren ... ()\n",
    "    ax = fig.add_subplot(11, 8, i + 1)\n",
    "\n",
    "    # ... und mit Inhalt füllen\n",
    "    df_pivoted_100[waehrung].plot(title=waehrung, ax=ax)\n",
    "    \n",
    "    # Auf Ticks verzichten wir hier ganz\n",
    "    ax.xaxis.set_major_locator(ticker.NullLocator())\n",
    "    ax.xaxis.set_minor_locator(ticker.NullLocator())"
   ]
  },
  {
   "cell_type": "markdown",
   "metadata": {},
   "source": [
    "Falls wir zusätzlich noch wollen, dass jeder Plot dieselbe y-Achse hat:"
   ]
  },
  {
   "cell_type": "code",
   "execution_count": null,
   "metadata": {},
   "outputs": [],
   "source": [
    "# Eine Abbildung, die gross genug ist\n",
    "fig = plt.figure(figsize=(15,18))\n",
    "\n",
    "# Und nun, für jede einzelne Währung:\n",
    "for i, waehrung in enumerate(sortierte_waehrungen.index):\n",
    "    \n",
    "    # einen Subplot kreieren ...\n",
    "    ax = fig.add_subplot(11, 8, i + 1)\n",
    "\n",
    "    # ... und mit Inhalt füllen\n",
    "    df_pivoted_100[waehrung].plot(title=waehrung, ax=ax)\n",
    "    \n",
    "    # Auf Ticks verzichten wir hier ganz\n",
    "    ax.xaxis.set_major_locator(ticker.NullLocator())\n",
    "    ax.xaxis.set_minor_locator(ticker.NullLocator())\n",
    "    \n",
    "    # Hier setzen wir eine einheitliche y-Achse (und schalten sie aus)\n",
    "    ax.set_ylim([0, 2500])\n",
    "    ax.yaxis.set_major_locator(ticker.NullLocator())"
   ]
  },
  {
   "cell_type": "markdown",
   "metadata": {},
   "source": [
    "### Aber es geht auch einfacher..."
   ]
  },
  {
   "cell_type": "markdown",
   "metadata": {},
   "source": [
    "Ha! Nachdem wir nun alles Manuell zusammengebastelt haben, mit Matplotlib, hier die gute Nachricht:\n",
    "\n",
    "*Wir können das mit wenigen Codezeilen auch direkt aus der Pandas-Plot()-Funktion haben :-)*\n",
    "\n",
    "Die entscheidenden Parameter in der `plot()`-Funktion sind hier:\n",
    "- `subplots=True` (zeichnet small multiples statt alles nur auf einem Chart)\n",
    "- `sharey=True` (alle Subplots sollen dieselbe y-Achse verwenden)"
   ]
  },
  {
   "cell_type": "code",
   "execution_count": null,
   "metadata": {
    "scrolled": false
   },
   "outputs": [],
   "source": [
    "axes = df_pivoted_100[sortierte_waehrungen.index].plot(subplots=True,layout=(11, 8), sharey=True, figsize=(15,18))\n",
    "\n",
    "axes[0,0].xaxis.set_major_locator(ticker.NullLocator())\n",
    "axes[0,0].xaxis.set_minor_locator(ticker.NullLocator())"
   ]
  },
  {
   "cell_type": "code",
   "execution_count": null,
   "metadata": {},
   "outputs": [],
   "source": []
  },
  {
   "cell_type": "code",
   "execution_count": null,
   "metadata": {},
   "outputs": [],
   "source": []
  },
  {
   "cell_type": "code",
   "execution_count": null,
   "metadata": {},
   "outputs": [],
   "source": []
  },
  {
   "cell_type": "code",
   "execution_count": null,
   "metadata": {},
   "outputs": [],
   "source": []
  },
  {
   "cell_type": "code",
   "execution_count": null,
   "metadata": {},
   "outputs": [],
   "source": []
  },
  {
   "cell_type": "markdown",
   "metadata": {},
   "source": [
    "# Übung"
   ]
  },
  {
   "cell_type": "markdown",
   "metadata": {},
   "source": [
    "**In dieser letzten Sektion haben Sie nochmals Gelegenheit, alles zu üben – Daten arrangieren, analysieren, plotten**"
   ]
  },
  {
   "cell_type": "markdown",
   "metadata": {
    "collapsed": true
   },
   "source": [
    "Hier schauen wir uns nicht mehr die Handelskurse, sondern die Handelsvolumen an! Also: Wie viel von den einzelnen Kryptowährungen an einem bestimmten Tag gekfauft und verkauft wurde (gemessen in USD)."
   ]
  },
  {
   "cell_type": "markdown",
   "metadata": {},
   "source": [
    "Schauen Sie sich nochmals das Dataframe `df_all` an, das wir im Verlauf des Notebooks erstellt haben - es enthält alle Informationen, die wir brauchen, ist aber noch relativ unstrukturiert."
   ]
  },
  {
   "cell_type": "code",
   "execution_count": null,
   "metadata": {},
   "outputs": [],
   "source": [
    "df_all.head(2)"
   ]
  },
  {
   "cell_type": "markdown",
   "metadata": {
    "collapsed": true
   },
   "source": [
    "Welche Spalte interessiert uns? Müssen wir noch etwas daran machen?"
   ]
  },
  {
   "cell_type": "markdown",
   "metadata": {},
   "source": [
    "### Daten arrangieren"
   ]
  },
  {
   "cell_type": "markdown",
   "metadata": {},
   "source": [
    "Unternehmen Sie die nötigen Schritte, um mit der Spalte arbeiten zu können. Sie sollten am Ende eine Spalte haben, die nicht mehr als Object, sondern als Float formatiert ist.\n",
    "\n",
    "Tipp: Speichern Sie alle Modifikationen in einer neuen Spalte ab, damit das Original unverändert bleibt."
   ]
  },
  {
   "cell_type": "code",
   "execution_count": null,
   "metadata": {},
   "outputs": [],
   "source": []
  },
  {
   "cell_type": "code",
   "execution_count": null,
   "metadata": {},
   "outputs": [],
   "source": []
  },
  {
   "cell_type": "code",
   "execution_count": null,
   "metadata": {},
   "outputs": [],
   "source": []
  },
  {
   "cell_type": "markdown",
   "metadata": {
    "collapsed": true
   },
   "source": [
    "Nun wollen wir die Daten umgliedern:\n",
    "- Für jedes Datum wollen wir eine Zeile\n",
    "- Für jede Kryptowährung eine Spalte\n",
    "- Wir interessieren uns für die Handelsvolumen"
   ]
  },
  {
   "cell_type": "code",
   "execution_count": null,
   "metadata": {},
   "outputs": [],
   "source": []
  },
  {
   "cell_type": "code",
   "execution_count": null,
   "metadata": {},
   "outputs": [],
   "source": []
  },
  {
   "cell_type": "markdown",
   "metadata": {
    "collapsed": true
   },
   "source": [
    "Formatieren Sie die Werte in der Index-Spalte als Datetime-Objekte und sortieren Sie das Dataframe nach Datum."
   ]
  },
  {
   "cell_type": "code",
   "execution_count": null,
   "metadata": {},
   "outputs": [],
   "source": []
  },
  {
   "cell_type": "code",
   "execution_count": null,
   "metadata": {},
   "outputs": [],
   "source": []
  },
  {
   "cell_type": "code",
   "execution_count": null,
   "metadata": {},
   "outputs": [],
   "source": []
  },
  {
   "cell_type": "markdown",
   "metadata": {},
   "source": [
    "### Analyse"
   ]
  },
  {
   "cell_type": "markdown",
   "metadata": {},
   "source": [
    "Wir machen in dieser Sektion einige einfache Auswertungen und repetieren einige Befehle, u.a. aus dem Time Series Sheet."
   ]
  },
  {
   "cell_type": "markdown",
   "metadata": {},
   "source": [
    "**Top-10**: Welches waren, im Schnitt, die zehn meistgehandelten Währungen? Liste und Chart."
   ]
  },
  {
   "cell_type": "code",
   "execution_count": null,
   "metadata": {},
   "outputs": [],
   "source": []
  },
  {
   "cell_type": "code",
   "execution_count": null,
   "metadata": {},
   "outputs": [],
   "source": []
  },
  {
   "cell_type": "markdown",
   "metadata": {},
   "source": [
    "Welches waren die zehn Währungen, bei denen das Volumen in absoluten Zahlen am meisten geschwankt ist? (Standardabweichung)"
   ]
  },
  {
   "cell_type": "code",
   "execution_count": null,
   "metadata": {},
   "outputs": [],
   "source": []
  },
  {
   "cell_type": "markdown",
   "metadata": {},
   "source": [
    "Sieht so aus, als wären es dieselben zehn Währungen.\n",
    "\n",
    "Können wir angeben, welche von ihnen relativ die grössten Schwankungen hatten, also im Vergleich zum Handelsvolumen?"
   ]
  },
  {
   "cell_type": "code",
   "execution_count": null,
   "metadata": {},
   "outputs": [],
   "source": []
  },
  {
   "cell_type": "code",
   "execution_count": null,
   "metadata": {},
   "outputs": [],
   "source": []
  },
  {
   "cell_type": "code",
   "execution_count": null,
   "metadata": {},
   "outputs": [],
   "source": []
  },
  {
   "cell_type": "code",
   "execution_count": null,
   "metadata": {},
   "outputs": [],
   "source": []
  },
  {
   "cell_type": "markdown",
   "metadata": {},
   "source": [
    "**Bitcoin vs Ethereum**"
   ]
  },
  {
   "cell_type": "markdown",
   "metadata": {},
   "source": [
    "Erstellen Sie einen Chart mit dem wöchentlichen Umsatztotal von Bitcoin und Ethereum!\n",
    "\n",
    "Tipp: Resampling benutzen!"
   ]
  },
  {
   "cell_type": "code",
   "execution_count": null,
   "metadata": {},
   "outputs": [],
   "source": []
  },
  {
   "cell_type": "markdown",
   "metadata": {},
   "source": [
    "In welchem der letzten 12 Monate wurde insgesamt am meisten mit Bitcoin gehandelt? Mit Ethereum?"
   ]
  },
  {
   "cell_type": "code",
   "execution_count": null,
   "metadata": {},
   "outputs": [],
   "source": []
  },
  {
   "cell_type": "code",
   "execution_count": null,
   "metadata": {},
   "outputs": [],
   "source": []
  },
  {
   "cell_type": "markdown",
   "metadata": {},
   "source": [
    "Wie viel Bitcoin und Ethereum wird im Durchschnitt an den sieben Wochentagen gehandelt? Barchart."
   ]
  },
  {
   "cell_type": "code",
   "execution_count": null,
   "metadata": {},
   "outputs": [],
   "source": []
  },
  {
   "cell_type": "markdown",
   "metadata": {
    "collapsed": true
   },
   "source": [
    "**Small Multiples**: Hier erstellen wir einen Plot, ähnlich wie oben"
   ]
  },
  {
   "cell_type": "markdown",
   "metadata": {},
   "source": [
    "Kreieren Sie zuerst eine Liste von Währungen:\n",
    "- Alle Währungen, die am letzten Handelstag einen Eintrag haben\n",
    "- Sortiert in absteigender Reihenfolge nach dem Handelsvolumen\n",
    "- Wir wählen nur die zehn grössten aus"
   ]
  },
  {
   "cell_type": "code",
   "execution_count": null,
   "metadata": {},
   "outputs": [],
   "source": []
  },
  {
   "cell_type": "code",
   "execution_count": null,
   "metadata": {},
   "outputs": [],
   "source": []
  },
  {
   "cell_type": "code",
   "execution_count": null,
   "metadata": {},
   "outputs": [],
   "source": []
  },
  {
   "cell_type": "markdown",
   "metadata": {
    "collapsed": true
   },
   "source": [
    "Und jetzt: Small Multiples plotten! Überlegen Sie sich:\n",
    "- Wie viele Subplots braucht es, wie sollen sie angeordnet sein?\n",
    "- Wie gross muss die Abbildung insgesamt sein?\n",
    "- Was ist eine sinnvolle Einstellung für die Y-Achse?"
   ]
  },
  {
   "cell_type": "code",
   "execution_count": null,
   "metadata": {
    "scrolled": false
   },
   "outputs": [],
   "source": []
  },
  {
   "cell_type": "markdown",
   "metadata": {
    "collapsed": true
   },
   "source": [
    "Alternative syntax dafür:"
   ]
  },
  {
   "cell_type": "code",
   "execution_count": null,
   "metadata": {},
   "outputs": [],
   "source": []
  },
  {
   "cell_type": "code",
   "execution_count": null,
   "metadata": {},
   "outputs": [],
   "source": []
  }
 ],
 "metadata": {
  "kernelspec": {
   "display_name": "Python 3",
   "language": "python",
   "name": "python3"
  },
  "language_info": {
   "codemirror_mode": {
    "name": "ipython",
    "version": 3
   },
   "file_extension": ".py",
   "mimetype": "text/x-python",
   "name": "python",
   "nbconvert_exporter": "python",
   "pygments_lexer": "ipython3",
   "version": "3.7.3"
  }
 },
 "nbformat": 4,
 "nbformat_minor": 2
}
