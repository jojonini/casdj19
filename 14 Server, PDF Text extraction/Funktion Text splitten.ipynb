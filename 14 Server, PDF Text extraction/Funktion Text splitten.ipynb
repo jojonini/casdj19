{
 "cells": [
  {
   "cell_type": "code",
   "execution_count": 10,
   "metadata": {},
   "outputs": [
    {
     "data": {
      "text/plain": [
       "'Michael Marta, Reto Meier, Hannes Gutschi'"
      ]
     },
     "execution_count": 10,
     "metadata": {},
     "output_type": "execute_result"
    }
   ],
   "source": [
    "test = 'Geschäft von Michael Marta, Reto Meier und Hannes Gutschi betreffend Betreff'\n",
    "\n",
    "def splitting(elem):\n",
    "    elem = elem.split('betreffend')[0].strip()\n",
    "    #Split macht eine Liste beim Wort betreffend, [0] sagt: nimm die erste Hälfte \n",
    "    #(also vor betreffend) des gesplitteten Strings in der neu kreeirten Liste\n",
    "    if 'von' in elem:\n",
    "        elem = elem.split('von')[1].strip()\n",
    "    #nimm die zweite Hälfte, wenn überhaupt ein von vorkommt\n",
    "    elem = elem.replace(' und', ',')\n",
    "    return elem\n",
    "\n",
    "splitting(test)"
   ]
  }
 ],
 "metadata": {
  "kernelspec": {
   "display_name": "Python 3",
   "language": "python",
   "name": "python3"
  },
  "language_info": {
   "codemirror_mode": {
    "name": "ipython",
    "version": 3
   },
   "file_extension": ".py",
   "mimetype": "text/x-python",
   "name": "python",
   "nbconvert_exporter": "python",
   "pygments_lexer": "ipython3",
   "version": "3.7.4"
  }
 },
 "nbformat": 4,
 "nbformat_minor": 2
}
