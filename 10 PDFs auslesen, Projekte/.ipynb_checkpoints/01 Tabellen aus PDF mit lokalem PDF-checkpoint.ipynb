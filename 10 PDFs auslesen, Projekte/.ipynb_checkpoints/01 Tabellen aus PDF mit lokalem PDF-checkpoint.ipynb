{
 "cells": [
  {
   "cell_type": "code",
   "execution_count": 1,
   "metadata": {},
   "outputs": [],
   "source": [
    "import camelot\n",
    "import pandas as pd\n",
    "import tabula"
   ]
  },
  {
   "cell_type": "code",
   "execution_count": 21,
   "metadata": {},
   "outputs": [],
   "source": [
    "tables = camelot.read_pdf('Bericht_110.pdf', flavor = 'stream', pages ='1')"
   ]
  },
  {
   "cell_type": "code",
   "execution_count": 24,
   "metadata": {},
   "outputs": [
    {
     "data": {
      "text/html": [
       "<div>\n",
       "<style scoped>\n",
       "    .dataframe tbody tr th:only-of-type {\n",
       "        vertical-align: middle;\n",
       "    }\n",
       "\n",
       "    .dataframe tbody tr th {\n",
       "        vertical-align: top;\n",
       "    }\n",
       "\n",
       "    .dataframe thead th {\n",
       "        text-align: right;\n",
       "    }\n",
       "</style>\n",
       "<table border=\"1\" class=\"dataframe\">\n",
       "  <thead>\n",
       "    <tr style=\"text-align: right;\">\n",
       "      <th></th>\n",
       "      <th>0</th>\n",
       "      <th>1</th>\n",
       "      <th>2</th>\n",
       "      <th>3</th>\n",
       "      <th>4</th>\n",
       "      <th>5</th>\n",
       "      <th>6</th>\n",
       "      <th>7</th>\n",
       "    </tr>\n",
       "  </thead>\n",
       "  <tbody>\n",
       "    <tr>\n",
       "      <td>0</td>\n",
       "      <td>nach Unfallfolgen und Gemeinde</td>\n",
       "      <td></td>\n",
       "      <td></td>\n",
       "      <td></td>\n",
       "      <td></td>\n",
       "      <td></td>\n",
       "      <td></td>\n",
       "      <td></td>\n",
       "    </tr>\n",
       "    <tr>\n",
       "      <td>1</td>\n",
       "      <td></td>\n",
       "      <td></td>\n",
       "      <td></td>\n",
       "      <td></td>\n",
       "      <td></td>\n",
       "      <td>davon</td>\n",
       "      <td></td>\n",
       "      <td></td>\n",
       "    </tr>\n",
       "    <tr>\n",
       "      <td>2</td>\n",
       "      <td></td>\n",
       "      <td></td>\n",
       "      <td>Unfälle mit</td>\n",
       "      <td></td>\n",
       "      <td></td>\n",
       "      <td>lebens-</td>\n",
       "      <td></td>\n",
       "      <td></td>\n",
       "    </tr>\n",
       "    <tr>\n",
       "      <td>3</td>\n",
       "      <td></td>\n",
       "      <td>Unfälle mit</td>\n",
       "      <td>Personen-</td>\n",
       "      <td></td>\n",
       "      <td>Schwer-</td>\n",
       "      <td>bedrohlich</td>\n",
       "      <td>erheblich</td>\n",
       "      <td></td>\n",
       "    </tr>\n",
       "    <tr>\n",
       "      <td>4</td>\n",
       "      <td></td>\n",
       "      <td>Sach-schaden</td>\n",
       "      <td>schaden</td>\n",
       "      <td>Getötete</td>\n",
       "      <td>verletzte</td>\n",
       "      <td>Verletzte¹</td>\n",
       "      <td>Verletzte¹</td>\n",
       "      <td>Leicht-verletzte</td>\n",
       "    </tr>\n",
       "    <tr>\n",
       "      <td>5</td>\n",
       "      <td>Total</td>\n",
       "      <td>2 489</td>\n",
       "      <td>2 397</td>\n",
       "      <td>34</td>\n",
       "      <td>506</td>\n",
       "      <td>30</td>\n",
       "      <td>476</td>\n",
       "      <td>2 344</td>\n",
       "    </tr>\n",
       "    <tr>\n",
       "      <td>6</td>\n",
       "      <td>Aarberg</td>\n",
       "      <td>26</td>\n",
       "      <td>12</td>\n",
       "      <td>0</td>\n",
       "      <td>2</td>\n",
       "      <td>0</td>\n",
       "      <td>2</td>\n",
       "      <td>15</td>\n",
       "    </tr>\n",
       "    <tr>\n",
       "      <td>7</td>\n",
       "      <td>Aarwangen</td>\n",
       "      <td>10</td>\n",
       "      <td>15</td>\n",
       "      <td>0</td>\n",
       "      <td>2</td>\n",
       "      <td>0</td>\n",
       "      <td>2</td>\n",
       "      <td>14</td>\n",
       "    </tr>\n",
       "    <tr>\n",
       "      <td>8</td>\n",
       "      <td>Adelboden</td>\n",
       "      <td>8</td>\n",
       "      <td>11</td>\n",
       "      <td>1</td>\n",
       "      <td>3</td>\n",
       "      <td>0</td>\n",
       "      <td>3</td>\n",
       "      <td>9</td>\n",
       "    </tr>\n",
       "    <tr>\n",
       "      <td>9</td>\n",
       "      <td>Aefligen</td>\n",
       "      <td>0</td>\n",
       "      <td>0</td>\n",
       "      <td>0</td>\n",
       "      <td>0</td>\n",
       "      <td>0</td>\n",
       "      <td>0</td>\n",
       "      <td>0</td>\n",
       "    </tr>\n",
       "  </tbody>\n",
       "</table>\n",
       "</div>"
      ],
      "text/plain": [
       "                                0             1            2         3  \\\n",
       "0  nach Unfallfolgen und Gemeinde                                        \n",
       "1                                                                        \n",
       "2                                                Unfälle mit             \n",
       "3                                   Unfälle mit    Personen-             \n",
       "4                                  Sach-schaden      schaden  Getötete   \n",
       "5                           Total         2 489        2 397        34   \n",
       "6                         Aarberg            26           12         0   \n",
       "7                       Aarwangen            10           15         0   \n",
       "8                       Adelboden             8           11         1   \n",
       "9                        Aefligen             0            0         0   \n",
       "\n",
       "           4           5           6                 7  \n",
       "0                                                       \n",
       "1                  davon                                \n",
       "2                lebens-                                \n",
       "3    Schwer-  bedrohlich   erheblich                    \n",
       "4  verletzte  Verletzte¹  Verletzte¹  Leicht-verletzte  \n",
       "5        506          30         476             2 344  \n",
       "6          2           0           2                15  \n",
       "7          2           0           2                14  \n",
       "8          3           0           3                 9  \n",
       "9          0           0           0                 0  "
      ]
     },
     "execution_count": 24,
     "metadata": {},
     "output_type": "execute_result"
    }
   ],
   "source": [
    "tables[0].df"
   ]
  },
  {
   "cell_type": "markdown",
   "metadata": {},
   "source": [
    "Es nimmt nur die Daten bis Zeile 9. Deshalb geben wir ihm die Koordinaten für die gante A4-Seite."
   ]
  },
  {
   "cell_type": "code",
   "execution_count": 25,
   "metadata": {},
   "outputs": [],
   "source": [
    "tables = camelot.read_pdf('Bericht_110.pdf', flavor = 'stream', table_areas=['0,842,595,0'], pages ='1')"
   ]
  },
  {
   "cell_type": "markdown",
   "metadata": {},
   "source": [
    "Und das ist jetzt die erste Seite. Jetzt nehmen wir alle Seiten, mit pages = 'all'."
   ]
  },
  {
   "cell_type": "code",
   "execution_count": 28,
   "metadata": {},
   "outputs": [],
   "source": [
    "tables = camelot.read_pdf('Bericht_110.pdf', flavor = 'stream', table_areas=['0,842,595,0'], pages ='all')"
   ]
  },
  {
   "cell_type": "code",
   "execution_count": null,
   "metadata": {},
   "outputs": [],
   "source": [
    "tables[0].df"
   ]
  },
  {
   "cell_type": "code",
   "execution_count": null,
   "metadata": {},
   "outputs": [],
   "source": []
  }
 ],
 "metadata": {
  "kernelspec": {
   "display_name": "Python 3",
   "language": "python",
   "name": "python3"
  },
  "language_info": {
   "codemirror_mode": {
    "name": "ipython",
    "version": 3
   },
   "file_extension": ".py",
   "mimetype": "text/x-python",
   "name": "python",
   "nbconvert_exporter": "python",
   "pygments_lexer": "ipython3",
   "version": "3.7.3"
  }
 },
 "nbformat": 4,
 "nbformat_minor": 2
}
