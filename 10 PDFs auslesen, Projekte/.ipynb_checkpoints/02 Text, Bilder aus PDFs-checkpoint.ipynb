{
 "cells": [
  {
   "cell_type": "markdown",
   "metadata": {},
   "source": [
    "# Bereiten wir das Script vor"
   ]
  },
  {
   "cell_type": "code",
   "execution_count": 1,
   "metadata": {},
   "outputs": [],
   "source": [
    "#Imports\n",
    "import os #Files in listen abgreifen\n",
    "import tqdm #anzeigen, wo wir stehen\n",
    "import textract\n",
    "import pandas as pd\n"
   ]
  },
  {
   "cell_type": "markdown",
   "metadata": {},
   "source": [
    "## Vorbereitung"
   ]
  },
  {
   "cell_type": "code",
   "execution_count": 2,
   "metadata": {},
   "outputs": [],
   "source": [
    "#Als Vorbereitung, machen aus dem Inhalt des Folders eine Liste. Es handelt sich hierbei\n",
    "#um eine Liste aller pdfs im Ordner pdfs. Es sind die Swissmedic Recalls (#ImplantFiles)\n",
    "pdfs = os.listdir('pdfs')"
   ]
  },
  {
   "cell_type": "code",
   "execution_count": 3,
   "metadata": {},
   "outputs": [
    {
     "data": {
      "text/plain": [
       "['Vk_20180514_49documents0.pdf',\n",
       " 'Vk_20180522_02documents1.pdf',\n",
       " 'Vk_20180413_17documents3.pdf',\n",
       " 'Vk_20180525_03documents1.pdf',\n",
       " 'Vk_20180529_02documents2.pdf']"
      ]
     },
     "execution_count": 3,
     "metadata": {},
     "output_type": "execute_result"
    }
   ],
   "source": [
    "pdfs[0:5]"
   ]
  },
  {
   "cell_type": "markdown",
   "metadata": {},
   "source": [
    "## Fortschritt anzeigen"
   ]
  },
  {
   "cell_type": "code",
   "execution_count": 4,
   "metadata": {},
   "outputs": [
    {
     "name": "stderr",
     "output_type": "stream",
     "text": [
      "100%|██████████| 1000/1000 [00:00<00:00, 1984060.55it/s]\n"
     ]
    }
   ],
   "source": [
    "from tqdm import tqdm\n",
    "for i in tqdm(range(1000)): #100000000000\n",
    "    elem = i"
   ]
  },
  {
   "cell_type": "markdown",
   "metadata": {},
   "source": [
    "## Ein File auslesen"
   ]
  },
  {
   "cell_type": "code",
   "execution_count": 5,
   "metadata": {},
   "outputs": [],
   "source": [
    "text = textract.process(\"pdfs/\"+pdfs[1]) #method='pdfminer', encoding='ISO-8859-1', \n",
    "#das wäre dann (text = textract.process(\"pdfs/\"+pdfs[1], method='pdfminer', encoding='ISO-8859-1')"
   ]
  },
  {
   "cell_type": "markdown",
   "metadata": {},
   "source": [
    "Für texttract ist der häufigste Befehl .process('variable/'+pdfs[1])"
   ]
  },
  {
   "cell_type": "code",
   "execution_count": 6,
   "metadata": {
    "scrolled": true
   },
   "outputs": [
    {
     "name": "stdout",
     "output_type": "stream",
     "text": [
      "pdfs/Vk_20180522_02documents1.pdf\n"
     ]
    }
   ],
   "source": [
    "print(\"pdfs/\"+pdfs[1])"
   ]
  },
  {
   "cell_type": "code",
   "execution_count": 7,
   "metadata": {
    "scrolled": true
   },
   "outputs": [
    {
     "data": {
      "text/plain": [
       "bytes"
      ]
     },
     "execution_count": 7,
     "metadata": {},
     "output_type": "execute_result"
    }
   ],
   "source": [
    "type(text)"
   ]
  },
  {
   "cell_type": "markdown",
   "metadata": {},
   "source": [
    "Es ist ein bytes-Objekt! Also umwandeln:"
   ]
  },
  {
   "cell_type": "code",
   "execution_count": 8,
   "metadata": {},
   "outputs": [],
   "source": [
    "text_str = str(text)"
   ]
  },
  {
   "cell_type": "code",
   "execution_count": 9,
   "metadata": {},
   "outputs": [
    {
     "data": {
      "text/plain": [
       "str"
      ]
     },
     "execution_count": 9,
     "metadata": {},
     "output_type": "execute_result"
    }
   ],
   "source": [
    "type(text_str)"
   ]
  },
  {
   "cell_type": "markdown",
   "metadata": {},
   "source": [
    "## Alle Files auslesen"
   ]
  },
  {
   "cell_type": "markdown",
   "metadata": {},
   "source": [
    "Jetzt durchlaufen lassen. Und dafür sorgen, dass fehlerhafte Umwandlungen in eine separate Liste gespeichert werden. "
   ]
  },
  {
   "cell_type": "code",
   "execution_count": 10,
   "metadata": {
    "scrolled": true
   },
   "outputs": [
    {
     "name": "stderr",
     "output_type": "stream",
     "text": [
      "100%|██████████| 82/82 [01:27<00:00,  1.68it/s]\n"
     ]
    }
   ],
   "source": [
    "lst = []\n",
    "mistakes = []\n",
    "for pdf in tqdm(pdfs):\n",
    "    try:\n",
    "        text = textract.process(\"pdfs/\"+pdf, method='pdfminer', encoding='ISO-8859-1') \n",
    "        #method und encoding könnte man evtl. auch weglassen, da diese Parameter default sind. \n",
    "        lst.append(text)\n",
    "    except:\n",
    "        mistakes.append(pdf)"
   ]
  },
  {
   "cell_type": "code",
   "execution_count": 11,
   "metadata": {},
   "outputs": [
    {
     "data": {
      "text/plain": [
       "[b'\\x0c\\x0c\\x0c',\n",
       " b\"Information urgente relative \\xe0 la s\\xe9curit\\xe9  Retrait/remplacement support de poign\\xe9e\\nMALTE (T. 2-4), MALTE Outdoor (T. 2+3) et MARCY (T. 2+3)\\n\\nHasbergen, le 25/05/2018\\n\\nMesdames, Messieurs,\\nnous avons pour principe de livrer des produits de qualit\\xe9 sup\\xe9rieure et donc conformes aux \\nexigences de qualit\\xe9 de fabrication et de s\\xe9curit\\xe9 de production.  Cest pourquoi nos produits \\nsont soumis en permanence \\xe0 des tests effectu\\xe9s en interne par notre entreprise mais \\xe9gale-\\nment par des laboratoires de contr\\xf4le accr\\xe9dit\\xe9s selon les normes en vigueur. \\nCes tests simulent les sollicitations auxquelles les produits seront soumis plus tard et nous \\ndonnent, en tant que fabricant, lassurance d\\xe9 nitive que nous pouvons les commercialiser.\\nMalheureusement, lusage r\\xe9el de nos d\\xe9ambulateurs MALTE, MAL-\\nTE Outdoor et MARCY a montr\\xe9 que les sollicitations d\\xe9passent en \\npartie celles de la simulation et quelles ont caus\\xe9 la rupture dun des \\ncomposants.  Il sagit du support de poign\\xe9e qui \\xe9tablit la jonction \\ncentrale entre la poign\\xe9e et le cadre de base : la combinaison de la \\nqualit\\xe9 du mat\\xe9riau et du proc\\xe9d\\xe9 dassemblage appliqu\\xe9 na pas \\nr\\xe9sist\\xe9 aux pics de sollicitation qui se sont pr\\xe9sent\\xe9s (voir Fig. A). \\nLes d\\xe9g\\xe2ts, ainsi que le risque \\xe9lev\\xe9 qui en r\\xe9sulte pour lutilisateur, nous ont engag\\xe9s \\xe0 effec-\\ntuer un retrait ou un remplacement de la pi\\xe8ce concern\\xe9e sur les produits mentionn\\xe9s. \\n\\xc0 cet effet, nous avons d\\xe9velopp\\xe9 une nouvelle poign\\xe9e fabriqu\\xe9e \\nselon un proc\\xe9d\\xe9 dassemblage sp\\xe9cial.  Des pro l\\xe9s encore mieux \\nrenforc\\xe9s et un usinage ad\\xe9quat garantissent d\\xe8s maintenant une \\naugmentation \\xe0 200 pour cents de la stabilit\\xe9.  La cons\\xe9quence dun \\nexc\\xe9dent de sollicitation ne serait donc plus une rupture, mais seule-\\nment une d\\xe9formation (voir Fig. B). \\nNous joignons \\xe0 la pr\\xe9sente une vue densemble des produits con-\\ncern\\xe9s par ce retrait / remplacement et qui ont \\xe9t\\xe9 distribu\\xe9s par votre entreprise.\\n\\nFig. B\\n\\nFig. A\\n\\nPers\\xf6nlich haftende Gesellschafterin:Schuchmann Verwaltungs GmbHSitz HasbergenAmtsgericht Osnabr\\xfcck HR B 200041Gesch\\xe4ftsf\\xfchrer: Miriam Schuchmann \\xb7Torsten Schuchmann \\xb7 Lars SiebertSparkasse Osnabr\\xfcckBIC: NOLADE22XXXIBAN: DE31 2655 0105 0000 6163 59Volksbank Osnabr\\xfcckBIC: GENODEF1OSVIBAN: DE60 2659 0025 1183 1189 00Schuchmann GmbH & Co. KG \\xb7 D\\xfctestra\\xdfe 3 \\xb7 49205 HasbergenSchuchmann GmbH & Co. KGD\\xfctestra\\xdfe 3 \\xb7 49205 HasbergenTel. +49 (0) 5405 / 909 - 0 \\xb7 Fax +49 (0) 5405 / 909 - 109info@schuchmann-reha.de \\xb7 www.schuchmann-reha.deSitz Hasbergen \\xb7 Amtsgericht Osnabr\\xfcck HR A 200125USt-IdNr.: DE 152362451 \\xb7 FA Osnabr\\xfcck Land\\x0cVeuillez remplacer les poign\\xe9es sur les produits correspondants le plus rapidement possible, \\nau plus tard dici le 30/08/2018.  Vous pouvez commander facilement et gratuitement les pi\\xe8ces \\nrequises pour le remplacement \\xe0 laide du formulaire de commande ci-joint.  Le remplacement \\ndure seulement env. 10 minutes sur les d\\xe9ambulateurs sans frein fonctionnel ou env. 30 minu-\\ntes sur les mod\\xe8les avec frein fonctionnel.  Une notice de montage ad\\xe9quate sera jointe \\xe0 la \\nlivraison des composants. \\n\\xc9tant tenus de surveiller en cons\\xe9quence le retrait / remplacement, nous vous prions \\xe9gale-\\nment de bien vouloir nous communiquer sur ce m\\xeame formulaire l\\xe9tat du produit et, le cas \\n\\xe9ch\\xe9ant, la date de la transformation du produit. \\nEn vous remerciant par avance pour votre soutien, nous tenons \\xe0 vous pr\\xe9senter nos excuses \\npour les complications survenues malgr\\xe9 toutes les mesures qui ont \\xe9t\\xe9 prises \\xe0 lavance pour \\nles \\xe9viter.\\nIl va de soi que, nous sommes pr\\xeats \\xe0 r\\xe9pondre \\xe0 toutes vos questions. Notre personnel de \\nvente ainsi que notre service int\\xe9rieur se tiennent \\xe0 votre disposition.  Pour la coordination du \\nremplacement, veuillez vous adresser \\xe0 Monsieur Torsten Schuchmann :\\n  T\\xe9l. : +49 (0) 54 05 / 90 9-0\\n  ou par e-mail : QM@schuchmann-reha.de.\\n\\nCordialement\\n\\nL'\\xe9quipe Schuchmann\\n\\nPers\\xf6nlich haftende Gesellschafterin:Schuchmann Verwaltungs GmbHSitz HasbergenAmtsgericht Osnabr\\xfcck HR B 200041Gesch\\xe4ftsf\\xfchrer: Miriam Schuchmann \\xb7Torsten Schuchmann \\xb7 Lars SiebertSparkasse Osnabr\\xfcckBIC: NOLADE22XXXIBAN: DE31 2655 0105 0000 6163 59Volksbank Osnabr\\xfcckBIC: GENODEF1OSVIBAN: DE60 2659 0025 1183 1189 00Schuchmann GmbH & Co. KG \\xb7 D\\xfctestra\\xdfe 3 \\xb7 49205 HasbergenSchuchmann GmbH & Co. KGD\\xfctestra\\xdfe 3 \\xb7 49205 HasbergenTel. +49 (0) 5405 / 909 - 0 \\xb7 Fax +49 (0) 5405 / 909 - 109info@schuchmann-reha.de \\xb7 www.schuchmann-reha.deSitz Hasbergen \\xb7 Amtsgericht Osnabr\\xfcck HR A 200125USt-IdNr.: DE 152362451 \\xb7 FA Osnabr\\xfcck Land\\x0c\"]"
      ]
     },
     "execution_count": 11,
     "metadata": {},
     "output_type": "execute_result"
    }
   ],
   "source": [
    "lst[0:2]"
   ]
  },
  {
   "cell_type": "markdown",
   "metadata": {},
   "source": [
    "## Bilder auslesen"
   ]
  },
  {
   "cell_type": "markdown",
   "metadata": {},
   "source": [
    "Ein Problem: Text in vielen pdfs ist eigentlich als Bild abgespeichert (zum Teil absichtlich, um die Maschinenlesbarkeit oder Durchsuchbarkeit zu erschweren)."
   ]
  },
  {
   "cell_type": "code",
   "execution_count": 12,
   "metadata": {},
   "outputs": [],
   "source": [
    "text = textract.process(\"pdfs/\"+pdfs[0], method='tesseract') #Nicht ideal, aber gut"
   ]
  },
  {
   "cell_type": "markdown",
   "metadata": {},
   "source": [
    "## Alles zusammen"
   ]
  },
  {
   "cell_type": "code",
   "execution_count": 18,
   "metadata": {
    "scrolled": true
   },
   "outputs": [
    {
     "name": "stderr",
     "output_type": "stream",
     "text": [
      "100%|██████████| 82/82 [02:39<00:00,  1.34it/s]\n"
     ]
    }
   ],
   "source": [
    "lst=[]\n",
    "#Rohe Analyse\n",
    "for pdf in tqdm(pdfs):\n",
    "    try:\n",
    "        text = textract.process(\"pdfs/\"+pdf, method='pdfminer', encoding='ISO-8859-1')\n",
    "        text = text.decode(\"ISO-8859-1\").replace(\"\\n\", \" \") \n",
    "        #entspricht eigentlich einer Umwandlung in str(text), produziert aber weniger Fehler.\n",
    "        \n",
    "        if len(text) < 40:\n",
    "        #Annahme: wenn weniger als 40 Bytes muss es sich um ein Bild handeln! Also wende die \"tesseract\"-Methode an:\n",
    "            text = textract.process(\"pdfs/\"+pdf, method='tesseract', encoding='ISO-8859-1') #oder zB language: 'deu'\n",
    "            text = text.decode(\"ISO-8859-1\").replace(\"\\n\", \" \")\n",
    "            \n",
    "        mini_dict = {'Text':text, #ist der Inhalt\n",
    "                     'File':pdf} #ist der Name der Datei\n",
    "        lst.append(mini_dict)\n",
    "    #für fehlerhafte Umwandlungen mach einen Eintrag \"Fehlermeldung\", häng es aber trotzdem an\n",
    "    except:\n",
    "        mini_dict = {'Text':'Fehlermeldung',\n",
    "                     'File':pdf}\n",
    "        lst.append(mini_dict)"
   ]
  },
  {
   "cell_type": "code",
   "execution_count": 19,
   "metadata": {},
   "outputs": [
    {
     "data": {
      "text/html": [
       "<div>\n",
       "<style scoped>\n",
       "    .dataframe tbody tr th:only-of-type {\n",
       "        vertical-align: middle;\n",
       "    }\n",
       "\n",
       "    .dataframe tbody tr th {\n",
       "        vertical-align: top;\n",
       "    }\n",
       "\n",
       "    .dataframe thead th {\n",
       "        text-align: right;\n",
       "    }\n",
       "</style>\n",
       "<table border=\"1\" class=\"dataframe\">\n",
       "  <thead>\n",
       "    <tr style=\"text-align: right;\">\n",
       "      <th></th>\n",
       "      <th>Text</th>\n",
       "      <th>File</th>\n",
       "    </tr>\n",
       "  </thead>\n",
       "  <tbody>\n",
       "    <tr>\n",
       "      <td>0</td>\n",
       "      <td>dical  Wassenburg Medical B.V. Edisonnng 9  66...</td>\n",
       "      <td>Vk_20180514_49documents0.pdf</td>\n",
       "    </tr>\n",
       "    <tr>\n",
       "      <td>1</td>\n",
       "      <td>Information urgente relative à la sécurité  Re...</td>\n",
       "      <td>Vk_20180522_02documents1.pdf</td>\n",
       "    </tr>\n",
       "    <tr>\n",
       "      <td>2</td>\n",
       "      <td>Dräger Schweiz AG, CH-3097 Liebefeld   À latte...</td>\n",
       "      <td>Vk_20180413_17documents3.pdf</td>\n",
       "    </tr>\n",
       "    <tr>\n",
       "      <td>3</td>\n",
       "      <td>BIBRAUN   B. Braun Medical SA  Seesatz 17  CH-...</td>\n",
       "      <td>Vk_20180525_03documents1.pdf</td>\n",
       "    </tr>\n",
       "    <tr>\n",
       "      <td>4</td>\n",
       "      <td>URGENT ...</td>\n",
       "      <td>Vk_20180529_02documents2.pdf</td>\n",
       "    </tr>\n",
       "    <tr>\n",
       "      <td>...</td>\n",
       "      <td>...</td>\n",
       "      <td>...</td>\n",
       "    </tr>\n",
       "    <tr>\n",
       "      <td>77</td>\n",
       "      <td>Adresse              Reichenbach, 27. April...</td>\n",
       "      <td>Vk_20180522_13documents0.pdf</td>\n",
       "    </tr>\n",
       "    <tr>\n",
       "      <td>78</td>\n",
       "      <td>COOK              ®    Avis Urgent de Sécur...</td>\n",
       "      <td>Vk_20180226_08documents1.pdf</td>\n",
       "    </tr>\n",
       "    <tr>\n",
       "      <td>79</td>\n",
       "      <td>Avis de sécurité urgentFSN  Nom commercial / M...</td>\n",
       "      <td>Vk_20180521_01documents1.pdf</td>\n",
       "    </tr>\n",
       "    <tr>\n",
       "      <td>80</td>\n",
       "      <td>Dringender Sicherheitshinweis (FSN) Handelsnam...</td>\n",
       "      <td>Vk_20180521_01documents0.pdf</td>\n",
       "    </tr>\n",
       "    <tr>\n",
       "      <td>81</td>\n",
       "      <td>Avviso urgente di sicurezza sul campoFSN  Nome...</td>\n",
       "      <td>Vk_20180521_01documents2.pdf</td>\n",
       "    </tr>\n",
       "  </tbody>\n",
       "</table>\n",
       "<p>82 rows × 2 columns</p>\n",
       "</div>"
      ],
      "text/plain": [
       "                                                 Text  \\\n",
       "0   dical  Wassenburg Medical B.V. Edisonnng 9  66...   \n",
       "1   Information urgente relative à la sécurité  Re...   \n",
       "2   Dräger Schweiz AG, CH-3097 Liebefeld   À latte...   \n",
       "3   BIBRAUN   B. Braun Medical SA  Seesatz 17  CH-...   \n",
       "4                                          URGENT ...   \n",
       "..                                                ...   \n",
       "77     Adresse              Reichenbach, 27. April...   \n",
       "78     COOK              ®    Avis Urgent de Sécur...   \n",
       "79  Avis de sécurité urgentFSN  Nom commercial / M...   \n",
       "80  Dringender Sicherheitshinweis (FSN) Handelsnam...   \n",
       "81  Avviso urgente di sicurezza sul campoFSN  Nome...   \n",
       "\n",
       "                            File  \n",
       "0   Vk_20180514_49documents0.pdf  \n",
       "1   Vk_20180522_02documents1.pdf  \n",
       "2   Vk_20180413_17documents3.pdf  \n",
       "3   Vk_20180525_03documents1.pdf  \n",
       "4   Vk_20180529_02documents2.pdf  \n",
       "..                           ...  \n",
       "77  Vk_20180522_13documents0.pdf  \n",
       "78  Vk_20180226_08documents1.pdf  \n",
       "79  Vk_20180521_01documents1.pdf  \n",
       "80  Vk_20180521_01documents0.pdf  \n",
       "81  Vk_20180521_01documents2.pdf  \n",
       "\n",
       "[82 rows x 2 columns]"
      ]
     },
     "execution_count": 19,
     "metadata": {},
     "output_type": "execute_result"
    }
   ],
   "source": [
    "pd.DataFrame(lst)"
   ]
  },
  {
   "cell_type": "code",
   "execution_count": 20,
   "metadata": {},
   "outputs": [],
   "source": [
    "#Erste Säuberung\n",
    "df = pd.DataFrame(lst)\n",
    "def date(elem):\n",
    "    elem = elem[3:11]\n",
    "    return elem\n",
    "df['date'] = df['File'].apply(date)\n",
    "df['date'] = pd.to_datetime(df['date'], format='%Y%m%d')\n",
    "df.index = df['date']\n",
    "#Suchen wir noch nach Implantaten\n",
    "df['implant'] = df['Text'].str.contains('implant')\n",
    "df.to_csv('datafile.csv')"
   ]
  },
  {
   "cell_type": "code",
   "execution_count": 21,
   "metadata": {},
   "outputs": [
    {
     "data": {
      "text/html": [
       "<div>\n",
       "<style scoped>\n",
       "    .dataframe tbody tr th:only-of-type {\n",
       "        vertical-align: middle;\n",
       "    }\n",
       "\n",
       "    .dataframe tbody tr th {\n",
       "        vertical-align: top;\n",
       "    }\n",
       "\n",
       "    .dataframe thead th {\n",
       "        text-align: right;\n",
       "    }\n",
       "</style>\n",
       "<table border=\"1\" class=\"dataframe\">\n",
       "  <thead>\n",
       "    <tr style=\"text-align: right;\">\n",
       "      <th></th>\n",
       "      <th>Text</th>\n",
       "      <th>File</th>\n",
       "      <th>date</th>\n",
       "      <th>implant</th>\n",
       "    </tr>\n",
       "    <tr>\n",
       "      <th>date</th>\n",
       "      <th></th>\n",
       "      <th></th>\n",
       "      <th></th>\n",
       "      <th></th>\n",
       "    </tr>\n",
       "  </thead>\n",
       "  <tbody>\n",
       "    <tr>\n",
       "      <td>2018-05-14</td>\n",
       "      <td>dical  Wassenburg Medical B.V. Edisonnng 9  66...</td>\n",
       "      <td>Vk_20180514_49documents0.pdf</td>\n",
       "      <td>2018-05-14</td>\n",
       "      <td>False</td>\n",
       "    </tr>\n",
       "    <tr>\n",
       "      <td>2018-05-22</td>\n",
       "      <td>Information urgente relative à la sécurité  Re...</td>\n",
       "      <td>Vk_20180522_02documents1.pdf</td>\n",
       "      <td>2018-05-22</td>\n",
       "      <td>False</td>\n",
       "    </tr>\n",
       "    <tr>\n",
       "      <td>2018-04-13</td>\n",
       "      <td>Dräger Schweiz AG, CH-3097 Liebefeld   À latte...</td>\n",
       "      <td>Vk_20180413_17documents3.pdf</td>\n",
       "      <td>2018-04-13</td>\n",
       "      <td>False</td>\n",
       "    </tr>\n",
       "  </tbody>\n",
       "</table>\n",
       "</div>"
      ],
      "text/plain": [
       "                                                         Text  \\\n",
       "date                                                            \n",
       "2018-05-14  dical  Wassenburg Medical B.V. Edisonnng 9  66...   \n",
       "2018-05-22  Information urgente relative à la sécurité  Re...   \n",
       "2018-04-13  Dräger Schweiz AG, CH-3097 Liebefeld   À latte...   \n",
       "\n",
       "                                    File       date  implant  \n",
       "date                                                          \n",
       "2018-05-14  Vk_20180514_49documents0.pdf 2018-05-14    False  \n",
       "2018-05-22  Vk_20180522_02documents1.pdf 2018-05-22    False  \n",
       "2018-04-13  Vk_20180413_17documents3.pdf 2018-04-13    False  "
      ]
     },
     "execution_count": 21,
     "metadata": {},
     "output_type": "execute_result"
    }
   ],
   "source": [
    "df[0:3]"
   ]
  },
  {
   "cell_type": "markdown",
   "metadata": {},
   "source": [
    "Nach und nach werden mit Suchen (z.B. nach PLZ, Beträgen) neue Spalten erstellt und die Datenbank ergänzt.  \n",
    "Zum Beispiel mit der Textlänge:"
   ]
  },
  {
   "cell_type": "code",
   "execution_count": 22,
   "metadata": {},
   "outputs": [],
   "source": [
    "def length(elem):\n",
    "    elem = len(elem)\n",
    "    return elem\n",
    "\n",
    "df['Text Länge'] = df['Text'].apply(length)"
   ]
  },
  {
   "cell_type": "code",
   "execution_count": 23,
   "metadata": {},
   "outputs": [
    {
     "data": {
      "text/html": [
       "<div>\n",
       "<style scoped>\n",
       "    .dataframe tbody tr th:only-of-type {\n",
       "        vertical-align: middle;\n",
       "    }\n",
       "\n",
       "    .dataframe tbody tr th {\n",
       "        vertical-align: top;\n",
       "    }\n",
       "\n",
       "    .dataframe thead th {\n",
       "        text-align: right;\n",
       "    }\n",
       "</style>\n",
       "<table border=\"1\" class=\"dataframe\">\n",
       "  <thead>\n",
       "    <tr style=\"text-align: right;\">\n",
       "      <th></th>\n",
       "      <th>Text</th>\n",
       "      <th>File</th>\n",
       "      <th>date</th>\n",
       "      <th>implant</th>\n",
       "      <th>Text Länge</th>\n",
       "    </tr>\n",
       "    <tr>\n",
       "      <th>date</th>\n",
       "      <th></th>\n",
       "      <th></th>\n",
       "      <th></th>\n",
       "      <th></th>\n",
       "      <th></th>\n",
       "    </tr>\n",
       "  </thead>\n",
       "  <tbody>\n",
       "    <tr>\n",
       "      <td>2018-05-14</td>\n",
       "      <td>dical  Wassenburg Medical B.V. Edisonnng 9  66...</td>\n",
       "      <td>Vk_20180514_49documents0.pdf</td>\n",
       "      <td>2018-05-14</td>\n",
       "      <td>False</td>\n",
       "      <td>5755</td>\n",
       "    </tr>\n",
       "    <tr>\n",
       "      <td>2018-05-22</td>\n",
       "      <td>Information urgente relative à la sécurité  Re...</td>\n",
       "      <td>Vk_20180522_02documents1.pdf</td>\n",
       "      <td>2018-05-22</td>\n",
       "      <td>False</td>\n",
       "      <td>4478</td>\n",
       "    </tr>\n",
       "    <tr>\n",
       "      <td>2018-04-13</td>\n",
       "      <td>Dräger Schweiz AG, CH-3097 Liebefeld   À latte...</td>\n",
       "      <td>Vk_20180413_17documents3.pdf</td>\n",
       "      <td>2018-04-13</td>\n",
       "      <td>False</td>\n",
       "      <td>20713</td>\n",
       "    </tr>\n",
       "    <tr>\n",
       "      <td>2018-05-25</td>\n",
       "      <td>BIBRAUN   B. Braun Medical SA  Seesatz 17  CH-...</td>\n",
       "      <td>Vk_20180525_03documents1.pdf</td>\n",
       "      <td>2018-05-25</td>\n",
       "      <td>False</td>\n",
       "      <td>4403</td>\n",
       "    </tr>\n",
       "    <tr>\n",
       "      <td>2018-05-29</td>\n",
       "      <td>URGENT ...</td>\n",
       "      <td>Vk_20180529_02documents2.pdf</td>\n",
       "      <td>2018-05-29</td>\n",
       "      <td>False</td>\n",
       "      <td>4532</td>\n",
       "    </tr>\n",
       "    <tr>\n",
       "      <td>...</td>\n",
       "      <td>...</td>\n",
       "      <td>...</td>\n",
       "      <td>...</td>\n",
       "      <td>...</td>\n",
       "      <td>...</td>\n",
       "    </tr>\n",
       "    <tr>\n",
       "      <td>2018-05-22</td>\n",
       "      <td>Adresse              Reichenbach, 27. April...</td>\n",
       "      <td>Vk_20180522_13documents0.pdf</td>\n",
       "      <td>2018-05-22</td>\n",
       "      <td>False</td>\n",
       "      <td>7781</td>\n",
       "    </tr>\n",
       "    <tr>\n",
       "      <td>2018-02-26</td>\n",
       "      <td>COOK              ®    Avis Urgent de Sécur...</td>\n",
       "      <td>Vk_20180226_08documents1.pdf</td>\n",
       "      <td>2018-02-26</td>\n",
       "      <td>False</td>\n",
       "      <td>4334</td>\n",
       "    </tr>\n",
       "    <tr>\n",
       "      <td>2018-05-21</td>\n",
       "      <td>Avis de sécurité urgentFSN  Nom commercial / M...</td>\n",
       "      <td>Vk_20180521_01documents1.pdf</td>\n",
       "      <td>2018-05-21</td>\n",
       "      <td>False</td>\n",
       "      <td>2783</td>\n",
       "    </tr>\n",
       "    <tr>\n",
       "      <td>2018-05-21</td>\n",
       "      <td>Dringender Sicherheitshinweis (FSN) Handelsnam...</td>\n",
       "      <td>Vk_20180521_01documents0.pdf</td>\n",
       "      <td>2018-05-21</td>\n",
       "      <td>False</td>\n",
       "      <td>3249</td>\n",
       "    </tr>\n",
       "    <tr>\n",
       "      <td>2018-05-21</td>\n",
       "      <td>Avviso urgente di sicurezza sul campoFSN  Nome...</td>\n",
       "      <td>Vk_20180521_01documents2.pdf</td>\n",
       "      <td>2018-05-21</td>\n",
       "      <td>False</td>\n",
       "      <td>2819</td>\n",
       "    </tr>\n",
       "  </tbody>\n",
       "</table>\n",
       "<p>82 rows × 5 columns</p>\n",
       "</div>"
      ],
      "text/plain": [
       "                                                         Text  \\\n",
       "date                                                            \n",
       "2018-05-14  dical  Wassenburg Medical B.V. Edisonnng 9  66...   \n",
       "2018-05-22  Information urgente relative à la sécurité  Re...   \n",
       "2018-04-13  Dräger Schweiz AG, CH-3097 Liebefeld   À latte...   \n",
       "2018-05-25  BIBRAUN   B. Braun Medical SA  Seesatz 17  CH-...   \n",
       "2018-05-29                                         URGENT ...   \n",
       "...                                                       ...   \n",
       "2018-05-22     Adresse              Reichenbach, 27. April...   \n",
       "2018-02-26     COOK              ®    Avis Urgent de Sécur...   \n",
       "2018-05-21  Avis de sécurité urgentFSN  Nom commercial / M...   \n",
       "2018-05-21  Dringender Sicherheitshinweis (FSN) Handelsnam...   \n",
       "2018-05-21  Avviso urgente di sicurezza sul campoFSN  Nome...   \n",
       "\n",
       "                                    File       date  implant  Text Länge  \n",
       "date                                                                      \n",
       "2018-05-14  Vk_20180514_49documents0.pdf 2018-05-14    False        5755  \n",
       "2018-05-22  Vk_20180522_02documents1.pdf 2018-05-22    False        4478  \n",
       "2018-04-13  Vk_20180413_17documents3.pdf 2018-04-13    False       20713  \n",
       "2018-05-25  Vk_20180525_03documents1.pdf 2018-05-25    False        4403  \n",
       "2018-05-29  Vk_20180529_02documents2.pdf 2018-05-29    False        4532  \n",
       "...                                  ...        ...      ...         ...  \n",
       "2018-05-22  Vk_20180522_13documents0.pdf 2018-05-22    False        7781  \n",
       "2018-02-26  Vk_20180226_08documents1.pdf 2018-02-26    False        4334  \n",
       "2018-05-21  Vk_20180521_01documents1.pdf 2018-05-21    False        2783  \n",
       "2018-05-21  Vk_20180521_01documents0.pdf 2018-05-21    False        3249  \n",
       "2018-05-21  Vk_20180521_01documents2.pdf 2018-05-21    False        2819  \n",
       "\n",
       "[82 rows x 5 columns]"
      ]
     },
     "execution_count": 23,
     "metadata": {},
     "output_type": "execute_result"
    }
   ],
   "source": [
    "df"
   ]
  },
  {
   "cell_type": "code",
   "execution_count": null,
   "metadata": {},
   "outputs": [],
   "source": []
  }
 ],
 "metadata": {
  "kernelspec": {
   "display_name": "Python 3",
   "language": "python",
   "name": "python3"
  },
  "language_info": {
   "codemirror_mode": {
    "name": "ipython",
    "version": 3
   },
   "file_extension": ".py",
   "mimetype": "text/x-python",
   "name": "python",
   "nbconvert_exporter": "python",
   "pygments_lexer": "ipython3",
   "version": "3.7.3"
  }
 },
 "nbformat": 4,
 "nbformat_minor": 2
}
