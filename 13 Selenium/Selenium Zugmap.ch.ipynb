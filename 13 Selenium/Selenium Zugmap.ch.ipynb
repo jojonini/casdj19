{
 "cells": [
  {
   "cell_type": "markdown",
   "metadata": {},
   "source": [
    "Das schwierige Beispiel. \n",
    "\n",
    "https://zugmap.ch/zugmap/BM3.asp\n",
    "    \n",
    " Wie soll man vorgehen: \n",
    " Suche nach Parzellennummer in Schnellsuche (max. 5028)\n",
    " In Dropdown durch die Gemeinden klicken und jedes Resultat abspeichern\n",
    " "
   ]
  },
  {
   "cell_type": "code",
   "execution_count": null,
   "metadata": {},
   "outputs": [],
   "source": [
    "from selenium import webdriver\n",
    "from selenium.webdriver.common.keys import Keys\n",
    "from selenium.webdriver.common.by import By   #gezielt einzelne Stellen im HTML-Code ansteuern\n",
    "from selenium.webdriver.support.ui import Select\n",
    "import time\n",
    "import pandas as pd\n",
    "from bs4 import BeautifulSoup\n",
    "\n",
    "\n",
    "driver = webdriver.Chrome(executable_path = '/usr/local/bin/chromedriver')\n",
    "driver.get('https://azugmap.ch/zugmap/BM3.asp')\n",
    "\n"
   ]
  },
  {
   "cell_type": "code",
   "execution_count": null,
   "metadata": {},
   "outputs": [],
   "source": []
  }
 ],
 "metadata": {
  "kernelspec": {
   "display_name": "Python 3",
   "language": "python",
   "name": "python3"
  },
  "language_info": {
   "codemirror_mode": {
    "name": "ipython",
    "version": 3
   },
   "file_extension": ".py",
   "mimetype": "text/x-python",
   "name": "python",
   "nbconvert_exporter": "python",
   "pygments_lexer": "ipython3",
   "version": "3.7.4"
  }
 },
 "nbformat": 4,
 "nbformat_minor": 2
}
