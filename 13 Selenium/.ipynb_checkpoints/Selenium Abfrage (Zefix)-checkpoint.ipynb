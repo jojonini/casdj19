{
 "cells": [
  {
   "cell_type": "code",
   "execution_count": 2,
   "metadata": {},
   "outputs": [],
   "source": [
    "from selenium import webdriver\n",
    "from selenium.webdriver.common.keys import Keys\n",
    "from selenium.webdriver.common.by import By   #gezielt einzelne Stellen im HTML-Code ansteuern\n",
    "from selenium.webdriver.support.ui import Select\n",
    "import time\n",
    "import pandas as pd\n",
    "from bs4 import BeautifulSoup\n"
   ]
  },
  {
   "cell_type": "markdown",
   "metadata": {},
   "source": [
    "Wir starten den Browser:"
   ]
  },
  {
   "cell_type": "code",
   "execution_count": 7,
   "metadata": {},
   "outputs": [],
   "source": [
    "driver = webdriver.Chrome(executable_path = '/usr/local/bin/chromedriver')"
   ]
  },
  {
   "cell_type": "markdown",
   "metadata": {},
   "source": [
    "Jetzt besuchen wir die Webseite:"
   ]
  },
  {
   "cell_type": "code",
   "execution_count": 8,
   "metadata": {},
   "outputs": [],
   "source": [
    "driver.get('https://www.zefix.ch')  "
   ]
  },
  {
   "cell_type": "markdown",
   "metadata": {},
   "source": [
    "driver.quit() würde das Fenster schliessen.\n",
    "\n",
    "Und nun geben wir unseren Begriff ein. Zuerst suchen wir das richtige Feld. Wir benutzen dafür den Webinspector.\n",
    "https://selenium-python.readthedocs.io/locating-elements.html"
   ]
  },
  {
   "cell_type": "code",
   "execution_count": 11,
   "metadata": {},
   "outputs": [
    {
     "data": {
      "text/plain": [
       "<selenium.webdriver.remote.webelement.WebElement (session=\"268dad6639600d2eab92037b73a52d2a\", element=\"568108ce-56af-4896-b2d4-4257dd446b67\")>"
      ]
     },
     "execution_count": 11,
     "metadata": {},
     "output_type": "execute_result"
    }
   ],
   "source": [
    "search = driver.find_element_by_id('firm-name-fomfield') \n",
    "#falls mehrere solche Felder mit elements suchen und nach ()[0] die Stelle definieren"
   ]
  },
  {
   "cell_type": "code",
   "execution_count": 16,
   "metadata": {},
   "outputs": [],
   "source": [
    "search.send_keys('Bäckerei')"
   ]
  },
  {
   "cell_type": "code",
   "execution_count": 15,
   "metadata": {},
   "outputs": [],
   "source": [
    "#search.clear() #leert das Suchfeld wieder. Zum Beispiel einsetzen wenn mehrere Abfragen. "
   ]
  },
  {
   "cell_type": "markdown",
   "metadata": {},
   "source": [
    "Jetzt müssen wir die Suche mit dem \"search\"-Button auslösen. "
   ]
  },
  {
   "cell_type": "code",
   "execution_count": 17,
   "metadata": {},
   "outputs": [],
   "source": [
    "searchclick = driver.find_element_by_id('submit-search-btn')\n",
    "searchclick.click() #macht einen Mausklick auf das Suchdeld"
   ]
  },
  {
   "cell_type": "markdown",
   "metadata": {},
   "source": [
    "Wenn man die ganze Befehlsreihe zusammen ablaufen lässt, wird es zu Problemen kommen, da die Seiten zum Teil nicht rechtzeitig geladen werden und die entsprechenden Stellen von Selenium dann nicht gefunden werden. Das heisst: mit time.sleep(2) bauen wir eine Verzögerung von z.B. 2 Sekunden ein. "
   ]
  },
  {
   "cell_type": "code",
   "execution_count": null,
   "metadata": {},
   "outputs": [],
   "source": [
    "driver = webdriver.Chrome(executable_path = '/usr/local/bin/chromedriver')\n",
    "driver.get('https://www.zefix.ch')\n",
    "time.sleep(2)\n",
    "search = driver.find_element_by_id('firm-name-fomfield')\n",
    "search.send_keys('Bäckerei')\n",
    "searchclick = driver.find_element_by_id('submit-search-btn')\n",
    "searchclick.click()"
   ]
  },
  {
   "cell_type": "markdown",
   "metadata": {},
   "source": [
    "Man könnte das auch über die Tastur steuern (nach Eingabe von *Bäckerei* kann man ja auch die *ENTER*-Taste drücken). \n",
    "https://artoftesting.com/automationTesting/press-enter-tab-space-arrow-function-keys-in-selenium-webdriver-with-java.html\n"
   ]
  },
  {
   "cell_type": "code",
   "execution_count": 18,
   "metadata": {},
   "outputs": [
    {
     "data": {
      "text/plain": [
       "[<selenium.webdriver.remote.webelement.WebElement (session=\"268dad6639600d2eab92037b73a52d2a\", element=\"807d7fe1-0e1e-4628-9e7a-fe1e72f3ed79\")>,\n",
       " <selenium.webdriver.remote.webelement.WebElement (session=\"268dad6639600d2eab92037b73a52d2a\", element=\"1877a605-0589-46d9-9055-7d2166052b1c\")>,\n",
       " <selenium.webdriver.remote.webelement.WebElement (session=\"268dad6639600d2eab92037b73a52d2a\", element=\"8b7a82c6-39b6-45a9-a56b-274000170ffb\")>,\n",
       " <selenium.webdriver.remote.webelement.WebElement (session=\"268dad6639600d2eab92037b73a52d2a\", element=\"9da39106-915a-454c-acf3-5e48b46f9f33\")>,\n",
       " <selenium.webdriver.remote.webelement.WebElement (session=\"268dad6639600d2eab92037b73a52d2a\", element=\"5525694c-93ff-4dad-850b-663204ac6b2e\")>,\n",
       " <selenium.webdriver.remote.webelement.WebElement (session=\"268dad6639600d2eab92037b73a52d2a\", element=\"d8f960a3-1e29-425b-ab32-1ef942db77c8\")>,\n",
       " <selenium.webdriver.remote.webelement.WebElement (session=\"268dad6639600d2eab92037b73a52d2a\", element=\"5e60f2b5-c112-4bcb-aea9-bbc7a5b59b43\")>,\n",
       " <selenium.webdriver.remote.webelement.WebElement (session=\"268dad6639600d2eab92037b73a52d2a\", element=\"d84aceab-ee77-4a10-a812-9407666e91a1\")>,\n",
       " <selenium.webdriver.remote.webelement.WebElement (session=\"268dad6639600d2eab92037b73a52d2a\", element=\"c5a15e85-80fe-4a48-9be4-5405002fd935\")>,\n",
       " <selenium.webdriver.remote.webelement.WebElement (session=\"268dad6639600d2eab92037b73a52d2a\", element=\"ff185217-1ae9-405b-a40c-8a907b6512d4\")>,\n",
       " <selenium.webdriver.remote.webelement.WebElement (session=\"268dad6639600d2eab92037b73a52d2a\", element=\"8169d00f-a8b7-4af2-96f2-8a6d67ae560b\")>,\n",
       " <selenium.webdriver.remote.webelement.WebElement (session=\"268dad6639600d2eab92037b73a52d2a\", element=\"a0841364-6189-45c5-b32f-2e7ddead6a4b\")>,\n",
       " <selenium.webdriver.remote.webelement.WebElement (session=\"268dad6639600d2eab92037b73a52d2a\", element=\"827d0efa-c507-492d-9cdb-7bdf639ab39d\")>,\n",
       " <selenium.webdriver.remote.webelement.WebElement (session=\"268dad6639600d2eab92037b73a52d2a\", element=\"02abee70-29c9-4afc-999a-0d82fba76e61\")>,\n",
       " <selenium.webdriver.remote.webelement.WebElement (session=\"268dad6639600d2eab92037b73a52d2a\", element=\"600722ab-ec50-4898-8eab-ae4657a7dc5b\")>,\n",
       " <selenium.webdriver.remote.webelement.WebElement (session=\"268dad6639600d2eab92037b73a52d2a\", element=\"7cf1ef3f-8204-476c-ae0d-a37e6f019d6e\")>,\n",
       " <selenium.webdriver.remote.webelement.WebElement (session=\"268dad6639600d2eab92037b73a52d2a\", element=\"f4257f26-351a-4b30-8656-17aae0dd23ff\")>,\n",
       " <selenium.webdriver.remote.webelement.WebElement (session=\"268dad6639600d2eab92037b73a52d2a\", element=\"164bbbbe-397f-4f68-85f0-edb7fb061055\")>,\n",
       " <selenium.webdriver.remote.webelement.WebElement (session=\"268dad6639600d2eab92037b73a52d2a\", element=\"60efeda8-b1d0-434e-8f4d-3bd65f7656ae\")>,\n",
       " <selenium.webdriver.remote.webelement.WebElement (session=\"268dad6639600d2eab92037b73a52d2a\", element=\"9f6824be-b697-4011-88e6-fa5febb4d589\")>,\n",
       " <selenium.webdriver.remote.webelement.WebElement (session=\"268dad6639600d2eab92037b73a52d2a\", element=\"3cfeec2c-f5b8-446f-b8f0-fe022adb4b9a\")>,\n",
       " <selenium.webdriver.remote.webelement.WebElement (session=\"268dad6639600d2eab92037b73a52d2a\", element=\"e7377434-c0fd-4ec8-b708-8da729efbc89\")>,\n",
       " <selenium.webdriver.remote.webelement.WebElement (session=\"268dad6639600d2eab92037b73a52d2a\", element=\"08ec08b3-b396-4715-b907-4c8a137d35f9\")>,\n",
       " <selenium.webdriver.remote.webelement.WebElement (session=\"268dad6639600d2eab92037b73a52d2a\", element=\"caee5cf2-1f7c-4d85-a337-f77f6b45feed\")>,\n",
       " <selenium.webdriver.remote.webelement.WebElement (session=\"268dad6639600d2eab92037b73a52d2a\", element=\"6e59378a-e3cb-497e-a759-fb9c29304539\")>,\n",
       " <selenium.webdriver.remote.webelement.WebElement (session=\"268dad6639600d2eab92037b73a52d2a\", element=\"3c115104-859b-4c6a-b85e-7d7e5a21f9a3\")>,\n",
       " <selenium.webdriver.remote.webelement.WebElement (session=\"268dad6639600d2eab92037b73a52d2a\", element=\"24482197-2466-40c1-b982-89e2355ea96f\")>,\n",
       " <selenium.webdriver.remote.webelement.WebElement (session=\"268dad6639600d2eab92037b73a52d2a\", element=\"5c3d3263-1e3e-4555-a7a2-7642e0c7dd6d\")>,\n",
       " <selenium.webdriver.remote.webelement.WebElement (session=\"268dad6639600d2eab92037b73a52d2a\", element=\"ed60250b-3734-40da-87c2-f40be01098a1\")>,\n",
       " <selenium.webdriver.remote.webelement.WebElement (session=\"268dad6639600d2eab92037b73a52d2a\", element=\"a108ebff-de93-40f1-a30a-9d198765d033\")>,\n",
       " <selenium.webdriver.remote.webelement.WebElement (session=\"268dad6639600d2eab92037b73a52d2a\", element=\"7ea74cf1-aafa-4c7c-81c7-c910c258ae79\")>]"
      ]
     },
     "execution_count": 18,
     "metadata": {},
     "output_type": "execute_result"
    }
   ],
   "source": [
    "driver.find_elements_by_class_name('btn')"
   ]
  },
  {
   "cell_type": "markdown",
   "metadata": {},
   "source": [
    "Ergibt viele, zuviele Treffer. Jetzt müsste man schauen, welcher Button gemeint ist. Zum Beispiel der 14. von 31 ([13]). Aber im Inspektor ist zu sehen, dass der Button einen Namen hat ('icon icon--right'). Also versuchen wir es direkt:"
   ]
  },
  {
   "cell_type": "code",
   "execution_count": 22,
   "metadata": {},
   "outputs": [],
   "source": [
    "driver.find_elements_by_class_name('icon--right')[0].click() #nur namen ohne Leerschläge"
   ]
  },
  {
   "cell_type": "markdown",
   "metadata": {},
   "source": [
    "Das speichern der aufgerufenen Webseite funktioniert dann so:"
   ]
  },
  {
   "cell_type": "code",
   "execution_count": 23,
   "metadata": {},
   "outputs": [],
   "source": [
    "page = driver.page_source.encode('utf-8')\n",
    "with open(\"page.htm\", \"wb+\") as file:  #wb+ heisst: write, binary plus\n",
    "    file.write(page)\n",
    "    file.close()"
   ]
  },
  {
   "cell_type": "markdown",
   "metadata": {},
   "source": [
    "So jetzt wollen wir das ganze in einem Durchlauf bauen, der alle 35 Seiten besucht und die Seiten abspeichert:"
   ]
  },
  {
   "cell_type": "code",
   "execution_count": 26,
   "metadata": {},
   "outputs": [],
   "source": [
    "from selenium import webdriver\n",
    "from selenium.webdriver.common.keys import Keys\n",
    "from selenium.webdriver.common.by import By   #gezielt einzelne Stellen im HTML-Code ansteuern\n",
    "from selenium.webdriver.support.ui import Select\n",
    "import time\n",
    "import pandas as pd\n",
    "from bs4 import BeautifulSoup\n",
    "\n",
    "\n",
    "driver = webdriver.Chrome(executable_path = '/usr/local/bin/chromedriver')\n",
    "driver.get('https://www.zefix.ch')\n",
    "time.sleep(2)\n",
    "search = driver.find_element_by_id('firm-name-fomfield')\n",
    "search.send_keys('Bäckerei')\n",
    "searchclick = driver.find_element_by_id('submit-search-btn')\n",
    "searchclick.click()\n",
    "\n",
    "for nr in range(1,36):\n",
    "    page = driver.page_source.encode('utf-8')\n",
    "    with open(f\"zefix_result/page{nr}.htm\", \"wb+\") as file:\n",
    "        file.write(page)\n",
    "        file.close()\n",
    "    driver.find_elements_by_class_name('icon--right')[0].click()\n",
    "    time.sleep(1) #evtl nicht nötig, da durch die Suchabfrage am Anfang alle Daten bereits geladen.\n",
    "    \n",
    "    "
   ]
  },
  {
   "cell_type": "markdown",
   "metadata": {},
   "source": [
    "Hat geklappt!\n",
    "Wenn ich aus Python einen Ordner erstellen möchte würde ich *!mkdir* schreiben. Solche Befehle lassen sich auch in den Code integrieren.  "
   ]
  },
  {
   "cell_type": "markdown",
   "metadata": {},
   "source": [
    "So jetzt aber sollen die Daten noch in ein Dataframe umgewandelt werden - siehe Notebook *Selenium Abfrage bearbeiten*"
   ]
  },
  {
   "cell_type": "code",
   "execution_count": null,
   "metadata": {},
   "outputs": [],
   "source": []
  }
 ],
 "metadata": {
  "kernelspec": {
   "display_name": "Python 3",
   "language": "python",
   "name": "python3"
  },
  "language_info": {
   "codemirror_mode": {
    "name": "ipython",
    "version": 3
   },
   "file_extension": ".py",
   "mimetype": "text/x-python",
   "name": "python",
   "nbconvert_exporter": "python",
   "pygments_lexer": "ipython3",
   "version": "3.7.4"
  }
 },
 "nbformat": 4,
 "nbformat_minor": 2
}
