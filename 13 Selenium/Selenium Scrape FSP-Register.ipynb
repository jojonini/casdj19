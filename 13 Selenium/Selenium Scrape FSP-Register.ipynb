{
 "cells": [
  {
   "cell_type": "markdown",
   "metadata": {},
   "source": [
    "Folgende Webseite auslesen:\n",
    "https://www.psychologie.ch/fsp-register\n",
    "\n",
    "    "
   ]
  },
  {
   "cell_type": "code",
   "execution_count": 2,
   "metadata": {},
   "outputs": [],
   "source": [
    "from selenium import webdriver\n",
    "from selenium.webdriver.common.keys import Keys\n",
    "from selenium.webdriver.common.by import By   #gezielt einzelne Stellen im HTML-Code ansteuern\n",
    "from selenium.webdriver.support.ui import Select\n",
    "import time\n",
    "import pandas as pd\n",
    "from bs4 import BeautifulSoup\n",
    "\n",
    "\n",
    "driver = webdriver.Chrome(executable_path = '/usr/local/bin/chromedriver') #Browser starten\n",
    "driver.get('https://www.psychologie.ch/fsp-register')\n",
    "#search = driver.find_element_by_id('block-psy-content') \n",
    "\n",
    "page = driver.page_source.encode('utf-8')\n",
    "with open(\"fsp/page.htm\", \"wb+\") as file:  #wb+ heisst: write, binary plus\n",
    "    file.write(page)\n",
    "    file.close()\n",
    "    \n",
    " \n"
   ]
  },
  {
   "cell_type": "markdown",
   "metadata": {},
   "source": [
    "Das html-File, das wir runterladen zeigt einen einfacheren Weg. Es gibt einen Link zu jeder Resultateseite. Deshalb können wir die Abfrage mit Requests machen."
   ]
  },
  {
   "cell_type": "code",
   "execution_count": null,
   "metadata": {},
   "outputs": [],
   "source": [
    "#Barnaby's Einzelabfrage:\n",
    "\n",
    "r = requests.get('https://www.psychologie.ch/fsp-register?field_member_fsp_qualifications_target_id=All&field_member_fsp_titles_target_id=All&combine=&combine_1=&page=102')\n",
    "response = BeautifulSoup(r.text, 'html.parser')\n",
    "    text = response.encode('utf-8')\n",
    "    with open(f\"fsp/register_{seite}.htm\", \"wb+\") as file:\n",
    "        file.write(text)\n",
    "        file.close()\n",
    "    "
   ]
  },
  {
   "cell_type": "markdown",
   "metadata": {},
   "source": [
    "Oder als Loop für die ganze Abfrage:"
   ]
  },
  {
   "cell_type": "code",
   "execution_count": 5,
   "metadata": {},
   "outputs": [],
   "source": [
    "import requests\n",
    "import time\n",
    "import pandas as pd\n",
    "from bs4 import BeautifulSoup\n",
    "\n",
    "for seite in range(1,5):\n",
    "    r = requests.get(f\"https://www.psychologie.ch/fsp-register?field_member_fsp_qualifications_target_id=All&field_member_fsp_titles_target_id=All&combine=&combine_1=&page={seite}\")\n",
    "    response = BeautifulSoup(r.text, 'html.parser')\n",
    "    text = response.encode('utf-8')\n",
    "    with open(f\"fsp/register_{seite}.htm\", \"wb+\") as file:\n",
    "        file.write(text)\n",
    "        file.close()\n"
   ]
  },
  {
   "cell_type": "code",
   "execution_count": null,
   "metadata": {},
   "outputs": [],
   "source": []
  }
 ],
 "metadata": {
  "kernelspec": {
   "display_name": "Python 3",
   "language": "python",
   "name": "python3"
  },
  "language_info": {
   "codemirror_mode": {
    "name": "ipython",
    "version": 3
   },
   "file_extension": ".py",
   "mimetype": "text/x-python",
   "name": "python",
   "nbconvert_exporter": "python",
   "pygments_lexer": "ipython3",
   "version": "3.7.4"
  }
 },
 "nbformat": 4,
 "nbformat_minor": 2
}
