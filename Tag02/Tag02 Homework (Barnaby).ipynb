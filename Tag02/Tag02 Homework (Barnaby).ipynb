{
 "cells": [
  {
   "cell_type": "markdown",
   "metadata": {},
   "source": [
    "# Hausaufgaben Einstieg in Python - Lektion 2"
   ]
  },
  {
   "cell_type": "markdown",
   "metadata": {},
   "source": [
    "1.Kreiere eine Liste aus Zahlen, die aus 10 Elementen besteht, und ordne sie der Variabel a zu."
   ]
  },
  {
   "cell_type": "code",
   "execution_count": 1,
   "metadata": {},
   "outputs": [
    {
     "name": "stdout",
     "output_type": "stream",
     "text": [
      "['A', 'B', 'G', 'F', 'H', 'J', 'K', 'M', 'Z', 'Y']\n"
     ]
    }
   ],
   "source": [
    "a = [\"A\",\"B\",\"G\",\"F\",\"H\",\"J\",\"K\",\"M\",\"Z\",\"Y\"]\n",
    "print(a)"
   ]
  },
  {
   "cell_type": "code",
   "execution_count": 2,
   "metadata": {},
   "outputs": [
    {
     "data": {
      "text/plain": [
       "['a', 'b', 'c', 'd', 'e', 'f', 'g', 'h', 'i', 'j']"
      ]
     },
     "execution_count": 2,
     "metadata": {},
     "output_type": "execute_result"
    }
   ],
   "source": [
    "#Es gibt ein wunderbares Python Library, das heisst String und geht so:\n",
    "import string\n",
    "a = string.ascii_lowercase\n",
    "a = list(a)[:10]\n",
    "a"
   ]
  },
  {
   "cell_type": "markdown",
   "metadata": {},
   "source": [
    "2.Mache dasselbe mit einer Liste aus 100 Elementen und ordne sie der Variabel b zu."
   ]
  },
  {
   "cell_type": "code",
   "execution_count": 3,
   "metadata": {},
   "outputs": [
    {
     "data": {
      "text/plain": [
       "100"
      ]
     },
     "execution_count": 3,
     "metadata": {},
     "output_type": "execute_result"
    }
   ],
   "source": [
    "b = list(range(0,100)) #geht auch mit range(100), fängt dann immer bei 0 an\n",
    "len(b)"
   ]
  },
  {
   "cell_type": "markdown",
   "metadata": {},
   "source": [
    "3.Füge beiden Listen folgenden String an: 'ich bin keine Zahl'"
   ]
  },
  {
   "cell_type": "code",
   "execution_count": 4,
   "metadata": {},
   "outputs": [
    {
     "name": "stdout",
     "output_type": "stream",
     "text": [
      "['a', 'b', 'c', 'd', 'e', 'f', 'g', 'h', 'i', 'j', 'ich bin keine Zahl']\n"
     ]
    }
   ],
   "source": [
    "a.append(\"ich bin keine Zahl\")\n",
    "b.append(\"ich bin keine Zahl\")\n",
    "print(a)"
   ]
  },
  {
   "cell_type": "markdown",
   "metadata": {},
   "source": [
    "4.Lösche diesen letzten Eintrag in der Liste wieder"
   ]
  },
  {
   "cell_type": "code",
   "execution_count": 5,
   "metadata": {},
   "outputs": [],
   "source": [
    "a.remove(\"ich bin keine Zahl\")\n",
    "b.remove(\"ich bin keine Zahl\")"
   ]
  },
  {
   "cell_type": "markdown",
   "metadata": {},
   "source": [
    "5.Verwandle jede Zahl in den Listen a und b von int in str?"
   ]
  },
  {
   "cell_type": "code",
   "execution_count": 6,
   "metadata": {},
   "outputs": [
    {
     "data": {
      "text/plain": [
       "'a'"
      ]
     },
     "execution_count": 6,
     "metadata": {},
     "output_type": "execute_result"
    }
   ],
   "source": [
    "#str(b) #falsch, das macht aus der ganzen Liste einen String, man muss einen Loop bauen.\n",
    "str(a[0])"
   ]
  },
  {
   "cell_type": "code",
   "execution_count": 7,
   "metadata": {},
   "outputs": [],
   "source": [
    "#Der Loop get so\n",
    "new_a = []\n",
    "for zahl in a:\n",
    "    new_a.append(str(zahl))"
   ]
  },
  {
   "cell_type": "markdown",
   "metadata": {},
   "source": [
    "6.Von der list b, zeige nur die letzten zehn Nummern an"
   ]
  },
  {
   "cell_type": "code",
   "execution_count": 8,
   "metadata": {},
   "outputs": [
    {
     "data": {
      "text/plain": [
       "[90, 91, 92, 93, 94, 95, 96, 97, 98, 99]"
      ]
     },
     "execution_count": 8,
     "metadata": {},
     "output_type": "execute_result"
    }
   ],
   "source": [
    "#print(b[90:100]) oder noch einfacher:\n",
    "b[90:] #Ende offenlassen, weil die Liste nur bis 99 geht"
   ]
  },
  {
   "cell_type": "code",
   "execution_count": 9,
   "metadata": {},
   "outputs": [
    {
     "data": {
      "text/plain": [
       "[90, 91, 92, 93, 94, 95, 96, 97, 98, 99]"
      ]
     },
     "execution_count": 9,
     "metadata": {},
     "output_type": "execute_result"
    }
   ],
   "source": [
    "#Oder\n",
    "b[-10:]"
   ]
  },
  {
   "cell_type": "markdown",
   "metadata": {},
   "source": [
    "7.Von der folgenden Liste, zeige den zweit grössten Wert an"
   ]
  },
  {
   "cell_type": "code",
   "execution_count": 10,
   "metadata": {},
   "outputs": [
    {
     "data": {
      "text/plain": [
       "98"
      ]
     },
     "execution_count": 10,
     "metadata": {},
     "output_type": "execute_result"
    }
   ],
   "source": [
    "sorted(b)[-2] #nimmt von der sortierten Liste die zweitletzte Zahl oder den zweithöchsten Wert"
   ]
  },
  {
   "cell_type": "markdown",
   "metadata": {},
   "source": [
    "[ ] sind immer eine Liste. \n",
    "Befehl max würde den höchsten Wert ausgeben. Also:"
   ]
  },
  {
   "cell_type": "code",
   "execution_count": 11,
   "metadata": {},
   "outputs": [
    {
     "data": {
      "text/plain": [
       "99"
      ]
     },
     "execution_count": 11,
     "metadata": {},
     "output_type": "execute_result"
    }
   ],
   "source": [
    "max(b) #entspricht eigentlich sorted(b)[-1]"
   ]
  },
  {
   "cell_type": "markdown",
   "metadata": {},
   "source": [
    "8.Multipliziere jede Nummer in dieser Liste, die kleiner ist als 100, mit 100; wenn die Nummern zwischen 100 und 1000 verwandle sie in eine String, und wenn sie grösser oder gleich 1000 ist, lösche sie."
   ]
  },
  {
   "cell_type": "code",
   "execution_count": 12,
   "metadata": {},
   "outputs": [],
   "source": [
    "# Die if, else clause Das haben wir noch nicht behandelt, "
   ]
  },
  {
   "cell_type": "markdown",
   "metadata": {},
   "source": [
    "9.Schreibe eine Dictionary-Liste der fünf grössten Schweizer Städte, ihrer Bevölkerung und dem jeweiligen Kanton.\n",
    "\n",
    "Dictionaries sind immer so aufgebaut:\n",
    "{\"Key\":Value, \"Key\":Value, \"Key\": Value, usw}\n",
    "Der Name ist egal, es muss nicht dic_lst heissen."
   ]
  },
  {
   "cell_type": "code",
   "execution_count": 13,
   "metadata": {},
   "outputs": [],
   "source": [
    "dic_lst = [{\"Stadt\":\"Zürich\",\"Einwohner\": 415000, \"Kanton\": \"ZH\"},\n",
    "           {\"Stadt\":\"Genf\",\"Einwohner\": 260000, \"Kanton\": \"GE\"},\n",
    "           {\"Stadt\":\"Basel\",\"Einwohner\": 250000, \"Kanton\": \"BS\"},\n",
    "           {\"Stadt\":\"Bern\",\"Einwohner\": 120000, \"Kanton\": \"BE\"},\n",
    "           {\"Stadt\":\"Lausanne\",\"Einwohner\": 115000, \"Kanton\": \"VD\"}]"
   ]
  },
  {
   "cell_type": "markdown",
   "metadata": {},
   "source": [
    "10.Zeige nur die Bevölkerung der Stadt Genf an"
   ]
  },
  {
   "cell_type": "code",
   "execution_count": 14,
   "metadata": {},
   "outputs": [
    {
     "data": {
      "text/plain": [
       "260000"
      ]
     },
     "execution_count": 14,
     "metadata": {},
     "output_type": "execute_result"
    }
   ],
   "source": [
    "dic_lst[1][\"Einwohner\"]"
   ]
  },
  {
   "cell_type": "code",
   "execution_count": 15,
   "metadata": {},
   "outputs": [
    {
     "data": {
      "text/plain": [
       "list"
      ]
     },
     "execution_count": 15,
     "metadata": {},
     "output_type": "execute_result"
    }
   ],
   "source": [
    "type(dic_lst) #Check um die Art des Codes anzuzeigen."
   ]
  },
  {
   "cell_type": "markdown",
   "metadata": {},
   "source": [
    "11a.Drucke (print) die Bevölkerung jeder Stadt aus"
   ]
  },
  {
   "cell_type": "code",
   "execution_count": 16,
   "metadata": {
    "scrolled": true
   },
   "outputs": [
    {
     "name": "stdout",
     "output_type": "stream",
     "text": [
      "415000\n",
      "260000\n",
      "250000\n",
      "120000\n",
      "115000\n"
     ]
    }
   ],
   "source": [
    "for Einwohnerzahl in dic_lst:\n",
    "    print(Einwohnerzahl[\"Einwohner\"])"
   ]
  },
  {
   "cell_type": "markdown",
   "metadata": {},
   "source": [
    "11b.Drucke das Total aller fünf Städte aus"
   ]
  },
  {
   "cell_type": "code",
   "execution_count": 17,
   "metadata": {},
   "outputs": [
    {
     "name": "stdout",
     "output_type": "stream",
     "text": [
      "1160000\n"
     ]
    }
   ],
   "source": [
    "Total = 0 #definiert das Total, vor dem Rechenloop\n",
    "for Stadt in dic_lst:\n",
    "    Total += Stadt[\"Einwohner\"]\n",
    "print(Total)"
   ]
  },
  {
   "cell_type": "markdown",
   "metadata": {},
   "source": [
    "Das wäre die Methode ohne +=, dabei werden alle Schritte ausgegeben:"
   ]
  },
  {
   "cell_type": "code",
   "execution_count": 18,
   "metadata": {
    "scrolled": true
   },
   "outputs": [
    {
     "name": "stdout",
     "output_type": "stream",
     "text": [
      "415000\n",
      "675000\n",
      "925000\n",
      "1045000\n",
      "1160000\n"
     ]
    }
   ],
   "source": [
    "Total = 0 #definiert das Total, vor dem Rechenloop\n",
    "for einwohnerzahl in dic_lst:\n",
    "    Total = Total + einwohnerzahl[\"Einwohner\"]\n",
    "    print(Total)"
   ]
  },
  {
   "cell_type": "markdown",
   "metadata": {},
   "source": [
    "12.Rechne den Anteil der Bevölkerung der jeweiligen Städte an der Gesamtbevölkerung der Schweiz aus und \"print\" die Ergebnisse neben dem Städtenamen"
   ]
  },
  {
   "cell_type": "code",
   "execution_count": 19,
   "metadata": {},
   "outputs": [
    {
     "name": "stdout",
     "output_type": "stream",
     "text": [
      "Die Stadt Zürich hat 4.88235294117647 Prozent der Bevölkerung.\n",
      "Die Stadt Genf hat 3.058823529411765 Prozent der Bevölkerung.\n",
      "Die Stadt Basel hat 2.941176470588235 Prozent der Bevölkerung.\n",
      "Die Stadt Bern hat 1.411764705882353 Prozent der Bevölkerung.\n",
      "Die Stadt Lausanne hat 1.352941176470588 Prozent der Bevölkerung.\n"
     ]
    }
   ],
   "source": [
    "stadtliste = [{\"Stadt\":\"Zürich\",\"Einwohner\": 415000, \"Kanton\": \"ZH\"},\n",
    "           {\"Stadt\":\"Genf\",\"Einwohner\": 260000, \"Kanton\": \"GE\"},\n",
    "           {\"Stadt\":\"Basel\",\"Einwohner\": 250000, \"Kanton\": \"BS\"},\n",
    "           {\"Stadt\":\"Bern\",\"Einwohner\": 120000, \"Kanton\": \"BE\"},\n",
    "           {\"Stadt\":\"Lausanne\",\"Einwohner\": 115000, \"Kanton\": \"VD\"}]\n",
    "\n",
    "CH = 8500000\n",
    "anteil = 0\n",
    "for stadt in stadtliste:\n",
    "    anteil = stadt[\"Einwohner\"] / CH * 100\n",
    "    print(\"Die Stadt\", stadt['Stadt'], \"hat\", anteil, \"Prozent der Bevölkerung.\")"
   ]
  },
  {
   "cell_type": "markdown",
   "metadata": {},
   "source": [
    "13.Füge noch die Städte Winterthur und Luzern hinzu"
   ]
  },
  {
   "cell_type": "code",
   "execution_count": 20,
   "metadata": {},
   "outputs": [
    {
     "name": "stdout",
     "output_type": "stream",
     "text": [
      "[{'Stadt': 'Zürich', 'Einwohner': 415000, 'Kanton': 'ZH'}, {'Stadt': 'Genf', 'Einwohner': 260000, 'Kanton': 'GE'}, {'Stadt': 'Basel', 'Einwohner': 250000, 'Kanton': 'BS'}, {'Stadt': 'Bern', 'Einwohner': 120000, 'Kanton': 'BE'}, {'Stadt': 'Lausanne', 'Einwohner': 115000, 'Kanton': 'VD'}, {'Stadt': 'Winterthur', 'Einwohner': 110000, 'Kanton': 'ZH'}, {'Stadt': 'Luzern', 'Einwohner': 80000, 'Kanton': 'LU'}]\n"
     ]
    }
   ],
   "source": [
    "list = stadtliste #Ganz wichtig, nie namen vernden, die anderen fixen Functions zugeordnet sind. \n",
    "                  #Du siehst unten den Fehler, der mit list nun passiert\n",
    "list.append({\"Stadt\":\"Winterthur\",\"Einwohner\": 110000, \"Kanton\": \"ZH\"})\n",
    "list.append({\"Stadt\":\"Luzern\",\"Einwohner\": 80000, \"Kanton\": \"LU\"})\n",
    "print(list)\n"
   ]
  },
  {
   "cell_type": "markdown",
   "metadata": {},
   "source": [
    "15.Wiederhole den loop von oben, um den Anteil der Bevölkerung an der Gesamtbevölkerung auszurechnen, dieses Mal mit Winterthur und Luzern"
   ]
  },
  {
   "cell_type": "code",
   "execution_count": 21,
   "metadata": {},
   "outputs": [
    {
     "name": "stdout",
     "output_type": "stream",
     "text": [
      "Die Stadt Zürich hat 4.88235294117647 Prozent der Bevölkerung.\n",
      "Die Stadt Genf hat 3.058823529411765 Prozent der Bevölkerung.\n",
      "Die Stadt Basel hat 2.941176470588235 Prozent der Bevölkerung.\n",
      "Die Stadt Bern hat 1.411764705882353 Prozent der Bevölkerung.\n",
      "Die Stadt Lausanne hat 1.352941176470588 Prozent der Bevölkerung.\n"
     ]
    }
   ],
   "source": [
    "stadtliste = [{\"Stadt\":\"Zürich\",\"Einwohner\": 415000, \"Kanton\": \"ZH\"},\n",
    "           {\"Stadt\":\"Genf\",\"Einwohner\": 260000, \"Kanton\": \"GE\"},\n",
    "           {\"Stadt\":\"Basel\",\"Einwohner\": 250000, \"Kanton\": \"BS\"},\n",
    "           {\"Stadt\":\"Bern\",\"Einwohner\": 120000, \"Kanton\": \"BE\"},\n",
    "           {\"Stadt\":\"Lausanne\",\"Einwohner\": 115000, \"Kanton\": \"VD\"}]\n",
    "\n",
    "CH = 8500000\n",
    "anteil = 0\n",
    "for stadt in stadtliste:\n",
    "    anteil = stadt[\"Einwohner\"] / CH * 100\n",
    "    print(\"Die Stadt\", stadt['Stadt'], \"hat\", anteil, \"Prozent der Bevölkerung.\")"
   ]
  },
  {
   "cell_type": "markdown",
   "metadata": {},
   "source": [
    "Zusatzübung: in einer Liste alle Werte in Strings (Text) umwandeln."
   ]
  },
  {
   "cell_type": "code",
   "execution_count": 25,
   "metadata": {},
   "outputs": [],
   "source": [
    "liste = range(100)"
   ]
  },
  {
   "cell_type": "code",
   "execution_count": 27,
   "metadata": {},
   "outputs": [
    {
     "ename": "TypeError",
     "evalue": "'list' object is not callable",
     "output_type": "error",
     "traceback": [
      "\u001b[0;31m---------------------------------------------------------------------------\u001b[0m",
      "\u001b[0;31mTypeError\u001b[0m                                 Traceback (most recent call last)",
      "\u001b[0;32m<ipython-input-27-96d9030f98ad>\u001b[0m in \u001b[0;36m<module>\u001b[0;34m\u001b[0m\n\u001b[0;32m----> 1\u001b[0;31m \u001b[0mlist\u001b[0m\u001b[0;34m(\u001b[0m\u001b[0mliste\u001b[0m\u001b[0;34m)\u001b[0m\u001b[0;34m\u001b[0m\u001b[0;34m\u001b[0m\u001b[0m\n\u001b[0m",
      "\u001b[0;31mTypeError\u001b[0m: 'list' object is not callable"
     ]
    }
   ],
   "source": [
    "list(liste)"
   ]
  },
  {
   "cell_type": "code",
   "execution_count": 23,
   "metadata": {},
   "outputs": [
    {
     "ename": "NameError",
     "evalue": "name 'liste' is not defined",
     "output_type": "error",
     "traceback": [
      "\u001b[0;31m---------------------------------------------------------------------------\u001b[0m",
      "\u001b[0;31mNameError\u001b[0m                                 Traceback (most recent call last)",
      "\u001b[0;32m<ipython-input-23-dd86c5355feb>\u001b[0m in \u001b[0;36m<module>\u001b[0;34m\u001b[0m\n\u001b[1;32m      1\u001b[0m \u001b[0mneueliste\u001b[0m \u001b[0;34m=\u001b[0m \u001b[0;34m[\u001b[0m\u001b[0;34m]\u001b[0m \u001b[0;31m#neue Liste erstellen und dann:\u001b[0m\u001b[0;34m\u001b[0m\u001b[0;34m\u001b[0m\u001b[0m\n\u001b[1;32m      2\u001b[0m \u001b[0;31m#wir gehen durch die alte Liste und erstellen nacheinander die Strings und fügen sie der neuen Liste zu\u001b[0m\u001b[0;34m\u001b[0m\u001b[0;34m\u001b[0m\u001b[0;34m\u001b[0m\u001b[0m\n\u001b[0;32m----> 3\u001b[0;31m \u001b[0;32mfor\u001b[0m \u001b[0mzahl\u001b[0m \u001b[0;32min\u001b[0m \u001b[0mliste\u001b[0m\u001b[0;34m:\u001b[0m \u001b[0;31m#for in ist eine Funktion, die der Reihe nach durch die Liste geht: ein Loop.\u001b[0m\u001b[0;34m\u001b[0m\u001b[0;34m\u001b[0m\u001b[0m\n\u001b[0m\u001b[1;32m      4\u001b[0m     \u001b[0mneueliste\u001b[0m\u001b[0;34m.\u001b[0m\u001b[0mappend\u001b[0m\u001b[0;34m(\u001b[0m\u001b[0mstr\u001b[0m\u001b[0;34m(\u001b[0m\u001b[0mzahl\u001b[0m\u001b[0;34m)\u001b[0m\u001b[0;34m)\u001b[0m \u001b[0;31m#zahl ist eine Variable, das könnte auch sonst irgendwie heissen.\u001b[0m\u001b[0;34m\u001b[0m\u001b[0;34m\u001b[0m\u001b[0m\n",
      "\u001b[0;31mNameError\u001b[0m: name 'liste' is not defined"
     ]
    }
   ],
   "source": [
    "neueliste = [] #neue Liste erstellen und dann:\n",
    "#wir gehen durch die alte Liste und erstellen nacheinander die Strings und fügen sie der neuen Liste zu\n",
    "for zahl in liste: #for in ist eine Funktion, die der Reihe nach durch die Liste geht: ein Loop.\n",
    "    neueliste.append(str(zahl)) #zahl ist eine Variable, das könnte auch sonst irgendwie heissen."
   ]
  },
  {
   "cell_type": "code",
   "execution_count": 24,
   "metadata": {},
   "outputs": [
    {
     "data": {
      "text/plain": [
       "[]"
      ]
     },
     "execution_count": 24,
     "metadata": {},
     "output_type": "execute_result"
    }
   ],
   "source": [
    "neueliste"
   ]
  },
  {
   "cell_type": "code",
   "execution_count": null,
   "metadata": {},
   "outputs": [],
   "source": []
  },
  {
   "cell_type": "code",
   "execution_count": null,
   "metadata": {},
   "outputs": [],
   "source": []
  },
  {
   "cell_type": "code",
   "execution_count": null,
   "metadata": {},
   "outputs": [],
   "source": []
  },
  {
   "cell_type": "code",
   "execution_count": null,
   "metadata": {},
   "outputs": [],
   "source": []
  }
 ],
 "metadata": {
  "kernelspec": {
   "display_name": "Python 3",
   "language": "python",
   "name": "python3"
  },
  "language_info": {
   "codemirror_mode": {
    "name": "ipython",
    "version": 3
   },
   "file_extension": ".py",
   "mimetype": "text/x-python",
   "name": "python",
   "nbconvert_exporter": "python",
   "pygments_lexer": "ipython3",
   "version": "3.7.3"
  }
 },
 "nbformat": 4,
 "nbformat_minor": 2
}
